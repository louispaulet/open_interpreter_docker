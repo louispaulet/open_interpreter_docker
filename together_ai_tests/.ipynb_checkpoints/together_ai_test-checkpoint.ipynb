{
 "cells": [
  {
   "cell_type": "code",
   "execution_count": 1,
   "id": "f51bdb4f-1e09-4f01-8058-3c81d372c00b",
   "metadata": {},
   "outputs": [],
   "source": [
    "from interpreter import interpreter\n",
    "import os\n",
    "\n",
    "# Paste your OpenAI API key below.\n",
    "# interpreter.llm.api_key = os.getenv('OPENAI_API_KEY')\n",
    "interpreter.llm.api_key = os.getenv('TOGETHER_API_KEY')\n",
    "# interpreter.llm.model = \"gpt-4o\"\n",
    "interpreter.llm.context_window = 8192\n",
    "interpreter.llm.max_tokens = 4096\n",
    "\n",
    "# interpreter.llm.model = \"ollama/llama3:70b-instruct-q2_K\"\n",
    "# interpreter.llm.model = \"ollama/llama3:instruct\"\n",
    "interpreter.llm.model = \"together_ai/meta-llama/Llama-3-70b-chat-hf\"\n",
    "\n",
    "# use this to reset the context window by flushing all message history\n",
    "# interpreter.messages = []\n",
    "\n"
   ]
  },
  {
   "cell_type": "code",
   "execution_count": 9,
   "id": "3f7ca9d7-9f11-47d3-aaa0-de30572af3e0",
   "metadata": {},
   "outputs": [],
   "source": [
    "interpreter.auto_run = True"
   ]
  },
  {
   "cell_type": "code",
   "execution_count": 2,
   "id": "27ae733c-795d-4767-aa65-b02bd5743737",
   "metadata": {},
   "outputs": [
    {
     "data": {
      "application/vnd.jupyter.widget-view+json": {
       "model_id": "161609461a2942d6872e73236efdc392",
       "version_major": 2,
       "version_minor": 0
      },
      "text/plain": [
       "Output()"
      ]
     },
     "metadata": {},
     "output_type": "display_data"
    },
    {
     "data": {
      "text/html": [
       "<pre style=\"white-space:pre;overflow-x:auto;line-height:normal;font-family:Menlo,'DejaVu Sans Mono',consolas,'Courier New',monospace\"></pre>\n"
      ],
      "text/plain": []
     },
     "metadata": {},
     "output_type": "display_data"
    },
    {
     "data": {
      "application/vnd.jupyter.widget-view+json": {
       "model_id": "49760ef018b24e44876b7dfffabccf06",
       "version_major": 2,
       "version_minor": 0
      },
      "text/plain": [
       "Output()"
      ]
     },
     "metadata": {},
     "output_type": "display_data"
    },
    {
     "data": {
      "text/html": [
       "<pre style=\"white-space:pre;overflow-x:auto;line-height:normal;font-family:Menlo,'DejaVu Sans Mono',consolas,'Courier New',monospace\"></pre>\n"
      ],
      "text/plain": []
     },
     "metadata": {},
     "output_type": "display_data"
    },
    {
     "data": {
      "application/vnd.jupyter.widget-view+json": {
       "model_id": "8986113a5a8a4311adf2d0d0adc164d0",
       "version_major": 2,
       "version_minor": 0
      },
      "text/plain": [
       "Output()"
      ]
     },
     "metadata": {},
     "output_type": "display_data"
    },
    {
     "data": {
      "text/html": [
       "<pre style=\"white-space:pre;overflow-x:auto;line-height:normal;font-family:Menlo,'DejaVu Sans Mono',consolas,'Courier New',monospace\"></pre>\n"
      ],
      "text/plain": []
     },
     "metadata": {},
     "output_type": "display_data"
    },
    {
     "data": {
      "text/plain": [
       "[{'role': 'assistant',\n",
       "  'type': 'message',\n",
       "  'content': '**Plan:**\\n1. Print \"Hello World\" to the console.\\n\\n'},\n",
       " {'role': 'assistant',\n",
       "  'type': 'code',\n",
       "  'format': 'python',\n",
       "  'content': '`\\n\\nprint(\"Hello World\")\\n'},\n",
       " {'role': 'computer',\n",
       "  'type': 'console',\n",
       "  'format': 'output',\n",
       "  'content': 'Hello World\\n'},\n",
       " {'role': 'assistant',\n",
       "  'type': 'message',\n",
       "  'content': '\\n\\n\\n**Plan:**\\n1. Print \"Hello World\" to the console.'}]"
      ]
     },
     "execution_count": 2,
     "metadata": {},
     "output_type": "execute_result"
    }
   ],
   "source": [
    "interpreter.chat('print hello world')"
   ]
  },
  {
   "cell_type": "markdown",
   "id": "989cf713-b07e-4f63-a83a-ba6cf4ce4f48",
   "metadata": {},
   "source": [
    "## Simple python function test"
   ]
  },
  {
   "cell_type": "code",
   "execution_count": 10,
   "id": "a010c80b-8ae1-4dc2-89cc-ae019cf1485b",
   "metadata": {},
   "outputs": [],
   "source": [
    "interpreter.messages = []"
   ]
  },
  {
   "cell_type": "code",
   "execution_count": 11,
   "id": "46faad39-20ea-4919-b9f1-bc8d0932268c",
   "metadata": {},
   "outputs": [
    {
     "data": {
      "application/vnd.jupyter.widget-view+json": {
       "model_id": "80681771e2b04362b49ac66145a4dfe4",
       "version_major": 2,
       "version_minor": 0
      },
      "text/plain": [
       "Output()"
      ]
     },
     "metadata": {},
     "output_type": "display_data"
    },
    {
     "data": {
      "text/html": [
       "<pre style=\"white-space:pre;overflow-x:auto;line-height:normal;font-family:Menlo,'DejaVu Sans Mono',consolas,'Courier New',monospace\"></pre>\n"
      ],
      "text/plain": []
     },
     "metadata": {},
     "output_type": "display_data"
    },
    {
     "data": {
      "application/vnd.jupyter.widget-view+json": {
       "model_id": "ccb33a6024f04a95b8d3cb48e321aefc",
       "version_major": 2,
       "version_minor": 0
      },
      "text/plain": [
       "Output()"
      ]
     },
     "metadata": {},
     "output_type": "display_data"
    },
    {
     "data": {
      "text/html": [
       "<pre style=\"white-space:pre;overflow-x:auto;line-height:normal;font-family:Menlo,'DejaVu Sans Mono',consolas,'Courier New',monospace\"></pre>\n"
      ],
      "text/plain": []
     },
     "metadata": {},
     "output_type": "display_data"
    },
    {
     "data": {
      "text/plain": [
       "[{'role': 'assistant',\n",
       "  'type': 'message',\n",
       "  'content': '**Plan:**\\n1. Write a Python function to compute the factorial of a number recursively.\\n2. Test the function for 5, 8, and 10.\\n\\n**Code:**\\n'},\n",
       " {'role': 'assistant',\n",
       "  'type': 'code',\n",
       "  'format': 'python',\n",
       "  'content': '\\ndef factorial(n):\\n    if n == 0:\\n        return 1\\n    else:\\n        return n * factorial(n-1)\\n\\nprint(factorial(5))\\nprint(factorial(8))\\nprint(factorial(10))\\n'},\n",
       " {'role': 'computer',\n",
       "  'type': 'console',\n",
       "  'format': 'output',\n",
       "  'content': '120\\n40320\\n3628800\\n'}]"
      ]
     },
     "execution_count": 11,
     "metadata": {},
     "output_type": "execute_result"
    }
   ],
   "source": [
    "interpreter.chat(\"\"\"\n",
    "Write a python function to compute the factorial of a number recursively.  \n",
    "Test it for 5, 8, and 10.  \n",
    "\"\"\")"
   ]
  },
  {
   "cell_type": "markdown",
   "id": "174188af-fbd6-4a7d-bdb3-39f8aa346d15",
   "metadata": {},
   "source": [
    "## Download images test"
   ]
  },
  {
   "cell_type": "code",
   "execution_count": 12,
   "id": "3bb14d07-a9a6-4a45-97ad-c398dc93d3ff",
   "metadata": {},
   "outputs": [],
   "source": [
    "interpreter.messages = []"
   ]
  },
  {
   "cell_type": "code",
   "execution_count": null,
   "id": "b1e1490f-2e22-4745-83e4-47bb9d9da90a",
   "metadata": {},
   "outputs": [
    {
     "data": {
      "application/vnd.jupyter.widget-view+json": {
       "model_id": "c726be2d0ee0459aa73da45edf656157",
       "version_major": 2,
       "version_minor": 0
      },
      "text/plain": [
       "Output()"
      ]
     },
     "metadata": {},
     "output_type": "display_data"
    },
    {
     "data": {
      "text/html": [
       "<pre style=\"white-space:pre;overflow-x:auto;line-height:normal;font-family:Menlo,'DejaVu Sans Mono',consolas,'Courier New',monospace\"></pre>\n"
      ],
      "text/plain": []
     },
     "metadata": {},
     "output_type": "display_data"
    },
    {
     "data": {
      "application/vnd.jupyter.widget-view+json": {
       "model_id": "0ec783ce1cf24f3ca6a3dd426f4fdd9b",
       "version_major": 2,
       "version_minor": 0
      },
      "text/plain": [
       "Output()"
      ]
     },
     "metadata": {},
     "output_type": "display_data"
    }
   ],
   "source": [
    "interpreter.chat(\"\"\"\n",
    "1. find 10 pictures of supercars that are at least 1700x1024.  \n",
    "2. create a folder \"image_llama3-70B_test\".  \n",
    "3. download the images to that folder.  \n",
    "\"\"\")"
   ]
  },
  {
   "cell_type": "code",
   "execution_count": null,
   "id": "bea76d1f-5b31-4b79-a230-e6bd5a597ba0",
   "metadata": {},
   "outputs": [],
   "source": []
  }
 ],
 "metadata": {
  "kernelspec": {
   "display_name": "Python 3 (ipykernel)",
   "language": "python",
   "name": "python3"
  },
  "language_info": {
   "codemirror_mode": {
    "name": "ipython",
    "version": 3
   },
   "file_extension": ".py",
   "mimetype": "text/x-python",
   "name": "python",
   "nbconvert_exporter": "python",
   "pygments_lexer": "ipython3",
   "version": "3.10.14"
  }
 },
 "nbformat": 4,
 "nbformat_minor": 5
}
