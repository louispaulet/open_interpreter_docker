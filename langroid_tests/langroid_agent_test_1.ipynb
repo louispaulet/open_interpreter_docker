{
 "cells": [
  {
   "cell_type": "markdown",
   "id": "38cf6f51-ada2-4aeb-898c-a54a1190b832",
   "metadata": {},
   "source": [
    "# Langroid  \n",
    "\n",
    "We tried langroid to make agents but it turns out the Agent look constantly asks for a human input, which is a bummer.  \n",
    "We will have to find another agentic framework it seems.  "
   ]
  },
  {
   "cell_type": "code",
   "execution_count": 1,
   "id": "224eb039-13f2-4b65-a646-51031f8d54a5",
   "metadata": {},
   "outputs": [
    {
     "name": "stdout",
     "output_type": "stream",
     "text": [
      "Collecting langroid\n",
      "  Downloading langroid-0.1.246-py3-none-any.whl.metadata (49 kB)\n",
      "\u001b[2K     \u001b[90m━━━━━━━━━━━━━━━━━━━━━━━━━━━━━━━━━━━━━━━━\u001b[0m \u001b[32m49.2/49.2 kB\u001b[0m \u001b[31m1.8 MB/s\u001b[0m eta \u001b[36m0:00:00\u001b[0m\n",
      "\u001b[?25hRequirement already satisfied: aiohttp<4.0.0,>=3.9.1 in /opt/conda/lib/python3.10/site-packages (from langroid) (3.9.5)\n",
      "Collecting async-generator<2.0,>=1.10 (from langroid)\n",
      "  Downloading async_generator-1.10-py3-none-any.whl.metadata (4.9 kB)\n",
      "Collecting autopep8<3.0.0,>=2.0.2 (from langroid)\n",
      "  Downloading autopep8-2.1.0-py2.py3-none-any.whl.metadata (16 kB)\n",
      "Collecting black<25.0.0,>=24.3.0 (from black[jupyter]<25.0.0,>=24.3.0->langroid)\n",
      "  Downloading black-24.4.2-cp310-cp310-manylinux_2_17_x86_64.manylinux2014_x86_64.whl.metadata (77 kB)\n",
      "\u001b[2K     \u001b[90m━━━━━━━━━━━━━━━━━━━━━━━━━━━━━━━━━━━━━━━━\u001b[0m \u001b[32m77.1/77.1 kB\u001b[0m \u001b[31m4.4 MB/s\u001b[0m eta \u001b[36m0:00:00\u001b[0m\n",
      "\u001b[?25hCollecting bs4<0.0.2,>=0.0.1 (from langroid)\n",
      "  Downloading bs4-0.0.1.tar.gz (1.1 kB)\n",
      "  Preparing metadata (setup.py) ... \u001b[?25ldone\n",
      "\u001b[?25hCollecting colorlog<7.0.0,>=6.7.0 (from langroid)\n",
      "  Downloading colorlog-6.8.2-py3-none-any.whl.metadata (10 kB)\n",
      "Collecting docstring-parser<0.16,>=0.15 (from langroid)\n",
      "  Downloading docstring_parser-0.15-py3-none-any.whl.metadata (2.4 kB)\n",
      "Collecting duckduckgo-search<7.0.0,>=6.0.0 (from langroid)\n",
      "  Downloading duckduckgo_search-6.1.0-py3-none-any.whl.metadata (18 kB)\n",
      "Collecting faker<19.0.0,>=18.9.0 (from langroid)\n",
      "  Downloading Faker-18.13.0-py3-none-any.whl.metadata (15 kB)\n",
      "Collecting fakeredis<3.0.0,>=2.12.1 (from langroid)\n",
      "  Downloading fakeredis-2.23.1-py3-none-any.whl.metadata (3.6 kB)\n",
      "Collecting fire<0.6.0,>=0.5.0 (from langroid)\n",
      "  Downloading fire-0.5.0.tar.gz (88 kB)\n",
      "\u001b[2K     \u001b[90m━━━━━━━━━━━━━━━━━━━━━━━━━━━━━━━━━━━━━━━━\u001b[0m \u001b[32m88.3/88.3 kB\u001b[0m \u001b[31m4.5 MB/s\u001b[0m eta \u001b[36m0:00:00\u001b[0m\n",
      "\u001b[?25h  Preparing metadata (setup.py) ... \u001b[?25ldone\n",
      "\u001b[?25hCollecting flake8<7.0.0,>=6.0.0 (from langroid)\n",
      "  Downloading flake8-6.1.0-py2.py3-none-any.whl.metadata (3.8 kB)\n",
      "Collecting google-api-python-client<3.0.0,>=2.95.0 (from langroid)\n",
      "  Downloading google_api_python_client-2.129.0-py2.py3-none-any.whl.metadata (6.7 kB)\n",
      "Collecting google-generativeai<0.6.0,>=0.5.2 (from langroid)\n",
      "  Downloading google_generativeai-0.5.4-py3-none-any.whl.metadata (3.9 kB)\n",
      "Collecting groq<0.6.0,>=0.5.0 (from langroid)\n",
      "  Downloading groq-0.5.0-py3-none-any.whl.metadata (12 kB)\n",
      "Collecting grpcio<2.0.0,>=1.62.1 (from langroid)\n",
      "  Downloading grpcio-1.63.0-cp310-cp310-manylinux_2_17_x86_64.manylinux2014_x86_64.whl.metadata (3.2 kB)\n",
      "Collecting halo<0.0.32,>=0.0.31 (from langroid)\n",
      "  Downloading halo-0.0.31.tar.gz (11 kB)\n",
      "  Preparing metadata (setup.py) ... \u001b[?25ldone\n",
      "\u001b[?25hRequirement already satisfied: jinja2<4.0.0,>=3.1.2 in /opt/conda/lib/python3.10/site-packages (from langroid) (3.1.3)\n",
      "Collecting lancedb<0.7.0,>=0.6.2 (from langroid)\n",
      "  Downloading lancedb-0.6.13-cp38-abi3-manylinux_2_28_x86_64.whl.metadata (4.7 kB)\n",
      "Collecting lxml<5.0.0,>=4.9.3 (from langroid)\n",
      "  Downloading lxml-4.9.4-cp310-cp310-manylinux_2_28_x86_64.whl.metadata (3.7 kB)\n",
      "Collecting meilisearch<0.29.0,>=0.28.3 (from langroid)\n",
      "  Downloading meilisearch-0.28.4-py3-none-any.whl.metadata (949 bytes)\n",
      "Collecting meilisearch-python-sdk<3.0.0,>=2.2.3 (from langroid)\n",
      "  Downloading meilisearch_python_sdk-2.9.0-py3-none-any.whl.metadata (8.3 kB)\n",
      "Collecting momento<2.0.0,>=1.10.2 (from langroid)\n",
      "  Downloading momento-1.20.1-py3-none-any.whl.metadata (5.5 kB)\n",
      "Collecting mypy<2.0.0,>=1.7.0 (from langroid)\n",
      "  Downloading mypy-1.10.0-cp310-cp310-manylinux_2_17_x86_64.manylinux2014_x86_64.whl.metadata (1.9 kB)\n",
      "Requirement already satisfied: nest-asyncio<2.0.0,>=1.6.0 in /opt/conda/lib/python3.10/site-packages (from langroid) (1.6.0)\n",
      "Requirement already satisfied: nltk<4.0.0,>=3.8.1 in /opt/conda/lib/python3.10/site-packages (from langroid) (3.8.1)\n",
      "Collecting onnxruntime==1.16.1 (from langroid)\n",
      "  Downloading onnxruntime-1.16.1-cp310-cp310-manylinux_2_17_x86_64.manylinux2014_x86_64.whl.metadata (4.1 kB)\n",
      "Requirement already satisfied: openai<2.0.0,>=1.14.0 in /opt/conda/lib/python3.10/site-packages (from langroid) (1.30.0)\n",
      "Requirement already satisfied: pandas<3.0.0,>=2.0.3 in /opt/conda/lib/python3.10/site-packages (from langroid) (2.2.2)\n",
      "Collecting pdf2image<2.0.0,>=1.17.0 (from langroid)\n",
      "  Downloading pdf2image-1.17.0-py3-none-any.whl.metadata (6.2 kB)\n",
      "Collecting pdfplumber<0.11.0,>=0.10.2 (from langroid)\n",
      "  Downloading pdfplumber-0.10.4-py3-none-any.whl.metadata (39 kB)\n",
      "Collecting pre-commit<4.0.0,>=3.3.2 (from langroid)\n",
      "  Downloading pre_commit-3.7.1-py2.py3-none-any.whl.metadata (1.3 kB)\n",
      "Collecting prettytable<4.0.0,>=3.8.0 (from langroid)\n",
      "  Downloading prettytable-3.10.0-py3-none-any.whl.metadata (30 kB)\n",
      "Collecting pyarrow==15.0.0 (from langroid)\n",
      "  Downloading pyarrow-15.0.0-cp310-cp310-manylinux_2_28_x86_64.whl.metadata (3.0 kB)\n",
      "Collecting pydantic==1.10.13 (from langroid)\n",
      "  Downloading pydantic-1.10.13-cp310-cp310-manylinux_2_17_x86_64.manylinux2014_x86_64.whl.metadata (149 kB)\n",
      "\u001b[2K     \u001b[90m━━━━━━━━━━━━━━━━━━━━━━━━━━━━━━━━━━━━━━━\u001b[0m \u001b[32m149.6/149.6 kB\u001b[0m \u001b[31m7.9 MB/s\u001b[0m eta \u001b[36m0:00:00\u001b[0m\n",
      "\u001b[?25hCollecting pygithub<2.0.0,>=1.58.1 (from langroid)\n",
      "  Downloading PyGithub-1.59.1-py3-none-any.whl.metadata (2.0 kB)\n",
      "Requirement already satisfied: pygments<3.0.0,>=2.15.1 in /opt/conda/lib/python3.10/site-packages (from langroid) (2.15.1)\n",
      "Collecting pymupdf<2.0.0,>=1.23.3 (from langroid)\n",
      "  Downloading PyMuPDF-1.24.4-cp310-none-manylinux2014_x86_64.whl.metadata (3.4 kB)\n",
      "Requirement already satisfied: pyparsing<4.0.0,>=3.0.9 in /opt/conda/lib/python3.10/site-packages (from langroid) (3.1.2)\n",
      "Collecting pypdf<4.0.0,>=3.12.2 (from langroid)\n",
      "  Downloading pypdf-3.17.4-py3-none-any.whl.metadata (7.5 kB)\n",
      "Collecting pytesseract<0.4.0,>=0.3.10 (from langroid)\n",
      "  Downloading pytesseract-0.3.10-py3-none-any.whl.metadata (11 kB)\n",
      "Collecting pytest-asyncio<0.22.0,>=0.21.1 (from langroid)\n",
      "  Downloading pytest_asyncio-0.21.2-py3-none-any.whl.metadata (4.0 kB)\n",
      "Collecting pytest-redis<4.0.0,>=3.0.2 (from langroid)\n",
      "  Downloading pytest_redis-3.0.2-py3-none-any.whl.metadata (18 kB)\n",
      "Collecting python-docx<2.0.0,>=1.1.0 (from langroid)\n",
      "  Downloading python_docx-1.1.2-py3-none-any.whl.metadata (2.0 kB)\n",
      "Requirement already satisfied: python-dotenv<2.0.0,>=1.0.0 in /opt/conda/lib/python3.10/site-packages (from langroid) (1.0.1)\n",
      "Collecting python-magic<0.5.0,>=0.4.27 (from langroid)\n",
      "  Downloading python_magic-0.4.27-py2.py3-none-any.whl.metadata (5.8 kB)\n",
      "Collecting qdrant-client<2.0.0,>=1.8.0 (from langroid)\n",
      "  Downloading qdrant_client-1.9.1-py3-none-any.whl.metadata (9.5 kB)\n",
      "Collecting rank-bm25<0.3.0,>=0.2.2 (from langroid)\n",
      "  Downloading rank_bm25-0.2.2-py3-none-any.whl.metadata (3.2 kB)\n",
      "Collecting redis<6.0.0,>=5.0.1 (from langroid)\n",
      "  Downloading redis-5.0.4-py3-none-any.whl.metadata (9.3 kB)\n",
      "Requirement already satisfied: requests<3.0.0,>=2.31.0 in /opt/conda/lib/python3.10/site-packages (from langroid) (2.31.0)\n",
      "Collecting requests-oauthlib<2.0.0,>=1.3.1 (from langroid)\n",
      "  Downloading requests_oauthlib-1.3.1-py2.py3-none-any.whl.metadata (10 kB)\n",
      "Requirement already satisfied: rich<14.0.0,>=13.3.4 in /opt/conda/lib/python3.10/site-packages (from langroid) (13.7.1)\n",
      "Collecting ruff<0.3.0,>=0.2.2 (from langroid)\n",
      "  Downloading ruff-0.2.2-py3-none-manylinux_2_17_x86_64.manylinux2014_x86_64.whl.metadata (23 kB)\n",
      "Collecting scrapy<3.0.0,>=2.11.0 (from langroid)\n",
      "  Downloading Scrapy-2.11.2-py2.py3-none-any.whl.metadata (5.3 kB)\n",
      "Collecting sqlalchemy<3.0.0,>=2.0.19 (from langroid)\n",
      "  Downloading SQLAlchemy-2.0.30-cp310-cp310-manylinux_2_17_x86_64.manylinux2014_x86_64.whl.metadata (9.6 kB)\n",
      "Collecting tantivy<0.22.0,>=0.21.0 (from langroid)\n",
      "  Downloading tantivy-0.21.0-cp310-cp310-manylinux_2_17_x86_64.manylinux2014_x86_64.whl.metadata (5.7 kB)\n",
      "Collecting thefuzz<0.21.0,>=0.20.0 (from langroid)\n",
      "  Downloading thefuzz-0.20.0-py3-none-any.whl.metadata (3.9 kB)\n",
      "Collecting tiktoken<0.6.0,>=0.5.1 (from langroid)\n",
      "  Downloading tiktoken-0.5.2-cp310-cp310-manylinux_2_17_x86_64.manylinux2014_x86_64.whl.metadata (6.6 kB)\n",
      "Collecting trafilatura<2.0.0,>=1.5.0 (from langroid)\n",
      "  Downloading trafilatura-1.9.0-py3-none-any.whl.metadata (14 kB)\n",
      "Collecting typer<0.10.0,>=0.9.0 (from langroid)\n",
      "  Downloading typer-0.9.4-py3-none-any.whl.metadata (14 kB)\n",
      "Collecting types-pillow<11.0.0.0,>=10.2.0.20240406 (from langroid)\n",
      "  Downloading types_Pillow-10.2.0.20240511-py3-none-any.whl.metadata (1.7 kB)\n",
      "Collecting types-pyyaml<7.0.0.0,>=6.0.12.20240311 (from langroid)\n",
      "  Downloading types_PyYAML-6.0.12.20240311-py3-none-any.whl.metadata (1.5 kB)\n",
      "Collecting types-redis<5.0.0.0,>=4.5.5.2 (from langroid)\n",
      "  Downloading types_redis-4.6.0.20240425-py3-none-any.whl.metadata (2.0 kB)\n",
      "Collecting types-requests<3.0.0.0,>=2.31.0.1 (from langroid)\n",
      "  Downloading types_requests-2.31.0.20240406-py3-none-any.whl.metadata (1.8 kB)\n",
      "Requirement already satisfied: wget<4.0,>=3.2 in /opt/conda/lib/python3.10/site-packages (from langroid) (3.2)\n",
      "Collecting coloredlogs (from onnxruntime==1.16.1->langroid)\n",
      "  Downloading coloredlogs-15.0.1-py2.py3-none-any.whl.metadata (12 kB)\n",
      "Collecting flatbuffers (from onnxruntime==1.16.1->langroid)\n",
      "  Downloading flatbuffers-24.3.25-py2.py3-none-any.whl.metadata (850 bytes)\n",
      "Requirement already satisfied: numpy>=1.21.6 in /opt/conda/lib/python3.10/site-packages (from onnxruntime==1.16.1->langroid) (1.26.4)\n",
      "Requirement already satisfied: packaging in /opt/conda/lib/python3.10/site-packages (from onnxruntime==1.16.1->langroid) (23.2)\n",
      "Collecting protobuf (from onnxruntime==1.16.1->langroid)\n",
      "  Downloading protobuf-5.26.1-cp37-abi3-manylinux2014_x86_64.whl.metadata (592 bytes)\n",
      "Requirement already satisfied: sympy in /opt/conda/lib/python3.10/site-packages (from onnxruntime==1.16.1->langroid) (1.12)\n",
      "Requirement already satisfied: typing-extensions>=4.2.0 in /opt/conda/lib/python3.10/site-packages (from pydantic==1.10.13->langroid) (4.10.0)\n",
      "Requirement already satisfied: aiosignal>=1.1.2 in /opt/conda/lib/python3.10/site-packages (from aiohttp<4.0.0,>=3.9.1->langroid) (1.3.1)\n",
      "Requirement already satisfied: attrs>=17.3.0 in /opt/conda/lib/python3.10/site-packages (from aiohttp<4.0.0,>=3.9.1->langroid) (23.1.0)\n",
      "Requirement already satisfied: frozenlist>=1.1.1 in /opt/conda/lib/python3.10/site-packages (from aiohttp<4.0.0,>=3.9.1->langroid) (1.4.1)\n",
      "Requirement already satisfied: multidict<7.0,>=4.5 in /opt/conda/lib/python3.10/site-packages (from aiohttp<4.0.0,>=3.9.1->langroid) (6.0.5)\n",
      "Requirement already satisfied: yarl<2.0,>=1.0 in /opt/conda/lib/python3.10/site-packages (from aiohttp<4.0.0,>=3.9.1->langroid) (1.9.4)\n",
      "Requirement already satisfied: async-timeout<5.0,>=4.0 in /opt/conda/lib/python3.10/site-packages (from aiohttp<4.0.0,>=3.9.1->langroid) (4.0.3)\n",
      "Collecting pycodestyle>=2.11.0 (from autopep8<3.0.0,>=2.0.2->langroid)\n",
      "  Downloading pycodestyle-2.11.1-py2.py3-none-any.whl.metadata (4.5 kB)\n",
      "Requirement already satisfied: tomli in /opt/conda/lib/python3.10/site-packages (from autopep8<3.0.0,>=2.0.2->langroid) (2.0.1)\n",
      "Requirement already satisfied: click>=8.0.0 in /opt/conda/lib/python3.10/site-packages (from black<25.0.0,>=24.3.0->black[jupyter]<25.0.0,>=24.3.0->langroid) (8.1.7)\n",
      "Collecting mypy-extensions>=0.4.3 (from black<25.0.0,>=24.3.0->black[jupyter]<25.0.0,>=24.3.0->langroid)\n",
      "  Downloading mypy_extensions-1.0.0-py3-none-any.whl.metadata (1.1 kB)\n",
      "Collecting pathspec>=0.9.0 (from black<25.0.0,>=24.3.0->black[jupyter]<25.0.0,>=24.3.0->langroid)\n",
      "  Downloading pathspec-0.12.1-py3-none-any.whl.metadata (21 kB)\n",
      "Requirement already satisfied: platformdirs>=2 in /opt/conda/lib/python3.10/site-packages (from black<25.0.0,>=24.3.0->black[jupyter]<25.0.0,>=24.3.0->langroid) (4.2.1)\n",
      "Requirement already satisfied: ipython>=7.8.0 in /opt/conda/lib/python3.10/site-packages (from black[jupyter]<25.0.0,>=24.3.0->langroid) (8.20.0)\n",
      "Collecting tokenize-rt>=3.2.0 (from black[jupyter]<25.0.0,>=24.3.0->langroid)\n",
      "  Downloading tokenize_rt-5.2.0-py2.py3-none-any.whl.metadata (4.1 kB)\n",
      "Requirement already satisfied: beautifulsoup4 in /opt/conda/lib/python3.10/site-packages (from bs4<0.0.2,>=0.0.1->langroid) (4.12.2)\n",
      "Collecting pyreqwest-impersonate>=0.4.5 (from duckduckgo-search<7.0.0,>=6.0.0->langroid)\n",
      "  Downloading pyreqwest_impersonate-0.4.5-cp38-abi3-manylinux_2_28_x86_64.whl.metadata (9.6 kB)\n",
      "Collecting orjson>=3.10.3 (from duckduckgo-search<7.0.0,>=6.0.0->langroid)\n",
      "  Downloading orjson-3.10.3-cp310-cp310-manylinux_2_17_x86_64.manylinux2014_x86_64.whl.metadata (49 kB)\n",
      "\u001b[2K     \u001b[90m━━━━━━━━━━━━━━━━━━━━━━━━━━━━━━━━━━━━━━━━\u001b[0m \u001b[32m49.7/49.7 kB\u001b[0m \u001b[31m2.3 MB/s\u001b[0m eta \u001b[36m0:00:00\u001b[0m\n",
      "\u001b[?25hRequirement already satisfied: python-dateutil>=2.4 in /opt/conda/lib/python3.10/site-packages (from faker<19.0.0,>=18.9.0->langroid) (2.9.0.post0)\n",
      "Requirement already satisfied: sortedcontainers<3,>=2 in /opt/conda/lib/python3.10/site-packages (from fakeredis<3.0.0,>=2.12.1->langroid) (2.4.0)\n",
      "Requirement already satisfied: six in /opt/conda/lib/python3.10/site-packages (from fire<0.6.0,>=0.5.0->langroid) (1.16.0)\n",
      "Collecting termcolor (from fire<0.6.0,>=0.5.0->langroid)\n",
      "  Downloading termcolor-2.4.0-py3-none-any.whl.metadata (6.1 kB)\n",
      "Collecting mccabe<0.8.0,>=0.7.0 (from flake8<7.0.0,>=6.0.0->langroid)\n",
      "  Downloading mccabe-0.7.0-py2.py3-none-any.whl.metadata (5.0 kB)\n",
      "Collecting pyflakes<3.2.0,>=3.1.0 (from flake8<7.0.0,>=6.0.0->langroid)\n",
      "  Downloading pyflakes-3.1.0-py2.py3-none-any.whl.metadata (3.5 kB)\n",
      "Collecting httplib2<1.dev0,>=0.19.0 (from google-api-python-client<3.0.0,>=2.95.0->langroid)\n",
      "  Downloading httplib2-0.22.0-py3-none-any.whl.metadata (2.6 kB)\n",
      "Collecting google-auth!=2.24.0,!=2.25.0,<3.0.0.dev0,>=1.32.0 (from google-api-python-client<3.0.0,>=2.95.0->langroid)\n",
      "  Downloading google_auth-2.29.0-py2.py3-none-any.whl.metadata (4.7 kB)\n",
      "Collecting google-auth-httplib2<1.0.0,>=0.2.0 (from google-api-python-client<3.0.0,>=2.95.0->langroid)\n",
      "  Downloading google_auth_httplib2-0.2.0-py2.py3-none-any.whl.metadata (2.2 kB)\n",
      "Collecting google-api-core!=2.0.*,!=2.1.*,!=2.2.*,!=2.3.0,<3.0.0.dev0,>=1.31.5 (from google-api-python-client<3.0.0,>=2.95.0->langroid)\n",
      "  Downloading google_api_core-2.19.0-py3-none-any.whl.metadata (2.7 kB)\n",
      "Collecting uritemplate<5,>=3.0.1 (from google-api-python-client<3.0.0,>=2.95.0->langroid)\n",
      "  Downloading uritemplate-4.1.1-py2.py3-none-any.whl.metadata (2.9 kB)\n",
      "Collecting google-ai-generativelanguage==0.6.4 (from google-generativeai<0.6.0,>=0.5.2->langroid)\n",
      "  Downloading google_ai_generativelanguage-0.6.4-py3-none-any.whl.metadata (5.6 kB)\n",
      "Requirement already satisfied: tqdm in /opt/conda/lib/python3.10/site-packages (from google-generativeai<0.6.0,>=0.5.2->langroid) (4.65.0)\n",
      "Collecting proto-plus<2.0.0dev,>=1.22.3 (from google-ai-generativelanguage==0.6.4->google-generativeai<0.6.0,>=0.5.2->langroid)\n",
      "  Downloading proto_plus-1.23.0-py3-none-any.whl.metadata (2.2 kB)\n",
      "Collecting protobuf (from onnxruntime==1.16.1->langroid)\n",
      "  Downloading protobuf-4.25.3-cp37-abi3-manylinux2014_x86_64.whl.metadata (541 bytes)\n",
      "Requirement already satisfied: anyio<5,>=3.5.0 in /opt/conda/lib/python3.10/site-packages (from groq<0.6.0,>=0.5.0->langroid) (4.3.0)\n",
      "Requirement already satisfied: distro<2,>=1.7.0 in /opt/conda/lib/python3.10/site-packages (from groq<0.6.0,>=0.5.0->langroid) (1.8.0)\n",
      "Requirement already satisfied: httpx<1,>=0.23.0 in /opt/conda/lib/python3.10/site-packages (from groq<0.6.0,>=0.5.0->langroid) (0.27.0)\n",
      "Requirement already satisfied: sniffio in /opt/conda/lib/python3.10/site-packages (from groq<0.6.0,>=0.5.0->langroid) (1.3.1)\n",
      "Collecting log_symbols>=0.0.14 (from halo<0.0.32,>=0.0.31->langroid)\n",
      "  Downloading log_symbols-0.0.14-py3-none-any.whl.metadata (523 bytes)\n",
      "Collecting spinners>=0.0.24 (from halo<0.0.32,>=0.0.31->langroid)\n",
      "  Downloading spinners-0.0.24-py3-none-any.whl.metadata (576 bytes)\n",
      "Collecting colorama>=0.3.9 (from halo<0.0.32,>=0.0.31->langroid)\n",
      "  Downloading colorama-0.4.6-py2.py3-none-any.whl.metadata (17 kB)\n",
      "Requirement already satisfied: MarkupSafe>=2.0 in /opt/conda/lib/python3.10/site-packages (from jinja2<4.0.0,>=3.1.2->langroid) (2.1.3)\n",
      "Collecting deprecation (from lancedb<0.7.0,>=0.6.2->langroid)\n",
      "  Downloading deprecation-2.1.0-py2.py3-none-any.whl.metadata (4.6 kB)\n",
      "Collecting pylance==0.10.12 (from lancedb<0.7.0,>=0.6.2->langroid)\n",
      "  Downloading pylance-0.10.12-cp38-abi3-manylinux_2_28_x86_64.whl.metadata (7.3 kB)\n",
      "Collecting ratelimiter~=1.0 (from lancedb<0.7.0,>=0.6.2->langroid)\n",
      "  Downloading ratelimiter-1.2.0.post0-py3-none-any.whl.metadata (4.0 kB)\n",
      "Collecting retry>=0.9.2 (from lancedb<0.7.0,>=0.6.2->langroid)\n",
      "  Downloading retry-0.9.2-py2.py3-none-any.whl.metadata (5.8 kB)\n",
      "Collecting semver (from lancedb<0.7.0,>=0.6.2->langroid)\n",
      "  Downloading semver-3.0.2-py3-none-any.whl.metadata (5.0 kB)\n",
      "Collecting cachetools (from lancedb<0.7.0,>=0.6.2->langroid)\n",
      "  Downloading cachetools-5.3.3-py3-none-any.whl.metadata (5.3 kB)\n",
      "Requirement already satisfied: overrides>=0.7 in /opt/conda/lib/python3.10/site-packages (from lancedb<0.7.0,>=0.6.2->langroid) (7.7.0)\n",
      "Collecting camel-converter[pydantic] (from meilisearch<0.29.0,>=0.28.3->langroid)\n",
      "  Downloading camel_converter-3.1.2-py3-none-any.whl.metadata (5.4 kB)\n",
      "Collecting PyJWT>=2.3.0 (from meilisearch-python-sdk<3.0.0,>=2.2.3->langroid)\n",
      "  Downloading PyJWT-2.8.0-py3-none-any.whl.metadata (4.2 kB)\n",
      "Collecting aiofiles>=0.7 (from meilisearch-python-sdk<3.0.0,>=2.2.3->langroid)\n",
      "  Downloading aiofiles-23.2.1-py3-none-any.whl.metadata (9.7 kB)\n",
      "Collecting momento-wire-types<0.107.0,>=0.106.0 (from momento<2.0.0,>=1.10.2->langroid)\n",
      "  Downloading momento_wire_types-0.106.2-py3-none-any.whl.metadata (1.3 kB)\n",
      "Requirement already satisfied: joblib in /opt/conda/lib/python3.10/site-packages (from nltk<4.0.0,>=3.8.1->langroid) (1.4.2)\n",
      "Requirement already satisfied: regex>=2021.8.3 in /opt/conda/lib/python3.10/site-packages (from nltk<4.0.0,>=3.8.1->langroid) (2024.5.10)\n",
      "Requirement already satisfied: pytz>=2020.1 in /opt/conda/lib/python3.10/site-packages (from pandas<3.0.0,>=2.0.3->langroid) (2023.3.post1)\n",
      "Requirement already satisfied: tzdata>=2022.7 in /opt/conda/lib/python3.10/site-packages (from pandas<3.0.0,>=2.0.3->langroid) (2024.1)\n",
      "Requirement already satisfied: pillow in /opt/conda/lib/python3.10/site-packages (from pdf2image<2.0.0,>=1.17.0->langroid) (10.2.0)\n",
      "Collecting pdfminer.six==20221105 (from pdfplumber<0.11.0,>=0.10.2->langroid)\n",
      "  Downloading pdfminer.six-20221105-py3-none-any.whl.metadata (4.0 kB)\n",
      "Collecting pypdfium2>=4.18.0 (from pdfplumber<0.11.0,>=0.10.2->langroid)\n",
      "  Downloading pypdfium2-4.30.0-py3-none-manylinux_2_17_x86_64.manylinux2014_x86_64.whl.metadata (48 kB)\n",
      "\u001b[2K     \u001b[90m━━━━━━━━━━━━━━━━━━━━━━━━━━━━━━━━━━━━━━━━\u001b[0m \u001b[32m48.5/48.5 kB\u001b[0m \u001b[31m2.7 MB/s\u001b[0m eta \u001b[36m0:00:00\u001b[0m\n",
      "\u001b[?25hRequirement already satisfied: charset-normalizer>=2.0.0 in /opt/conda/lib/python3.10/site-packages (from pdfminer.six==20221105->pdfplumber<0.11.0,>=0.10.2->langroid) (2.0.4)\n",
      "Requirement already satisfied: cryptography>=36.0.0 in /opt/conda/lib/python3.10/site-packages (from pdfminer.six==20221105->pdfplumber<0.11.0,>=0.10.2->langroid) (42.0.5)\n",
      "Collecting cfgv>=2.0.0 (from pre-commit<4.0.0,>=3.3.2->langroid)\n",
      "  Downloading cfgv-3.4.0-py2.py3-none-any.whl.metadata (8.5 kB)\n",
      "Collecting identify>=1.0.0 (from pre-commit<4.0.0,>=3.3.2->langroid)\n",
      "  Downloading identify-2.5.36-py2.py3-none-any.whl.metadata (4.4 kB)\n",
      "Collecting nodeenv>=0.11.1 (from pre-commit<4.0.0,>=3.3.2->langroid)\n",
      "  Downloading nodeenv-1.8.0-py2.py3-none-any.whl.metadata (21 kB)\n",
      "Requirement already satisfied: pyyaml>=5.1 in /opt/conda/lib/python3.10/site-packages (from pre-commit<4.0.0,>=3.3.2->langroid) (6.0.1)\n",
      "Collecting virtualenv>=20.10.0 (from pre-commit<4.0.0,>=3.3.2->langroid)\n",
      "  Downloading virtualenv-20.26.2-py3-none-any.whl.metadata (4.4 kB)\n",
      "Requirement already satisfied: wcwidth in /opt/conda/lib/python3.10/site-packages (from prettytable<4.0.0,>=3.8.0->langroid) (0.2.5)\n",
      "Collecting deprecated (from pygithub<2.0.0,>=1.58.1->langroid)\n",
      "  Downloading Deprecated-1.2.14-py2.py3-none-any.whl.metadata (5.4 kB)\n",
      "Collecting pynacl>=1.4.0 (from pygithub<2.0.0,>=1.58.1->langroid)\n",
      "  Downloading PyNaCl-1.5.0-cp36-abi3-manylinux_2_17_x86_64.manylinux2014_x86_64.manylinux_2_24_x86_64.whl.metadata (8.6 kB)\n",
      "Collecting PyMuPDFb==1.24.3 (from pymupdf<2.0.0,>=1.23.3->langroid)\n",
      "  Downloading PyMuPDFb-1.24.3-py3-none-manylinux2014_x86_64.manylinux_2_17_x86_64.whl.metadata (1.4 kB)\n",
      "Collecting pytest>=7.0.0 (from pytest-asyncio<0.22.0,>=0.21.1->langroid)\n",
      "  Downloading pytest-8.2.0-py3-none-any.whl.metadata (7.5 kB)\n",
      "Collecting port-for>=0.6.0 (from pytest-redis<4.0.0,>=3.0.2->langroid)\n",
      "  Downloading port_for-0.7.2-py3-none-any.whl.metadata (6.8 kB)\n",
      "Collecting mirakuru (from pytest-redis<4.0.0,>=3.0.2->langroid)\n",
      "  Downloading mirakuru-2.5.2-py3-none-any.whl.metadata (19 kB)\n",
      "Collecting grpcio-tools>=1.41.0 (from qdrant-client<2.0.0,>=1.8.0->langroid)\n",
      "  Downloading grpcio_tools-1.63.0-cp310-cp310-manylinux_2_17_x86_64.manylinux2014_x86_64.whl.metadata (5.3 kB)\n",
      "Collecting portalocker<3.0.0,>=2.7.0 (from qdrant-client<2.0.0,>=1.8.0->langroid)\n",
      "  Downloading portalocker-2.8.2-py3-none-any.whl.metadata (8.5 kB)\n",
      "Requirement already satisfied: urllib3<3,>=1.26.14 in /opt/conda/lib/python3.10/site-packages (from qdrant-client<2.0.0,>=1.8.0->langroid) (2.1.0)\n",
      "Requirement already satisfied: idna<4,>=2.5 in /opt/conda/lib/python3.10/site-packages (from requests<3.0.0,>=2.31.0->langroid) (3.4)\n",
      "Requirement already satisfied: certifi>=2017.4.17 in /opt/conda/lib/python3.10/site-packages (from requests<3.0.0,>=2.31.0->langroid) (2024.2.2)\n",
      "Collecting oauthlib>=3.0.0 (from requests-oauthlib<2.0.0,>=1.3.1->langroid)\n",
      "  Downloading oauthlib-3.2.2-py3-none-any.whl.metadata (7.5 kB)\n",
      "Requirement already satisfied: markdown-it-py>=2.2.0 in /opt/conda/lib/python3.10/site-packages (from rich<14.0.0,>=13.3.4->langroid) (3.0.0)\n",
      "Collecting Twisted>=18.9.0 (from scrapy<3.0.0,>=2.11.0->langroid)\n",
      "  Downloading twisted-24.3.0-py3-none-any.whl.metadata (9.5 kB)\n",
      "Collecting cssselect>=0.9.1 (from scrapy<3.0.0,>=2.11.0->langroid)\n",
      "  Downloading cssselect-1.2.0-py2.py3-none-any.whl.metadata (2.2 kB)\n",
      "Collecting itemloaders>=1.0.1 (from scrapy<3.0.0,>=2.11.0->langroid)\n",
      "  Downloading itemloaders-1.2.0-py3-none-any.whl.metadata (3.9 kB)\n",
      "Collecting parsel>=1.5.0 (from scrapy<3.0.0,>=2.11.0->langroid)\n",
      "  Downloading parsel-1.9.1-py2.py3-none-any.whl.metadata (11 kB)\n",
      "Requirement already satisfied: pyOpenSSL>=21.0.0 in /opt/conda/lib/python3.10/site-packages (from scrapy<3.0.0,>=2.11.0->langroid) (24.0.0)\n",
      "Collecting queuelib>=1.4.2 (from scrapy<3.0.0,>=2.11.0->langroid)\n",
      "  Downloading queuelib-1.7.0-py2.py3-none-any.whl.metadata (5.7 kB)\n",
      "Collecting service-identity>=18.1.0 (from scrapy<3.0.0,>=2.11.0->langroid)\n",
      "  Downloading service_identity-24.1.0-py3-none-any.whl.metadata (4.8 kB)\n",
      "Collecting w3lib>=1.17.0 (from scrapy<3.0.0,>=2.11.0->langroid)\n",
      "  Downloading w3lib-2.1.2-py3-none-any.whl.metadata (1.1 kB)\n",
      "Collecting zope.interface>=5.1.0 (from scrapy<3.0.0,>=2.11.0->langroid)\n",
      "  Downloading zope.interface-6.4-cp310-cp310-manylinux_2_5_x86_64.manylinux1_x86_64.manylinux_2_17_x86_64.manylinux2014_x86_64.whl.metadata (42 kB)\n",
      "\u001b[2K     \u001b[90m━━━━━━━━━━━━━━━━━━━━━━━━━━━━━━━━━━━━━━━━\u001b[0m \u001b[32m42.2/42.2 kB\u001b[0m \u001b[31m2.2 MB/s\u001b[0m eta \u001b[36m0:00:00\u001b[0m\n",
      "\u001b[?25hCollecting protego>=0.1.15 (from scrapy<3.0.0,>=2.11.0->langroid)\n",
      "  Downloading Protego-0.3.1-py2.py3-none-any.whl.metadata (5.9 kB)\n",
      "Collecting itemadapter>=0.1.0 (from scrapy<3.0.0,>=2.11.0->langroid)\n",
      "  Downloading itemadapter-0.9.0-py3-none-any.whl.metadata (17 kB)\n",
      "Requirement already satisfied: setuptools in /opt/conda/lib/python3.10/site-packages (from scrapy<3.0.0,>=2.11.0->langroid) (68.2.2)\n",
      "Collecting tldextract (from scrapy<3.0.0,>=2.11.0->langroid)\n",
      "  Downloading tldextract-5.1.2-py3-none-any.whl.metadata (11 kB)\n",
      "Requirement already satisfied: defusedxml>=0.7.1 in /opt/conda/lib/python3.10/site-packages (from scrapy<3.0.0,>=2.11.0->langroid) (0.7.1)\n",
      "Collecting PyDispatcher>=2.0.5 (from scrapy<3.0.0,>=2.11.0->langroid)\n",
      "  Downloading PyDispatcher-2.0.7-py3-none-any.whl.metadata (2.4 kB)\n",
      "Collecting greenlet!=0.4.17 (from sqlalchemy<3.0.0,>=2.0.19->langroid)\n",
      "  Downloading greenlet-3.0.3-cp310-cp310-manylinux_2_24_x86_64.manylinux_2_28_x86_64.whl.metadata (3.8 kB)\n",
      "Collecting rapidfuzz<4.0.0,>=3.0.0 (from thefuzz<0.21.0,>=0.20.0->langroid)\n",
      "  Downloading rapidfuzz-3.9.0-cp310-cp310-manylinux_2_17_x86_64.manylinux2014_x86_64.whl.metadata (11 kB)\n",
      "Collecting courlan>=1.1.0 (from trafilatura<2.0.0,>=1.5.0->langroid)\n",
      "  Downloading courlan-1.1.0-py3-none-any.whl.metadata (18 kB)\n",
      "Collecting htmldate>=1.8.1 (from trafilatura<2.0.0,>=1.5.0->langroid)\n",
      "  Downloading htmldate-1.8.1-py3-none-any.whl.metadata (10 kB)\n",
      "Collecting justext>=3.0.0 (from trafilatura<2.0.0,>=1.5.0->langroid)\n",
      "  Downloading jusText-3.0.1-py2.py3-none-any.whl.metadata (6.9 kB)\n",
      "Collecting charset-normalizer>=2.0.0 (from pdfminer.six==20221105->pdfplumber<0.11.0,>=0.10.2->langroid)\n",
      "  Downloading charset_normalizer-3.3.2-cp310-cp310-manylinux_2_17_x86_64.manylinux2014_x86_64.whl.metadata (33 kB)\n",
      "Collecting types-pyOpenSSL (from types-redis<5.0.0.0,>=4.5.5.2->langroid)\n",
      "  Downloading types_pyOpenSSL-24.1.0.20240425-py3-none-any.whl.metadata (1.8 kB)\n",
      "Requirement already satisfied: exceptiongroup>=1.0.2 in /opt/conda/lib/python3.10/site-packages (from anyio<5,>=3.5.0->groq<0.6.0,>=0.5.0->langroid) (1.2.0)\n",
      "Requirement already satisfied: babel>=2.11.0 in /opt/conda/lib/python3.10/site-packages (from courlan>=1.1.0->trafilatura<2.0.0,>=1.5.0->langroid) (2.15.0)\n",
      "Collecting tld>=0.13 (from courlan>=1.1.0->trafilatura<2.0.0,>=1.5.0->langroid)\n",
      "  Downloading tld-0.13-py2.py3-none-any.whl.metadata (9.4 kB)\n",
      "Requirement already satisfied: cffi>=1.12 in /opt/conda/lib/python3.10/site-packages (from cryptography>=36.0.0->pdfminer.six==20221105->pdfplumber<0.11.0,>=0.10.2->langroid) (1.16.0)\n",
      "Collecting googleapis-common-protos<2.0.dev0,>=1.56.2 (from google-api-core!=2.0.*,!=2.1.*,!=2.2.*,!=2.3.0,<3.0.0.dev0,>=1.31.5->google-api-python-client<3.0.0,>=2.95.0->langroid)\n",
      "  Downloading googleapis_common_protos-1.63.0-py2.py3-none-any.whl.metadata (1.5 kB)\n",
      "Collecting pyasn1-modules>=0.2.1 (from google-auth!=2.24.0,!=2.25.0,<3.0.0.dev0,>=1.32.0->google-api-python-client<3.0.0,>=2.95.0->langroid)\n",
      "  Downloading pyasn1_modules-0.4.0-py3-none-any.whl.metadata (3.4 kB)\n",
      "Collecting rsa<5,>=3.1.4 (from google-auth!=2.24.0,!=2.25.0,<3.0.0.dev0,>=1.32.0->google-api-python-client<3.0.0,>=2.95.0->langroid)\n",
      "  Downloading rsa-4.9-py3-none-any.whl.metadata (4.2 kB)\n",
      "INFO: pip is looking at multiple versions of grpcio-tools to determine which version is compatible with other requirements. This could take a while.\n",
      "Collecting grpcio-tools>=1.41.0 (from qdrant-client<2.0.0,>=1.8.0->langroid)\n",
      "  Downloading grpcio_tools-1.62.2-cp310-cp310-manylinux_2_17_x86_64.manylinux2014_x86_64.whl.metadata (6.2 kB)\n",
      "Collecting dateparser>=1.1.2 (from htmldate>=1.8.1->trafilatura<2.0.0,>=1.5.0->langroid)\n",
      "  Downloading dateparser-1.2.0-py2.py3-none-any.whl.metadata (28 kB)\n",
      "Requirement already satisfied: httpcore==1.* in /opt/conda/lib/python3.10/site-packages (from httpx<1,>=0.23.0->groq<0.6.0,>=0.5.0->langroid) (1.0.5)\n",
      "Requirement already satisfied: h11<0.15,>=0.13 in /opt/conda/lib/python3.10/site-packages (from httpcore==1.*->httpx<1,>=0.23.0->groq<0.6.0,>=0.5.0->langroid) (0.14.0)\n",
      "Collecting h2<5,>=3 (from httpx[http2]>=0.20.0->qdrant-client<2.0.0,>=1.8.0->langroid)\n",
      "  Downloading h2-4.1.0-py3-none-any.whl.metadata (3.6 kB)\n",
      "Requirement already satisfied: decorator in /opt/conda/lib/python3.10/site-packages (from ipython>=7.8.0->black[jupyter]<25.0.0,>=24.3.0->langroid) (5.1.1)\n",
      "Requirement already satisfied: jedi>=0.16 in /opt/conda/lib/python3.10/site-packages (from ipython>=7.8.0->black[jupyter]<25.0.0,>=24.3.0->langroid) (0.18.1)\n",
      "Requirement already satisfied: matplotlib-inline in /opt/conda/lib/python3.10/site-packages (from ipython>=7.8.0->black[jupyter]<25.0.0,>=24.3.0->langroid) (0.1.6)\n",
      "Requirement already satisfied: prompt-toolkit<3.1.0,>=3.0.41 in /opt/conda/lib/python3.10/site-packages (from ipython>=7.8.0->black[jupyter]<25.0.0,>=24.3.0->langroid) (3.0.43)\n",
      "Requirement already satisfied: stack-data in /opt/conda/lib/python3.10/site-packages (from ipython>=7.8.0->black[jupyter]<25.0.0,>=24.3.0->langroid) (0.2.0)\n",
      "Requirement already satisfied: traitlets>=5 in /opt/conda/lib/python3.10/site-packages (from ipython>=7.8.0->black[jupyter]<25.0.0,>=24.3.0->langroid) (5.7.1)\n",
      "Requirement already satisfied: pexpect>4.3 in /opt/conda/lib/python3.10/site-packages (from ipython>=7.8.0->black[jupyter]<25.0.0,>=24.3.0->langroid) (4.8.0)\n",
      "Collecting jmespath>=0.9.5 (from itemloaders>=1.0.1->scrapy<3.0.0,>=2.11.0->langroid)\n",
      "  Downloading jmespath-1.0.1-py3-none-any.whl.metadata (7.6 kB)\n",
      "Requirement already satisfied: mdurl~=0.1 in /opt/conda/lib/python3.10/site-packages (from markdown-it-py>=2.2.0->rich<14.0.0,>=13.3.4->langroid) (0.1.2)\n",
      "Collecting iniconfig (from pytest>=7.0.0->pytest-asyncio<0.22.0,>=0.21.1->langroid)\n",
      "  Downloading iniconfig-2.0.0-py3-none-any.whl.metadata (2.6 kB)\n",
      "Collecting pluggy<2.0,>=1.5 (from pytest>=7.0.0->pytest-asyncio<0.22.0,>=0.21.1->langroid)\n",
      "  Downloading pluggy-1.5.0-py3-none-any.whl.metadata (4.8 kB)\n",
      "Collecting py<2.0.0,>=1.4.26 (from retry>=0.9.2->lancedb<0.7.0,>=0.6.2->langroid)\n",
      "  Downloading py-1.11.0-py2.py3-none-any.whl.metadata (2.8 kB)\n",
      "Collecting pyasn1 (from service-identity>=18.1.0->scrapy<3.0.0,>=2.11.0->langroid)\n",
      "  Downloading pyasn1-0.6.0-py2.py3-none-any.whl.metadata (8.3 kB)\n",
      "Collecting automat>=0.8.0 (from Twisted>=18.9.0->scrapy<3.0.0,>=2.11.0->langroid)\n",
      "  Downloading Automat-22.10.0-py2.py3-none-any.whl.metadata (1.0 kB)\n",
      "Collecting constantly>=15.1 (from Twisted>=18.9.0->scrapy<3.0.0,>=2.11.0->langroid)\n",
      "  Downloading constantly-23.10.4-py3-none-any.whl.metadata (1.8 kB)\n",
      "Collecting hyperlink>=17.1.1 (from Twisted>=18.9.0->scrapy<3.0.0,>=2.11.0->langroid)\n",
      "  Downloading hyperlink-21.0.0-py2.py3-none-any.whl.metadata (1.5 kB)\n",
      "Collecting incremental>=22.10.0 (from Twisted>=18.9.0->scrapy<3.0.0,>=2.11.0->langroid)\n",
      "  Downloading incremental-22.10.0-py2.py3-none-any.whl.metadata (6.0 kB)\n",
      "Collecting distlib<1,>=0.3.7 (from virtualenv>=20.10.0->pre-commit<4.0.0,>=3.3.2->langroid)\n",
      "  Downloading distlib-0.3.8-py2.py3-none-any.whl.metadata (5.1 kB)\n",
      "Requirement already satisfied: filelock<4,>=3.12.2 in /opt/conda/lib/python3.10/site-packages (from virtualenv>=20.10.0->pre-commit<4.0.0,>=3.3.2->langroid) (3.13.1)\n",
      "Requirement already satisfied: soupsieve>1.2 in /opt/conda/lib/python3.10/site-packages (from beautifulsoup4->bs4<0.0.2,>=0.0.1->langroid) (2.5)\n",
      "Collecting humanfriendly>=9.1 (from coloredlogs->onnxruntime==1.16.1->langroid)\n",
      "  Downloading humanfriendly-10.0-py2.py3-none-any.whl.metadata (9.2 kB)\n",
      "Collecting wrapt<2,>=1.10 (from deprecated->pygithub<2.0.0,>=1.58.1->langroid)\n",
      "  Downloading wrapt-1.16.0-cp310-cp310-manylinux_2_5_x86_64.manylinux1_x86_64.manylinux_2_17_x86_64.manylinux2014_x86_64.whl.metadata (6.6 kB)\n",
      "Requirement already satisfied: psutil>=4.0.0 in /opt/conda/lib/python3.10/site-packages (from mirakuru->pytest-redis<4.0.0,>=3.0.2->langroid) (5.9.8)\n",
      "Requirement already satisfied: mpmath>=0.19 in /opt/conda/lib/python3.10/site-packages (from sympy->onnxruntime==1.16.1->langroid) (1.3.0)\n",
      "Collecting requests-file>=1.4 (from tldextract->scrapy<3.0.0,>=2.11.0->langroid)\n",
      "  Downloading requests_file-2.0.0-py2.py3-none-any.whl.metadata (1.7 kB)\n",
      "Collecting types-cffi (from types-pyOpenSSL->types-redis<5.0.0.0,>=4.5.5.2->langroid)\n",
      "  Downloading types_cffi-1.16.0.20240331-py3-none-any.whl.metadata (1.6 kB)\n",
      "Requirement already satisfied: pycparser in /opt/conda/lib/python3.10/site-packages (from cffi>=1.12->cryptography>=36.0.0->pdfminer.six==20221105->pdfplumber<0.11.0,>=0.10.2->langroid) (2.21)\n",
      "Collecting tzlocal (from dateparser>=1.1.2->htmldate>=1.8.1->trafilatura<2.0.0,>=1.5.0->langroid)\n",
      "  Downloading tzlocal-5.2-py3-none-any.whl.metadata (7.8 kB)\n",
      "Collecting grpcio-status<2.0.dev0,>=1.33.2 (from google-api-core[grpc]!=2.0.*,!=2.1.*,!=2.10.*,!=2.2.*,!=2.3.*,!=2.4.*,!=2.5.*,!=2.6.*,!=2.7.*,!=2.8.*,!=2.9.*,<3.0.0dev,>=1.34.1->google-ai-generativelanguage==0.6.4->google-generativeai<0.6.0,>=0.5.2->langroid)\n",
      "  Downloading grpcio_status-1.63.0-py3-none-any.whl.metadata (1.1 kB)\n",
      "Collecting hyperframe<7,>=6.0 (from h2<5,>=3->httpx[http2]>=0.20.0->qdrant-client<2.0.0,>=1.8.0->langroid)\n",
      "  Downloading hyperframe-6.0.1-py3-none-any.whl.metadata (2.7 kB)\n",
      "Collecting hpack<5,>=4.0 (from h2<5,>=3->httpx[http2]>=0.20.0->qdrant-client<2.0.0,>=1.8.0->langroid)\n",
      "  Downloading hpack-4.0.0-py3-none-any.whl.metadata (2.5 kB)\n",
      "Requirement already satisfied: parso<0.9.0,>=0.8.0 in /opt/conda/lib/python3.10/site-packages (from jedi>=0.16->ipython>=7.8.0->black[jupyter]<25.0.0,>=24.3.0->langroid) (0.8.3)\n",
      "\u001b[33mWARNING: lxml 4.9.4 does not provide the extra 'html-clean'\u001b[0m\u001b[33m\n",
      "\u001b[0mRequirement already satisfied: ptyprocess>=0.5 in /opt/conda/lib/python3.10/site-packages (from pexpect>4.3->ipython>=7.8.0->black[jupyter]<25.0.0,>=24.3.0->langroid) (0.7.0)\n",
      "Requirement already satisfied: executing in /opt/conda/lib/python3.10/site-packages (from stack-data->ipython>=7.8.0->black[jupyter]<25.0.0,>=24.3.0->langroid) (0.8.3)\n",
      "Requirement already satisfied: asttokens in /opt/conda/lib/python3.10/site-packages (from stack-data->ipython>=7.8.0->black[jupyter]<25.0.0,>=24.3.0->langroid) (2.0.5)\n",
      "Requirement already satisfied: pure-eval in /opt/conda/lib/python3.10/site-packages (from stack-data->ipython>=7.8.0->black[jupyter]<25.0.0,>=24.3.0->langroid) (0.2.2)\n",
      "Collecting types-setuptools (from types-cffi->types-pyOpenSSL->types-redis<5.0.0.0,>=4.5.5.2->langroid)\n",
      "  Downloading types_setuptools-69.5.0.20240513-py3-none-any.whl.metadata (1.6 kB)\n",
      "INFO: pip is looking at multiple versions of grpcio-status to determine which version is compatible with other requirements. This could take a while.\n",
      "Collecting grpcio-status<2.0.dev0,>=1.33.2 (from google-api-core[grpc]!=2.0.*,!=2.1.*,!=2.10.*,!=2.2.*,!=2.3.*,!=2.4.*,!=2.5.*,!=2.6.*,!=2.7.*,!=2.8.*,!=2.9.*,<3.0.0dev,>=1.34.1->google-ai-generativelanguage==0.6.4->google-generativeai<0.6.0,>=0.5.2->langroid)\n",
      "  Downloading grpcio_status-1.62.2-py3-none-any.whl.metadata (1.3 kB)\n",
      "Downloading langroid-0.1.246-py3-none-any.whl (263 kB)\n",
      "\u001b[2K   \u001b[90m━━━━━━━━━━━━━━━━━━━━━━━━━━━━━━━━━━━━━━━━\u001b[0m \u001b[32m263.7/263.7 kB\u001b[0m \u001b[31m11.1 MB/s\u001b[0m eta \u001b[36m0:00:00\u001b[0m\n",
      "\u001b[?25hDownloading onnxruntime-1.16.1-cp310-cp310-manylinux_2_17_x86_64.manylinux2014_x86_64.whl (6.2 MB)\n",
      "\u001b[2K   \u001b[90m━━━━━━━━━━━━━━━━━━━━━━━━━━━━━━━━━━━━━━━━\u001b[0m \u001b[32m6.2/6.2 MB\u001b[0m \u001b[31m26.8 MB/s\u001b[0m eta \u001b[36m0:00:00\u001b[0m00:01\u001b[0m00:01\u001b[0m\n",
      "\u001b[?25hDownloading pyarrow-15.0.0-cp310-cp310-manylinux_2_28_x86_64.whl (38.3 MB)\n",
      "\u001b[2K   \u001b[90m━━━━━━━━━━━━━━━━━━━━━━━━━━━━━━━━━━━━━━━━\u001b[0m \u001b[32m38.3/38.3 MB\u001b[0m \u001b[31m21.6 MB/s\u001b[0m eta \u001b[36m0:00:00\u001b[0m00:01\u001b[0m00:01\u001b[0m\n",
      "\u001b[?25hDownloading pydantic-1.10.13-cp310-cp310-manylinux_2_17_x86_64.manylinux2014_x86_64.whl (3.1 MB)\n",
      "\u001b[2K   \u001b[90m━━━━━━━━━━━━━━━━━━━━━━━━━━━━━━━━━━━━━━━━\u001b[0m \u001b[32m3.1/3.1 MB\u001b[0m \u001b[31m26.9 MB/s\u001b[0m eta \u001b[36m0:00:00\u001b[0m00:01\u001b[0m00:01\u001b[0m\n",
      "\u001b[?25hDownloading async_generator-1.10-py3-none-any.whl (18 kB)\n",
      "Downloading autopep8-2.1.0-py2.py3-none-any.whl (44 kB)\n",
      "\u001b[2K   \u001b[90m━━━━━━━━━━━━━━━━━━━━━━━━━━━━━━━━━━━━━━━━\u001b[0m \u001b[32m45.0/45.0 kB\u001b[0m \u001b[31m2.6 MB/s\u001b[0m eta \u001b[36m0:00:00\u001b[0m\n",
      "\u001b[?25hDownloading black-24.4.2-cp310-cp310-manylinux_2_17_x86_64.manylinux2014_x86_64.whl (1.8 MB)\n",
      "\u001b[2K   \u001b[90m━━━━━━━━━━━━━━━━━━━━━━━━━━━━━━━━━━━━━━━━\u001b[0m \u001b[32m1.8/1.8 MB\u001b[0m \u001b[31m23.4 MB/s\u001b[0m eta \u001b[36m0:00:00\u001b[0m00:01\u001b[0m00:01\u001b[0m\n",
      "\u001b[?25hDownloading colorlog-6.8.2-py3-none-any.whl (11 kB)\n",
      "Downloading docstring_parser-0.15-py3-none-any.whl (36 kB)\n",
      "Downloading duckduckgo_search-6.1.0-py3-none-any.whl (23 kB)\n",
      "Downloading Faker-18.13.0-py3-none-any.whl (1.7 MB)\n",
      "\u001b[2K   \u001b[90m━━━━━━━━━━━━━━━━━━━━━━━━━━━━━━━━━━━━━━━━\u001b[0m \u001b[32m1.7/1.7 MB\u001b[0m \u001b[31m23.8 MB/s\u001b[0m eta \u001b[36m0:00:00\u001b[0m00:01\u001b[0m00:01\u001b[0m\n",
      "\u001b[?25hDownloading fakeredis-2.23.1-py3-none-any.whl (87 kB)\n",
      "\u001b[2K   \u001b[90m━━━━━━━━━━━━━━━━━━━━━━━━━━━━━━━━━━━━━━━━\u001b[0m \u001b[32m87.8/87.8 kB\u001b[0m \u001b[31m5.5 MB/s\u001b[0m eta \u001b[36m0:00:00\u001b[0m\n",
      "\u001b[?25hDownloading flake8-6.1.0-py2.py3-none-any.whl (58 kB)\n",
      "\u001b[2K   \u001b[90m━━━━━━━━━━━━━━━━━━━━━━━━━━━━━━━━━━━━━━━━\u001b[0m \u001b[32m58.3/58.3 kB\u001b[0m \u001b[31m3.5 MB/s\u001b[0m eta \u001b[36m0:00:00\u001b[0m\n",
      "\u001b[?25hDownloading google_api_python_client-2.129.0-py2.py3-none-any.whl (11.6 MB)\n",
      "\u001b[2K   \u001b[90m━━━━━━━━━━━━━━━━━━━━━━━━━━━━━━━━━━━━━━━━\u001b[0m \u001b[32m11.6/11.6 MB\u001b[0m \u001b[31m26.7 MB/s\u001b[0m eta \u001b[36m0:00:00\u001b[0m00:01\u001b[0m00:01\u001b[0m\n",
      "\u001b[?25hDownloading google_generativeai-0.5.4-py3-none-any.whl (150 kB)\n",
      "\u001b[2K   \u001b[90m━━━━━━━━━━━━━━━━━━━━━━━━━━━━━━━━━━━━━━━━\u001b[0m \u001b[32m150.7/150.7 kB\u001b[0m \u001b[31m9.8 MB/s\u001b[0m eta \u001b[36m0:00:00\u001b[0m\n",
      "\u001b[?25hDownloading google_ai_generativelanguage-0.6.4-py3-none-any.whl (679 kB)\n",
      "\u001b[2K   \u001b[90m━━━━━━━━━━━━━━━━━━━━━━━━━━━━━━━━━━━━━━━━\u001b[0m \u001b[32m679.1/679.1 kB\u001b[0m \u001b[31m19.1 MB/s\u001b[0m eta \u001b[36m0:00:00\u001b[0m00:01\u001b[0m\n",
      "\u001b[?25hDownloading groq-0.5.0-py3-none-any.whl (75 kB)\n",
      "\u001b[2K   \u001b[90m━━━━━━━━━━━━━━━━━━━━━━━━━━━━━━━━━━━━━━━━\u001b[0m \u001b[32m75.0/75.0 kB\u001b[0m \u001b[31m4.5 MB/s\u001b[0m eta \u001b[36m0:00:00\u001b[0m\n",
      "\u001b[?25hDownloading grpcio-1.63.0-cp310-cp310-manylinux_2_17_x86_64.manylinux2014_x86_64.whl (5.6 MB)\n",
      "\u001b[2K   \u001b[90m━━━━━━━━━━━━━━━━━━━━━━━━━━━━━━━━━━━━━━━━\u001b[0m \u001b[32m5.6/5.6 MB\u001b[0m \u001b[31m24.0 MB/s\u001b[0m eta \u001b[36m0:00:00\u001b[0m00:01\u001b[0m00:01\u001b[0m\n",
      "\u001b[?25hDownloading lancedb-0.6.13-cp38-abi3-manylinux_2_28_x86_64.whl (18.9 MB)\n",
      "\u001b[2K   \u001b[90m━━━━━━━━━━━━━━━━━━━━━━━━━━━━━━━━━━━━━━━━\u001b[0m \u001b[32m18.9/18.9 MB\u001b[0m \u001b[31m25.5 MB/s\u001b[0m eta \u001b[36m0:00:00\u001b[0m00:01\u001b[0m00:01\u001b[0m\n",
      "\u001b[?25hDownloading pylance-0.10.12-cp38-abi3-manylinux_2_28_x86_64.whl (22.4 MB)\n",
      "\u001b[2K   \u001b[90m━━━━━━━━━━━━━━━━━━━━━━━━━━━━━━━━━━━━━━━━\u001b[0m \u001b[32m22.4/22.4 MB\u001b[0m \u001b[31m25.1 MB/s\u001b[0m eta \u001b[36m0:00:00\u001b[0m00:01\u001b[0m00:01\u001b[0m\n",
      "\u001b[?25hDownloading lxml-4.9.4-cp310-cp310-manylinux_2_28_x86_64.whl (7.9 MB)\n",
      "\u001b[2K   \u001b[90m━━━━━━━━━━━━━━━━━━━━━━━━━━━━━━━━━━━━━━━━\u001b[0m \u001b[32m7.9/7.9 MB\u001b[0m \u001b[31m6.3 MB/s\u001b[0m eta \u001b[36m0:00:00\u001b[0m:00:01\u001b[0m00:01\u001b[0m\n",
      "\u001b[?25hDownloading meilisearch-0.28.4-py3-none-any.whl (21 kB)\n",
      "Downloading meilisearch_python_sdk-2.9.0-py3-none-any.whl (52 kB)\n",
      "\u001b[2K   \u001b[90m━━━━━━━━━━━━━━━━━━━━━━━━━━━━━━━━━━━━━━━━\u001b[0m \u001b[32m52.5/52.5 kB\u001b[0m \u001b[31m2.8 MB/s\u001b[0m eta \u001b[36m0:00:00\u001b[0m\n",
      "\u001b[?25hDownloading momento-1.20.1-py3-none-any.whl (151 kB)\n",
      "\u001b[2K   \u001b[90m━━━━━━━━━━━━━━━━━━━━━━━━━━━━━━━━━━━━━━━━\u001b[0m \u001b[32m151.4/151.4 kB\u001b[0m \u001b[31m8.5 MB/s\u001b[0m eta \u001b[36m0:00:00\u001b[0m\n",
      "\u001b[?25hDownloading mypy-1.10.0-cp310-cp310-manylinux_2_17_x86_64.manylinux2014_x86_64.whl (12.7 MB)\n",
      "\u001b[2K   \u001b[90m━━━━━━━━━━━━━━━━━━━━━━━━━━━━━━━━━━━━━━━━\u001b[0m \u001b[32m12.7/12.7 MB\u001b[0m \u001b[31m28.2 MB/s\u001b[0m eta \u001b[36m0:00:00\u001b[0m00:01\u001b[0m00:01\u001b[0m\n",
      "\u001b[?25hDownloading pdf2image-1.17.0-py3-none-any.whl (11 kB)\n",
      "Downloading pdfplumber-0.10.4-py3-none-any.whl (54 kB)\n",
      "\u001b[2K   \u001b[90m━━━━━━━━━━━━━━━━━━━━━━━━━━━━━━━━━━━━━━━━\u001b[0m \u001b[32m54.7/54.7 kB\u001b[0m \u001b[31m3.1 MB/s\u001b[0m eta \u001b[36m0:00:00\u001b[0m\n",
      "\u001b[?25hDownloading pdfminer.six-20221105-py3-none-any.whl (5.6 MB)\n",
      "\u001b[2K   \u001b[90m━━━━━━━━━━━━━━━━━━━━━━━━━━━━━━━━━━━━━━━━\u001b[0m \u001b[32m5.6/5.6 MB\u001b[0m \u001b[31m28.0 MB/s\u001b[0m eta \u001b[36m0:00:00\u001b[0m00:01\u001b[0m00:01\u001b[0m\n",
      "\u001b[?25hDownloading pre_commit-3.7.1-py2.py3-none-any.whl (204 kB)\n",
      "\u001b[2K   \u001b[90m━━━━━━━━━━━━━━━━━━━━━━━━━━━━━━━━━━━━━━━━\u001b[0m \u001b[32m204.3/204.3 kB\u001b[0m \u001b[31m13.5 MB/s\u001b[0m eta \u001b[36m0:00:00\u001b[0m\n",
      "\u001b[?25hDownloading prettytable-3.10.0-py3-none-any.whl (28 kB)\n",
      "Downloading PyGithub-1.59.1-py3-none-any.whl (342 kB)\n",
      "\u001b[2K   \u001b[90m━━━━━━━━━━━━━━━━━━━━━━━━━━━━━━━━━━━━━━━━\u001b[0m \u001b[32m342.2/342.2 kB\u001b[0m \u001b[31m19.4 MB/s\u001b[0m eta \u001b[36m0:00:00\u001b[0m\n",
      "\u001b[?25hDownloading PyMuPDF-1.24.4-cp310-none-manylinux2014_x86_64.whl (3.5 MB)\n",
      "\u001b[2K   \u001b[90m━━━━━━━━━━━━━━━━━━━━━━━━━━━━━━━━━━━━━━━━\u001b[0m \u001b[32m3.5/3.5 MB\u001b[0m \u001b[31m28.6 MB/s\u001b[0m eta \u001b[36m0:00:00\u001b[0m00:01\u001b[0m00:01\u001b[0m\n",
      "\u001b[?25hDownloading PyMuPDFb-1.24.3-py3-none-manylinux2014_x86_64.manylinux_2_17_x86_64.whl (15.8 MB)\n",
      "\u001b[2K   \u001b[90m━━━━━━━━━━━━━━━━━━━━━━━━━━━━━━━━━━━━━━━━\u001b[0m \u001b[32m15.8/15.8 MB\u001b[0m \u001b[31m26.5 MB/s\u001b[0m eta \u001b[36m0:00:00\u001b[0m00:01\u001b[0m00:01\u001b[0m\n",
      "\u001b[?25hDownloading pypdf-3.17.4-py3-none-any.whl (278 kB)\n",
      "\u001b[2K   \u001b[90m━━━━━━━━━━━━━━━━━━━━━━━━━━━━━━━━━━━━━━━━\u001b[0m \u001b[32m278.2/278.2 kB\u001b[0m \u001b[31m15.9 MB/s\u001b[0m eta \u001b[36m0:00:00\u001b[0m\n",
      "\u001b[?25hDownloading pytesseract-0.3.10-py3-none-any.whl (14 kB)\n",
      "Downloading pytest_asyncio-0.21.2-py3-none-any.whl (13 kB)\n",
      "Downloading pytest_redis-3.0.2-py3-none-any.whl (32 kB)\n",
      "Downloading python_docx-1.1.2-py3-none-any.whl (244 kB)\n",
      "\u001b[2K   \u001b[90m━━━━━━━━━━━━━━━━━━━━━━━━━━━━━━━━━━━━━━━━\u001b[0m \u001b[32m244.3/244.3 kB\u001b[0m \u001b[31m14.2 MB/s\u001b[0m eta \u001b[36m0:00:00\u001b[0m\n",
      "\u001b[?25hDownloading python_magic-0.4.27-py2.py3-none-any.whl (13 kB)\n",
      "Downloading qdrant_client-1.9.1-py3-none-any.whl (229 kB)\n",
      "\u001b[2K   \u001b[90m━━━━━━━━━━━━━━━━━━━━━━━━━━━━━━━━━━━━━━━━\u001b[0m \u001b[32m229.3/229.3 kB\u001b[0m \u001b[31m14.3 MB/s\u001b[0m eta \u001b[36m0:00:00\u001b[0m\n",
      "\u001b[?25hDownloading rank_bm25-0.2.2-py3-none-any.whl (8.6 kB)\n",
      "Downloading redis-5.0.4-py3-none-any.whl (251 kB)\n",
      "\u001b[2K   \u001b[90m━━━━━━━━━━━━━━━━━━━━━━━━━━━━━━━━━━━━━━━━\u001b[0m \u001b[32m252.0/252.0 kB\u001b[0m \u001b[31m14.7 MB/s\u001b[0m eta \u001b[36m0:00:00\u001b[0m\n",
      "\u001b[?25hDownloading requests_oauthlib-1.3.1-py2.py3-none-any.whl (23 kB)\n",
      "Downloading ruff-0.2.2-py3-none-manylinux_2_17_x86_64.manylinux2014_x86_64.whl (7.8 MB)\n",
      "\u001b[2K   \u001b[90m━━━━━━━━━━━━━━━━━━━━━━━━━━━━━━━━━━━━━━━━\u001b[0m \u001b[32m7.8/7.8 MB\u001b[0m \u001b[31m29.5 MB/s\u001b[0m eta \u001b[36m0:00:00\u001b[0m00:01\u001b[0m00:01\u001b[0m\n",
      "\u001b[?25hDownloading Scrapy-2.11.2-py2.py3-none-any.whl (290 kB)\n",
      "\u001b[2K   \u001b[90m━━━━━━━━━━━━━━━━━━━━━━━━━━━━━━━━━━━━━━━━\u001b[0m \u001b[32m290.1/290.1 kB\u001b[0m \u001b[31m14.7 MB/s\u001b[0m eta \u001b[36m0:00:00\u001b[0m\n",
      "\u001b[?25hDownloading SQLAlchemy-2.0.30-cp310-cp310-manylinux_2_17_x86_64.manylinux2014_x86_64.whl (3.1 MB)\n",
      "\u001b[2K   \u001b[90m━━━━━━━━━━━━━━━━━━━━━━━━━━━━━━━━━━━━━━━━\u001b[0m \u001b[32m3.1/3.1 MB\u001b[0m \u001b[31m26.4 MB/s\u001b[0m eta \u001b[36m0:00:00\u001b[0m00:01\u001b[0m00:01\u001b[0m\n",
      "\u001b[?25hDownloading tantivy-0.21.0-cp310-cp310-manylinux_2_17_x86_64.manylinux2014_x86_64.whl (4.2 MB)\n",
      "\u001b[2K   \u001b[90m━━━━━━━━━━━━━━━━━━━━━━━━━━━━━━━━━━━━━━━━\u001b[0m \u001b[32m4.2/4.2 MB\u001b[0m \u001b[31m27.4 MB/s\u001b[0m eta \u001b[36m0:00:00\u001b[0m00:01\u001b[0m00:01\u001b[0m\n",
      "\u001b[?25hDownloading thefuzz-0.20.0-py3-none-any.whl (15 kB)\n",
      "Downloading tiktoken-0.5.2-cp310-cp310-manylinux_2_17_x86_64.manylinux2014_x86_64.whl (2.0 MB)\n",
      "\u001b[2K   \u001b[90m━━━━━━━━━━━━━━━━━━━━━━━━━━━━━━━━━━━━━━━━\u001b[0m \u001b[32m2.0/2.0 MB\u001b[0m \u001b[31m25.8 MB/s\u001b[0m eta \u001b[36m0:00:00\u001b[0m00:01\u001b[0m00:01\u001b[0m\n",
      "\u001b[?25hDownloading trafilatura-1.9.0-py3-none-any.whl (1.0 MB)\n",
      "\u001b[2K   \u001b[90m━━━━━━━━━━━━━━━━━━━━━━━━━━━━━━━━━━━━━━━━\u001b[0m \u001b[32m1.0/1.0 MB\u001b[0m \u001b[31m22.7 MB/s\u001b[0m eta \u001b[36m0:00:00\u001b[0m00:01\u001b[0m\n",
      "\u001b[?25hDownloading typer-0.9.4-py3-none-any.whl (45 kB)\n",
      "\u001b[2K   \u001b[90m━━━━━━━━━━━━━━━━━━━━━━━━━━━━━━━━━━━━━━━━\u001b[0m \u001b[32m46.0/46.0 kB\u001b[0m \u001b[31m2.5 MB/s\u001b[0m eta \u001b[36m0:00:00\u001b[0m\n",
      "\u001b[?25hDownloading types_Pillow-10.2.0.20240511-py3-none-any.whl (54 kB)\n",
      "\u001b[2K   \u001b[90m━━━━━━━━━━━━━━━━━━━━━━━━━━━━━━━━━━━━━━━━\u001b[0m \u001b[32m54.2/54.2 kB\u001b[0m \u001b[31m3.2 MB/s\u001b[0m eta \u001b[36m0:00:00\u001b[0m\n",
      "\u001b[?25hDownloading types_PyYAML-6.0.12.20240311-py3-none-any.whl (15 kB)\n",
      "Downloading types_redis-4.6.0.20240425-py3-none-any.whl (58 kB)\n",
      "\u001b[2K   \u001b[90m━━━━━━━━━━━━━━━━━━━━━━━━━━━━━━━━━━━━━━━━\u001b[0m \u001b[32m58.9/58.9 kB\u001b[0m \u001b[31m3.5 MB/s\u001b[0m eta \u001b[36m0:00:00\u001b[0m\n",
      "\u001b[?25hDownloading types_requests-2.31.0.20240406-py3-none-any.whl (15 kB)\n",
      "Downloading aiofiles-23.2.1-py3-none-any.whl (15 kB)\n",
      "Downloading camel_converter-3.1.2-py3-none-any.whl (5.7 kB)\n",
      "Downloading cfgv-3.4.0-py2.py3-none-any.whl (7.2 kB)\n",
      "Downloading charset_normalizer-3.3.2-cp310-cp310-manylinux_2_17_x86_64.manylinux2014_x86_64.whl (142 kB)\n",
      "\u001b[2K   \u001b[90m━━━━━━━━━━━━━━━━━━━━━━━━━━━━━━━━━━━━━━━━\u001b[0m \u001b[32m142.1/142.1 kB\u001b[0m \u001b[31m8.9 MB/s\u001b[0m eta \u001b[36m0:00:00\u001b[0m\n",
      "\u001b[?25hDownloading colorama-0.4.6-py2.py3-none-any.whl (25 kB)\n",
      "Downloading courlan-1.1.0-py3-none-any.whl (33 kB)\n",
      "Downloading cssselect-1.2.0-py2.py3-none-any.whl (18 kB)\n",
      "Downloading google_api_core-2.19.0-py3-none-any.whl (139 kB)\n",
      "\u001b[2K   \u001b[90m━━━━━━━━━━━━━━━━━━━━━━━━━━━━━━━━━━━━━━━━\u001b[0m \u001b[32m139.0/139.0 kB\u001b[0m \u001b[31m9.1 MB/s\u001b[0m eta \u001b[36m0:00:00\u001b[0m\n",
      "\u001b[?25hDownloading google_auth-2.29.0-py2.py3-none-any.whl (189 kB)\n",
      "\u001b[2K   \u001b[90m━━━━━━━━━━━━━━━━━━━━━━━━━━━━━━━━━━━━━━━━\u001b[0m \u001b[32m189.2/189.2 kB\u001b[0m \u001b[31m11.5 MB/s\u001b[0m eta \u001b[36m0:00:00\u001b[0m\n",
      "\u001b[?25hDownloading cachetools-5.3.3-py3-none-any.whl (9.3 kB)\n",
      "Downloading google_auth_httplib2-0.2.0-py2.py3-none-any.whl (9.3 kB)\n",
      "Downloading greenlet-3.0.3-cp310-cp310-manylinux_2_24_x86_64.manylinux_2_28_x86_64.whl (616 kB)\n",
      "\u001b[2K   \u001b[90m━━━━━━━━━━━━━━━━━━━━━━━━━━━━━━━━━━━━━━━━\u001b[0m \u001b[32m616.0/616.0 kB\u001b[0m \u001b[31m24.4 MB/s\u001b[0m eta \u001b[36m0:00:00\u001b[0m\n",
      "\u001b[?25hDownloading grpcio_tools-1.62.2-cp310-cp310-manylinux_2_17_x86_64.manylinux2014_x86_64.whl (2.8 MB)\n",
      "\u001b[2K   \u001b[90m━━━━━━━━━━━━━━━━━━━━━━━━━━━━━━━━━━━━━━━━\u001b[0m \u001b[32m2.8/2.8 MB\u001b[0m \u001b[31m26.8 MB/s\u001b[0m eta \u001b[36m0:00:00\u001b[0ma \u001b[36m0:00:01\u001b[0m\n",
      "\u001b[?25hDownloading htmldate-1.8.1-py3-none-any.whl (31 kB)\n",
      "Downloading httplib2-0.22.0-py3-none-any.whl (96 kB)\n",
      "\u001b[2K   \u001b[90m━━━━━━━━━━━━━━━━━━━━━━━━━━━━━━━━━━━━━━━━\u001b[0m \u001b[32m96.9/96.9 kB\u001b[0m \u001b[31m6.1 MB/s\u001b[0m eta \u001b[36m0:00:00\u001b[0m\n",
      "\u001b[?25hDownloading identify-2.5.36-py2.py3-none-any.whl (98 kB)\n",
      "\u001b[2K   \u001b[90m━━━━━━━━━━━━━━━━━━━━━━━━━━━━━━━━━━━━━━━━\u001b[0m \u001b[32m99.0/99.0 kB\u001b[0m \u001b[31m6.1 MB/s\u001b[0m eta \u001b[36m0:00:00\u001b[0m\n",
      "\u001b[?25hDownloading itemadapter-0.9.0-py3-none-any.whl (11 kB)\n",
      "Downloading itemloaders-1.2.0-py3-none-any.whl (11 kB)\n",
      "Downloading jusText-3.0.1-py2.py3-none-any.whl (837 kB)\n",
      "\u001b[2K   \u001b[90m━━━━━━━━━━━━━━━━━━━━━━━━━━━━━━━━━━━━━━━━\u001b[0m \u001b[32m837.8/837.8 kB\u001b[0m \u001b[31m19.2 MB/s\u001b[0m eta \u001b[36m0:00:00\u001b[0m00:01\u001b[0m\n",
      "\u001b[?25hDownloading log_symbols-0.0.14-py3-none-any.whl (3.1 kB)\n",
      "Downloading mccabe-0.7.0-py2.py3-none-any.whl (7.3 kB)\n",
      "Downloading momento_wire_types-0.106.2-py3-none-any.whl (97 kB)\n",
      "\u001b[2K   \u001b[90m━━━━━━━━━━━━━━━━━━━━━━━━━━━━━━━━━━━━━━━━\u001b[0m \u001b[32m97.2/97.2 kB\u001b[0m \u001b[31m6.0 MB/s\u001b[0m eta \u001b[36m0:00:00\u001b[0m\n",
      "\u001b[?25hDownloading mypy_extensions-1.0.0-py3-none-any.whl (4.7 kB)\n",
      "Downloading nodeenv-1.8.0-py2.py3-none-any.whl (22 kB)\n",
      "Downloading oauthlib-3.2.2-py3-none-any.whl (151 kB)\n",
      "\u001b[2K   \u001b[90m━━━━━━━━━━━━━━━━━━━━━━━━━━━━━━━━━━━━━━━━\u001b[0m \u001b[32m151.7/151.7 kB\u001b[0m \u001b[31m9.6 MB/s\u001b[0m eta \u001b[36m0:00:00\u001b[0m\n",
      "\u001b[?25hDownloading orjson-3.10.3-cp310-cp310-manylinux_2_17_x86_64.manylinux2014_x86_64.whl (142 kB)\n",
      "\u001b[2K   \u001b[90m━━━━━━━━━━━━━━━━━━━━━━━━━━━━━━━━━━━━━━━━\u001b[0m \u001b[32m142.5/142.5 kB\u001b[0m \u001b[31m8.8 MB/s\u001b[0m eta \u001b[36m0:00:00\u001b[0m\n",
      "\u001b[?25hDownloading parsel-1.9.1-py2.py3-none-any.whl (17 kB)\n",
      "Downloading pathspec-0.12.1-py3-none-any.whl (31 kB)\n",
      "Downloading port_for-0.7.2-py3-none-any.whl (21 kB)\n",
      "Downloading portalocker-2.8.2-py3-none-any.whl (17 kB)\n",
      "Downloading Protego-0.3.1-py2.py3-none-any.whl (8.5 kB)\n",
      "Downloading protobuf-4.25.3-cp37-abi3-manylinux2014_x86_64.whl (294 kB)\n",
      "\u001b[2K   \u001b[90m━━━━━━━━━━━━━━━━━━━━━━━━━━━━━━━━━━━━━━━━\u001b[0m \u001b[32m294.6/294.6 kB\u001b[0m \u001b[31m15.8 MB/s\u001b[0m eta \u001b[36m0:00:00\u001b[0m\n",
      "\u001b[?25hDownloading pycodestyle-2.11.1-py2.py3-none-any.whl (31 kB)\n",
      "Downloading PyDispatcher-2.0.7-py3-none-any.whl (12 kB)\n",
      "Downloading pyflakes-3.1.0-py2.py3-none-any.whl (62 kB)\n",
      "\u001b[2K   \u001b[90m━━━━━━━━━━━━━━━━━━━━━━━━━━━━━━━━━━━━━━━━\u001b[0m \u001b[32m62.6/62.6 kB\u001b[0m \u001b[31m3.7 MB/s\u001b[0m eta \u001b[36m0:00:00\u001b[0m\n",
      "\u001b[?25hDownloading PyJWT-2.8.0-py3-none-any.whl (22 kB)\n",
      "Downloading PyNaCl-1.5.0-cp36-abi3-manylinux_2_17_x86_64.manylinux2014_x86_64.manylinux_2_24_x86_64.whl (856 kB)\n",
      "\u001b[2K   \u001b[90m━━━━━━━━━━━━━━━━━━━━━━━━━━━━━━━━━━━━━━━━\u001b[0m \u001b[32m856.7/856.7 kB\u001b[0m \u001b[31m21.6 MB/s\u001b[0m eta \u001b[36m0:00:00\u001b[0m00:01\u001b[0m\n",
      "\u001b[?25hDownloading pypdfium2-4.30.0-py3-none-manylinux_2_17_x86_64.manylinux2014_x86_64.whl (2.8 MB)\n",
      "\u001b[2K   \u001b[90m━━━━━━━━━━━━━━━━━━━━━━━━━━━━━━━━━━━━━━━━\u001b[0m \u001b[32m2.8/2.8 MB\u001b[0m \u001b[31m26.7 MB/s\u001b[0m eta \u001b[36m0:00:00\u001b[0ma \u001b[36m0:00:01\u001b[0m\n",
      "\u001b[?25hDownloading pyreqwest_impersonate-0.4.5-cp38-abi3-manylinux_2_28_x86_64.whl (2.7 MB)\n",
      "\u001b[2K   \u001b[90m━━━━━━━━━━━━━━━━━━━━━━━━━━━━━━━━━━━━━━━━\u001b[0m \u001b[32m2.7/2.7 MB\u001b[0m \u001b[31m27.1 MB/s\u001b[0m eta \u001b[36m0:00:00\u001b[0ma \u001b[36m0:00:01\u001b[0m\n",
      "\u001b[?25hDownloading pytest-8.2.0-py3-none-any.whl (339 kB)\n",
      "\u001b[2K   \u001b[90m━━━━━━━━━━━━━━━━━━━━━━━━━━━━━━━━━━━━━━━━\u001b[0m \u001b[32m339.2/339.2 kB\u001b[0m \u001b[31m16.3 MB/s\u001b[0m eta \u001b[36m0:00:00\u001b[0m\n",
      "\u001b[?25hDownloading queuelib-1.7.0-py2.py3-none-any.whl (13 kB)\n",
      "Downloading rapidfuzz-3.9.0-cp310-cp310-manylinux_2_17_x86_64.manylinux2014_x86_64.whl (3.4 MB)\n",
      "\u001b[2K   \u001b[90m━━━━━━━━━━━━━━━━━━━━━━━━━━━━━━━━━━━━━━━━\u001b[0m \u001b[32m3.4/3.4 MB\u001b[0m \u001b[31m27.2 MB/s\u001b[0m eta \u001b[36m0:00:00\u001b[0m00:01\u001b[0m00:01\u001b[0m\n",
      "\u001b[?25hDownloading ratelimiter-1.2.0.post0-py3-none-any.whl (6.6 kB)\n",
      "Downloading retry-0.9.2-py2.py3-none-any.whl (8.0 kB)\n",
      "Downloading service_identity-24.1.0-py3-none-any.whl (12 kB)\n",
      "Downloading spinners-0.0.24-py3-none-any.whl (5.5 kB)\n",
      "Downloading termcolor-2.4.0-py3-none-any.whl (7.7 kB)\n",
      "Downloading tokenize_rt-5.2.0-py2.py3-none-any.whl (5.8 kB)\n",
      "Downloading twisted-24.3.0-py3-none-any.whl (3.2 MB)\n",
      "\u001b[2K   \u001b[90m━━━━━━━━━━━━━━━━━━━━━━━━━━━━━━━━━━━━━━━━\u001b[0m \u001b[32m3.2/3.2 MB\u001b[0m \u001b[31m27.5 MB/s\u001b[0m eta \u001b[36m0:00:00\u001b[0m00:01\u001b[0m00:01\u001b[0m\n",
      "\u001b[?25hDownloading uritemplate-4.1.1-py2.py3-none-any.whl (10 kB)\n",
      "Downloading virtualenv-20.26.2-py3-none-any.whl (3.9 MB)\n",
      "\u001b[2K   \u001b[90m━━━━━━━━━━━━━━━━━━━━━━━━━━━━━━━━━━━━━━━━\u001b[0m \u001b[32m3.9/3.9 MB\u001b[0m \u001b[31m26.7 MB/s\u001b[0m eta \u001b[36m0:00:00\u001b[0m00:01\u001b[0m00:01\u001b[0m\n",
      "\u001b[?25hDownloading w3lib-2.1.2-py3-none-any.whl (21 kB)\n",
      "Downloading zope.interface-6.4-cp310-cp310-manylinux_2_5_x86_64.manylinux1_x86_64.manylinux_2_17_x86_64.manylinux2014_x86_64.whl (247 kB)\n",
      "\u001b[2K   \u001b[90m━━━━━━━━━━━━━━━━━━━━━━━━━━━━━━━━━━━━━━━━\u001b[0m \u001b[32m247.5/247.5 kB\u001b[0m \u001b[31m15.4 MB/s\u001b[0m eta \u001b[36m0:00:00\u001b[0m\n",
      "\u001b[?25hDownloading coloredlogs-15.0.1-py2.py3-none-any.whl (46 kB)\n",
      "\u001b[2K   \u001b[90m━━━━━━━━━━━━━━━━━━━━━━━━━━━━━━━━━━━━━━━━\u001b[0m \u001b[32m46.0/46.0 kB\u001b[0m \u001b[31m2.5 MB/s\u001b[0m eta \u001b[36m0:00:00\u001b[0m\n",
      "\u001b[?25hDownloading Deprecated-1.2.14-py2.py3-none-any.whl (9.6 kB)\n",
      "Downloading deprecation-2.1.0-py2.py3-none-any.whl (11 kB)\n",
      "Downloading flatbuffers-24.3.25-py2.py3-none-any.whl (26 kB)\n",
      "Downloading mirakuru-2.5.2-py3-none-any.whl (29 kB)\n",
      "Downloading semver-3.0.2-py3-none-any.whl (17 kB)\n",
      "Downloading tldextract-5.1.2-py3-none-any.whl (97 kB)\n",
      "\u001b[2K   \u001b[90m━━━━━━━━━━━━━━━━━━━━━━━━━━━━━━━━━━━━━━━━\u001b[0m \u001b[32m97.6/97.6 kB\u001b[0m \u001b[31m6.2 MB/s\u001b[0m eta \u001b[36m0:00:00\u001b[0m\n",
      "\u001b[?25hDownloading types_pyOpenSSL-24.1.0.20240425-py3-none-any.whl (7.4 kB)\n",
      "Downloading Automat-22.10.0-py2.py3-none-any.whl (26 kB)\n",
      "Downloading constantly-23.10.4-py3-none-any.whl (13 kB)\n",
      "Downloading dateparser-1.2.0-py2.py3-none-any.whl (294 kB)\n",
      "\u001b[2K   \u001b[90m━━━━━━━━━━━━━━━━━━━━━━━━━━━━━━━━━━━━━━━━\u001b[0m \u001b[32m295.0/295.0 kB\u001b[0m \u001b[31m15.2 MB/s\u001b[0m eta \u001b[36m0:00:00\u001b[0m\n",
      "\u001b[?25hDownloading distlib-0.3.8-py2.py3-none-any.whl (468 kB)\n",
      "\u001b[2K   \u001b[90m━━━━━━━━━━━━━━━━━━━━━━━━━━━━━━━━━━━━━━━━\u001b[0m \u001b[32m468.9/468.9 kB\u001b[0m \u001b[31m19.0 MB/s\u001b[0m eta \u001b[36m0:00:00\u001b[0m\n",
      "\u001b[?25hDownloading googleapis_common_protos-1.63.0-py2.py3-none-any.whl (229 kB)\n",
      "\u001b[2K   \u001b[90m━━━━━━━━━━━━━━━━━━━━━━━━━━━━━━━━━━━━━━━━\u001b[0m \u001b[32m229.1/229.1 kB\u001b[0m \u001b[31m13.5 MB/s\u001b[0m eta \u001b[36m0:00:00\u001b[0m\n",
      "\u001b[?25hDownloading h2-4.1.0-py3-none-any.whl (57 kB)\n",
      "\u001b[2K   \u001b[90m━━━━━━━━━━━━━━━━━━━━━━━━━━━━━━━━━━━━━━━━\u001b[0m \u001b[32m57.5/57.5 kB\u001b[0m \u001b[31m3.4 MB/s\u001b[0m eta \u001b[36m0:00:00\u001b[0m\n",
      "\u001b[?25hDownloading humanfriendly-10.0-py2.py3-none-any.whl (86 kB)\n",
      "\u001b[2K   \u001b[90m━━━━━━━━━━━━━━━━━━━━━━━━━━━━━━━━━━━━━━━━\u001b[0m \u001b[32m86.8/86.8 kB\u001b[0m \u001b[31m5.3 MB/s\u001b[0m eta \u001b[36m0:00:00\u001b[0m\n",
      "\u001b[?25hDownloading hyperlink-21.0.0-py2.py3-none-any.whl (74 kB)\n",
      "\u001b[2K   \u001b[90m━━━━━━━━━━━━━━━━━━━━━━━━━━━━━━━━━━━━━━━━\u001b[0m \u001b[32m74.6/74.6 kB\u001b[0m \u001b[31m4.5 MB/s\u001b[0m eta \u001b[36m0:00:00\u001b[0m\n",
      "\u001b[?25hDownloading incremental-22.10.0-py2.py3-none-any.whl (16 kB)\n",
      "Downloading jmespath-1.0.1-py3-none-any.whl (20 kB)\n",
      "Downloading pluggy-1.5.0-py3-none-any.whl (20 kB)\n",
      "Downloading proto_plus-1.23.0-py3-none-any.whl (48 kB)\n",
      "\u001b[2K   \u001b[90m━━━━━━━━━━━━━━━━━━━━━━━━━━━━━━━━━━━━━━━━\u001b[0m \u001b[32m48.8/48.8 kB\u001b[0m \u001b[31m2.7 MB/s\u001b[0m eta \u001b[36m0:00:00\u001b[0m\n",
      "\u001b[?25hDownloading py-1.11.0-py2.py3-none-any.whl (98 kB)\n",
      "\u001b[2K   \u001b[90m━━━━━━━━━━━━━━━━━━━━━━━━━━━━━━━━━━━━━━━━\u001b[0m \u001b[32m98.7/98.7 kB\u001b[0m \u001b[31m5.9 MB/s\u001b[0m eta \u001b[36m0:00:00\u001b[0m\n",
      "\u001b[?25hDownloading pyasn1_modules-0.4.0-py3-none-any.whl (181 kB)\n",
      "\u001b[2K   \u001b[90m━━━━━━━━━━━━━━━━━━━━━━━━━━━━━━━━━━━━━━━━\u001b[0m \u001b[32m181.2/181.2 kB\u001b[0m \u001b[31m10.4 MB/s\u001b[0m eta \u001b[36m0:00:00\u001b[0m\n",
      "\u001b[?25hDownloading pyasn1-0.6.0-py2.py3-none-any.whl (85 kB)\n",
      "\u001b[2K   \u001b[90m━━━━━━━━━━━━━━━━━━━━━━━━━━━━━━━━━━━━━━━━\u001b[0m \u001b[32m85.3/85.3 kB\u001b[0m \u001b[31m5.0 MB/s\u001b[0m eta \u001b[36m0:00:00\u001b[0m\n",
      "\u001b[?25hDownloading requests_file-2.0.0-py2.py3-none-any.whl (4.2 kB)\n",
      "Downloading rsa-4.9-py3-none-any.whl (34 kB)\n",
      "Downloading tld-0.13-py2.py3-none-any.whl (263 kB)\n",
      "\u001b[2K   \u001b[90m━━━━━━━━━━━━━━━━━━━━━━━━━━━━━━━━━━━━━━━━\u001b[0m \u001b[32m263.8/263.8 kB\u001b[0m \u001b[31m11.2 MB/s\u001b[0m eta \u001b[36m0:00:00\u001b[0m\n",
      "\u001b[?25hDownloading wrapt-1.16.0-cp310-cp310-manylinux_2_5_x86_64.manylinux1_x86_64.manylinux_2_17_x86_64.manylinux2014_x86_64.whl (80 kB)\n",
      "\u001b[2K   \u001b[90m━━━━━━━━━━━━━━━━━━━━━━━━━━━━━━━━━━━━━━━━\u001b[0m \u001b[32m80.3/80.3 kB\u001b[0m \u001b[31m4.2 MB/s\u001b[0m eta \u001b[36m0:00:00\u001b[0m\n",
      "\u001b[?25hDownloading iniconfig-2.0.0-py3-none-any.whl (5.9 kB)\n",
      "Downloading types_cffi-1.16.0.20240331-py3-none-any.whl (14 kB)\n",
      "Downloading grpcio_status-1.62.2-py3-none-any.whl (14 kB)\n",
      "Downloading hpack-4.0.0-py3-none-any.whl (32 kB)\n",
      "Downloading hyperframe-6.0.1-py3-none-any.whl (12 kB)\n",
      "Downloading types_setuptools-69.5.0.20240513-py3-none-any.whl (61 kB)\n",
      "\u001b[2K   \u001b[90m━━━━━━━━━━━━━━━━━━━━━━━━━━━━━━━━━━━━━━━━\u001b[0m \u001b[32m61.3/61.3 kB\u001b[0m \u001b[31m3.6 MB/s\u001b[0m eta \u001b[36m0:00:00\u001b[0m\n",
      "\u001b[?25hDownloading tzlocal-5.2-py3-none-any.whl (17 kB)\n",
      "Building wheels for collected packages: bs4, fire, halo\n",
      "  Building wheel for bs4 (setup.py) ... \u001b[?25ldone\n",
      "\u001b[?25h  Created wheel for bs4: filename=bs4-0.0.1-py3-none-any.whl size=1256 sha256=ca7f6b1670f78c99e81d92b85e91c3c1fb59197b67543a9b18edede34afc9094\n",
      "  Stored in directory: /root/.cache/pip/wheels/25/42/45/b773edc52acb16cd2db4cf1a0b47117e2f69bb4eb300ed0e70\n",
      "  Building wheel for fire (setup.py) ... \u001b[?25ldone\n",
      "\u001b[?25h  Created wheel for fire: filename=fire-0.5.0-py2.py3-none-any.whl size=116934 sha256=0a75de12830f8270afab01b8d2ac17806dc9d07bbfcf13f75ea585ce37424ae2\n",
      "  Stored in directory: /root/.cache/pip/wheels/90/d4/f7/9404e5db0116bd4d43e5666eaa3e70ab53723e1e3ea40c9a95\n",
      "  Building wheel for halo (setup.py) ... \u001b[?25ldone\n",
      "\u001b[?25h  Created wheel for halo: filename=halo-0.0.31-py3-none-any.whl size=11235 sha256=299f9a6fe4979fbf7ad72fb1936832989a5b0789f8bfcc1dd781d5b0afa0a325\n",
      "  Stored in directory: /root/.cache/pip/wheels/5a/d9/8a/b4f14c44aba7c164d4379eca6f1dde59360050406b1edaec24\n",
      "Successfully built bs4 fire halo\n",
      "Installing collected packages: spinners, ratelimiter, PyDispatcher, incremental, flatbuffers, distlib, zope.interface, wrapt, w3lib, virtualenv, uritemplate, tzlocal, types-setuptools, types-requests, types-pyyaml, types-pillow, typer, tokenize-rt, tld, termcolor, tantivy, semver, ruff, redis, rapidfuzz, rank-bm25, queuelib, python-magic, pytesseract, pyreqwest-impersonate, pypdfium2, pypdf, PyMuPDFb, PyJWT, pyflakes, pydantic, pycodestyle, pyasn1, pyarrow, py, protobuf, protego, prettytable, portalocker, port-for, pluggy, pdf2image, pathspec, orjson, oauthlib, nodeenv, mypy-extensions, mirakuru, mccabe, lxml, jmespath, itemadapter, iniconfig, identify, hyperlink, hyperframe, humanfriendly, httplib2, hpack, grpcio, greenlet, docstring-parser, deprecation, cssselect, constantly, colorlog, colorama, charset-normalizer, cfgv, camel-converter, cachetools, automat, async-generator, aiofiles, types-cffi, Twisted, thefuzz, sqlalchemy, rsa, retry, python-docx, pytest, pynacl, pymupdf, pylance, pyasn1-modules, proto-plus, pre-commit, parsel, mypy, momento-wire-types, log_symbols, h2, grpcio-tools, googleapis-common-protos, flake8, fire, fakeredis, faker, duckduckgo-search, deprecated, dateparser, courlan, coloredlogs, bs4, black, autopep8, types-pyOpenSSL, tiktoken, service-identity, requests-oauthlib, requests-file, pytest-redis, pytest-asyncio, pdfminer.six, onnxruntime, momento, meilisearch-python-sdk, meilisearch, lancedb, justext, itemloaders, htmldate, halo, grpcio-status, groq, google-auth, types-redis, trafilatura, tldextract, qdrant-client, pygithub, pdfplumber, google-auth-httplib2, google-api-core, scrapy, google-api-python-client, google-ai-generativelanguage, google-generativeai, langroid\n",
      "  Attempting uninstall: pydantic\n",
      "    Found existing installation: pydantic 2.7.1\n",
      "    Uninstalling pydantic-2.7.1:\n",
      "      Successfully uninstalled pydantic-2.7.1\n",
      "  Attempting uninstall: pluggy\n",
      "    Found existing installation: pluggy 1.0.0\n",
      "    Uninstalling pluggy-1.0.0:\n",
      "      Successfully uninstalled pluggy-1.0.0\n",
      "  Attempting uninstall: charset-normalizer\n",
      "    Found existing installation: charset-normalizer 2.0.4\n",
      "    Uninstalling charset-normalizer-2.0.4:\n",
      "      Successfully uninstalled charset-normalizer-2.0.4\n",
      "  Attempting uninstall: tiktoken\n",
      "    Found existing installation: tiktoken 0.6.0\n",
      "    Uninstalling tiktoken-0.6.0:\n",
      "      Successfully uninstalled tiktoken-0.6.0\n",
      "\u001b[31mERROR: pip's dependency resolver does not currently take into account all the packages that are installed. This behaviour is the source of the following dependency conflicts.\n",
      "open-interpreter 0.2.5 requires pydantic<3.0.0,>=2.6.4, but you have pydantic 1.10.13 which is incompatible.\n",
      "open-interpreter 0.2.5 requires tiktoken<0.7.0,>=0.6.0, but you have tiktoken 0.5.2 which is incompatible.\u001b[0m\u001b[31m\n",
      "\u001b[0mSuccessfully installed PyDispatcher-2.0.7 PyJWT-2.8.0 PyMuPDFb-1.24.3 Twisted-24.3.0 aiofiles-23.2.1 async-generator-1.10 automat-22.10.0 autopep8-2.1.0 black-24.4.2 bs4-0.0.1 cachetools-5.3.3 camel-converter-3.1.2 cfgv-3.4.0 charset-normalizer-3.3.2 colorama-0.4.6 coloredlogs-15.0.1 colorlog-6.8.2 constantly-23.10.4 courlan-1.1.0 cssselect-1.2.0 dateparser-1.2.0 deprecated-1.2.14 deprecation-2.1.0 distlib-0.3.8 docstring-parser-0.15 duckduckgo-search-6.1.0 faker-18.13.0 fakeredis-2.23.1 fire-0.5.0 flake8-6.1.0 flatbuffers-24.3.25 google-ai-generativelanguage-0.6.4 google-api-core-2.19.0 google-api-python-client-2.129.0 google-auth-2.29.0 google-auth-httplib2-0.2.0 google-generativeai-0.5.4 googleapis-common-protos-1.63.0 greenlet-3.0.3 groq-0.5.0 grpcio-1.63.0 grpcio-status-1.62.2 grpcio-tools-1.62.2 h2-4.1.0 halo-0.0.31 hpack-4.0.0 htmldate-1.8.1 httplib2-0.22.0 humanfriendly-10.0 hyperframe-6.0.1 hyperlink-21.0.0 identify-2.5.36 incremental-22.10.0 iniconfig-2.0.0 itemadapter-0.9.0 itemloaders-1.2.0 jmespath-1.0.1 justext-3.0.1 lancedb-0.6.13 langroid-0.1.246 log_symbols-0.0.14 lxml-4.9.4 mccabe-0.7.0 meilisearch-0.28.4 meilisearch-python-sdk-2.9.0 mirakuru-2.5.2 momento-1.20.1 momento-wire-types-0.106.2 mypy-1.10.0 mypy-extensions-1.0.0 nodeenv-1.8.0 oauthlib-3.2.2 onnxruntime-1.16.1 orjson-3.10.3 parsel-1.9.1 pathspec-0.12.1 pdf2image-1.17.0 pdfminer.six-20221105 pdfplumber-0.10.4 pluggy-1.5.0 port-for-0.7.2 portalocker-2.8.2 pre-commit-3.7.1 prettytable-3.10.0 protego-0.3.1 proto-plus-1.23.0 protobuf-4.25.3 py-1.11.0 pyarrow-15.0.0 pyasn1-0.6.0 pyasn1-modules-0.4.0 pycodestyle-2.11.1 pydantic-1.10.13 pyflakes-3.1.0 pygithub-1.59.1 pylance-0.10.12 pymupdf-1.24.4 pynacl-1.5.0 pypdf-3.17.4 pypdfium2-4.30.0 pyreqwest-impersonate-0.4.5 pytesseract-0.3.10 pytest-8.2.0 pytest-asyncio-0.21.2 pytest-redis-3.0.2 python-docx-1.1.2 python-magic-0.4.27 qdrant-client-1.9.1 queuelib-1.7.0 rank-bm25-0.2.2 rapidfuzz-3.9.0 ratelimiter-1.2.0.post0 redis-5.0.4 requests-file-2.0.0 requests-oauthlib-1.3.1 retry-0.9.2 rsa-4.9 ruff-0.2.2 scrapy-2.11.2 semver-3.0.2 service-identity-24.1.0 spinners-0.0.24 sqlalchemy-2.0.30 tantivy-0.21.0 termcolor-2.4.0 thefuzz-0.20.0 tiktoken-0.5.2 tld-0.13 tldextract-5.1.2 tokenize-rt-5.2.0 trafilatura-1.9.0 typer-0.9.4 types-cffi-1.16.0.20240331 types-pillow-10.2.0.20240511 types-pyOpenSSL-24.1.0.20240425 types-pyyaml-6.0.12.20240311 types-redis-4.6.0.20240425 types-requests-2.31.0.20240406 types-setuptools-69.5.0.20240513 tzlocal-5.2 uritemplate-4.1.1 virtualenv-20.26.2 w3lib-2.1.2 wrapt-1.16.0 zope.interface-6.4\n",
      "\u001b[33mWARNING: Running pip as the 'root' user can result in broken permissions and conflicting behaviour with the system package manager. It is recommended to use a virtual environment instead: https://pip.pypa.io/warnings/venv\u001b[0m\u001b[33m\n",
      "\u001b[0m"
     ]
    }
   ],
   "source": [
    "!pip install langroid"
   ]
  },
  {
   "cell_type": "code",
   "execution_count": 2,
   "id": "12c4fb22-1a2e-4e46-9950-c888728d6f4d",
   "metadata": {},
   "outputs": [
    {
     "name": "stderr",
     "output_type": "stream",
     "text": [
      "REDIS_PASSWORD, REDIS_HOST, REDIS_PORT not set in .env file,\n",
      "                    using fake redis client\n",
      "\u001b[33m2024-05-17 12:35:57 - WARNING - REDIS_PASSWORD, REDIS_HOST, REDIS_PORT not set in .env file,\n",
      "                    using fake redis client\u001b[0m\n"
     ]
    },
    {
     "name": "stdout",
     "output_type": "stream",
     "text": [
      "\u001b[32m\u001b[32m3\u001b[32m +\u001b[32m \u001b[32m4\u001b[32m equals\u001b[32m \u001b[32m7\u001b[32m."
     ]
    },
    {
     "data": {
      "text/html": [
       "<pre style=\"white-space:pre;overflow-x:auto;line-height:normal;font-family:Menlo,'DejaVu Sans Mono',consolas,'Courier New',monospace\">\n",
       "</pre>\n"
      ],
      "text/plain": [
       "\n"
      ]
     },
     "metadata": {},
     "output_type": "display_data"
    },
    {
     "data": {
      "text/plain": [
       "LLMResponse(message='3 + 4 equals 7.', tool_id='', function_call=None, usage=None, cached=False)"
      ]
     },
     "execution_count": 2,
     "metadata": {},
     "output_type": "execute_result"
    }
   ],
   "source": [
    "import langroid as lr\n",
    "import langroid.language_models as lm\n",
    "\n",
    "llm_cfg = lm.OpenAIGPTConfig() # default GPT4-Turbo\n",
    "mdl = lm.OpenAIGPT(llm_cfg)\n",
    "mdl.chat(\"What is 3+4?\", max_tokens=10)"
   ]
  },
  {
   "cell_type": "code",
   "execution_count": 3,
   "id": "48ccabef-3289-4439-bb57-67ba499cf782",
   "metadata": {},
   "outputs": [
    {
     "name": "stderr",
     "output_type": "stream",
     "text": [
      "\u001b[33m2024-05-17 12:35:58 - WARNING - REDIS_PASSWORD, REDIS_HOST, REDIS_PORT not set in .env file,\n",
      "                    using fake redis client\u001b[0m\n"
     ]
    },
    {
     "data": {
      "text/html": [
       "<pre style=\"white-space:pre;overflow-x:auto;line-height:normal;font-family:Menlo,'DejaVu Sans Mono',consolas,'Courier New',monospace\"></pre>\n"
      ],
      "text/plain": []
     },
     "metadata": {},
     "output_type": "display_data"
    },
    {
     "name": "stdout",
     "output_type": "stream",
     "text": [
      "\u001b[32m\u001b[32mThe\u001b[32m capital\u001b[32m of\u001b[32m China\u001b[32m is\u001b[32m Beijing\u001b[32m."
     ]
    },
    {
     "data": {
      "text/html": [
       "<pre style=\"white-space:pre;overflow-x:auto;line-height:normal;font-family:Menlo,'DejaVu Sans Mono',consolas,'Courier New',monospace\">\n",
       "</pre>\n"
      ],
      "text/plain": [
       "\n"
      ]
     },
     "metadata": {},
     "output_type": "display_data"
    },
    {
     "data": {
      "text/html": [
       "<pre style=\"white-space:pre;overflow-x:auto;line-height:normal;font-family:Menlo,'DejaVu Sans Mono',consolas,'Courier New',monospace\"><span style=\"font-weight: bold\">Stats:</span> <span style=\"color: #800080; text-decoration-color: #800080\">N_MSG</span><span style=\"color: #800080; text-decoration-color: #800080\">=</span><span style=\"color: #800080; text-decoration-color: #800080; font-weight: bold\">2</span><span style=\"color: #800080; text-decoration-color: #800080\">, TOKENS: </span><span style=\"color: #800080; text-decoration-color: #800080\">in</span><span style=\"color: #800080; text-decoration-color: #800080\">=</span><span style=\"color: #800080; text-decoration-color: #800080; font-weight: bold\">13</span><span style=\"color: #800080; text-decoration-color: #800080\">, </span><span style=\"color: #800080; text-decoration-color: #800080\">out</span><span style=\"color: #800080; text-decoration-color: #800080\">=</span><span style=\"color: #800080; text-decoration-color: #800080; font-weight: bold\">7</span><span style=\"color: #800080; text-decoration-color: #800080\">, </span><span style=\"color: #800080; text-decoration-color: #800080\">max</span><span style=\"color: #800080; text-decoration-color: #800080\">=</span><span style=\"color: #800080; text-decoration-color: #800080; font-weight: bold\">1024</span><span style=\"color: #800080; text-decoration-color: #800080\">, </span><span style=\"color: #800080; text-decoration-color: #800080\">ctx</span><span style=\"color: #800080; text-decoration-color: #800080\">=</span><span style=\"color: #800080; text-decoration-color: #800080; font-weight: bold\">128000</span><span style=\"color: #800080; text-decoration-color: #800080\">, COST: </span><span style=\"color: #800080; text-decoration-color: #800080\">now</span><span style=\"color: #800080; text-decoration-color: #800080\">=$</span><span style=\"color: #800080; text-decoration-color: #800080; font-weight: bold\">0.0002</span><span style=\"color: #800080; text-decoration-color: #800080\">, </span><span style=\"color: #800080; text-decoration-color: #800080\">cumul</span><span style=\"color: #800080; text-decoration-color: #800080\">=$</span><span style=\"color: #800080; text-decoration-color: #800080; font-weight: bold\">0.0002</span><span style=\"color: #800080; text-decoration-color: #800080\">, </span><span style=\"color: #800080; text-decoration-color: #800080\">tot</span><span style=\"color: #800080; text-decoration-color: #800080\">=$</span><span style=\"color: #800080; text-decoration-color: #800080; font-weight: bold\">0.0002</span><span style=\"color: #800080; text-decoration-color: #800080\"> </span><span style=\"color: #800080; text-decoration-color: #800080; font-weight: bold\">(gpt-4o)</span>\n",
       "</pre>\n"
      ],
      "text/plain": [
       "\u001b[1mStats:\u001b[0m \u001b[35mN_MSG\u001b[0m\u001b[35m=\u001b[0m\u001b[1;35m2\u001b[0m\u001b[35m, TOKENS: \u001b[0m\u001b[35min\u001b[0m\u001b[35m=\u001b[0m\u001b[1;35m13\u001b[0m\u001b[35m, \u001b[0m\u001b[35mout\u001b[0m\u001b[35m=\u001b[0m\u001b[1;35m7\u001b[0m\u001b[35m, \u001b[0m\u001b[35mmax\u001b[0m\u001b[35m=\u001b[0m\u001b[1;35m1024\u001b[0m\u001b[35m, \u001b[0m\u001b[35mctx\u001b[0m\u001b[35m=\u001b[0m\u001b[1;35m128000\u001b[0m\u001b[35m, COST: \u001b[0m\u001b[35mnow\u001b[0m\u001b[35m=$\u001b[0m\u001b[1;35m0.0002\u001b[0m\u001b[35m, \u001b[0m\u001b[35mcumul\u001b[0m\u001b[35m=$\u001b[0m\u001b[1;35m0.0002\u001b[0m\u001b[35m, \u001b[0m\u001b[35mtot\u001b[0m\u001b[35m=$\u001b[0m\u001b[1;35m0.0002\u001b[0m\u001b[35m \u001b[0m\u001b[1;35m(\u001b[0m\u001b[1;35mgpt-4o\u001b[0m\u001b[1;35m)\u001b[0m\n"
      ]
     },
     "metadata": {},
     "output_type": "display_data"
    },
    {
     "data": {
      "text/html": [
       "<pre style=\"white-space:pre;overflow-x:auto;line-height:normal;font-family:Menlo,'DejaVu Sans Mono',consolas,'Courier New',monospace\"></pre>\n"
      ],
      "text/plain": []
     },
     "metadata": {},
     "output_type": "display_data"
    },
    {
     "name": "stdout",
     "output_type": "stream",
     "text": [
      "\u001b[32m\u001b[32mThe\u001b[32m capital\u001b[32m of\u001b[32m France\u001b[32m is\u001b[32m Paris\u001b[32m."
     ]
    },
    {
     "data": {
      "text/html": [
       "<pre style=\"white-space:pre;overflow-x:auto;line-height:normal;font-family:Menlo,'DejaVu Sans Mono',consolas,'Courier New',monospace\">\n",
       "</pre>\n"
      ],
      "text/plain": [
       "\n"
      ]
     },
     "metadata": {},
     "output_type": "display_data"
    },
    {
     "data": {
      "text/html": [
       "<pre style=\"white-space:pre;overflow-x:auto;line-height:normal;font-family:Menlo,'DejaVu Sans Mono',consolas,'Courier New',monospace\"><span style=\"font-weight: bold\">Stats:</span> <span style=\"color: #800080; text-decoration-color: #800080\">N_MSG</span><span style=\"color: #800080; text-decoration-color: #800080\">=</span><span style=\"color: #800080; text-decoration-color: #800080; font-weight: bold\">4</span><span style=\"color: #800080; text-decoration-color: #800080\">, TOKENS: </span><span style=\"color: #800080; text-decoration-color: #800080\">in</span><span style=\"color: #800080; text-decoration-color: #800080\">=</span><span style=\"color: #800080; text-decoration-color: #800080; font-weight: bold\">24</span><span style=\"color: #800080; text-decoration-color: #800080\">, </span><span style=\"color: #800080; text-decoration-color: #800080\">out</span><span style=\"color: #800080; text-decoration-color: #800080\">=</span><span style=\"color: #800080; text-decoration-color: #800080; font-weight: bold\">7</span><span style=\"color: #800080; text-decoration-color: #800080\">, </span><span style=\"color: #800080; text-decoration-color: #800080\">max</span><span style=\"color: #800080; text-decoration-color: #800080\">=</span><span style=\"color: #800080; text-decoration-color: #800080; font-weight: bold\">1024</span><span style=\"color: #800080; text-decoration-color: #800080\">, </span><span style=\"color: #800080; text-decoration-color: #800080\">ctx</span><span style=\"color: #800080; text-decoration-color: #800080\">=</span><span style=\"color: #800080; text-decoration-color: #800080; font-weight: bold\">128000</span><span style=\"color: #800080; text-decoration-color: #800080\">, COST: </span><span style=\"color: #800080; text-decoration-color: #800080\">now</span><span style=\"color: #800080; text-decoration-color: #800080\">=$</span><span style=\"color: #800080; text-decoration-color: #800080; font-weight: bold\">0.0002</span><span style=\"color: #800080; text-decoration-color: #800080\">, </span><span style=\"color: #800080; text-decoration-color: #800080\">cumul</span><span style=\"color: #800080; text-decoration-color: #800080\">=$</span><span style=\"color: #800080; text-decoration-color: #800080; font-weight: bold\">0.0004</span><span style=\"color: #800080; text-decoration-color: #800080\">, </span><span style=\"color: #800080; text-decoration-color: #800080\">tot</span><span style=\"color: #800080; text-decoration-color: #800080\">=$</span><span style=\"color: #800080; text-decoration-color: #800080; font-weight: bold\">0.0004</span><span style=\"color: #800080; text-decoration-color: #800080\"> </span><span style=\"color: #800080; text-decoration-color: #800080; font-weight: bold\">(gpt-4o)</span>\n",
       "</pre>\n"
      ],
      "text/plain": [
       "\u001b[1mStats:\u001b[0m \u001b[35mN_MSG\u001b[0m\u001b[35m=\u001b[0m\u001b[1;35m4\u001b[0m\u001b[35m, TOKENS: \u001b[0m\u001b[35min\u001b[0m\u001b[35m=\u001b[0m\u001b[1;35m24\u001b[0m\u001b[35m, \u001b[0m\u001b[35mout\u001b[0m\u001b[35m=\u001b[0m\u001b[1;35m7\u001b[0m\u001b[35m, \u001b[0m\u001b[35mmax\u001b[0m\u001b[35m=\u001b[0m\u001b[1;35m1024\u001b[0m\u001b[35m, \u001b[0m\u001b[35mctx\u001b[0m\u001b[35m=\u001b[0m\u001b[1;35m128000\u001b[0m\u001b[35m, COST: \u001b[0m\u001b[35mnow\u001b[0m\u001b[35m=$\u001b[0m\u001b[1;35m0.0002\u001b[0m\u001b[35m, \u001b[0m\u001b[35mcumul\u001b[0m\u001b[35m=$\u001b[0m\u001b[1;35m0.0004\u001b[0m\u001b[35m, \u001b[0m\u001b[35mtot\u001b[0m\u001b[35m=$\u001b[0m\u001b[1;35m0.0004\u001b[0m\u001b[35m \u001b[0m\u001b[1;35m(\u001b[0m\u001b[1;35mgpt-4o\u001b[0m\u001b[1;35m)\u001b[0m\n"
      ]
     },
     "metadata": {},
     "output_type": "display_data"
    },
    {
     "data": {
      "text/plain": [
       "ChatDocument(content='The capital of France is Paris.', metadata=ChatDocMetaData(source='LLM', is_chunk=False, id='', window_ids=[], parent=None, sender=<Entity.LLM: 'LLM'>, tool_ids=[], parent_responder=None, block=None, sender_name='', recipient='', usage=LLMTokenUsage(prompt_tokens=24, completion_tokens=7, cost=0.00022499999999999997, calls=0), cached=False, displayed=True, status=None), function_call=None, tool_messages=[], attachment=None)"
      ]
     },
     "execution_count": 3,
     "metadata": {},
     "output_type": "execute_result"
    }
   ],
   "source": [
    "agent_cfg = lr.ChatAgentConfig(llm=llm_cfg)\n",
    "agent = lr.ChatAgent(agent_cfg)\n",
    "agent.llm_response(\"What is the capital of China?\")\n",
    "agent.llm_response(\"What about France?\") # interprets based on previous msg"
   ]
  },
  {
   "cell_type": "code",
   "execution_count": 4,
   "id": "09872a4a-c77f-4495-b3e8-506d03448ef6",
   "metadata": {},
   "outputs": [
    {
     "data": {
      "text/html": [
       "<pre style=\"white-space:pre;overflow-x:auto;line-height:normal;font-family:Menlo,'DejaVu Sans Mono',consolas,'Courier New',monospace\"> <span style=\"font-weight: bold\">(</span>Bot<span style=\"font-weight: bold\">)</span> <span style=\"color: #800000; text-decoration-color: #800000\"> User </span> <span style=\"color: #000080; text-decoration-color: #000080; font-weight: bold\">Entity.USER</span><span style=\"font-weight: bold\">(</span>          <span style=\"font-weight: bold\">)</span> <span style=\"font-weight: bold\">(</span>=&gt;          <span style=\"font-weight: bold\">)</span> <span style=\"font-weight: bold\">(</span>X           <span style=\"font-weight: bold\">)</span>       <span style=\"font-weight: bold\">(</span>          <span style=\"font-weight: bold\">)</span> <span style=\"color: #000080; text-decoration-color: #000080\">Hello</span>\n",
       "</pre>\n"
      ],
      "text/plain": [
       " \u001b[1m(\u001b[0mBot\u001b[1m)\u001b[0m \u001b[31m User \u001b[0m \u001b[1;34mEntity.USER\u001b[0m\u001b[1m(\u001b[0m          \u001b[1m)\u001b[0m \u001b[1m(\u001b[0m=>          \u001b[1m)\u001b[0m \u001b[1m(\u001b[0mX           \u001b[1m)\u001b[0m       \u001b[1m(\u001b[0m          \u001b[1m)\u001b[0m \u001b[34mHello\u001b[0m\n"
      ]
     },
     "metadata": {},
     "output_type": "display_data"
    },
    {
     "data": {
      "text/html": [
       "<pre style=\"white-space:pre;overflow-x:auto;line-height:normal;font-family:Menlo,'DejaVu Sans Mono',consolas,'Courier New',monospace\"><span style=\"color: #800080; text-decoration-color: #800080; font-weight: bold\">&gt;&gt;&gt; Starting Agent Bot (</span><span style=\"color: #800080; text-decoration-color: #800080; font-weight: bold\">1</span><span style=\"color: #800080; text-decoration-color: #800080; font-weight: bold\">) gpt-4o </span>\n",
       "</pre>\n"
      ],
      "text/plain": [
       "\u001b[1;35m>>> Starting Agent Bot \u001b[0m\u001b[1;35m(\u001b[0m\u001b[1;35m1\u001b[0m\u001b[1;35m)\u001b[0m\u001b[1;35m gpt-4o \u001b[0m\n"
      ]
     },
     "metadata": {},
     "output_type": "display_data"
    },
    {
     "data": {
      "text/html": [
       "<pre style=\"white-space:pre;overflow-x:auto;line-height:normal;font-family:Menlo,'DejaVu Sans Mono',consolas,'Courier New',monospace\"> <span style=\"font-weight: bold\">(</span>Bot<span style=\"font-weight: bold\">)</span> <span style=\"color: #800000; text-decoration-color: #800000\"> User </span> <span style=\"color: #000080; text-decoration-color: #000080; font-weight: bold\">Entity.USER</span><span style=\"font-weight: bold\">(</span>Entity.USER<span style=\"font-weight: bold\">)</span> <span style=\"font-weight: bold\">(</span>=&gt;          <span style=\"font-weight: bold\">)</span> <span style=\"font-weight: bold\">(</span>X           <span style=\"font-weight: bold\">)</span>       <span style=\"font-weight: bold\">(</span>          <span style=\"font-weight: bold\">)</span> <span style=\"color: #000080; text-decoration-color: #000080; font-weight: bold\">[</span><span style=\"color: #000080; text-decoration-color: #000080\">CANNOT RESPOND</span><span style=\"color: #000080; text-decoration-color: #000080; font-weight: bold\">]</span>\n",
       "</pre>\n"
      ],
      "text/plain": [
       " \u001b[1m(\u001b[0mBot\u001b[1m)\u001b[0m \u001b[31m User \u001b[0m \u001b[1;34mEntity.USER\u001b[0m\u001b[1m(\u001b[0mEntity.USER\u001b[1m)\u001b[0m \u001b[1m(\u001b[0m=>          \u001b[1m)\u001b[0m \u001b[1m(\u001b[0mX           \u001b[1m)\u001b[0m       \u001b[1m(\u001b[0m          \u001b[1m)\u001b[0m \u001b[1;34m[\u001b[0m\u001b[34mCANNOT RESPOND\u001b[0m\u001b[1;34m]\u001b[0m\n"
      ]
     },
     "metadata": {},
     "output_type": "display_data"
    },
    {
     "data": {
      "text/html": [
       "<pre style=\"white-space:pre;overflow-x:auto;line-height:normal;font-family:Menlo,'DejaVu Sans Mono',consolas,'Courier New',monospace\"> <span style=\"font-weight: bold\">(</span>Bot<span style=\"font-weight: bold\">)</span> <span style=\"color: #800000; text-decoration-color: #800000\"> Agent </span>\n",
       "</pre>\n"
      ],
      "text/plain": [
       " \u001b[1m(\u001b[0mBot\u001b[1m)\u001b[0m \u001b[31m Agent \u001b[0m\n"
      ]
     },
     "metadata": {},
     "output_type": "display_data"
    },
    {
     "data": {
      "text/html": [
       "<pre style=\"white-space:pre;overflow-x:auto;line-height:normal;font-family:Menlo,'DejaVu Sans Mono',consolas,'Courier New',monospace\"></pre>\n"
      ],
      "text/plain": []
     },
     "metadata": {},
     "output_type": "display_data"
    },
    {
     "name": "stdout",
     "output_type": "stream",
     "text": [
      "\u001b[32m\u001b[32mHi\u001b[32m there\u001b[32m!\u001b[32m How\u001b[32m can\u001b[32m I\u001b[32m assist\u001b[32m you\u001b[32m today\u001b[32m?"
     ]
    },
    {
     "data": {
      "text/html": [
       "<pre style=\"white-space:pre;overflow-x:auto;line-height:normal;font-family:Menlo,'DejaVu Sans Mono',consolas,'Courier New',monospace\">\n",
       "</pre>\n"
      ],
      "text/plain": [
       "\n"
      ]
     },
     "metadata": {},
     "output_type": "display_data"
    },
    {
     "data": {
      "text/html": [
       "<pre style=\"white-space:pre;overflow-x:auto;line-height:normal;font-family:Menlo,'DejaVu Sans Mono',consolas,'Courier New',monospace\"><span style=\"font-weight: bold\">Stats:</span> <span style=\"color: #800080; text-decoration-color: #800080\">N_MSG</span><span style=\"color: #800080; text-decoration-color: #800080\">=</span><span style=\"color: #800080; text-decoration-color: #800080; font-weight: bold\">2</span><span style=\"color: #800080; text-decoration-color: #800080\">, TOKENS: </span><span style=\"color: #800080; text-decoration-color: #800080\">in</span><span style=\"color: #800080; text-decoration-color: #800080\">=</span><span style=\"color: #800080; text-decoration-color: #800080; font-weight: bold\">7</span><span style=\"color: #800080; text-decoration-color: #800080\">, </span><span style=\"color: #800080; text-decoration-color: #800080\">out</span><span style=\"color: #800080; text-decoration-color: #800080\">=</span><span style=\"color: #800080; text-decoration-color: #800080; font-weight: bold\">10</span><span style=\"color: #800080; text-decoration-color: #800080\">, </span><span style=\"color: #800080; text-decoration-color: #800080\">max</span><span style=\"color: #800080; text-decoration-color: #800080\">=</span><span style=\"color: #800080; text-decoration-color: #800080; font-weight: bold\">1024</span><span style=\"color: #800080; text-decoration-color: #800080\">, </span><span style=\"color: #800080; text-decoration-color: #800080\">ctx</span><span style=\"color: #800080; text-decoration-color: #800080\">=</span><span style=\"color: #800080; text-decoration-color: #800080; font-weight: bold\">128000</span><span style=\"color: #800080; text-decoration-color: #800080\">, COST: </span><span style=\"color: #800080; text-decoration-color: #800080\">now</span><span style=\"color: #800080; text-decoration-color: #800080\">=$</span><span style=\"color: #800080; text-decoration-color: #800080; font-weight: bold\">0.0002</span><span style=\"color: #800080; text-decoration-color: #800080\">, </span><span style=\"color: #800080; text-decoration-color: #800080\">cumul</span><span style=\"color: #800080; text-decoration-color: #800080\">=$</span><span style=\"color: #800080; text-decoration-color: #800080; font-weight: bold\">0.0006</span><span style=\"color: #800080; text-decoration-color: #800080\">, </span><span style=\"color: #800080; text-decoration-color: #800080\">tot</span><span style=\"color: #800080; text-decoration-color: #800080\">=$</span><span style=\"color: #800080; text-decoration-color: #800080; font-weight: bold\">0.0006</span><span style=\"color: #800080; text-decoration-color: #800080\"> </span><span style=\"color: #800080; text-decoration-color: #800080; font-weight: bold\">(gpt-4o)</span>\n",
       "</pre>\n"
      ],
      "text/plain": [
       "\u001b[1mStats:\u001b[0m \u001b[35mN_MSG\u001b[0m\u001b[35m=\u001b[0m\u001b[1;35m2\u001b[0m\u001b[35m, TOKENS: \u001b[0m\u001b[35min\u001b[0m\u001b[35m=\u001b[0m\u001b[1;35m7\u001b[0m\u001b[35m, \u001b[0m\u001b[35mout\u001b[0m\u001b[35m=\u001b[0m\u001b[1;35m10\u001b[0m\u001b[35m, \u001b[0m\u001b[35mmax\u001b[0m\u001b[35m=\u001b[0m\u001b[1;35m1024\u001b[0m\u001b[35m, \u001b[0m\u001b[35mctx\u001b[0m\u001b[35m=\u001b[0m\u001b[1;35m128000\u001b[0m\u001b[35m, COST: \u001b[0m\u001b[35mnow\u001b[0m\u001b[35m=$\u001b[0m\u001b[1;35m0.0002\u001b[0m\u001b[35m, \u001b[0m\u001b[35mcumul\u001b[0m\u001b[35m=$\u001b[0m\u001b[1;35m0.0006\u001b[0m\u001b[35m, \u001b[0m\u001b[35mtot\u001b[0m\u001b[35m=$\u001b[0m\u001b[1;35m0.0006\u001b[0m\u001b[35m \u001b[0m\u001b[1;35m(\u001b[0m\u001b[1;35mgpt-4o\u001b[0m\u001b[1;35m)\u001b[0m\n"
      ]
     },
     "metadata": {},
     "output_type": "display_data"
    },
    {
     "data": {
      "text/html": [
       "<pre style=\"white-space:pre;overflow-x:auto;line-height:normal;font-family:Menlo,'DejaVu Sans Mono',consolas,'Courier New',monospace\">*<span style=\"font-weight: bold\">(</span>Bot<span style=\"font-weight: bold\">)</span> <span style=\"color: #c0c0c0; text-decoration-color: #c0c0c0\"> LLM </span> <span style=\"color: #008000; text-decoration-color: #008000; font-weight: bold\">Entity.LLM</span><span style=\"font-weight: bold\">(</span>          <span style=\"font-weight: bold\">)</span> <span style=\"font-weight: bold\">(</span>=&gt;          <span style=\"font-weight: bold\">)</span> <span style=\"font-weight: bold\">(</span>X           <span style=\"font-weight: bold\">)</span>       <span style=\"font-weight: bold\">(</span>          <span style=\"font-weight: bold\">)</span> <span style=\"color: #008000; text-decoration-color: #008000\">Hi there! How can I assist you today?</span>\n",
       "</pre>\n"
      ],
      "text/plain": [
       "*\u001b[1m(\u001b[0mBot\u001b[1m)\u001b[0m \u001b[37m LLM \u001b[0m \u001b[1;32mEntity.LLM\u001b[0m\u001b[1m(\u001b[0m          \u001b[1m)\u001b[0m \u001b[1m(\u001b[0m=>          \u001b[1m)\u001b[0m \u001b[1m(\u001b[0mX           \u001b[1m)\u001b[0m       \u001b[1m(\u001b[0m          \u001b[1m)\u001b[0m \u001b[32mHi there! How can I assist you today?\u001b[0m\n"
      ]
     },
     "metadata": {},
     "output_type": "display_data"
    },
    {
     "data": {
      "text/html": [
       "<pre style=\"white-space:pre;overflow-x:auto;line-height:normal;font-family:Menlo,'DejaVu Sans Mono',consolas,'Courier New',monospace\"><span style=\"color: #000080; text-decoration-color: #000080\">Human (respond or q, x to exit current level, or hit enter to continue)</span>\n",
       ": </pre>\n"
      ],
      "text/plain": [
       "\u001b[34mHuman (respond or q, x to exit current level, or hit enter to continue)\u001b[0m\n",
       ": "
      ]
     },
     "metadata": {},
     "output_type": "display_data"
    },
    {
     "name": "stdin",
     "output_type": "stream",
     "text": [
      " q\n"
     ]
    },
    {
     "data": {
      "text/html": [
       "<pre style=\"white-space:pre;overflow-x:auto;line-height:normal;font-family:Menlo,'DejaVu Sans Mono',consolas,'Courier New',monospace\">*<span style=\"font-weight: bold\">(</span>Bot<span style=\"font-weight: bold\">)</span> <span style=\"color: #c0c0c0; text-decoration-color: #c0c0c0\"> User </span> <span style=\"color: #000080; text-decoration-color: #000080; font-weight: bold\">Entity.USER</span><span style=\"font-weight: bold\">(</span>          <span style=\"font-weight: bold\">)</span> <span style=\"font-weight: bold\">(</span>=&gt;          <span style=\"font-weight: bold\">)</span> <span style=\"font-weight: bold\">(</span>X           <span style=\"font-weight: bold\">)</span>       <span style=\"font-weight: bold\">(</span>          <span style=\"font-weight: bold\">)</span> <span style=\"color: #000080; text-decoration-color: #000080\">q</span>\n",
       "</pre>\n"
      ],
      "text/plain": [
       "*\u001b[1m(\u001b[0mBot\u001b[1m)\u001b[0m \u001b[37m User \u001b[0m \u001b[1;34mEntity.USER\u001b[0m\u001b[1m(\u001b[0m          \u001b[1m)\u001b[0m \u001b[1m(\u001b[0m=>          \u001b[1m)\u001b[0m \u001b[1m(\u001b[0mX           \u001b[1m)\u001b[0m       \u001b[1m(\u001b[0m          \u001b[1m)\u001b[0m \u001b[34mq\u001b[0m\n"
      ]
     },
     "metadata": {},
     "output_type": "display_data"
    },
    {
     "data": {
      "text/html": [
       "<pre style=\"white-space:pre;overflow-x:auto;line-height:normal;font-family:Menlo,'DejaVu Sans Mono',consolas,'Courier New',monospace\"><span style=\"color: #800080; text-decoration-color: #800080\">Bye, hope this was useful!</span>\n",
       "</pre>\n"
      ],
      "text/plain": [
       "\u001b[35mBye, hope this was useful!\u001b[0m\n"
      ]
     },
     "metadata": {},
     "output_type": "display_data"
    },
    {
     "data": {
      "text/html": [
       "<pre style=\"white-space:pre;overflow-x:auto;line-height:normal;font-family:Menlo,'DejaVu Sans Mono',consolas,'Courier New',monospace\"><span style=\"color: #800080; text-decoration-color: #800080; font-weight: bold\">&lt;&lt;&lt; Finished Agent Bot (</span><span style=\"color: #800080; text-decoration-color: #800080; font-weight: bold\">3</span><span style=\"color: #800080; text-decoration-color: #800080; font-weight: bold\">) </span>\n",
       "</pre>\n"
      ],
      "text/plain": [
       "\u001b[1;35m<<< Finished Agent Bot \u001b[0m\u001b[1;35m(\u001b[0m\u001b[1;35m3\u001b[0m\u001b[1;35m)\u001b[0m\u001b[1;35m \u001b[0m\n"
      ]
     },
     "metadata": {},
     "output_type": "display_data"
    },
    {
     "data": {
      "text/plain": [
       "ChatDocument(content='q', metadata=ChatDocMetaData(source='User', is_chunk=False, id='', window_ids=[], parent=None, sender=<Entity.USER: 'User'>, tool_ids=[], parent_responder=None, block=None, sender_name='Bot', recipient='', usage=None, cached=False, displayed=False, status=<StatusCode.USER_QUIT: 'USER_QUIT'>), function_call=None, tool_messages=[], attachment=None)"
      ]
     },
     "execution_count": 4,
     "metadata": {},
     "output_type": "execute_result"
    }
   ],
   "source": [
    "task = lr.Task(agent, name=\"Bot\")\n",
    "task.run(\"Hello\")"
   ]
  },
  {
   "cell_type": "code",
   "execution_count": 14,
   "id": "033fee42-dd8b-48d2-b15f-aaeff4cf2a7d",
   "metadata": {},
   "outputs": [
    {
     "name": "stderr",
     "output_type": "stream",
     "text": [
      "\u001b[33m2024-05-17 12:49:11 - WARNING - REDIS_PASSWORD, REDIS_HOST, REDIS_PORT not set in .env file,\n",
      "                    using fake redis client\u001b[0m\n",
      "\u001b[33m2024-05-17 12:49:11 - WARNING - REDIS_PASSWORD, REDIS_HOST, REDIS_PORT not set in .env file,\n",
      "                    using fake redis client\u001b[0m\n"
     ]
    },
    {
     "data": {
      "text/html": [
       "<pre style=\"white-space:pre;overflow-x:auto;line-height:normal;font-family:Menlo,'DejaVu Sans Mono',consolas,'Courier New',monospace\"> <span style=\"font-weight: bold\">(</span>Teacher<span style=\"font-weight: bold\">)</span> <span style=\"color: #800000; text-decoration-color: #800000\"> User </span>\n",
       "</pre>\n"
      ],
      "text/plain": [
       " \u001b[1m(\u001b[0mTeacher\u001b[1m)\u001b[0m \u001b[31m User \u001b[0m\n"
      ]
     },
     "metadata": {},
     "output_type": "display_data"
    },
    {
     "data": {
      "text/html": [
       "<pre style=\"white-space:pre;overflow-x:auto;line-height:normal;font-family:Menlo,'DejaVu Sans Mono',consolas,'Courier New',monospace\"><span style=\"color: #800080; text-decoration-color: #800080; font-weight: bold\">&gt;&gt;&gt; Starting Agent Teacher (</span><span style=\"color: #800080; text-decoration-color: #800080; font-weight: bold\">1</span><span style=\"color: #800080; text-decoration-color: #800080; font-weight: bold\">) gpt-4o </span>\n",
       "</pre>\n"
      ],
      "text/plain": [
       "\u001b[1;35m>>> Starting Agent Teacher \u001b[0m\u001b[1;35m(\u001b[0m\u001b[1;35m1\u001b[0m\u001b[1;35m)\u001b[0m\u001b[1;35m gpt-4o \u001b[0m\n"
      ]
     },
     "metadata": {},
     "output_type": "display_data"
    },
    {
     "data": {
      "text/html": [
       "<pre style=\"white-space:pre;overflow-x:auto;line-height:normal;font-family:Menlo,'DejaVu Sans Mono',consolas,'Courier New',monospace\"> <span style=\"font-weight: bold\">(</span>Teacher<span style=\"font-weight: bold\">)</span> <span style=\"color: #800000; text-decoration-color: #800000\"> User </span> <span style=\"color: #000080; text-decoration-color: #000080; font-weight: bold\">Entity.USER</span><span style=\"font-weight: bold\">(</span>Entity.USER<span style=\"font-weight: bold\">)</span> <span style=\"font-weight: bold\">(</span>=&gt;          <span style=\"font-weight: bold\">)</span> <span style=\"font-weight: bold\">(</span>X           <span style=\"font-weight: bold\">)</span>       <span style=\"font-weight: bold\">(</span>          <span style=\"font-weight: bold\">)</span> <span style=\"color: #000080; text-decoration-color: #000080; font-weight: bold\">[</span><span style=\"color: #000080; text-decoration-color: #000080\">CANNOT RESPOND</span><span style=\"color: #000080; text-decoration-color: #000080; font-weight: bold\">]</span>\n",
       "</pre>\n"
      ],
      "text/plain": [
       " \u001b[1m(\u001b[0mTeacher\u001b[1m)\u001b[0m \u001b[31m User \u001b[0m \u001b[1;34mEntity.USER\u001b[0m\u001b[1m(\u001b[0mEntity.USER\u001b[1m)\u001b[0m \u001b[1m(\u001b[0m=>          \u001b[1m)\u001b[0m \u001b[1m(\u001b[0mX           \u001b[1m)\u001b[0m       \u001b[1m(\u001b[0m          \u001b[1m)\u001b[0m \u001b[1;34m[\u001b[0m\u001b[34mCANNOT RESPOND\u001b[0m\u001b[1;34m]\u001b[0m\n"
      ]
     },
     "metadata": {},
     "output_type": "display_data"
    },
    {
     "data": {
      "text/html": [
       "<pre style=\"white-space:pre;overflow-x:auto;line-height:normal;font-family:Menlo,'DejaVu Sans Mono',consolas,'Courier New',monospace\"> <span style=\"font-weight: bold\">(</span>Teacher<span style=\"font-weight: bold\">)</span> <span style=\"color: #800000; text-decoration-color: #800000\"> Agent </span>\n",
       "</pre>\n"
      ],
      "text/plain": [
       " \u001b[1m(\u001b[0mTeacher\u001b[1m)\u001b[0m \u001b[31m Agent \u001b[0m\n"
      ]
     },
     "metadata": {},
     "output_type": "display_data"
    },
    {
     "data": {
      "text/html": [
       "<pre style=\"white-space:pre;overflow-x:auto;line-height:normal;font-family:Menlo,'DejaVu Sans Mono',consolas,'Courier New',monospace\"></pre>\n"
      ],
      "text/plain": []
     },
     "metadata": {},
     "output_type": "display_data"
    },
    {
     "name": "stdout",
     "output_type": "stream",
     "text": [
      "\u001b[32m\u001b[32mWhat\u001b[32m is\u001b[32m \u001b[32m7\u001b[32m multiplied\u001b[32m by\u001b[32m \u001b[32m8\u001b[32m?"
     ]
    },
    {
     "data": {
      "text/html": [
       "<pre style=\"white-space:pre;overflow-x:auto;line-height:normal;font-family:Menlo,'DejaVu Sans Mono',consolas,'Courier New',monospace\">\n",
       "</pre>\n"
      ],
      "text/plain": [
       "\n"
      ]
     },
     "metadata": {},
     "output_type": "display_data"
    },
    {
     "data": {
      "text/html": [
       "<pre style=\"white-space:pre;overflow-x:auto;line-height:normal;font-family:Menlo,'DejaVu Sans Mono',consolas,'Courier New',monospace\"><span style=\"font-weight: bold\">Stats:</span> <span style=\"color: #800080; text-decoration-color: #800080\">N_MSG</span><span style=\"color: #800080; text-decoration-color: #800080\">=</span><span style=\"color: #800080; text-decoration-color: #800080; font-weight: bold\">1</span><span style=\"color: #800080; text-decoration-color: #800080\">, TOKENS: </span><span style=\"color: #800080; text-decoration-color: #800080\">in</span><span style=\"color: #800080; text-decoration-color: #800080\">=</span><span style=\"color: #800080; text-decoration-color: #800080; font-weight: bold\">18</span><span style=\"color: #800080; text-decoration-color: #800080\">, </span><span style=\"color: #800080; text-decoration-color: #800080\">out</span><span style=\"color: #800080; text-decoration-color: #800080\">=</span><span style=\"color: #800080; text-decoration-color: #800080; font-weight: bold\">9</span><span style=\"color: #800080; text-decoration-color: #800080\">, </span><span style=\"color: #800080; text-decoration-color: #800080\">max</span><span style=\"color: #800080; text-decoration-color: #800080\">=</span><span style=\"color: #800080; text-decoration-color: #800080; font-weight: bold\">1024</span><span style=\"color: #800080; text-decoration-color: #800080\">, </span><span style=\"color: #800080; text-decoration-color: #800080\">ctx</span><span style=\"color: #800080; text-decoration-color: #800080\">=</span><span style=\"color: #800080; text-decoration-color: #800080; font-weight: bold\">128000</span><span style=\"color: #800080; text-decoration-color: #800080\">, COST: </span><span style=\"color: #800080; text-decoration-color: #800080\">now</span><span style=\"color: #800080; text-decoration-color: #800080\">=$</span><span style=\"color: #800080; text-decoration-color: #800080; font-weight: bold\">0.0002</span><span style=\"color: #800080; text-decoration-color: #800080\">, </span><span style=\"color: #800080; text-decoration-color: #800080\">cumul</span><span style=\"color: #800080; text-decoration-color: #800080\">=$</span><span style=\"color: #800080; text-decoration-color: #800080; font-weight: bold\">0.0002</span><span style=\"color: #800080; text-decoration-color: #800080\">, </span><span style=\"color: #800080; text-decoration-color: #800080\">tot</span><span style=\"color: #800080; text-decoration-color: #800080\">=$</span><span style=\"color: #800080; text-decoration-color: #800080; font-weight: bold\">0.0046</span><span style=\"color: #800080; text-decoration-color: #800080\"> </span><span style=\"color: #800080; text-decoration-color: #800080; font-weight: bold\">(gpt-4o)</span>\n",
       "</pre>\n"
      ],
      "text/plain": [
       "\u001b[1mStats:\u001b[0m \u001b[35mN_MSG\u001b[0m\u001b[35m=\u001b[0m\u001b[1;35m1\u001b[0m\u001b[35m, TOKENS: \u001b[0m\u001b[35min\u001b[0m\u001b[35m=\u001b[0m\u001b[1;35m18\u001b[0m\u001b[35m, \u001b[0m\u001b[35mout\u001b[0m\u001b[35m=\u001b[0m\u001b[1;35m9\u001b[0m\u001b[35m, \u001b[0m\u001b[35mmax\u001b[0m\u001b[35m=\u001b[0m\u001b[1;35m1024\u001b[0m\u001b[35m, \u001b[0m\u001b[35mctx\u001b[0m\u001b[35m=\u001b[0m\u001b[1;35m128000\u001b[0m\u001b[35m, COST: \u001b[0m\u001b[35mnow\u001b[0m\u001b[35m=$\u001b[0m\u001b[1;35m0.0002\u001b[0m\u001b[35m, \u001b[0m\u001b[35mcumul\u001b[0m\u001b[35m=$\u001b[0m\u001b[1;35m0.0002\u001b[0m\u001b[35m, \u001b[0m\u001b[35mtot\u001b[0m\u001b[35m=$\u001b[0m\u001b[1;35m0.0046\u001b[0m\u001b[35m \u001b[0m\u001b[1;35m(\u001b[0m\u001b[1;35mgpt-4o\u001b[0m\u001b[1;35m)\u001b[0m\n"
      ]
     },
     "metadata": {},
     "output_type": "display_data"
    },
    {
     "data": {
      "text/html": [
       "<pre style=\"white-space:pre;overflow-x:auto;line-height:normal;font-family:Menlo,'DejaVu Sans Mono',consolas,'Courier New',monospace\">*<span style=\"font-weight: bold\">(</span>Teacher<span style=\"font-weight: bold\">)</span> <span style=\"color: #c0c0c0; text-decoration-color: #c0c0c0\"> LLM </span> <span style=\"color: #008000; text-decoration-color: #008000; font-weight: bold\">Entity.LLM</span><span style=\"font-weight: bold\">(</span>          <span style=\"font-weight: bold\">)</span> <span style=\"font-weight: bold\">(</span>=&gt;          <span style=\"font-weight: bold\">)</span> <span style=\"font-weight: bold\">(</span>X           <span style=\"font-weight: bold\">)</span>       <span style=\"font-weight: bold\">(</span>          <span style=\"font-weight: bold\">)</span> <span style=\"color: #008000; text-decoration-color: #008000\">What is </span><span style=\"color: #008000; text-decoration-color: #008000; font-weight: bold\">7</span><span style=\"color: #008000; text-decoration-color: #008000\"> multiplied by </span><span style=\"color: #008000; text-decoration-color: #008000; font-weight: bold\">8</span><span style=\"color: #008000; text-decoration-color: #008000\">?</span>\n",
       "</pre>\n"
      ],
      "text/plain": [
       "*\u001b[1m(\u001b[0mTeacher\u001b[1m)\u001b[0m \u001b[37m LLM \u001b[0m \u001b[1;32mEntity.LLM\u001b[0m\u001b[1m(\u001b[0m          \u001b[1m)\u001b[0m \u001b[1m(\u001b[0m=>          \u001b[1m)\u001b[0m \u001b[1m(\u001b[0mX           \u001b[1m)\u001b[0m       \u001b[1m(\u001b[0m          \u001b[1m)\u001b[0m \u001b[32mWhat is \u001b[0m\u001b[1;32m7\u001b[0m\u001b[32m multiplied by \u001b[0m\u001b[1;32m8\u001b[0m\u001b[32m?\u001b[0m\n"
      ]
     },
     "metadata": {},
     "output_type": "display_data"
    },
    {
     "data": {
      "text/html": [
       "<pre style=\"white-space:pre;overflow-x:auto;line-height:normal;font-family:Menlo,'DejaVu Sans Mono',consolas,'Courier New',monospace\"><span style=\"color: #000080; text-decoration-color: #000080\">Human (respond or q, x to exit current level, or hit enter to continue)</span>\n",
       ": </pre>\n"
      ],
      "text/plain": [
       "\u001b[34mHuman (respond or q, x to exit current level, or hit enter to continue)\u001b[0m\n",
       ": "
      ]
     },
     "metadata": {},
     "output_type": "display_data"
    },
    {
     "name": "stdin",
     "output_type": "stream",
     "text": [
      " \n"
     ]
    },
    {
     "data": {
      "text/html": [
       "<pre style=\"white-space:pre;overflow-x:auto;line-height:normal;font-family:Menlo,'DejaVu Sans Mono',consolas,'Courier New',monospace\"> <span style=\"font-weight: bold\">(</span>Teacher<span style=\"font-weight: bold\">)</span> <span style=\"color: #800000; text-decoration-color: #800000\"> User </span>\n",
       "</pre>\n"
      ],
      "text/plain": [
       " \u001b[1m(\u001b[0mTeacher\u001b[1m)\u001b[0m \u001b[31m User \u001b[0m\n"
      ]
     },
     "metadata": {},
     "output_type": "display_data"
    },
    {
     "data": {
      "text/html": [
       "<pre style=\"white-space:pre;overflow-x:auto;line-height:normal;font-family:Menlo,'DejaVu Sans Mono',consolas,'Courier New',monospace\"> <span style=\"font-weight: bold\">(</span>Teacher<span style=\"font-weight: bold\">)</span> <span style=\"color: #800000; text-decoration-color: #800000\"> Agent </span>\n",
       "</pre>\n"
      ],
      "text/plain": [
       " \u001b[1m(\u001b[0mTeacher\u001b[1m)\u001b[0m \u001b[31m Agent \u001b[0m\n"
      ]
     },
     "metadata": {},
     "output_type": "display_data"
    },
    {
     "data": {
      "text/html": [
       "<pre style=\"white-space:pre;overflow-x:auto;line-height:normal;font-family:Menlo,'DejaVu Sans Mono',consolas,'Courier New',monospace\"> <span style=\"font-weight: bold\">(</span>Teacher<span style=\"font-weight: bold\">)</span> <span style=\"color: #800000; text-decoration-color: #800000\"> LLM </span> <span style=\"color: #008000; text-decoration-color: #008000; font-weight: bold\">Entity.LLM</span><span style=\"font-weight: bold\">(</span>Entity.LLM<span style=\"font-weight: bold\">)</span> <span style=\"font-weight: bold\">(</span>=&gt;          <span style=\"font-weight: bold\">)</span> <span style=\"font-weight: bold\">(</span>X           <span style=\"font-weight: bold\">)</span>       <span style=\"font-weight: bold\">(</span>          <span style=\"font-weight: bold\">)</span> <span style=\"color: #008000; text-decoration-color: #008000; font-weight: bold\">[</span><span style=\"color: #008000; text-decoration-color: #008000\">CANNOT RESPOND</span><span style=\"color: #008000; text-decoration-color: #008000; font-weight: bold\">]</span>\n",
       "</pre>\n"
      ],
      "text/plain": [
       " \u001b[1m(\u001b[0mTeacher\u001b[1m)\u001b[0m \u001b[31m LLM \u001b[0m \u001b[1;32mEntity.LLM\u001b[0m\u001b[1m(\u001b[0mEntity.LLM\u001b[1m)\u001b[0m \u001b[1m(\u001b[0m=>          \u001b[1m)\u001b[0m \u001b[1m(\u001b[0mX           \u001b[1m)\u001b[0m       \u001b[1m(\u001b[0m          \u001b[1m)\u001b[0m \u001b[1;32m[\u001b[0m\u001b[32mCANNOT RESPOND\u001b[0m\u001b[1;32m]\u001b[0m\n"
      ]
     },
     "metadata": {},
     "output_type": "display_data"
    },
    {
     "data": {
      "text/html": [
       "<pre style=\"white-space:pre;overflow-x:auto;line-height:normal;font-family:Menlo,'DejaVu Sans Mono',consolas,'Courier New',monospace\"> <span style=\"font-weight: bold\">(</span>Student<span style=\"font-weight: bold\">)</span> <span style=\"color: #800000; text-decoration-color: #800000\"> User </span> <span style=\"color: #000080; text-decoration-color: #000080; font-weight: bold\">Entity.USER</span><span style=\"font-weight: bold\">(</span>          <span style=\"font-weight: bold\">)</span> <span style=\"font-weight: bold\">(</span>=&gt;          <span style=\"font-weight: bold\">)</span> <span style=\"font-weight: bold\">(</span>X           <span style=\"font-weight: bold\">)</span>       <span style=\"font-weight: bold\">(</span>          <span style=\"font-weight: bold\">)</span> <span style=\"color: #000080; text-decoration-color: #000080\">What is </span><span style=\"color: #000080; text-decoration-color: #000080; font-weight: bold\">7</span><span style=\"color: #000080; text-decoration-color: #000080\"> multiplied by </span><span style=\"color: #000080; text-decoration-color: #000080; font-weight: bold\">8</span><span style=\"color: #000080; text-decoration-color: #000080\">?</span>\n",
       "</pre>\n"
      ],
      "text/plain": [
       " \u001b[1m(\u001b[0mStudent\u001b[1m)\u001b[0m \u001b[31m User \u001b[0m \u001b[1;34mEntity.USER\u001b[0m\u001b[1m(\u001b[0m          \u001b[1m)\u001b[0m \u001b[1m(\u001b[0m=>          \u001b[1m)\u001b[0m \u001b[1m(\u001b[0mX           \u001b[1m)\u001b[0m       \u001b[1m(\u001b[0m          \u001b[1m)\u001b[0m \u001b[34mWhat is \u001b[0m\u001b[1;34m7\u001b[0m\u001b[34m multiplied by \u001b[0m\u001b[1;34m8\u001b[0m\u001b[34m?\u001b[0m\n"
      ]
     },
     "metadata": {},
     "output_type": "display_data"
    },
    {
     "data": {
      "text/html": [
       "<pre style=\"white-space:pre;overflow-x:auto;line-height:normal;font-family:Menlo,'DejaVu Sans Mono',consolas,'Courier New',monospace\"><span style=\"color: #800080; text-decoration-color: #800080; font-weight: bold\">...|&gt;&gt;&gt; Starting Agent Student (</span><span style=\"color: #800080; text-decoration-color: #800080; font-weight: bold\">1</span><span style=\"color: #800080; text-decoration-color: #800080; font-weight: bold\">) gpt-4o </span>\n",
       "</pre>\n"
      ],
      "text/plain": [
       "\u001b[1;35m...\u001b[0m\u001b[1;35m|>>> Starting Agent Student \u001b[0m\u001b[1;35m(\u001b[0m\u001b[1;35m1\u001b[0m\u001b[1;35m)\u001b[0m\u001b[1;35m gpt-4o \u001b[0m\n"
      ]
     },
     "metadata": {},
     "output_type": "display_data"
    },
    {
     "data": {
      "text/html": [
       "<pre style=\"white-space:pre;overflow-x:auto;line-height:normal;font-family:Menlo,'DejaVu Sans Mono',consolas,'Courier New',monospace\"> <span style=\"font-weight: bold\">(</span>Student<span style=\"font-weight: bold\">)</span> <span style=\"color: #800000; text-decoration-color: #800000\"> User </span> <span style=\"color: #000080; text-decoration-color: #000080; font-weight: bold\">Entity.USER</span><span style=\"font-weight: bold\">(</span>Entity.USER<span style=\"font-weight: bold\">)</span> <span style=\"font-weight: bold\">(</span>=&gt;          <span style=\"font-weight: bold\">)</span> <span style=\"font-weight: bold\">(</span>X           <span style=\"font-weight: bold\">)</span>       <span style=\"font-weight: bold\">(</span>          <span style=\"font-weight: bold\">)</span> <span style=\"color: #000080; text-decoration-color: #000080; font-weight: bold\">[</span><span style=\"color: #000080; text-decoration-color: #000080\">CANNOT RESPOND</span><span style=\"color: #000080; text-decoration-color: #000080; font-weight: bold\">]</span>\n",
       "</pre>\n"
      ],
      "text/plain": [
       " \u001b[1m(\u001b[0mStudent\u001b[1m)\u001b[0m \u001b[31m User \u001b[0m \u001b[1;34mEntity.USER\u001b[0m\u001b[1m(\u001b[0mEntity.USER\u001b[1m)\u001b[0m \u001b[1m(\u001b[0m=>          \u001b[1m)\u001b[0m \u001b[1m(\u001b[0mX           \u001b[1m)\u001b[0m       \u001b[1m(\u001b[0m          \u001b[1m)\u001b[0m \u001b[1;34m[\u001b[0m\u001b[34mCANNOT RESPOND\u001b[0m\u001b[1;34m]\u001b[0m\n"
      ]
     },
     "metadata": {},
     "output_type": "display_data"
    },
    {
     "data": {
      "text/html": [
       "<pre style=\"white-space:pre;overflow-x:auto;line-height:normal;font-family:Menlo,'DejaVu Sans Mono',consolas,'Courier New',monospace\"> <span style=\"font-weight: bold\">(</span>Student<span style=\"font-weight: bold\">)</span> <span style=\"color: #800000; text-decoration-color: #800000\"> Agent </span>\n",
       "</pre>\n"
      ],
      "text/plain": [
       " \u001b[1m(\u001b[0mStudent\u001b[1m)\u001b[0m \u001b[31m Agent \u001b[0m\n"
      ]
     },
     "metadata": {},
     "output_type": "display_data"
    },
    {
     "data": {
      "text/html": [
       "<pre style=\"white-space:pre;overflow-x:auto;line-height:normal;font-family:Menlo,'DejaVu Sans Mono',consolas,'Courier New',monospace\"><span style=\"color: #008000; text-decoration-color: #008000\">...|</span></pre>\n"
      ],
      "text/plain": [
       "\u001b[32m...\u001b[0m\u001b[32m|\u001b[0m"
      ]
     },
     "metadata": {},
     "output_type": "display_data"
    },
    {
     "name": "stdout",
     "output_type": "stream",
     "text": [
      "\u001b[32m\u001b[32m56"
     ]
    },
    {
     "data": {
      "text/html": [
       "<pre style=\"white-space:pre;overflow-x:auto;line-height:normal;font-family:Menlo,'DejaVu Sans Mono',consolas,'Courier New',monospace\">\n",
       "</pre>\n"
      ],
      "text/plain": [
       "\n"
      ]
     },
     "metadata": {},
     "output_type": "display_data"
    },
    {
     "data": {
      "text/html": [
       "<pre style=\"white-space:pre;overflow-x:auto;line-height:normal;font-family:Menlo,'DejaVu Sans Mono',consolas,'Courier New',monospace\"><span style=\"color: #808000; text-decoration-color: #808000\">...</span>|<span style=\"font-weight: bold\">Stats:</span> <span style=\"color: #800080; text-decoration-color: #800080\">N_MSG</span><span style=\"color: #800080; text-decoration-color: #800080\">=</span><span style=\"color: #800080; text-decoration-color: #800080; font-weight: bold\">2</span><span style=\"color: #800080; text-decoration-color: #800080\">, TOKENS: </span><span style=\"color: #800080; text-decoration-color: #800080\">in</span><span style=\"color: #800080; text-decoration-color: #800080\">=</span><span style=\"color: #800080; text-decoration-color: #800080; font-weight: bold\">18</span><span style=\"color: #800080; text-decoration-color: #800080\">, </span><span style=\"color: #800080; text-decoration-color: #800080\">out</span><span style=\"color: #800080; text-decoration-color: #800080\">=</span><span style=\"color: #800080; text-decoration-color: #800080; font-weight: bold\">1</span><span style=\"color: #800080; text-decoration-color: #800080\">, </span><span style=\"color: #800080; text-decoration-color: #800080\">max</span><span style=\"color: #800080; text-decoration-color: #800080\">=</span><span style=\"color: #800080; text-decoration-color: #800080; font-weight: bold\">1024</span><span style=\"color: #800080; text-decoration-color: #800080\">, </span><span style=\"color: #800080; text-decoration-color: #800080\">ctx</span><span style=\"color: #800080; text-decoration-color: #800080\">=</span><span style=\"color: #800080; text-decoration-color: #800080; font-weight: bold\">128000</span><span style=\"color: #800080; text-decoration-color: #800080\">, COST: </span><span style=\"color: #800080; text-decoration-color: #800080\">now</span><span style=\"color: #800080; text-decoration-color: #800080\">=$</span><span style=\"color: #800080; text-decoration-color: #800080; font-weight: bold\">0.0001</span><span style=\"color: #800080; text-decoration-color: #800080\">, </span><span style=\"color: #800080; text-decoration-color: #800080\">cumul</span><span style=\"color: #800080; text-decoration-color: #800080\">=$</span><span style=\"color: #800080; text-decoration-color: #800080; font-weight: bold\">0.0001</span><span style=\"color: #800080; text-decoration-color: #800080\">, </span><span style=\"color: #800080; text-decoration-color: #800080\">tot</span><span style=\"color: #800080; text-decoration-color: #800080\">=$</span><span style=\"color: #800080; text-decoration-color: #800080; font-weight: bold\">0.0047</span><span style=\"color: #800080; text-decoration-color: #800080\"> </span>\n",
       "<span style=\"color: #800080; text-decoration-color: #800080; font-weight: bold\">(gpt-4o)</span>\n",
       "</pre>\n"
      ],
      "text/plain": [
       "\u001b[33m...\u001b[0m|\u001b[1mStats:\u001b[0m \u001b[35mN_MSG\u001b[0m\u001b[35m=\u001b[0m\u001b[1;35m2\u001b[0m\u001b[35m, TOKENS: \u001b[0m\u001b[35min\u001b[0m\u001b[35m=\u001b[0m\u001b[1;35m18\u001b[0m\u001b[35m, \u001b[0m\u001b[35mout\u001b[0m\u001b[35m=\u001b[0m\u001b[1;35m1\u001b[0m\u001b[35m, \u001b[0m\u001b[35mmax\u001b[0m\u001b[35m=\u001b[0m\u001b[1;35m1024\u001b[0m\u001b[35m, \u001b[0m\u001b[35mctx\u001b[0m\u001b[35m=\u001b[0m\u001b[1;35m128000\u001b[0m\u001b[35m, COST: \u001b[0m\u001b[35mnow\u001b[0m\u001b[35m=$\u001b[0m\u001b[1;35m0.0001\u001b[0m\u001b[35m, \u001b[0m\u001b[35mcumul\u001b[0m\u001b[35m=$\u001b[0m\u001b[1;35m0.0001\u001b[0m\u001b[35m, \u001b[0m\u001b[35mtot\u001b[0m\u001b[35m=$\u001b[0m\u001b[1;35m0.0047\u001b[0m\u001b[35m \u001b[0m\n",
       "\u001b[1;35m(\u001b[0m\u001b[1;35mgpt-4o\u001b[0m\u001b[1;35m)\u001b[0m\n"
      ]
     },
     "metadata": {},
     "output_type": "display_data"
    },
    {
     "data": {
      "text/html": [
       "<pre style=\"white-space:pre;overflow-x:auto;line-height:normal;font-family:Menlo,'DejaVu Sans Mono',consolas,'Courier New',monospace\">*<span style=\"font-weight: bold\">(</span>Student<span style=\"font-weight: bold\">)</span> <span style=\"color: #c0c0c0; text-decoration-color: #c0c0c0\"> LLM </span> <span style=\"color: #008000; text-decoration-color: #008000; font-weight: bold\">Entity.LLM</span><span style=\"font-weight: bold\">(</span>          <span style=\"font-weight: bold\">)</span> <span style=\"font-weight: bold\">(</span>=&gt;          <span style=\"font-weight: bold\">)</span> <span style=\"font-weight: bold\">(</span>X           <span style=\"font-weight: bold\">)</span>       <span style=\"font-weight: bold\">(</span>          <span style=\"font-weight: bold\">)</span> <span style=\"color: #008000; text-decoration-color: #008000; font-weight: bold\">56</span>\n",
       "</pre>\n"
      ],
      "text/plain": [
       "*\u001b[1m(\u001b[0mStudent\u001b[1m)\u001b[0m \u001b[37m LLM \u001b[0m \u001b[1;32mEntity.LLM\u001b[0m\u001b[1m(\u001b[0m          \u001b[1m)\u001b[0m \u001b[1m(\u001b[0m=>          \u001b[1m)\u001b[0m \u001b[1m(\u001b[0mX           \u001b[1m)\u001b[0m       \u001b[1m(\u001b[0m          \u001b[1m)\u001b[0m \u001b[1;32m56\u001b[0m\n"
      ]
     },
     "metadata": {},
     "output_type": "display_data"
    },
    {
     "data": {
      "text/html": [
       "<pre style=\"white-space:pre;overflow-x:auto;line-height:normal;font-family:Menlo,'DejaVu Sans Mono',consolas,'Courier New',monospace\"><span style=\"color: #800080; text-decoration-color: #800080; font-weight: bold\">...|&lt;&lt;&lt; Finished Agent Student (</span><span style=\"color: #800080; text-decoration-color: #800080; font-weight: bold\">3</span><span style=\"color: #800080; text-decoration-color: #800080; font-weight: bold\">) </span>\n",
       "</pre>\n"
      ],
      "text/plain": [
       "\u001b[1;35m...\u001b[0m\u001b[1;35m|<<< Finished Agent Student \u001b[0m\u001b[1;35m(\u001b[0m\u001b[1;35m3\u001b[0m\u001b[1;35m)\u001b[0m\u001b[1;35m \u001b[0m\n"
      ]
     },
     "metadata": {},
     "output_type": "display_data"
    },
    {
     "data": {
      "text/html": [
       "<pre style=\"white-space:pre;overflow-x:auto;line-height:normal;font-family:Menlo,'DejaVu Sans Mono',consolas,'Courier New',monospace\">*<span style=\"font-weight: bold\">(</span>Teacher<span style=\"font-weight: bold\">)</span> <span style=\"color: #c0c0c0; text-decoration-color: #c0c0c0\"> Student </span> <span style=\"color: #000080; text-decoration-color: #000080; font-weight: bold\">Entity.USER</span><span style=\"font-weight: bold\">(</span>   Student<span style=\"font-weight: bold\">)</span> <span style=\"font-weight: bold\">(</span>=&gt;          <span style=\"font-weight: bold\">)</span> <span style=\"font-weight: bold\">(</span>X           <span style=\"font-weight: bold\">)</span>       <span style=\"font-weight: bold\">(</span>          <span style=\"font-weight: bold\">)</span> <span style=\"color: #000080; text-decoration-color: #000080; font-weight: bold\">56</span>\n",
       "</pre>\n"
      ],
      "text/plain": [
       "*\u001b[1m(\u001b[0mTeacher\u001b[1m)\u001b[0m \u001b[37m Student \u001b[0m \u001b[1;34mEntity.USER\u001b[0m\u001b[1m(\u001b[0m   Student\u001b[1m)\u001b[0m \u001b[1m(\u001b[0m=>          \u001b[1m)\u001b[0m \u001b[1m(\u001b[0mX           \u001b[1m)\u001b[0m       \u001b[1m(\u001b[0m          \u001b[1m)\u001b[0m \u001b[1;34m56\u001b[0m\n"
      ]
     },
     "metadata": {},
     "output_type": "display_data"
    },
    {
     "data": {
      "text/html": [
       "<pre style=\"white-space:pre;overflow-x:auto;line-height:normal;font-family:Menlo,'DejaVu Sans Mono',consolas,'Courier New',monospace\"><span style=\"color: #000080; text-decoration-color: #000080\">Human (respond or q, x to exit current level, or hit enter to continue)</span>\n",
       ": </pre>\n"
      ],
      "text/plain": [
       "\u001b[34mHuman (respond or q, x to exit current level, or hit enter to continue)\u001b[0m\n",
       ": "
      ]
     },
     "metadata": {},
     "output_type": "display_data"
    },
    {
     "name": "stdin",
     "output_type": "stream",
     "text": [
      " q\n"
     ]
    },
    {
     "data": {
      "text/html": [
       "<pre style=\"white-space:pre;overflow-x:auto;line-height:normal;font-family:Menlo,'DejaVu Sans Mono',consolas,'Courier New',monospace\">*<span style=\"font-weight: bold\">(</span>Teacher<span style=\"font-weight: bold\">)</span> <span style=\"color: #c0c0c0; text-decoration-color: #c0c0c0\"> User </span> <span style=\"color: #000080; text-decoration-color: #000080; font-weight: bold\">Entity.USER</span><span style=\"font-weight: bold\">(</span>          <span style=\"font-weight: bold\">)</span> <span style=\"font-weight: bold\">(</span>=&gt;          <span style=\"font-weight: bold\">)</span> <span style=\"font-weight: bold\">(</span>X           <span style=\"font-weight: bold\">)</span>       <span style=\"font-weight: bold\">(</span>          <span style=\"font-weight: bold\">)</span> <span style=\"color: #000080; text-decoration-color: #000080\">q</span>\n",
       "</pre>\n"
      ],
      "text/plain": [
       "*\u001b[1m(\u001b[0mTeacher\u001b[1m)\u001b[0m \u001b[37m User \u001b[0m \u001b[1;34mEntity.USER\u001b[0m\u001b[1m(\u001b[0m          \u001b[1m)\u001b[0m \u001b[1m(\u001b[0m=>          \u001b[1m)\u001b[0m \u001b[1m(\u001b[0mX           \u001b[1m)\u001b[0m       \u001b[1m(\u001b[0m          \u001b[1m)\u001b[0m \u001b[34mq\u001b[0m\n"
      ]
     },
     "metadata": {},
     "output_type": "display_data"
    },
    {
     "data": {
      "text/html": [
       "<pre style=\"white-space:pre;overflow-x:auto;line-height:normal;font-family:Menlo,'DejaVu Sans Mono',consolas,'Courier New',monospace\"><span style=\"color: #800080; text-decoration-color: #800080\">Bye, hope this was useful!</span>\n",
       "</pre>\n"
      ],
      "text/plain": [
       "\u001b[35mBye, hope this was useful!\u001b[0m\n"
      ]
     },
     "metadata": {},
     "output_type": "display_data"
    },
    {
     "data": {
      "text/html": [
       "<pre style=\"white-space:pre;overflow-x:auto;line-height:normal;font-family:Menlo,'DejaVu Sans Mono',consolas,'Courier New',monospace\"><span style=\"color: #800080; text-decoration-color: #800080; font-weight: bold\">&lt;&lt;&lt; Finished Agent Teacher (</span><span style=\"color: #800080; text-decoration-color: #800080; font-weight: bold\">2</span><span style=\"color: #800080; text-decoration-color: #800080; font-weight: bold\">) </span>\n",
       "</pre>\n"
      ],
      "text/plain": [
       "\u001b[1;35m<<< Finished Agent Teacher \u001b[0m\u001b[1;35m(\u001b[0m\u001b[1;35m2\u001b[0m\u001b[1;35m)\u001b[0m\u001b[1;35m \u001b[0m\n"
      ]
     },
     "metadata": {},
     "output_type": "display_data"
    },
    {
     "data": {
      "text/plain": [
       "ChatDocument(content='q', metadata=ChatDocMetaData(source='User', is_chunk=False, id='', window_ids=[], parent=None, sender=<Entity.USER: 'User'>, tool_ids=[], parent_responder=None, block=None, sender_name='Teacher', recipient='', usage=None, cached=False, displayed=False, status=<StatusCode.USER_QUIT: 'USER_QUIT'>), function_call=None, tool_messages=[], attachment=None)"
      ]
     },
     "execution_count": 14,
     "metadata": {},
     "output_type": "execute_result"
    }
   ],
   "source": [
    "teacher_agent = lr.ChatAgent(agent_cfg)\n",
    "teacher_task = lr.Task(\n",
    "  teacher_agent, name=\"Teacher\",\n",
    "  system_message=\"\"\"\n",
    "    Ask your student concise numbers questions, and give feedback. \n",
    "    Start with a question.\n",
    "    \"\"\"\n",
    ")\n",
    "student_agent = lr.ChatAgent(agent_cfg)\n",
    "student_task = lr.Task(\n",
    "  student_agent, name=\"Student\",\n",
    "  system_message=\"Concisely answer the teacher's questions.\",\n",
    "  single_round=True,\n",
    ")\n",
    "\n",
    "teacher_task.add_sub_task(student_task)\n",
    "teacher_task.run()"
   ]
  },
  {
   "cell_type": "code",
   "execution_count": 15,
   "id": "670758c0-69c7-4a01-8f6a-7ffd04cdf630",
   "metadata": {},
   "outputs": [
    {
     "name": "stderr",
     "output_type": "stream",
     "text": [
      "\u001b[33m2024-05-17 13:02:39 - WARNING - REDIS_PASSWORD, REDIS_HOST, REDIS_PORT not set in .env file,\n",
      "                    using fake redis client\u001b[0m\n",
      "\u001b[33m2024-05-17 13:02:40 - WARNING - REDIS_PASSWORD, REDIS_HOST, REDIS_PORT not set in .env file,\n",
      "                    using fake redis client\u001b[0m\n",
      "\u001b[33m2024-05-17 13:02:40 - WARNING - REDIS_PASSWORD, REDIS_HOST, REDIS_PORT not set in .env file,\n",
      "                    using fake redis client\u001b[0m\n"
     ]
    },
    {
     "data": {
      "text/html": [
       "<pre style=\"white-space:pre;overflow-x:auto;line-height:normal;font-family:Menlo,'DejaVu Sans Mono',consolas,'Courier New',monospace\"> <span style=\"font-weight: bold\">(</span>Student<span style=\"font-weight: bold\">)</span> <span style=\"color: #800000; text-decoration-color: #800000\"> User </span>\n",
       "</pre>\n"
      ],
      "text/plain": [
       " \u001b[1m(\u001b[0mStudent\u001b[1m)\u001b[0m \u001b[31m User \u001b[0m\n"
      ]
     },
     "metadata": {},
     "output_type": "display_data"
    },
    {
     "data": {
      "text/html": [
       "<pre style=\"white-space:pre;overflow-x:auto;line-height:normal;font-family:Menlo,'DejaVu Sans Mono',consolas,'Courier New',monospace\"><span style=\"color: #800080; text-decoration-color: #800080; font-weight: bold\">&gt;&gt;&gt; Starting Agent Student (</span><span style=\"color: #800080; text-decoration-color: #800080; font-weight: bold\">1</span><span style=\"color: #800080; text-decoration-color: #800080; font-weight: bold\">) gpt-4o </span>\n",
       "</pre>\n"
      ],
      "text/plain": [
       "\u001b[1;35m>>> Starting Agent Student \u001b[0m\u001b[1;35m(\u001b[0m\u001b[1;35m1\u001b[0m\u001b[1;35m)\u001b[0m\u001b[1;35m gpt-4o \u001b[0m\n"
      ]
     },
     "metadata": {},
     "output_type": "display_data"
    },
    {
     "data": {
      "text/html": [
       "<pre style=\"white-space:pre;overflow-x:auto;line-height:normal;font-family:Menlo,'DejaVu Sans Mono',consolas,'Courier New',monospace\"> <span style=\"font-weight: bold\">(</span>Student<span style=\"font-weight: bold\">)</span> <span style=\"color: #800000; text-decoration-color: #800000\"> User </span> <span style=\"color: #000080; text-decoration-color: #000080; font-weight: bold\">Entity.USER</span><span style=\"font-weight: bold\">(</span>Entity.USER<span style=\"font-weight: bold\">)</span> <span style=\"font-weight: bold\">(</span>=&gt;          <span style=\"font-weight: bold\">)</span> <span style=\"font-weight: bold\">(</span>X           <span style=\"font-weight: bold\">)</span>       <span style=\"font-weight: bold\">(</span>          <span style=\"font-weight: bold\">)</span> <span style=\"color: #000080; text-decoration-color: #000080; font-weight: bold\">[</span><span style=\"color: #000080; text-decoration-color: #000080\">CANNOT RESPOND</span><span style=\"color: #000080; text-decoration-color: #000080; font-weight: bold\">]</span>\n",
       "</pre>\n"
      ],
      "text/plain": [
       " \u001b[1m(\u001b[0mStudent\u001b[1m)\u001b[0m \u001b[31m User \u001b[0m \u001b[1;34mEntity.USER\u001b[0m\u001b[1m(\u001b[0mEntity.USER\u001b[1m)\u001b[0m \u001b[1m(\u001b[0m=>          \u001b[1m)\u001b[0m \u001b[1m(\u001b[0mX           \u001b[1m)\u001b[0m       \u001b[1m(\u001b[0m          \u001b[1m)\u001b[0m \u001b[1;34m[\u001b[0m\u001b[34mCANNOT RESPOND\u001b[0m\u001b[1;34m]\u001b[0m\n"
      ]
     },
     "metadata": {},
     "output_type": "display_data"
    },
    {
     "data": {
      "text/html": [
       "<pre style=\"white-space:pre;overflow-x:auto;line-height:normal;font-family:Menlo,'DejaVu Sans Mono',consolas,'Courier New',monospace\"> <span style=\"font-weight: bold\">(</span>Student<span style=\"font-weight: bold\">)</span> <span style=\"color: #800000; text-decoration-color: #800000\"> Agent </span>\n",
       "</pre>\n"
      ],
      "text/plain": [
       " \u001b[1m(\u001b[0mStudent\u001b[1m)\u001b[0m \u001b[31m Agent \u001b[0m\n"
      ]
     },
     "metadata": {},
     "output_type": "display_data"
    },
    {
     "data": {
      "text/html": [
       "<pre style=\"white-space:pre;overflow-x:auto;line-height:normal;font-family:Menlo,'DejaVu Sans Mono',consolas,'Courier New',monospace\"></pre>\n"
      ],
      "text/plain": []
     },
     "metadata": {},
     "output_type": "display_data"
    },
    {
     "name": "stdout",
     "output_type": "stream",
     "text": [
      "\u001b[32m\u001b[32mFUNC: recipient_message: \u001b[32m{\"\u001b[32mint\u001b[32mended\u001b[32m_rec\u001b[32mipient\u001b[32m\":\"\u001b[32mTraining\u001b[32mExpert\u001b[32m\",\"\u001b[32mcontent\u001b[32m\":\"\u001b[32mWhat\u001b[32m are\u001b[32m the\u001b[32m key\u001b[32m steps\u001b[32m involved\u001b[32m in\u001b[32m training\u001b[32m a\u001b[32m language\u001b[32m model\u001b[32m?\"\u001b[32m}"
     ]
    },
    {
     "data": {
      "text/html": [
       "<pre style=\"white-space:pre;overflow-x:auto;line-height:normal;font-family:Menlo,'DejaVu Sans Mono',consolas,'Courier New',monospace\">\n",
       "</pre>\n"
      ],
      "text/plain": [
       "\n"
      ]
     },
     "metadata": {},
     "output_type": "display_data"
    },
    {
     "data": {
      "text/html": [
       "<pre style=\"white-space:pre;overflow-x:auto;line-height:normal;font-family:Menlo,'DejaVu Sans Mono',consolas,'Courier New',monospace\"><span style=\"font-weight: bold\">Stats:</span> <span style=\"color: #800080; text-decoration-color: #800080\">N_MSG</span><span style=\"color: #800080; text-decoration-color: #800080\">=</span><span style=\"color: #800080; text-decoration-color: #800080; font-weight: bold\">1</span><span style=\"color: #800080; text-decoration-color: #800080\">, TOKENS: </span><span style=\"color: #800080; text-decoration-color: #800080\">in</span><span style=\"color: #800080; text-decoration-color: #800080\">=</span><span style=\"color: #800080; text-decoration-color: #800080; font-weight: bold\">260</span><span style=\"color: #800080; text-decoration-color: #800080\">, </span><span style=\"color: #800080; text-decoration-color: #800080\">out</span><span style=\"color: #800080; text-decoration-color: #800080\">=</span><span style=\"color: #800080; text-decoration-color: #800080; font-weight: bold\">55</span><span style=\"color: #800080; text-decoration-color: #800080\">, </span><span style=\"color: #800080; text-decoration-color: #800080\">max</span><span style=\"color: #800080; text-decoration-color: #800080\">=</span><span style=\"color: #800080; text-decoration-color: #800080; font-weight: bold\">1024</span><span style=\"color: #800080; text-decoration-color: #800080\">, </span><span style=\"color: #800080; text-decoration-color: #800080\">ctx</span><span style=\"color: #800080; text-decoration-color: #800080\">=</span><span style=\"color: #800080; text-decoration-color: #800080; font-weight: bold\">128000</span><span style=\"color: #800080; text-decoration-color: #800080\">, COST: </span><span style=\"color: #800080; text-decoration-color: #800080\">now</span><span style=\"color: #800080; text-decoration-color: #800080\">=$</span><span style=\"color: #800080; text-decoration-color: #800080; font-weight: bold\">0.0021</span><span style=\"color: #800080; text-decoration-color: #800080\">, </span><span style=\"color: #800080; text-decoration-color: #800080\">cumul</span><span style=\"color: #800080; text-decoration-color: #800080\">=$</span><span style=\"color: #800080; text-decoration-color: #800080; font-weight: bold\">0.0021</span><span style=\"color: #800080; text-decoration-color: #800080\">, </span><span style=\"color: #800080; text-decoration-color: #800080\">tot</span><span style=\"color: #800080; text-decoration-color: #800080\">=$</span><span style=\"color: #800080; text-decoration-color: #800080; font-weight: bold\">0.0069</span><span style=\"color: #800080; text-decoration-color: #800080\"> </span>\n",
       "<span style=\"color: #800080; text-decoration-color: #800080; font-weight: bold\">(gpt-4o)</span>\n",
       "</pre>\n"
      ],
      "text/plain": [
       "\u001b[1mStats:\u001b[0m \u001b[35mN_MSG\u001b[0m\u001b[35m=\u001b[0m\u001b[1;35m1\u001b[0m\u001b[35m, TOKENS: \u001b[0m\u001b[35min\u001b[0m\u001b[35m=\u001b[0m\u001b[1;35m260\u001b[0m\u001b[35m, \u001b[0m\u001b[35mout\u001b[0m\u001b[35m=\u001b[0m\u001b[1;35m55\u001b[0m\u001b[35m, \u001b[0m\u001b[35mmax\u001b[0m\u001b[35m=\u001b[0m\u001b[1;35m1024\u001b[0m\u001b[35m, \u001b[0m\u001b[35mctx\u001b[0m\u001b[35m=\u001b[0m\u001b[1;35m128000\u001b[0m\u001b[35m, COST: \u001b[0m\u001b[35mnow\u001b[0m\u001b[35m=$\u001b[0m\u001b[1;35m0.0021\u001b[0m\u001b[35m, \u001b[0m\u001b[35mcumul\u001b[0m\u001b[35m=$\u001b[0m\u001b[1;35m0.0021\u001b[0m\u001b[35m, \u001b[0m\u001b[35mtot\u001b[0m\u001b[35m=$\u001b[0m\u001b[1;35m0.0069\u001b[0m\u001b[35m \u001b[0m\n",
       "\u001b[1;35m(\u001b[0m\u001b[1;35mgpt-4o\u001b[0m\u001b[1;35m)\u001b[0m\n"
      ]
     },
     "metadata": {},
     "output_type": "display_data"
    },
    {
     "data": {
      "text/html": [
       "<pre style=\"white-space:pre;overflow-x:auto;line-height:normal;font-family:Menlo,'DejaVu Sans Mono',consolas,'Courier New',monospace\">*<span style=\"font-weight: bold\">(</span>Student<span style=\"font-weight: bold\">)</span> <span style=\"color: #c0c0c0; text-decoration-color: #c0c0c0\"> LLM </span> <span style=\"color: #008000; text-decoration-color: #008000; font-weight: bold\">Entity.LLM</span><span style=\"font-weight: bold\">(</span>          <span style=\"font-weight: bold\">)</span> <span style=\"font-weight: bold\">(</span>=&gt;          <span style=\"font-weight: bold\">)</span> <span style=\"font-weight: bold\">(</span>X           <span style=\"font-weight: bold\">)</span>   <span style=\"color: #800080; text-decoration-color: #800080; font-weight: bold\">FUNC</span><span style=\"font-weight: bold\">(</span>recipient_message<span style=\"font-weight: bold\">)</span> <span style=\"color: #008000; text-decoration-color: #008000\">FUNC: </span><span style=\"color: #008000; text-decoration-color: #008000; font-weight: bold\">{</span>\n",
       "<span style=\"color: #008000; text-decoration-color: #008000\">  </span><span style=\"color: #008000; text-decoration-color: #008000\">\"name\"</span><span style=\"color: #008000; text-decoration-color: #008000\">: </span><span style=\"color: #008000; text-decoration-color: #008000\">\"recipient_message\"</span><span style=\"color: #008000; text-decoration-color: #008000\">,</span>\n",
       "<span style=\"color: #008000; text-decoration-color: #008000\">  </span><span style=\"color: #008000; text-decoration-color: #008000\">\"arguments\"</span><span style=\"color: #008000; text-decoration-color: #008000\">: </span><span style=\"color: #008000; text-decoration-color: #008000; font-weight: bold\">{</span>\n",
       "<span style=\"color: #008000; text-decoration-color: #008000\">    </span><span style=\"color: #008000; text-decoration-color: #008000\">\"intended_recipient\"</span><span style=\"color: #008000; text-decoration-color: #008000\">: </span><span style=\"color: #008000; text-decoration-color: #008000\">\"TrainingExpert\"</span><span style=\"color: #008000; text-decoration-color: #008000\">,</span>\n",
       "<span style=\"color: #008000; text-decoration-color: #008000\">    </span><span style=\"color: #008000; text-decoration-color: #008000\">\"content\"</span><span style=\"color: #008000; text-decoration-color: #008000\">: </span><span style=\"color: #008000; text-decoration-color: #008000\">\"What are the key steps involved in training a language model?\"</span>\n",
       "<span style=\"color: #008000; text-decoration-color: #008000\">  </span><span style=\"color: #008000; text-decoration-color: #008000; font-weight: bold\">}</span>\n",
       "<span style=\"color: #008000; text-decoration-color: #008000; font-weight: bold\">}</span>\n",
       "</pre>\n"
      ],
      "text/plain": [
       "*\u001b[1m(\u001b[0mStudent\u001b[1m)\u001b[0m \u001b[37m LLM \u001b[0m \u001b[1;32mEntity.LLM\u001b[0m\u001b[1m(\u001b[0m          \u001b[1m)\u001b[0m \u001b[1m(\u001b[0m=>          \u001b[1m)\u001b[0m \u001b[1m(\u001b[0mX           \u001b[1m)\u001b[0m   \u001b[1;35mFUNC\u001b[0m\u001b[1m(\u001b[0mrecipient_message\u001b[1m)\u001b[0m \u001b[32mFUNC: \u001b[0m\u001b[1;32m{\u001b[0m\n",
       "\u001b[32m  \u001b[0m\u001b[32m\"name\"\u001b[0m\u001b[32m: \u001b[0m\u001b[32m\"recipient_message\"\u001b[0m\u001b[32m,\u001b[0m\n",
       "\u001b[32m  \u001b[0m\u001b[32m\"arguments\"\u001b[0m\u001b[32m: \u001b[0m\u001b[1;32m{\u001b[0m\n",
       "\u001b[32m    \u001b[0m\u001b[32m\"intended_recipient\"\u001b[0m\u001b[32m: \u001b[0m\u001b[32m\"TrainingExpert\"\u001b[0m\u001b[32m,\u001b[0m\n",
       "\u001b[32m    \u001b[0m\u001b[32m\"content\"\u001b[0m\u001b[32m: \u001b[0m\u001b[32m\"What are the key steps involved in training a language model?\"\u001b[0m\n",
       "\u001b[32m  \u001b[0m\u001b[1;32m}\u001b[0m\n",
       "\u001b[1;32m}\u001b[0m\n"
      ]
     },
     "metadata": {},
     "output_type": "display_data"
    },
    {
     "data": {
      "text/html": [
       "<pre style=\"white-space:pre;overflow-x:auto;line-height:normal;font-family:Menlo,'DejaVu Sans Mono',consolas,'Courier New',monospace\"><span style=\"color: #800000; text-decoration-color: #800000\">RecipientTool: Validated properly addressed message</span>\n",
       "</pre>\n"
      ],
      "text/plain": [
       "\u001b[31mRecipientTool: Validated properly addressed message\u001b[0m\n"
      ]
     },
     "metadata": {},
     "output_type": "display_data"
    },
    {
     "data": {
      "text/html": [
       "<pre style=\"white-space:pre;overflow-x:auto;line-height:normal;font-family:Menlo,'DejaVu Sans Mono',consolas,'Courier New',monospace\">*<span style=\"font-weight: bold\">(</span>Student<span style=\"font-weight: bold\">)</span> <span style=\"color: #c0c0c0; text-decoration-color: #c0c0c0\"> Agent </span> <span style=\"color: #008000; text-decoration-color: #008000; font-weight: bold\">Entity.LLM</span><span style=\"font-weight: bold\">(</span>          <span style=\"font-weight: bold\">)</span> <span style=\"font-weight: bold\">(</span>=&gt;TrainingExpert<span style=\"font-weight: bold\">)</span> <span style=\"font-weight: bold\">(</span>X           <span style=\"font-weight: bold\">)</span>       <span style=\"font-weight: bold\">(</span>          <span style=\"font-weight: bold\">)</span> <span style=\"color: #008000; text-decoration-color: #008000\">What are the key steps involved in training a language model?</span>\n",
       "</pre>\n"
      ],
      "text/plain": [
       "*\u001b[1m(\u001b[0mStudent\u001b[1m)\u001b[0m \u001b[37m Agent \u001b[0m \u001b[1;32mEntity.LLM\u001b[0m\u001b[1m(\u001b[0m          \u001b[1m)\u001b[0m \u001b[1m(\u001b[0m=>TrainingExpert\u001b[1m)\u001b[0m \u001b[1m(\u001b[0mX           \u001b[1m)\u001b[0m       \u001b[1m(\u001b[0m          \u001b[1m)\u001b[0m \u001b[32mWhat are the key steps involved in training a language model?\u001b[0m\n"
      ]
     },
     "metadata": {},
     "output_type": "display_data"
    },
    {
     "data": {
      "text/html": [
       "<pre style=\"white-space:pre;overflow-x:auto;line-height:normal;font-family:Menlo,'DejaVu Sans Mono',consolas,'Courier New',monospace\"> <span style=\"font-weight: bold\">(</span>Student<span style=\"font-weight: bold\">)</span> <span style=\"color: #800000; text-decoration-color: #800000\"> User </span> <span style=\"color: #000080; text-decoration-color: #000080; font-weight: bold\">Entity.USER</span><span style=\"font-weight: bold\">(</span>Entity.USER<span style=\"font-weight: bold\">)</span> <span style=\"font-weight: bold\">(</span>=&gt;TrainingExpert<span style=\"font-weight: bold\">)</span> <span style=\"font-weight: bold\">(</span>X           <span style=\"font-weight: bold\">)</span>       <span style=\"font-weight: bold\">(</span>          <span style=\"font-weight: bold\">)</span> <span style=\"color: #000080; text-decoration-color: #000080; font-weight: bold\">[</span><span style=\"color: #000080; text-decoration-color: #000080\">CANNOT RESPOND</span><span style=\"color: #000080; text-decoration-color: #000080; font-weight: bold\">]</span>\n",
       "</pre>\n"
      ],
      "text/plain": [
       " \u001b[1m(\u001b[0mStudent\u001b[1m)\u001b[0m \u001b[31m User \u001b[0m \u001b[1;34mEntity.USER\u001b[0m\u001b[1m(\u001b[0mEntity.USER\u001b[1m)\u001b[0m \u001b[1m(\u001b[0m=>TrainingExpert\u001b[1m)\u001b[0m \u001b[1m(\u001b[0mX           \u001b[1m)\u001b[0m       \u001b[1m(\u001b[0m          \u001b[1m)\u001b[0m \u001b[1;34m[\u001b[0m\u001b[34mCANNOT RESPOND\u001b[0m\u001b[1;34m]\u001b[0m\n"
      ]
     },
     "metadata": {},
     "output_type": "display_data"
    },
    {
     "data": {
      "text/html": [
       "<pre style=\"white-space:pre;overflow-x:auto;line-height:normal;font-family:Menlo,'DejaVu Sans Mono',consolas,'Courier New',monospace\"> <span style=\"font-weight: bold\">(</span>Student<span style=\"font-weight: bold\">)</span> <span style=\"color: #800000; text-decoration-color: #800000\"> Agent </span> <span style=\"color: #800000; text-decoration-color: #800000; font-weight: bold\">Entity.AGENT</span><span style=\"font-weight: bold\">(</span>Entity.AGENT<span style=\"font-weight: bold\">)</span> <span style=\"font-weight: bold\">(</span>=&gt;TrainingExpert<span style=\"font-weight: bold\">)</span> <span style=\"font-weight: bold\">(</span>X           <span style=\"font-weight: bold\">)</span>       <span style=\"font-weight: bold\">(</span>          <span style=\"font-weight: bold\">)</span> <span style=\"color: #800000; text-decoration-color: #800000; font-weight: bold\">[</span><span style=\"color: #800000; text-decoration-color: #800000\">CANNOT RESPOND</span><span style=\"color: #800000; text-decoration-color: #800000; font-weight: bold\">]</span>\n",
       "</pre>\n"
      ],
      "text/plain": [
       " \u001b[1m(\u001b[0mStudent\u001b[1m)\u001b[0m \u001b[31m Agent \u001b[0m \u001b[1;31mEntity.AGENT\u001b[0m\u001b[1m(\u001b[0mEntity.AGENT\u001b[1m)\u001b[0m \u001b[1m(\u001b[0m=>TrainingExpert\u001b[1m)\u001b[0m \u001b[1m(\u001b[0mX           \u001b[1m)\u001b[0m       \u001b[1m(\u001b[0m          \u001b[1m)\u001b[0m \u001b[1;31m[\u001b[0m\u001b[31mCANNOT RESPOND\u001b[0m\u001b[1;31m]\u001b[0m\n"
      ]
     },
     "metadata": {},
     "output_type": "display_data"
    },
    {
     "data": {
      "text/html": [
       "<pre style=\"white-space:pre;overflow-x:auto;line-height:normal;font-family:Menlo,'DejaVu Sans Mono',consolas,'Courier New',monospace\"> <span style=\"font-weight: bold\">(</span>Student<span style=\"font-weight: bold\">)</span> <span style=\"color: #800000; text-decoration-color: #800000\"> LLM </span> <span style=\"color: #008000; text-decoration-color: #008000; font-weight: bold\">Entity.LLM</span><span style=\"font-weight: bold\">(</span>Entity.LLM<span style=\"font-weight: bold\">)</span> <span style=\"font-weight: bold\">(</span>=&gt;TrainingExpert<span style=\"font-weight: bold\">)</span> <span style=\"font-weight: bold\">(</span>X           <span style=\"font-weight: bold\">)</span>       <span style=\"font-weight: bold\">(</span>          <span style=\"font-weight: bold\">)</span> <span style=\"color: #008000; text-decoration-color: #008000; font-weight: bold\">[</span><span style=\"color: #008000; text-decoration-color: #008000\">CANNOT RESPOND</span><span style=\"color: #008000; text-decoration-color: #008000; font-weight: bold\">]</span>\n",
       "</pre>\n"
      ],
      "text/plain": [
       " \u001b[1m(\u001b[0mStudent\u001b[1m)\u001b[0m \u001b[31m LLM \u001b[0m \u001b[1;32mEntity.LLM\u001b[0m\u001b[1m(\u001b[0mEntity.LLM\u001b[1m)\u001b[0m \u001b[1m(\u001b[0m=>TrainingExpert\u001b[1m)\u001b[0m \u001b[1m(\u001b[0mX           \u001b[1m)\u001b[0m       \u001b[1m(\u001b[0m          \u001b[1m)\u001b[0m \u001b[1;32m[\u001b[0m\u001b[32mCANNOT RESPOND\u001b[0m\u001b[1;32m]\u001b[0m\n"
      ]
     },
     "metadata": {},
     "output_type": "display_data"
    },
    {
     "data": {
      "text/html": [
       "<pre style=\"white-space:pre;overflow-x:auto;line-height:normal;font-family:Menlo,'DejaVu Sans Mono',consolas,'Courier New',monospace\"> <span style=\"font-weight: bold\">(</span>TrainingExpert<span style=\"font-weight: bold\">)</span> <span style=\"color: #800000; text-decoration-color: #800000\"> User </span> <span style=\"color: #000080; text-decoration-color: #000080; font-weight: bold\">Entity.USER</span><span style=\"font-weight: bold\">(</span>          <span style=\"font-weight: bold\">)</span> <span style=\"font-weight: bold\">(</span>=&gt;TrainingExpert<span style=\"font-weight: bold\">)</span> <span style=\"font-weight: bold\">(</span>X           <span style=\"font-weight: bold\">)</span>       <span style=\"font-weight: bold\">(</span>          <span style=\"font-weight: bold\">)</span> <span style=\"color: #000080; text-decoration-color: #000080\">What are the key steps involved in training a language model?</span>\n",
       "</pre>\n"
      ],
      "text/plain": [
       " \u001b[1m(\u001b[0mTrainingExpert\u001b[1m)\u001b[0m \u001b[31m User \u001b[0m \u001b[1;34mEntity.USER\u001b[0m\u001b[1m(\u001b[0m          \u001b[1m)\u001b[0m \u001b[1m(\u001b[0m=>TrainingExpert\u001b[1m)\u001b[0m \u001b[1m(\u001b[0mX           \u001b[1m)\u001b[0m       \u001b[1m(\u001b[0m          \u001b[1m)\u001b[0m \u001b[34mWhat are the key steps involved in training a language model?\u001b[0m\n"
      ]
     },
     "metadata": {},
     "output_type": "display_data"
    },
    {
     "data": {
      "text/html": [
       "<pre style=\"white-space:pre;overflow-x:auto;line-height:normal;font-family:Menlo,'DejaVu Sans Mono',consolas,'Courier New',monospace\"><span style=\"color: #800080; text-decoration-color: #800080; font-weight: bold\">...|&gt;&gt;&gt; Starting Agent TrainingExpert (</span><span style=\"color: #800080; text-decoration-color: #800080; font-weight: bold\">1</span><span style=\"color: #800080; text-decoration-color: #800080; font-weight: bold\">) gpt-4o </span>\n",
       "</pre>\n"
      ],
      "text/plain": [
       "\u001b[1;35m...\u001b[0m\u001b[1;35m|>>> Starting Agent TrainingExpert \u001b[0m\u001b[1;35m(\u001b[0m\u001b[1;35m1\u001b[0m\u001b[1;35m)\u001b[0m\u001b[1;35m gpt-4o \u001b[0m\n"
      ]
     },
     "metadata": {},
     "output_type": "display_data"
    },
    {
     "data": {
      "text/html": [
       "<pre style=\"white-space:pre;overflow-x:auto;line-height:normal;font-family:Menlo,'DejaVu Sans Mono',consolas,'Courier New',monospace\"> <span style=\"font-weight: bold\">(</span>TrainingExpert<span style=\"font-weight: bold\">)</span> <span style=\"color: #800000; text-decoration-color: #800000\"> User </span> <span style=\"color: #000080; text-decoration-color: #000080; font-weight: bold\">Entity.USER</span><span style=\"font-weight: bold\">(</span>Entity.USER<span style=\"font-weight: bold\">)</span> <span style=\"font-weight: bold\">(</span>=&gt;TrainingExpert<span style=\"font-weight: bold\">)</span> <span style=\"font-weight: bold\">(</span>X           <span style=\"font-weight: bold\">)</span>       <span style=\"font-weight: bold\">(</span>          <span style=\"font-weight: bold\">)</span> <span style=\"color: #000080; text-decoration-color: #000080; font-weight: bold\">[</span><span style=\"color: #000080; text-decoration-color: #000080\">CANNOT RESPOND</span><span style=\"color: #000080; text-decoration-color: #000080; font-weight: bold\">]</span>\n",
       "</pre>\n"
      ],
      "text/plain": [
       " \u001b[1m(\u001b[0mTrainingExpert\u001b[1m)\u001b[0m \u001b[31m User \u001b[0m \u001b[1;34mEntity.USER\u001b[0m\u001b[1m(\u001b[0mEntity.USER\u001b[1m)\u001b[0m \u001b[1m(\u001b[0m=>TrainingExpert\u001b[1m)\u001b[0m \u001b[1m(\u001b[0mX           \u001b[1m)\u001b[0m       \u001b[1m(\u001b[0m          \u001b[1m)\u001b[0m \u001b[1;34m[\u001b[0m\u001b[34mCANNOT RESPOND\u001b[0m\u001b[1;34m]\u001b[0m\n"
      ]
     },
     "metadata": {},
     "output_type": "display_data"
    },
    {
     "data": {
      "text/html": [
       "<pre style=\"white-space:pre;overflow-x:auto;line-height:normal;font-family:Menlo,'DejaVu Sans Mono',consolas,'Courier New',monospace\"> <span style=\"font-weight: bold\">(</span>TrainingExpert<span style=\"font-weight: bold\">)</span> <span style=\"color: #800000; text-decoration-color: #800000\"> Agent </span>\n",
       "</pre>\n"
      ],
      "text/plain": [
       " \u001b[1m(\u001b[0mTrainingExpert\u001b[1m)\u001b[0m \u001b[31m Agent \u001b[0m\n"
      ]
     },
     "metadata": {},
     "output_type": "display_data"
    },
    {
     "data": {
      "text/html": [
       "<pre style=\"white-space:pre;overflow-x:auto;line-height:normal;font-family:Menlo,'DejaVu Sans Mono',consolas,'Courier New',monospace\"><span style=\"color: #008000; text-decoration-color: #008000\">...|</span></pre>\n"
      ],
      "text/plain": [
       "\u001b[32m...\u001b[0m\u001b[32m|\u001b[0m"
      ]
     },
     "metadata": {},
     "output_type": "display_data"
    },
    {
     "name": "stdout",
     "output_type": "stream",
     "text": [
      "\u001b[32m\u001b[32mThe\u001b[32m key\u001b[32m steps\u001b[32m are\u001b[32m data\u001b[32m collection\u001b[32m and\u001b[32m preprocessing\u001b[32m,\u001b[32m model\u001b[32m selection\u001b[32m,\u001b[32m training\u001b[32m the\u001b[32m model\u001b[32m on\u001b[32m the\u001b[32m data\u001b[32m,\u001b[32m evaluating\u001b[32m its\u001b[32m performance\u001b[32m,\u001b[32m and\u001b[32m fine\u001b[32m-t\u001b[32muning\u001b[32m based\u001b[32m on\u001b[32m the\u001b[32m evaluation\u001b[32m results\u001b[32m."
     ]
    },
    {
     "data": {
      "text/html": [
       "<pre style=\"white-space:pre;overflow-x:auto;line-height:normal;font-family:Menlo,'DejaVu Sans Mono',consolas,'Courier New',monospace\">\n",
       "</pre>\n"
      ],
      "text/plain": [
       "\n"
      ]
     },
     "metadata": {},
     "output_type": "display_data"
    },
    {
     "data": {
      "text/html": [
       "<pre style=\"white-space:pre;overflow-x:auto;line-height:normal;font-family:Menlo,'DejaVu Sans Mono',consolas,'Courier New',monospace\"><span style=\"color: #808000; text-decoration-color: #808000\">...</span>|<span style=\"font-weight: bold\">Stats:</span> <span style=\"color: #800080; text-decoration-color: #800080\">N_MSG</span><span style=\"color: #800080; text-decoration-color: #800080\">=</span><span style=\"color: #800080; text-decoration-color: #800080; font-weight: bold\">2</span><span style=\"color: #800080; text-decoration-color: #800080\">, TOKENS: </span><span style=\"color: #800080; text-decoration-color: #800080\">in</span><span style=\"color: #800080; text-decoration-color: #800080\">=</span><span style=\"color: #800080; text-decoration-color: #800080; font-weight: bold\">66</span><span style=\"color: #800080; text-decoration-color: #800080\">, </span><span style=\"color: #800080; text-decoration-color: #800080\">out</span><span style=\"color: #800080; text-decoration-color: #800080\">=</span><span style=\"color: #800080; text-decoration-color: #800080; font-weight: bold\">33</span><span style=\"color: #800080; text-decoration-color: #800080\">, </span><span style=\"color: #800080; text-decoration-color: #800080\">max</span><span style=\"color: #800080; text-decoration-color: #800080\">=</span><span style=\"color: #800080; text-decoration-color: #800080; font-weight: bold\">1024</span><span style=\"color: #800080; text-decoration-color: #800080\">, </span><span style=\"color: #800080; text-decoration-color: #800080\">ctx</span><span style=\"color: #800080; text-decoration-color: #800080\">=</span><span style=\"color: #800080; text-decoration-color: #800080; font-weight: bold\">128000</span><span style=\"color: #800080; text-decoration-color: #800080\">, COST: </span><span style=\"color: #800080; text-decoration-color: #800080\">now</span><span style=\"color: #800080; text-decoration-color: #800080\">=$</span><span style=\"color: #800080; text-decoration-color: #800080; font-weight: bold\">0.0008</span><span style=\"color: #800080; text-decoration-color: #800080\">, </span><span style=\"color: #800080; text-decoration-color: #800080\">cumul</span><span style=\"color: #800080; text-decoration-color: #800080\">=$</span><span style=\"color: #800080; text-decoration-color: #800080; font-weight: bold\">0.0008</span><span style=\"color: #800080; text-decoration-color: #800080\">, </span><span style=\"color: #800080; text-decoration-color: #800080\">tot</span><span style=\"color: #800080; text-decoration-color: #800080\">=$</span><span style=\"color: #800080; text-decoration-color: #800080; font-weight: bold\">0.0077</span><span style=\"color: #800080; text-decoration-color: #800080\"> </span>\n",
       "<span style=\"color: #800080; text-decoration-color: #800080; font-weight: bold\">(gpt-4o)</span>\n",
       "</pre>\n"
      ],
      "text/plain": [
       "\u001b[33m...\u001b[0m|\u001b[1mStats:\u001b[0m \u001b[35mN_MSG\u001b[0m\u001b[35m=\u001b[0m\u001b[1;35m2\u001b[0m\u001b[35m, TOKENS: \u001b[0m\u001b[35min\u001b[0m\u001b[35m=\u001b[0m\u001b[1;35m66\u001b[0m\u001b[35m, \u001b[0m\u001b[35mout\u001b[0m\u001b[35m=\u001b[0m\u001b[1;35m33\u001b[0m\u001b[35m, \u001b[0m\u001b[35mmax\u001b[0m\u001b[35m=\u001b[0m\u001b[1;35m1024\u001b[0m\u001b[35m, \u001b[0m\u001b[35mctx\u001b[0m\u001b[35m=\u001b[0m\u001b[1;35m128000\u001b[0m\u001b[35m, COST: \u001b[0m\u001b[35mnow\u001b[0m\u001b[35m=$\u001b[0m\u001b[1;35m0.0008\u001b[0m\u001b[35m, \u001b[0m\u001b[35mcumul\u001b[0m\u001b[35m=$\u001b[0m\u001b[1;35m0.0008\u001b[0m\u001b[35m, \u001b[0m\u001b[35mtot\u001b[0m\u001b[35m=$\u001b[0m\u001b[1;35m0.0077\u001b[0m\u001b[35m \u001b[0m\n",
       "\u001b[1;35m(\u001b[0m\u001b[1;35mgpt-4o\u001b[0m\u001b[1;35m)\u001b[0m\n"
      ]
     },
     "metadata": {},
     "output_type": "display_data"
    },
    {
     "data": {
      "text/html": [
       "<pre style=\"white-space:pre;overflow-x:auto;line-height:normal;font-family:Menlo,'DejaVu Sans Mono',consolas,'Courier New',monospace\">*<span style=\"font-weight: bold\">(</span>TrainingExpert<span style=\"font-weight: bold\">)</span> <span style=\"color: #c0c0c0; text-decoration-color: #c0c0c0\"> LLM </span> <span style=\"color: #008000; text-decoration-color: #008000; font-weight: bold\">Entity.LLM</span><span style=\"font-weight: bold\">(</span>          <span style=\"font-weight: bold\">)</span> <span style=\"font-weight: bold\">(</span>=&gt;          <span style=\"font-weight: bold\">)</span> <span style=\"font-weight: bold\">(</span>X           <span style=\"font-weight: bold\">)</span>       <span style=\"font-weight: bold\">(</span>          <span style=\"font-weight: bold\">)</span> <span style=\"color: #008000; text-decoration-color: #008000\">The key steps are data collection and preprocessing, model selection, training the model on the data, </span>\n",
       "<span style=\"color: #008000; text-decoration-color: #008000\">evaluating its performance, and fine-tuning based on the evaluation results.</span>\n",
       "</pre>\n"
      ],
      "text/plain": [
       "*\u001b[1m(\u001b[0mTrainingExpert\u001b[1m)\u001b[0m \u001b[37m LLM \u001b[0m \u001b[1;32mEntity.LLM\u001b[0m\u001b[1m(\u001b[0m          \u001b[1m)\u001b[0m \u001b[1m(\u001b[0m=>          \u001b[1m)\u001b[0m \u001b[1m(\u001b[0mX           \u001b[1m)\u001b[0m       \u001b[1m(\u001b[0m          \u001b[1m)\u001b[0m \u001b[32mThe key steps are data collection and preprocessing, model selection, training the model on the data, \u001b[0m\n",
       "\u001b[32mevaluating its performance, and fine-tuning based on the evaluation results.\u001b[0m\n"
      ]
     },
     "metadata": {},
     "output_type": "display_data"
    },
    {
     "data": {
      "text/html": [
       "<pre style=\"white-space:pre;overflow-x:auto;line-height:normal;font-family:Menlo,'DejaVu Sans Mono',consolas,'Courier New',monospace\"><span style=\"color: #800080; text-decoration-color: #800080; font-weight: bold\">...|&lt;&lt;&lt; Finished Agent TrainingExpert (</span><span style=\"color: #800080; text-decoration-color: #800080; font-weight: bold\">3</span><span style=\"color: #800080; text-decoration-color: #800080; font-weight: bold\">) </span>\n",
       "</pre>\n"
      ],
      "text/plain": [
       "\u001b[1;35m...\u001b[0m\u001b[1;35m|<<< Finished Agent TrainingExpert \u001b[0m\u001b[1;35m(\u001b[0m\u001b[1;35m3\u001b[0m\u001b[1;35m)\u001b[0m\u001b[1;35m \u001b[0m\n"
      ]
     },
     "metadata": {},
     "output_type": "display_data"
    },
    {
     "data": {
      "text/html": [
       "<pre style=\"white-space:pre;overflow-x:auto;line-height:normal;font-family:Menlo,'DejaVu Sans Mono',consolas,'Courier New',monospace\">*<span style=\"font-weight: bold\">(</span>Student<span style=\"font-weight: bold\">)</span> <span style=\"color: #c0c0c0; text-decoration-color: #c0c0c0\"> TrainingExpert </span> <span style=\"color: #000080; text-decoration-color: #000080; font-weight: bold\">Entity.USER</span><span style=\"font-weight: bold\">(</span>TrainingExpert<span style=\"font-weight: bold\">)</span> <span style=\"font-weight: bold\">(</span>=&gt;          <span style=\"font-weight: bold\">)</span> <span style=\"font-weight: bold\">(</span>X           <span style=\"font-weight: bold\">)</span>       <span style=\"font-weight: bold\">(</span>          <span style=\"font-weight: bold\">)</span> <span style=\"color: #000080; text-decoration-color: #000080\">The key steps are data collection and preprocessing, model selection, training the model on the</span>\n",
       "<span style=\"color: #000080; text-decoration-color: #000080\">data, evaluating its performance, and fine-tuning based on the evaluation results.</span>\n",
       "</pre>\n"
      ],
      "text/plain": [
       "*\u001b[1m(\u001b[0mStudent\u001b[1m)\u001b[0m \u001b[37m TrainingExpert \u001b[0m \u001b[1;34mEntity.USER\u001b[0m\u001b[1m(\u001b[0mTrainingExpert\u001b[1m)\u001b[0m \u001b[1m(\u001b[0m=>          \u001b[1m)\u001b[0m \u001b[1m(\u001b[0mX           \u001b[1m)\u001b[0m       \u001b[1m(\u001b[0m          \u001b[1m)\u001b[0m \u001b[34mThe key steps are data collection and preprocessing, model selection, training the model on the\u001b[0m\n",
       "\u001b[34mdata, evaluating its performance, and fine-tuning based on the evaluation results.\u001b[0m\n"
      ]
     },
     "metadata": {},
     "output_type": "display_data"
    },
    {
     "data": {
      "text/html": [
       "<pre style=\"white-space:pre;overflow-x:auto;line-height:normal;font-family:Menlo,'DejaVu Sans Mono',consolas,'Courier New',monospace\"><span style=\"color: #000080; text-decoration-color: #000080\">Human (respond or q, x to exit current level, or hit enter to continue)</span>\n",
       ": </pre>\n"
      ],
      "text/plain": [
       "\u001b[34mHuman (respond or q, x to exit current level, or hit enter to continue)\u001b[0m\n",
       ": "
      ]
     },
     "metadata": {},
     "output_type": "display_data"
    },
    {
     "name": "stdin",
     "output_type": "stream",
     "text": [
      " \n"
     ]
    },
    {
     "data": {
      "text/html": [
       "<pre style=\"white-space:pre;overflow-x:auto;line-height:normal;font-family:Menlo,'DejaVu Sans Mono',consolas,'Courier New',monospace\"> <span style=\"font-weight: bold\">(</span>Student<span style=\"font-weight: bold\">)</span> <span style=\"color: #800000; text-decoration-color: #800000\"> User </span>\n",
       "</pre>\n"
      ],
      "text/plain": [
       " \u001b[1m(\u001b[0mStudent\u001b[1m)\u001b[0m \u001b[31m User \u001b[0m\n"
      ]
     },
     "metadata": {},
     "output_type": "display_data"
    },
    {
     "data": {
      "text/html": [
       "<pre style=\"white-space:pre;overflow-x:auto;line-height:normal;font-family:Menlo,'DejaVu Sans Mono',consolas,'Courier New',monospace\"> <span style=\"font-weight: bold\">(</span>Student<span style=\"font-weight: bold\">)</span> <span style=\"color: #800000; text-decoration-color: #800000\"> Agent </span>\n",
       "</pre>\n"
      ],
      "text/plain": [
       " \u001b[1m(\u001b[0mStudent\u001b[1m)\u001b[0m \u001b[31m Agent \u001b[0m\n"
      ]
     },
     "metadata": {},
     "output_type": "display_data"
    },
    {
     "data": {
      "text/html": [
       "<pre style=\"white-space:pre;overflow-x:auto;line-height:normal;font-family:Menlo,'DejaVu Sans Mono',consolas,'Courier New',monospace\"></pre>\n"
      ],
      "text/plain": []
     },
     "metadata": {},
     "output_type": "display_data"
    },
    {
     "name": "stdout",
     "output_type": "stream",
     "text": [
      "\u001b[32m\u001b[32mFUNC: recipient_message: \u001b[32m{\"\u001b[32mint\u001b[32mended\u001b[32m_rec\u001b[32mipient\u001b[32m\":\"\u001b[32mTraining\u001b[32mExpert\u001b[32m\",\"\u001b[32mcontent\u001b[32m\":\"\u001b[32mCan\u001b[32m you\u001b[32m explain\u001b[32m the\u001b[32m importance\u001b[32m of\u001b[32m data\u001b[32m preprocessing\u001b[32m in\u001b[32m training\u001b[32m language\u001b[32m models\u001b[32m?\"\u001b[32m}"
     ]
    },
    {
     "data": {
      "text/html": [
       "<pre style=\"white-space:pre;overflow-x:auto;line-height:normal;font-family:Menlo,'DejaVu Sans Mono',consolas,'Courier New',monospace\">\n",
       "</pre>\n"
      ],
      "text/plain": [
       "\n"
      ]
     },
     "metadata": {},
     "output_type": "display_data"
    },
    {
     "data": {
      "text/html": [
       "<pre style=\"white-space:pre;overflow-x:auto;line-height:normal;font-family:Menlo,'DejaVu Sans Mono',consolas,'Courier New',monospace\"><span style=\"font-weight: bold\">Stats:</span> <span style=\"color: #800080; text-decoration-color: #800080\">N_MSG</span><span style=\"color: #800080; text-decoration-color: #800080\">=</span><span style=\"color: #800080; text-decoration-color: #800080; font-weight: bold\">3</span><span style=\"color: #800080; text-decoration-color: #800080\">, TOKENS: </span><span style=\"color: #800080; text-decoration-color: #800080\">in</span><span style=\"color: #800080; text-decoration-color: #800080\">=</span><span style=\"color: #800080; text-decoration-color: #800080; font-weight: bold\">348</span><span style=\"color: #800080; text-decoration-color: #800080\">, </span><span style=\"color: #800080; text-decoration-color: #800080\">out</span><span style=\"color: #800080; text-decoration-color: #800080\">=</span><span style=\"color: #800080; text-decoration-color: #800080; font-weight: bold\">56</span><span style=\"color: #800080; text-decoration-color: #800080\">, </span><span style=\"color: #800080; text-decoration-color: #800080\">max</span><span style=\"color: #800080; text-decoration-color: #800080\">=</span><span style=\"color: #800080; text-decoration-color: #800080; font-weight: bold\">1024</span><span style=\"color: #800080; text-decoration-color: #800080\">, </span><span style=\"color: #800080; text-decoration-color: #800080\">ctx</span><span style=\"color: #800080; text-decoration-color: #800080\">=</span><span style=\"color: #800080; text-decoration-color: #800080; font-weight: bold\">128000</span><span style=\"color: #800080; text-decoration-color: #800080\">, COST: </span><span style=\"color: #800080; text-decoration-color: #800080\">now</span><span style=\"color: #800080; text-decoration-color: #800080\">=$</span><span style=\"color: #800080; text-decoration-color: #800080; font-weight: bold\">0.0026</span><span style=\"color: #800080; text-decoration-color: #800080\">, </span><span style=\"color: #800080; text-decoration-color: #800080\">cumul</span><span style=\"color: #800080; text-decoration-color: #800080\">=$</span><span style=\"color: #800080; text-decoration-color: #800080; font-weight: bold\">0.0047</span><span style=\"color: #800080; text-decoration-color: #800080\">, </span><span style=\"color: #800080; text-decoration-color: #800080\">tot</span><span style=\"color: #800080; text-decoration-color: #800080\">=$</span><span style=\"color: #800080; text-decoration-color: #800080; font-weight: bold\">0.0103</span><span style=\"color: #800080; text-decoration-color: #800080\"> </span>\n",
       "<span style=\"color: #800080; text-decoration-color: #800080; font-weight: bold\">(gpt-4o)</span>\n",
       "</pre>\n"
      ],
      "text/plain": [
       "\u001b[1mStats:\u001b[0m \u001b[35mN_MSG\u001b[0m\u001b[35m=\u001b[0m\u001b[1;35m3\u001b[0m\u001b[35m, TOKENS: \u001b[0m\u001b[35min\u001b[0m\u001b[35m=\u001b[0m\u001b[1;35m348\u001b[0m\u001b[35m, \u001b[0m\u001b[35mout\u001b[0m\u001b[35m=\u001b[0m\u001b[1;35m56\u001b[0m\u001b[35m, \u001b[0m\u001b[35mmax\u001b[0m\u001b[35m=\u001b[0m\u001b[1;35m1024\u001b[0m\u001b[35m, \u001b[0m\u001b[35mctx\u001b[0m\u001b[35m=\u001b[0m\u001b[1;35m128000\u001b[0m\u001b[35m, COST: \u001b[0m\u001b[35mnow\u001b[0m\u001b[35m=$\u001b[0m\u001b[1;35m0.0026\u001b[0m\u001b[35m, \u001b[0m\u001b[35mcumul\u001b[0m\u001b[35m=$\u001b[0m\u001b[1;35m0.0047\u001b[0m\u001b[35m, \u001b[0m\u001b[35mtot\u001b[0m\u001b[35m=$\u001b[0m\u001b[1;35m0.0103\u001b[0m\u001b[35m \u001b[0m\n",
       "\u001b[1;35m(\u001b[0m\u001b[1;35mgpt-4o\u001b[0m\u001b[1;35m)\u001b[0m\n"
      ]
     },
     "metadata": {},
     "output_type": "display_data"
    },
    {
     "data": {
      "text/html": [
       "<pre style=\"white-space:pre;overflow-x:auto;line-height:normal;font-family:Menlo,'DejaVu Sans Mono',consolas,'Courier New',monospace\">*<span style=\"font-weight: bold\">(</span>Student<span style=\"font-weight: bold\">)</span> <span style=\"color: #c0c0c0; text-decoration-color: #c0c0c0\"> LLM </span> <span style=\"color: #008000; text-decoration-color: #008000; font-weight: bold\">Entity.LLM</span><span style=\"font-weight: bold\">(</span>          <span style=\"font-weight: bold\">)</span> <span style=\"font-weight: bold\">(</span>=&gt;          <span style=\"font-weight: bold\">)</span> <span style=\"font-weight: bold\">(</span>X           <span style=\"font-weight: bold\">)</span>   <span style=\"color: #800080; text-decoration-color: #800080; font-weight: bold\">FUNC</span><span style=\"font-weight: bold\">(</span>recipient_message<span style=\"font-weight: bold\">)</span> <span style=\"color: #008000; text-decoration-color: #008000\">FUNC: </span><span style=\"color: #008000; text-decoration-color: #008000; font-weight: bold\">{</span>\n",
       "<span style=\"color: #008000; text-decoration-color: #008000\">  </span><span style=\"color: #008000; text-decoration-color: #008000\">\"name\"</span><span style=\"color: #008000; text-decoration-color: #008000\">: </span><span style=\"color: #008000; text-decoration-color: #008000\">\"recipient_message\"</span><span style=\"color: #008000; text-decoration-color: #008000\">,</span>\n",
       "<span style=\"color: #008000; text-decoration-color: #008000\">  </span><span style=\"color: #008000; text-decoration-color: #008000\">\"arguments\"</span><span style=\"color: #008000; text-decoration-color: #008000\">: </span><span style=\"color: #008000; text-decoration-color: #008000; font-weight: bold\">{</span>\n",
       "<span style=\"color: #008000; text-decoration-color: #008000\">    </span><span style=\"color: #008000; text-decoration-color: #008000\">\"intended_recipient\"</span><span style=\"color: #008000; text-decoration-color: #008000\">: </span><span style=\"color: #008000; text-decoration-color: #008000\">\"TrainingExpert\"</span><span style=\"color: #008000; text-decoration-color: #008000\">,</span>\n",
       "<span style=\"color: #008000; text-decoration-color: #008000\">    </span><span style=\"color: #008000; text-decoration-color: #008000\">\"content\"</span><span style=\"color: #008000; text-decoration-color: #008000\">: </span><span style=\"color: #008000; text-decoration-color: #008000\">\"Can you explain the importance of data preprocessing in training language models?\"</span>\n",
       "<span style=\"color: #008000; text-decoration-color: #008000\">  </span><span style=\"color: #008000; text-decoration-color: #008000; font-weight: bold\">}</span>\n",
       "<span style=\"color: #008000; text-decoration-color: #008000; font-weight: bold\">}</span>\n",
       "</pre>\n"
      ],
      "text/plain": [
       "*\u001b[1m(\u001b[0mStudent\u001b[1m)\u001b[0m \u001b[37m LLM \u001b[0m \u001b[1;32mEntity.LLM\u001b[0m\u001b[1m(\u001b[0m          \u001b[1m)\u001b[0m \u001b[1m(\u001b[0m=>          \u001b[1m)\u001b[0m \u001b[1m(\u001b[0mX           \u001b[1m)\u001b[0m   \u001b[1;35mFUNC\u001b[0m\u001b[1m(\u001b[0mrecipient_message\u001b[1m)\u001b[0m \u001b[32mFUNC: \u001b[0m\u001b[1;32m{\u001b[0m\n",
       "\u001b[32m  \u001b[0m\u001b[32m\"name\"\u001b[0m\u001b[32m: \u001b[0m\u001b[32m\"recipient_message\"\u001b[0m\u001b[32m,\u001b[0m\n",
       "\u001b[32m  \u001b[0m\u001b[32m\"arguments\"\u001b[0m\u001b[32m: \u001b[0m\u001b[1;32m{\u001b[0m\n",
       "\u001b[32m    \u001b[0m\u001b[32m\"intended_recipient\"\u001b[0m\u001b[32m: \u001b[0m\u001b[32m\"TrainingExpert\"\u001b[0m\u001b[32m,\u001b[0m\n",
       "\u001b[32m    \u001b[0m\u001b[32m\"content\"\u001b[0m\u001b[32m: \u001b[0m\u001b[32m\"Can you explain the importance of data preprocessing in training language models?\"\u001b[0m\n",
       "\u001b[32m  \u001b[0m\u001b[1;32m}\u001b[0m\n",
       "\u001b[1;32m}\u001b[0m\n"
      ]
     },
     "metadata": {},
     "output_type": "display_data"
    },
    {
     "data": {
      "text/html": [
       "<pre style=\"white-space:pre;overflow-x:auto;line-height:normal;font-family:Menlo,'DejaVu Sans Mono',consolas,'Courier New',monospace\"><span style=\"color: #800000; text-decoration-color: #800000\">RecipientTool: Validated properly addressed message</span>\n",
       "</pre>\n"
      ],
      "text/plain": [
       "\u001b[31mRecipientTool: Validated properly addressed message\u001b[0m\n"
      ]
     },
     "metadata": {},
     "output_type": "display_data"
    },
    {
     "data": {
      "text/html": [
       "<pre style=\"white-space:pre;overflow-x:auto;line-height:normal;font-family:Menlo,'DejaVu Sans Mono',consolas,'Courier New',monospace\">*<span style=\"font-weight: bold\">(</span>Student<span style=\"font-weight: bold\">)</span> <span style=\"color: #c0c0c0; text-decoration-color: #c0c0c0\"> Agent </span> <span style=\"color: #008000; text-decoration-color: #008000; font-weight: bold\">Entity.LLM</span><span style=\"font-weight: bold\">(</span>          <span style=\"font-weight: bold\">)</span> <span style=\"font-weight: bold\">(</span>=&gt;TrainingExpert<span style=\"font-weight: bold\">)</span> <span style=\"font-weight: bold\">(</span>X           <span style=\"font-weight: bold\">)</span>       <span style=\"font-weight: bold\">(</span>          <span style=\"font-weight: bold\">)</span> <span style=\"color: #008000; text-decoration-color: #008000\">Can you explain the importance of data preprocessing in training language models?</span>\n",
       "</pre>\n"
      ],
      "text/plain": [
       "*\u001b[1m(\u001b[0mStudent\u001b[1m)\u001b[0m \u001b[37m Agent \u001b[0m \u001b[1;32mEntity.LLM\u001b[0m\u001b[1m(\u001b[0m          \u001b[1m)\u001b[0m \u001b[1m(\u001b[0m=>TrainingExpert\u001b[1m)\u001b[0m \u001b[1m(\u001b[0mX           \u001b[1m)\u001b[0m       \u001b[1m(\u001b[0m          \u001b[1m)\u001b[0m \u001b[32mCan you explain the importance of data preprocessing in training language models?\u001b[0m\n"
      ]
     },
     "metadata": {},
     "output_type": "display_data"
    },
    {
     "data": {
      "text/html": [
       "<pre style=\"white-space:pre;overflow-x:auto;line-height:normal;font-family:Menlo,'DejaVu Sans Mono',consolas,'Courier New',monospace\"> <span style=\"font-weight: bold\">(</span>Student<span style=\"font-weight: bold\">)</span> <span style=\"color: #800000; text-decoration-color: #800000\"> User </span> <span style=\"color: #000080; text-decoration-color: #000080; font-weight: bold\">Entity.USER</span><span style=\"font-weight: bold\">(</span>Entity.USER<span style=\"font-weight: bold\">)</span> <span style=\"font-weight: bold\">(</span>=&gt;TrainingExpert<span style=\"font-weight: bold\">)</span> <span style=\"font-weight: bold\">(</span>X           <span style=\"font-weight: bold\">)</span>       <span style=\"font-weight: bold\">(</span>          <span style=\"font-weight: bold\">)</span> <span style=\"color: #000080; text-decoration-color: #000080; font-weight: bold\">[</span><span style=\"color: #000080; text-decoration-color: #000080\">CANNOT RESPOND</span><span style=\"color: #000080; text-decoration-color: #000080; font-weight: bold\">]</span>\n",
       "</pre>\n"
      ],
      "text/plain": [
       " \u001b[1m(\u001b[0mStudent\u001b[1m)\u001b[0m \u001b[31m User \u001b[0m \u001b[1;34mEntity.USER\u001b[0m\u001b[1m(\u001b[0mEntity.USER\u001b[1m)\u001b[0m \u001b[1m(\u001b[0m=>TrainingExpert\u001b[1m)\u001b[0m \u001b[1m(\u001b[0mX           \u001b[1m)\u001b[0m       \u001b[1m(\u001b[0m          \u001b[1m)\u001b[0m \u001b[1;34m[\u001b[0m\u001b[34mCANNOT RESPOND\u001b[0m\u001b[1;34m]\u001b[0m\n"
      ]
     },
     "metadata": {},
     "output_type": "display_data"
    },
    {
     "data": {
      "text/html": [
       "<pre style=\"white-space:pre;overflow-x:auto;line-height:normal;font-family:Menlo,'DejaVu Sans Mono',consolas,'Courier New',monospace\"> <span style=\"font-weight: bold\">(</span>Student<span style=\"font-weight: bold\">)</span> <span style=\"color: #800000; text-decoration-color: #800000\"> Agent </span> <span style=\"color: #800000; text-decoration-color: #800000; font-weight: bold\">Entity.AGENT</span><span style=\"font-weight: bold\">(</span>Entity.AGENT<span style=\"font-weight: bold\">)</span> <span style=\"font-weight: bold\">(</span>=&gt;TrainingExpert<span style=\"font-weight: bold\">)</span> <span style=\"font-weight: bold\">(</span>X           <span style=\"font-weight: bold\">)</span>       <span style=\"font-weight: bold\">(</span>          <span style=\"font-weight: bold\">)</span> <span style=\"color: #800000; text-decoration-color: #800000; font-weight: bold\">[</span><span style=\"color: #800000; text-decoration-color: #800000\">CANNOT RESPOND</span><span style=\"color: #800000; text-decoration-color: #800000; font-weight: bold\">]</span>\n",
       "</pre>\n"
      ],
      "text/plain": [
       " \u001b[1m(\u001b[0mStudent\u001b[1m)\u001b[0m \u001b[31m Agent \u001b[0m \u001b[1;31mEntity.AGENT\u001b[0m\u001b[1m(\u001b[0mEntity.AGENT\u001b[1m)\u001b[0m \u001b[1m(\u001b[0m=>TrainingExpert\u001b[1m)\u001b[0m \u001b[1m(\u001b[0mX           \u001b[1m)\u001b[0m       \u001b[1m(\u001b[0m          \u001b[1m)\u001b[0m \u001b[1;31m[\u001b[0m\u001b[31mCANNOT RESPOND\u001b[0m\u001b[1;31m]\u001b[0m\n"
      ]
     },
     "metadata": {},
     "output_type": "display_data"
    },
    {
     "data": {
      "text/html": [
       "<pre style=\"white-space:pre;overflow-x:auto;line-height:normal;font-family:Menlo,'DejaVu Sans Mono',consolas,'Courier New',monospace\"> <span style=\"font-weight: bold\">(</span>Student<span style=\"font-weight: bold\">)</span> <span style=\"color: #800000; text-decoration-color: #800000\"> LLM </span> <span style=\"color: #008000; text-decoration-color: #008000; font-weight: bold\">Entity.LLM</span><span style=\"font-weight: bold\">(</span>Entity.LLM<span style=\"font-weight: bold\">)</span> <span style=\"font-weight: bold\">(</span>=&gt;TrainingExpert<span style=\"font-weight: bold\">)</span> <span style=\"font-weight: bold\">(</span>X           <span style=\"font-weight: bold\">)</span>       <span style=\"font-weight: bold\">(</span>          <span style=\"font-weight: bold\">)</span> <span style=\"color: #008000; text-decoration-color: #008000; font-weight: bold\">[</span><span style=\"color: #008000; text-decoration-color: #008000\">CANNOT RESPOND</span><span style=\"color: #008000; text-decoration-color: #008000; font-weight: bold\">]</span>\n",
       "</pre>\n"
      ],
      "text/plain": [
       " \u001b[1m(\u001b[0mStudent\u001b[1m)\u001b[0m \u001b[31m LLM \u001b[0m \u001b[1;32mEntity.LLM\u001b[0m\u001b[1m(\u001b[0mEntity.LLM\u001b[1m)\u001b[0m \u001b[1m(\u001b[0m=>TrainingExpert\u001b[1m)\u001b[0m \u001b[1m(\u001b[0mX           \u001b[1m)\u001b[0m       \u001b[1m(\u001b[0m          \u001b[1m)\u001b[0m \u001b[1;32m[\u001b[0m\u001b[32mCANNOT RESPOND\u001b[0m\u001b[1;32m]\u001b[0m\n"
      ]
     },
     "metadata": {},
     "output_type": "display_data"
    },
    {
     "data": {
      "text/html": [
       "<pre style=\"white-space:pre;overflow-x:auto;line-height:normal;font-family:Menlo,'DejaVu Sans Mono',consolas,'Courier New',monospace\"> <span style=\"font-weight: bold\">(</span>TrainingExpert<span style=\"font-weight: bold\">)</span> <span style=\"color: #800000; text-decoration-color: #800000\"> User </span> <span style=\"color: #000080; text-decoration-color: #000080; font-weight: bold\">Entity.USER</span><span style=\"font-weight: bold\">(</span>          <span style=\"font-weight: bold\">)</span> <span style=\"font-weight: bold\">(</span>=&gt;TrainingExpert<span style=\"font-weight: bold\">)</span> <span style=\"font-weight: bold\">(</span>X           <span style=\"font-weight: bold\">)</span>       <span style=\"font-weight: bold\">(</span>          <span style=\"font-weight: bold\">)</span> <span style=\"color: #000080; text-decoration-color: #000080\">Can you explain the importance of data preprocessing in training language models?</span>\n",
       "</pre>\n"
      ],
      "text/plain": [
       " \u001b[1m(\u001b[0mTrainingExpert\u001b[1m)\u001b[0m \u001b[31m User \u001b[0m \u001b[1;34mEntity.USER\u001b[0m\u001b[1m(\u001b[0m          \u001b[1m)\u001b[0m \u001b[1m(\u001b[0m=>TrainingExpert\u001b[1m)\u001b[0m \u001b[1m(\u001b[0mX           \u001b[1m)\u001b[0m       \u001b[1m(\u001b[0m          \u001b[1m)\u001b[0m \u001b[34mCan you explain the importance of data preprocessing in training language models?\u001b[0m\n"
      ]
     },
     "metadata": {},
     "output_type": "display_data"
    },
    {
     "data": {
      "text/html": [
       "<pre style=\"white-space:pre;overflow-x:auto;line-height:normal;font-family:Menlo,'DejaVu Sans Mono',consolas,'Courier New',monospace\"><span style=\"color: #800080; text-decoration-color: #800080; font-weight: bold\">...|&gt;&gt;&gt; Starting Agent TrainingExpert (</span><span style=\"color: #800080; text-decoration-color: #800080; font-weight: bold\">3</span><span style=\"color: #800080; text-decoration-color: #800080; font-weight: bold\">) gpt-4o </span>\n",
       "</pre>\n"
      ],
      "text/plain": [
       "\u001b[1;35m...\u001b[0m\u001b[1;35m|>>> Starting Agent TrainingExpert \u001b[0m\u001b[1;35m(\u001b[0m\u001b[1;35m3\u001b[0m\u001b[1;35m)\u001b[0m\u001b[1;35m gpt-4o \u001b[0m\n"
      ]
     },
     "metadata": {},
     "output_type": "display_data"
    },
    {
     "data": {
      "text/html": [
       "<pre style=\"white-space:pre;overflow-x:auto;line-height:normal;font-family:Menlo,'DejaVu Sans Mono',consolas,'Courier New',monospace\"> <span style=\"font-weight: bold\">(</span>TrainingExpert<span style=\"font-weight: bold\">)</span> <span style=\"color: #800000; text-decoration-color: #800000\"> User </span> <span style=\"color: #000080; text-decoration-color: #000080; font-weight: bold\">Entity.USER</span><span style=\"font-weight: bold\">(</span>Entity.USER<span style=\"font-weight: bold\">)</span> <span style=\"font-weight: bold\">(</span>=&gt;TrainingExpert<span style=\"font-weight: bold\">)</span> <span style=\"font-weight: bold\">(</span>X           <span style=\"font-weight: bold\">)</span>       <span style=\"font-weight: bold\">(</span>          <span style=\"font-weight: bold\">)</span> <span style=\"color: #000080; text-decoration-color: #000080; font-weight: bold\">[</span><span style=\"color: #000080; text-decoration-color: #000080\">CANNOT RESPOND</span><span style=\"color: #000080; text-decoration-color: #000080; font-weight: bold\">]</span>\n",
       "</pre>\n"
      ],
      "text/plain": [
       " \u001b[1m(\u001b[0mTrainingExpert\u001b[1m)\u001b[0m \u001b[31m User \u001b[0m \u001b[1;34mEntity.USER\u001b[0m\u001b[1m(\u001b[0mEntity.USER\u001b[1m)\u001b[0m \u001b[1m(\u001b[0m=>TrainingExpert\u001b[1m)\u001b[0m \u001b[1m(\u001b[0mX           \u001b[1m)\u001b[0m       \u001b[1m(\u001b[0m          \u001b[1m)\u001b[0m \u001b[1;34m[\u001b[0m\u001b[34mCANNOT RESPOND\u001b[0m\u001b[1;34m]\u001b[0m\n"
      ]
     },
     "metadata": {},
     "output_type": "display_data"
    },
    {
     "data": {
      "text/html": [
       "<pre style=\"white-space:pre;overflow-x:auto;line-height:normal;font-family:Menlo,'DejaVu Sans Mono',consolas,'Courier New',monospace\"> <span style=\"font-weight: bold\">(</span>TrainingExpert<span style=\"font-weight: bold\">)</span> <span style=\"color: #800000; text-decoration-color: #800000\"> Agent </span>\n",
       "</pre>\n"
      ],
      "text/plain": [
       " \u001b[1m(\u001b[0mTrainingExpert\u001b[1m)\u001b[0m \u001b[31m Agent \u001b[0m\n"
      ]
     },
     "metadata": {},
     "output_type": "display_data"
    },
    {
     "data": {
      "text/html": [
       "<pre style=\"white-space:pre;overflow-x:auto;line-height:normal;font-family:Menlo,'DejaVu Sans Mono',consolas,'Courier New',monospace\"><span style=\"color: #008000; text-decoration-color: #008000\">...|</span></pre>\n"
      ],
      "text/plain": [
       "\u001b[32m...\u001b[0m\u001b[32m|\u001b[0m"
      ]
     },
     "metadata": {},
     "output_type": "display_data"
    },
    {
     "name": "stdout",
     "output_type": "stream",
     "text": [
      "\u001b[32m\u001b[32mData\u001b[32m preprocessing\u001b[32m is\u001b[32m crucial\u001b[32m because\u001b[32m it\u001b[32m cleans\u001b[32m and\u001b[32m formats\u001b[32m the\u001b[32m raw\u001b[32m text\u001b[32m data\u001b[32m,\u001b[32m removing\u001b[32m noise\u001b[32m and\u001b[32m inconsist\u001b[32mencies\u001b[32m,\u001b[32m which\u001b[32m helps\u001b[32m the\u001b[32m model\u001b[32m learn\u001b[32m more\u001b[32m effectively\u001b[32m and\u001b[32m improves\u001b[32m its\u001b[32m overall\u001b[32m performance\u001b[32m."
     ]
    },
    {
     "data": {
      "text/html": [
       "<pre style=\"white-space:pre;overflow-x:auto;line-height:normal;font-family:Menlo,'DejaVu Sans Mono',consolas,'Courier New',monospace\">\n",
       "</pre>\n"
      ],
      "text/plain": [
       "\n"
      ]
     },
     "metadata": {},
     "output_type": "display_data"
    },
    {
     "data": {
      "text/html": [
       "<pre style=\"white-space:pre;overflow-x:auto;line-height:normal;font-family:Menlo,'DejaVu Sans Mono',consolas,'Courier New',monospace\"><span style=\"color: #808000; text-decoration-color: #808000\">...</span>|<span style=\"font-weight: bold\">Stats:</span> <span style=\"color: #800080; text-decoration-color: #800080\">N_MSG</span><span style=\"color: #800080; text-decoration-color: #800080\">=</span><span style=\"color: #800080; text-decoration-color: #800080; font-weight: bold\">4</span><span style=\"color: #800080; text-decoration-color: #800080\">, TOKENS: </span><span style=\"color: #800080; text-decoration-color: #800080\">in</span><span style=\"color: #800080; text-decoration-color: #800080\">=</span><span style=\"color: #800080; text-decoration-color: #800080; font-weight: bold\">112</span><span style=\"color: #800080; text-decoration-color: #800080\">, </span><span style=\"color: #800080; text-decoration-color: #800080\">out</span><span style=\"color: #800080; text-decoration-color: #800080\">=</span><span style=\"color: #800080; text-decoration-color: #800080; font-weight: bold\">32</span><span style=\"color: #800080; text-decoration-color: #800080\">, </span><span style=\"color: #800080; text-decoration-color: #800080\">max</span><span style=\"color: #800080; text-decoration-color: #800080\">=</span><span style=\"color: #800080; text-decoration-color: #800080; font-weight: bold\">1024</span><span style=\"color: #800080; text-decoration-color: #800080\">, </span><span style=\"color: #800080; text-decoration-color: #800080\">ctx</span><span style=\"color: #800080; text-decoration-color: #800080\">=</span><span style=\"color: #800080; text-decoration-color: #800080; font-weight: bold\">128000</span><span style=\"color: #800080; text-decoration-color: #800080\">, COST: </span><span style=\"color: #800080; text-decoration-color: #800080\">now</span><span style=\"color: #800080; text-decoration-color: #800080\">=$</span><span style=\"color: #800080; text-decoration-color: #800080; font-weight: bold\">0.0010</span><span style=\"color: #800080; text-decoration-color: #800080\">, </span><span style=\"color: #800080; text-decoration-color: #800080\">cumul</span><span style=\"color: #800080; text-decoration-color: #800080\">=$</span><span style=\"color: #800080; text-decoration-color: #800080; font-weight: bold\">0.0019</span><span style=\"color: #800080; text-decoration-color: #800080\">, </span><span style=\"color: #800080; text-decoration-color: #800080\">tot</span><span style=\"color: #800080; text-decoration-color: #800080\">=$</span><span style=\"color: #800080; text-decoration-color: #800080; font-weight: bold\">0.0113</span><span style=\"color: #800080; text-decoration-color: #800080\"> </span>\n",
       "<span style=\"color: #800080; text-decoration-color: #800080; font-weight: bold\">(gpt-4o)</span>\n",
       "</pre>\n"
      ],
      "text/plain": [
       "\u001b[33m...\u001b[0m|\u001b[1mStats:\u001b[0m \u001b[35mN_MSG\u001b[0m\u001b[35m=\u001b[0m\u001b[1;35m4\u001b[0m\u001b[35m, TOKENS: \u001b[0m\u001b[35min\u001b[0m\u001b[35m=\u001b[0m\u001b[1;35m112\u001b[0m\u001b[35m, \u001b[0m\u001b[35mout\u001b[0m\u001b[35m=\u001b[0m\u001b[1;35m32\u001b[0m\u001b[35m, \u001b[0m\u001b[35mmax\u001b[0m\u001b[35m=\u001b[0m\u001b[1;35m1024\u001b[0m\u001b[35m, \u001b[0m\u001b[35mctx\u001b[0m\u001b[35m=\u001b[0m\u001b[1;35m128000\u001b[0m\u001b[35m, COST: \u001b[0m\u001b[35mnow\u001b[0m\u001b[35m=$\u001b[0m\u001b[1;35m0.0010\u001b[0m\u001b[35m, \u001b[0m\u001b[35mcumul\u001b[0m\u001b[35m=$\u001b[0m\u001b[1;35m0.0019\u001b[0m\u001b[35m, \u001b[0m\u001b[35mtot\u001b[0m\u001b[35m=$\u001b[0m\u001b[1;35m0.0113\u001b[0m\u001b[35m \u001b[0m\n",
       "\u001b[1;35m(\u001b[0m\u001b[1;35mgpt-4o\u001b[0m\u001b[1;35m)\u001b[0m\n"
      ]
     },
     "metadata": {},
     "output_type": "display_data"
    },
    {
     "data": {
      "text/html": [
       "<pre style=\"white-space:pre;overflow-x:auto;line-height:normal;font-family:Menlo,'DejaVu Sans Mono',consolas,'Courier New',monospace\">*<span style=\"font-weight: bold\">(</span>TrainingExpert<span style=\"font-weight: bold\">)</span> <span style=\"color: #c0c0c0; text-decoration-color: #c0c0c0\"> LLM </span> <span style=\"color: #008000; text-decoration-color: #008000; font-weight: bold\">Entity.LLM</span><span style=\"font-weight: bold\">(</span>          <span style=\"font-weight: bold\">)</span> <span style=\"font-weight: bold\">(</span>=&gt;          <span style=\"font-weight: bold\">)</span> <span style=\"font-weight: bold\">(</span>X           <span style=\"font-weight: bold\">)</span>       <span style=\"font-weight: bold\">(</span>          <span style=\"font-weight: bold\">)</span> <span style=\"color: #008000; text-decoration-color: #008000\">Data preprocessing is crucial because it cleans and formats the raw text data, removing noise and </span>\n",
       "<span style=\"color: #008000; text-decoration-color: #008000\">inconsistencies, which helps the model learn more effectively and improves its overall performance.</span>\n",
       "</pre>\n"
      ],
      "text/plain": [
       "*\u001b[1m(\u001b[0mTrainingExpert\u001b[1m)\u001b[0m \u001b[37m LLM \u001b[0m \u001b[1;32mEntity.LLM\u001b[0m\u001b[1m(\u001b[0m          \u001b[1m)\u001b[0m \u001b[1m(\u001b[0m=>          \u001b[1m)\u001b[0m \u001b[1m(\u001b[0mX           \u001b[1m)\u001b[0m       \u001b[1m(\u001b[0m          \u001b[1m)\u001b[0m \u001b[32mData preprocessing is crucial because it cleans and formats the raw text data, removing noise and \u001b[0m\n",
       "\u001b[32minconsistencies, which helps the model learn more effectively and improves its overall performance.\u001b[0m\n"
      ]
     },
     "metadata": {},
     "output_type": "display_data"
    },
    {
     "data": {
      "text/html": [
       "<pre style=\"white-space:pre;overflow-x:auto;line-height:normal;font-family:Menlo,'DejaVu Sans Mono',consolas,'Courier New',monospace\"><span style=\"color: #800080; text-decoration-color: #800080; font-weight: bold\">...|&lt;&lt;&lt; Finished Agent TrainingExpert (</span><span style=\"color: #800080; text-decoration-color: #800080; font-weight: bold\">5</span><span style=\"color: #800080; text-decoration-color: #800080; font-weight: bold\">) </span>\n",
       "</pre>\n"
      ],
      "text/plain": [
       "\u001b[1;35m...\u001b[0m\u001b[1;35m|<<< Finished Agent TrainingExpert \u001b[0m\u001b[1;35m(\u001b[0m\u001b[1;35m5\u001b[0m\u001b[1;35m)\u001b[0m\u001b[1;35m \u001b[0m\n"
      ]
     },
     "metadata": {},
     "output_type": "display_data"
    },
    {
     "data": {
      "text/html": [
       "<pre style=\"white-space:pre;overflow-x:auto;line-height:normal;font-family:Menlo,'DejaVu Sans Mono',consolas,'Courier New',monospace\">*<span style=\"font-weight: bold\">(</span>Student<span style=\"font-weight: bold\">)</span> <span style=\"color: #c0c0c0; text-decoration-color: #c0c0c0\"> TrainingExpert </span> <span style=\"color: #000080; text-decoration-color: #000080; font-weight: bold\">Entity.USER</span><span style=\"font-weight: bold\">(</span>TrainingExpert<span style=\"font-weight: bold\">)</span> <span style=\"font-weight: bold\">(</span>=&gt;          <span style=\"font-weight: bold\">)</span> <span style=\"font-weight: bold\">(</span>X           <span style=\"font-weight: bold\">)</span>       <span style=\"font-weight: bold\">(</span>          <span style=\"font-weight: bold\">)</span> <span style=\"color: #000080; text-decoration-color: #000080\">Data preprocessing is crucial because it cleans and formats the raw text data, removing noise </span>\n",
       "<span style=\"color: #000080; text-decoration-color: #000080\">and inconsistencies, which helps the model learn more effectively and improves its overall performance.</span>\n",
       "</pre>\n"
      ],
      "text/plain": [
       "*\u001b[1m(\u001b[0mStudent\u001b[1m)\u001b[0m \u001b[37m TrainingExpert \u001b[0m \u001b[1;34mEntity.USER\u001b[0m\u001b[1m(\u001b[0mTrainingExpert\u001b[1m)\u001b[0m \u001b[1m(\u001b[0m=>          \u001b[1m)\u001b[0m \u001b[1m(\u001b[0mX           \u001b[1m)\u001b[0m       \u001b[1m(\u001b[0m          \u001b[1m)\u001b[0m \u001b[34mData preprocessing is crucial because it cleans and formats the raw text data, removing noise \u001b[0m\n",
       "\u001b[34mand inconsistencies, which helps the model learn more effectively and improves its overall performance.\u001b[0m\n"
      ]
     },
     "metadata": {},
     "output_type": "display_data"
    },
    {
     "data": {
      "text/html": [
       "<pre style=\"white-space:pre;overflow-x:auto;line-height:normal;font-family:Menlo,'DejaVu Sans Mono',consolas,'Courier New',monospace\"><span style=\"color: #000080; text-decoration-color: #000080\">Human (respond or q, x to exit current level, or hit enter to continue)</span>\n",
       ": </pre>\n"
      ],
      "text/plain": [
       "\u001b[34mHuman (respond or q, x to exit current level, or hit enter to continue)\u001b[0m\n",
       ": "
      ]
     },
     "metadata": {},
     "output_type": "display_data"
    },
    {
     "name": "stdin",
     "output_type": "stream",
     "text": [
      " \n"
     ]
    },
    {
     "data": {
      "text/html": [
       "<pre style=\"white-space:pre;overflow-x:auto;line-height:normal;font-family:Menlo,'DejaVu Sans Mono',consolas,'Courier New',monospace\"> <span style=\"font-weight: bold\">(</span>Student<span style=\"font-weight: bold\">)</span> <span style=\"color: #800000; text-decoration-color: #800000\"> User </span>\n",
       "</pre>\n"
      ],
      "text/plain": [
       " \u001b[1m(\u001b[0mStudent\u001b[1m)\u001b[0m \u001b[31m User \u001b[0m\n"
      ]
     },
     "metadata": {},
     "output_type": "display_data"
    },
    {
     "data": {
      "text/html": [
       "<pre style=\"white-space:pre;overflow-x:auto;line-height:normal;font-family:Menlo,'DejaVu Sans Mono',consolas,'Courier New',monospace\"> <span style=\"font-weight: bold\">(</span>Student<span style=\"font-weight: bold\">)</span> <span style=\"color: #800000; text-decoration-color: #800000\"> Agent </span>\n",
       "</pre>\n"
      ],
      "text/plain": [
       " \u001b[1m(\u001b[0mStudent\u001b[1m)\u001b[0m \u001b[31m Agent \u001b[0m\n"
      ]
     },
     "metadata": {},
     "output_type": "display_data"
    },
    {
     "data": {
      "text/html": [
       "<pre style=\"white-space:pre;overflow-x:auto;line-height:normal;font-family:Menlo,'DejaVu Sans Mono',consolas,'Courier New',monospace\"></pre>\n"
      ],
      "text/plain": []
     },
     "metadata": {},
     "output_type": "display_data"
    },
    {
     "name": "stdout",
     "output_type": "stream",
     "text": [
      "\u001b[32m\u001b[32mFUNC: recipient_message: \u001b[32m{\"\u001b[32mint\u001b[32mended\u001b[32m_rec\u001b[32mipient\u001b[32m\":\"\u001b[32mEvaluation\u001b[32mExpert\u001b[32m\",\"\u001b[32mcontent\u001b[32m\":\"\u001b[32mWhat\u001b[32m are\u001b[32m the\u001b[32m common\u001b[32m metrics\u001b[32m used\u001b[32m to\u001b[32m evaluate\u001b[32m the\u001b[32m performance\u001b[32m of\u001b[32m language\u001b[32m models\u001b[32m?\u001b[32m\",\"\u001b[32mrequest\u001b[32m\":\"\u001b[32mrecipient\u001b[32m_message\u001b[32m\"}"
     ]
    },
    {
     "data": {
      "text/html": [
       "<pre style=\"white-space:pre;overflow-x:auto;line-height:normal;font-family:Menlo,'DejaVu Sans Mono',consolas,'Courier New',monospace\">\n",
       "</pre>\n"
      ],
      "text/plain": [
       "\n"
      ]
     },
     "metadata": {},
     "output_type": "display_data"
    },
    {
     "data": {
      "text/html": [
       "<pre style=\"white-space:pre;overflow-x:auto;line-height:normal;font-family:Menlo,'DejaVu Sans Mono',consolas,'Courier New',monospace\"><span style=\"font-weight: bold\">Stats:</span> <span style=\"color: #800080; text-decoration-color: #800080\">N_MSG</span><span style=\"color: #800080; text-decoration-color: #800080\">=</span><span style=\"color: #800080; text-decoration-color: #800080; font-weight: bold\">5</span><span style=\"color: #800080; text-decoration-color: #800080\">, TOKENS: </span><span style=\"color: #800080; text-decoration-color: #800080\">in</span><span style=\"color: #800080; text-decoration-color: #800080\">=</span><span style=\"color: #800080; text-decoration-color: #800080; font-weight: bold\">436</span><span style=\"color: #800080; text-decoration-color: #800080\">, </span><span style=\"color: #800080; text-decoration-color: #800080\">out</span><span style=\"color: #800080; text-decoration-color: #800080\">=</span><span style=\"color: #800080; text-decoration-color: #800080; font-weight: bold\">57</span><span style=\"color: #800080; text-decoration-color: #800080\">, </span><span style=\"color: #800080; text-decoration-color: #800080\">max</span><span style=\"color: #800080; text-decoration-color: #800080\">=</span><span style=\"color: #800080; text-decoration-color: #800080; font-weight: bold\">1024</span><span style=\"color: #800080; text-decoration-color: #800080\">, </span><span style=\"color: #800080; text-decoration-color: #800080\">ctx</span><span style=\"color: #800080; text-decoration-color: #800080\">=</span><span style=\"color: #800080; text-decoration-color: #800080; font-weight: bold\">128000</span><span style=\"color: #800080; text-decoration-color: #800080\">, COST: </span><span style=\"color: #800080; text-decoration-color: #800080\">now</span><span style=\"color: #800080; text-decoration-color: #800080\">=$</span><span style=\"color: #800080; text-decoration-color: #800080; font-weight: bold\">0.0030</span><span style=\"color: #800080; text-decoration-color: #800080\">, </span><span style=\"color: #800080; text-decoration-color: #800080\">cumul</span><span style=\"color: #800080; text-decoration-color: #800080\">=$</span><span style=\"color: #800080; text-decoration-color: #800080; font-weight: bold\">0.0077</span><span style=\"color: #800080; text-decoration-color: #800080\">, </span><span style=\"color: #800080; text-decoration-color: #800080\">tot</span><span style=\"color: #800080; text-decoration-color: #800080\">=$</span><span style=\"color: #800080; text-decoration-color: #800080; font-weight: bold\">0.0143</span><span style=\"color: #800080; text-decoration-color: #800080\"> </span>\n",
       "<span style=\"color: #800080; text-decoration-color: #800080; font-weight: bold\">(gpt-4o)</span>\n",
       "</pre>\n"
      ],
      "text/plain": [
       "\u001b[1mStats:\u001b[0m \u001b[35mN_MSG\u001b[0m\u001b[35m=\u001b[0m\u001b[1;35m5\u001b[0m\u001b[35m, TOKENS: \u001b[0m\u001b[35min\u001b[0m\u001b[35m=\u001b[0m\u001b[1;35m436\u001b[0m\u001b[35m, \u001b[0m\u001b[35mout\u001b[0m\u001b[35m=\u001b[0m\u001b[1;35m57\u001b[0m\u001b[35m, \u001b[0m\u001b[35mmax\u001b[0m\u001b[35m=\u001b[0m\u001b[1;35m1024\u001b[0m\u001b[35m, \u001b[0m\u001b[35mctx\u001b[0m\u001b[35m=\u001b[0m\u001b[1;35m128000\u001b[0m\u001b[35m, COST: \u001b[0m\u001b[35mnow\u001b[0m\u001b[35m=$\u001b[0m\u001b[1;35m0.0030\u001b[0m\u001b[35m, \u001b[0m\u001b[35mcumul\u001b[0m\u001b[35m=$\u001b[0m\u001b[1;35m0.0077\u001b[0m\u001b[35m, \u001b[0m\u001b[35mtot\u001b[0m\u001b[35m=$\u001b[0m\u001b[1;35m0.0143\u001b[0m\u001b[35m \u001b[0m\n",
       "\u001b[1;35m(\u001b[0m\u001b[1;35mgpt-4o\u001b[0m\u001b[1;35m)\u001b[0m\n"
      ]
     },
     "metadata": {},
     "output_type": "display_data"
    },
    {
     "data": {
      "text/html": [
       "<pre style=\"white-space:pre;overflow-x:auto;line-height:normal;font-family:Menlo,'DejaVu Sans Mono',consolas,'Courier New',monospace\">*<span style=\"font-weight: bold\">(</span>Student<span style=\"font-weight: bold\">)</span> <span style=\"color: #c0c0c0; text-decoration-color: #c0c0c0\"> LLM </span> <span style=\"color: #008000; text-decoration-color: #008000; font-weight: bold\">Entity.LLM</span><span style=\"font-weight: bold\">(</span>          <span style=\"font-weight: bold\">)</span> <span style=\"font-weight: bold\">(</span>=&gt;          <span style=\"font-weight: bold\">)</span> <span style=\"font-weight: bold\">(</span>X           <span style=\"font-weight: bold\">)</span>   <span style=\"color: #800080; text-decoration-color: #800080; font-weight: bold\">FUNC</span><span style=\"font-weight: bold\">(</span>recipient_message<span style=\"font-weight: bold\">)</span> <span style=\"color: #008000; text-decoration-color: #008000\">FUNC: </span><span style=\"color: #008000; text-decoration-color: #008000; font-weight: bold\">{</span>\n",
       "<span style=\"color: #008000; text-decoration-color: #008000\">  </span><span style=\"color: #008000; text-decoration-color: #008000\">\"name\"</span><span style=\"color: #008000; text-decoration-color: #008000\">: </span><span style=\"color: #008000; text-decoration-color: #008000\">\"recipient_message\"</span><span style=\"color: #008000; text-decoration-color: #008000\">,</span>\n",
       "<span style=\"color: #008000; text-decoration-color: #008000\">  </span><span style=\"color: #008000; text-decoration-color: #008000\">\"arguments\"</span><span style=\"color: #008000; text-decoration-color: #008000\">: </span><span style=\"color: #008000; text-decoration-color: #008000; font-weight: bold\">{</span>\n",
       "<span style=\"color: #008000; text-decoration-color: #008000\">    </span><span style=\"color: #008000; text-decoration-color: #008000\">\"intended_recipient\"</span><span style=\"color: #008000; text-decoration-color: #008000\">: </span><span style=\"color: #008000; text-decoration-color: #008000\">\"EvaluationExpert\"</span><span style=\"color: #008000; text-decoration-color: #008000\">,</span>\n",
       "<span style=\"color: #008000; text-decoration-color: #008000\">    </span><span style=\"color: #008000; text-decoration-color: #008000\">\"content\"</span><span style=\"color: #008000; text-decoration-color: #008000\">: </span><span style=\"color: #008000; text-decoration-color: #008000\">\"What are the common metrics used to evaluate the performance of language models?\"</span>\n",
       "<span style=\"color: #008000; text-decoration-color: #008000\">  </span><span style=\"color: #008000; text-decoration-color: #008000; font-weight: bold\">}</span>\n",
       "<span style=\"color: #008000; text-decoration-color: #008000; font-weight: bold\">}</span>\n",
       "</pre>\n"
      ],
      "text/plain": [
       "*\u001b[1m(\u001b[0mStudent\u001b[1m)\u001b[0m \u001b[37m LLM \u001b[0m \u001b[1;32mEntity.LLM\u001b[0m\u001b[1m(\u001b[0m          \u001b[1m)\u001b[0m \u001b[1m(\u001b[0m=>          \u001b[1m)\u001b[0m \u001b[1m(\u001b[0mX           \u001b[1m)\u001b[0m   \u001b[1;35mFUNC\u001b[0m\u001b[1m(\u001b[0mrecipient_message\u001b[1m)\u001b[0m \u001b[32mFUNC: \u001b[0m\u001b[1;32m{\u001b[0m\n",
       "\u001b[32m  \u001b[0m\u001b[32m\"name\"\u001b[0m\u001b[32m: \u001b[0m\u001b[32m\"recipient_message\"\u001b[0m\u001b[32m,\u001b[0m\n",
       "\u001b[32m  \u001b[0m\u001b[32m\"arguments\"\u001b[0m\u001b[32m: \u001b[0m\u001b[1;32m{\u001b[0m\n",
       "\u001b[32m    \u001b[0m\u001b[32m\"intended_recipient\"\u001b[0m\u001b[32m: \u001b[0m\u001b[32m\"EvaluationExpert\"\u001b[0m\u001b[32m,\u001b[0m\n",
       "\u001b[32m    \u001b[0m\u001b[32m\"content\"\u001b[0m\u001b[32m: \u001b[0m\u001b[32m\"What are the common metrics used to evaluate the performance of language models?\"\u001b[0m\n",
       "\u001b[32m  \u001b[0m\u001b[1;32m}\u001b[0m\n",
       "\u001b[1;32m}\u001b[0m\n"
      ]
     },
     "metadata": {},
     "output_type": "display_data"
    },
    {
     "data": {
      "text/html": [
       "<pre style=\"white-space:pre;overflow-x:auto;line-height:normal;font-family:Menlo,'DejaVu Sans Mono',consolas,'Courier New',monospace\"><span style=\"color: #800000; text-decoration-color: #800000\">RecipientTool: Validated properly addressed message</span>\n",
       "</pre>\n"
      ],
      "text/plain": [
       "\u001b[31mRecipientTool: Validated properly addressed message\u001b[0m\n"
      ]
     },
     "metadata": {},
     "output_type": "display_data"
    },
    {
     "data": {
      "text/html": [
       "<pre style=\"white-space:pre;overflow-x:auto;line-height:normal;font-family:Menlo,'DejaVu Sans Mono',consolas,'Courier New',monospace\">*<span style=\"font-weight: bold\">(</span>Student<span style=\"font-weight: bold\">)</span> <span style=\"color: #c0c0c0; text-decoration-color: #c0c0c0\"> Agent </span> <span style=\"color: #008000; text-decoration-color: #008000; font-weight: bold\">Entity.LLM</span><span style=\"font-weight: bold\">(</span>          <span style=\"font-weight: bold\">)</span> <span style=\"font-weight: bold\">(</span>=&gt;EvaluationExpert<span style=\"font-weight: bold\">)</span> <span style=\"font-weight: bold\">(</span>X           <span style=\"font-weight: bold\">)</span>       <span style=\"font-weight: bold\">(</span>          <span style=\"font-weight: bold\">)</span> <span style=\"color: #008000; text-decoration-color: #008000\">What are the common metrics used to evaluate the performance of language models?</span>\n",
       "</pre>\n"
      ],
      "text/plain": [
       "*\u001b[1m(\u001b[0mStudent\u001b[1m)\u001b[0m \u001b[37m Agent \u001b[0m \u001b[1;32mEntity.LLM\u001b[0m\u001b[1m(\u001b[0m          \u001b[1m)\u001b[0m \u001b[1m(\u001b[0m=>EvaluationExpert\u001b[1m)\u001b[0m \u001b[1m(\u001b[0mX           \u001b[1m)\u001b[0m       \u001b[1m(\u001b[0m          \u001b[1m)\u001b[0m \u001b[32mWhat are the common metrics used to evaluate the performance of language models?\u001b[0m\n"
      ]
     },
     "metadata": {},
     "output_type": "display_data"
    },
    {
     "data": {
      "text/html": [
       "<pre style=\"white-space:pre;overflow-x:auto;line-height:normal;font-family:Menlo,'DejaVu Sans Mono',consolas,'Courier New',monospace\"> <span style=\"font-weight: bold\">(</span>Student<span style=\"font-weight: bold\">)</span> <span style=\"color: #800000; text-decoration-color: #800000\"> User </span> <span style=\"color: #000080; text-decoration-color: #000080; font-weight: bold\">Entity.USER</span><span style=\"font-weight: bold\">(</span>Entity.USER<span style=\"font-weight: bold\">)</span> <span style=\"font-weight: bold\">(</span>=&gt;EvaluationExpert<span style=\"font-weight: bold\">)</span> <span style=\"font-weight: bold\">(</span>X           <span style=\"font-weight: bold\">)</span>       <span style=\"font-weight: bold\">(</span>          <span style=\"font-weight: bold\">)</span> <span style=\"color: #000080; text-decoration-color: #000080; font-weight: bold\">[</span><span style=\"color: #000080; text-decoration-color: #000080\">CANNOT RESPOND</span><span style=\"color: #000080; text-decoration-color: #000080; font-weight: bold\">]</span>\n",
       "</pre>\n"
      ],
      "text/plain": [
       " \u001b[1m(\u001b[0mStudent\u001b[1m)\u001b[0m \u001b[31m User \u001b[0m \u001b[1;34mEntity.USER\u001b[0m\u001b[1m(\u001b[0mEntity.USER\u001b[1m)\u001b[0m \u001b[1m(\u001b[0m=>EvaluationExpert\u001b[1m)\u001b[0m \u001b[1m(\u001b[0mX           \u001b[1m)\u001b[0m       \u001b[1m(\u001b[0m          \u001b[1m)\u001b[0m \u001b[1;34m[\u001b[0m\u001b[34mCANNOT RESPOND\u001b[0m\u001b[1;34m]\u001b[0m\n"
      ]
     },
     "metadata": {},
     "output_type": "display_data"
    },
    {
     "data": {
      "text/html": [
       "<pre style=\"white-space:pre;overflow-x:auto;line-height:normal;font-family:Menlo,'DejaVu Sans Mono',consolas,'Courier New',monospace\"> <span style=\"font-weight: bold\">(</span>Student<span style=\"font-weight: bold\">)</span> <span style=\"color: #800000; text-decoration-color: #800000\"> Agent </span> <span style=\"color: #800000; text-decoration-color: #800000; font-weight: bold\">Entity.AGENT</span><span style=\"font-weight: bold\">(</span>Entity.AGENT<span style=\"font-weight: bold\">)</span> <span style=\"font-weight: bold\">(</span>=&gt;EvaluationExpert<span style=\"font-weight: bold\">)</span> <span style=\"font-weight: bold\">(</span>X           <span style=\"font-weight: bold\">)</span>       <span style=\"font-weight: bold\">(</span>          <span style=\"font-weight: bold\">)</span> <span style=\"color: #800000; text-decoration-color: #800000; font-weight: bold\">[</span><span style=\"color: #800000; text-decoration-color: #800000\">CANNOT RESPOND</span><span style=\"color: #800000; text-decoration-color: #800000; font-weight: bold\">]</span>\n",
       "</pre>\n"
      ],
      "text/plain": [
       " \u001b[1m(\u001b[0mStudent\u001b[1m)\u001b[0m \u001b[31m Agent \u001b[0m \u001b[1;31mEntity.AGENT\u001b[0m\u001b[1m(\u001b[0mEntity.AGENT\u001b[1m)\u001b[0m \u001b[1m(\u001b[0m=>EvaluationExpert\u001b[1m)\u001b[0m \u001b[1m(\u001b[0mX           \u001b[1m)\u001b[0m       \u001b[1m(\u001b[0m          \u001b[1m)\u001b[0m \u001b[1;31m[\u001b[0m\u001b[31mCANNOT RESPOND\u001b[0m\u001b[1;31m]\u001b[0m\n"
      ]
     },
     "metadata": {},
     "output_type": "display_data"
    },
    {
     "data": {
      "text/html": [
       "<pre style=\"white-space:pre;overflow-x:auto;line-height:normal;font-family:Menlo,'DejaVu Sans Mono',consolas,'Courier New',monospace\"> <span style=\"font-weight: bold\">(</span>Student<span style=\"font-weight: bold\">)</span> <span style=\"color: #800000; text-decoration-color: #800000\"> LLM </span> <span style=\"color: #008000; text-decoration-color: #008000; font-weight: bold\">Entity.LLM</span><span style=\"font-weight: bold\">(</span>Entity.LLM<span style=\"font-weight: bold\">)</span> <span style=\"font-weight: bold\">(</span>=&gt;EvaluationExpert<span style=\"font-weight: bold\">)</span> <span style=\"font-weight: bold\">(</span>X           <span style=\"font-weight: bold\">)</span>       <span style=\"font-weight: bold\">(</span>          <span style=\"font-weight: bold\">)</span> <span style=\"color: #008000; text-decoration-color: #008000; font-weight: bold\">[</span><span style=\"color: #008000; text-decoration-color: #008000\">CANNOT RESPOND</span><span style=\"color: #008000; text-decoration-color: #008000; font-weight: bold\">]</span>\n",
       "</pre>\n"
      ],
      "text/plain": [
       " \u001b[1m(\u001b[0mStudent\u001b[1m)\u001b[0m \u001b[31m LLM \u001b[0m \u001b[1;32mEntity.LLM\u001b[0m\u001b[1m(\u001b[0mEntity.LLM\u001b[1m)\u001b[0m \u001b[1m(\u001b[0m=>EvaluationExpert\u001b[1m)\u001b[0m \u001b[1m(\u001b[0mX           \u001b[1m)\u001b[0m       \u001b[1m(\u001b[0m          \u001b[1m)\u001b[0m \u001b[1;32m[\u001b[0m\u001b[32mCANNOT RESPOND\u001b[0m\u001b[1;32m]\u001b[0m\n"
      ]
     },
     "metadata": {},
     "output_type": "display_data"
    },
    {
     "data": {
      "text/html": [
       "<pre style=\"white-space:pre;overflow-x:auto;line-height:normal;font-family:Menlo,'DejaVu Sans Mono',consolas,'Courier New',monospace\"> <span style=\"font-weight: bold\">(</span>Student<span style=\"font-weight: bold\">)</span> <span style=\"color: #800000; text-decoration-color: #800000\"> TrainingExpert </span> <span style=\"color: #000080; text-decoration-color: #000080; font-weight: bold\">Entity.USER</span><span style=\"font-weight: bold\">(</span>TrainingExpert<span style=\"font-weight: bold\">)</span> <span style=\"font-weight: bold\">(</span>=&gt;EvaluationExpert<span style=\"font-weight: bold\">)</span> <span style=\"font-weight: bold\">(</span>X           <span style=\"font-weight: bold\">)</span>       <span style=\"font-weight: bold\">(</span>          <span style=\"font-weight: bold\">)</span> <span style=\"color: #000080; text-decoration-color: #000080; font-weight: bold\">[</span><span style=\"color: #000080; text-decoration-color: #000080\">CANNOT RESPOND</span><span style=\"color: #000080; text-decoration-color: #000080; font-weight: bold\">]</span>\n",
       "</pre>\n"
      ],
      "text/plain": [
       " \u001b[1m(\u001b[0mStudent\u001b[1m)\u001b[0m \u001b[31m TrainingExpert \u001b[0m \u001b[1;34mEntity.USER\u001b[0m\u001b[1m(\u001b[0mTrainingExpert\u001b[1m)\u001b[0m \u001b[1m(\u001b[0m=>EvaluationExpert\u001b[1m)\u001b[0m \u001b[1m(\u001b[0mX           \u001b[1m)\u001b[0m       \u001b[1m(\u001b[0m          \u001b[1m)\u001b[0m \u001b[1;34m[\u001b[0m\u001b[34mCANNOT RESPOND\u001b[0m\u001b[1;34m]\u001b[0m\n"
      ]
     },
     "metadata": {},
     "output_type": "display_data"
    },
    {
     "data": {
      "text/html": [
       "<pre style=\"white-space:pre;overflow-x:auto;line-height:normal;font-family:Menlo,'DejaVu Sans Mono',consolas,'Courier New',monospace\"> <span style=\"font-weight: bold\">(</span>EvaluationExpert<span style=\"font-weight: bold\">)</span> <span style=\"color: #800000; text-decoration-color: #800000\"> User </span> <span style=\"color: #000080; text-decoration-color: #000080; font-weight: bold\">Entity.USER</span><span style=\"font-weight: bold\">(</span>          <span style=\"font-weight: bold\">)</span> <span style=\"font-weight: bold\">(</span>=&gt;EvaluationExpert<span style=\"font-weight: bold\">)</span> <span style=\"font-weight: bold\">(</span>X           <span style=\"font-weight: bold\">)</span>       <span style=\"font-weight: bold\">(</span>          <span style=\"font-weight: bold\">)</span> <span style=\"color: #000080; text-decoration-color: #000080\">What are the common metrics used to evaluate the performance of language models?</span>\n",
       "</pre>\n"
      ],
      "text/plain": [
       " \u001b[1m(\u001b[0mEvaluationExpert\u001b[1m)\u001b[0m \u001b[31m User \u001b[0m \u001b[1;34mEntity.USER\u001b[0m\u001b[1m(\u001b[0m          \u001b[1m)\u001b[0m \u001b[1m(\u001b[0m=>EvaluationExpert\u001b[1m)\u001b[0m \u001b[1m(\u001b[0mX           \u001b[1m)\u001b[0m       \u001b[1m(\u001b[0m          \u001b[1m)\u001b[0m \u001b[34mWhat are the common metrics used to evaluate the performance of language models?\u001b[0m\n"
      ]
     },
     "metadata": {},
     "output_type": "display_data"
    },
    {
     "data": {
      "text/html": [
       "<pre style=\"white-space:pre;overflow-x:auto;line-height:normal;font-family:Menlo,'DejaVu Sans Mono',consolas,'Courier New',monospace\"><span style=\"color: #800080; text-decoration-color: #800080; font-weight: bold\">...|&gt;&gt;&gt; Starting Agent EvaluationExpert (</span><span style=\"color: #800080; text-decoration-color: #800080; font-weight: bold\">1</span><span style=\"color: #800080; text-decoration-color: #800080; font-weight: bold\">) gpt-4o </span>\n",
       "</pre>\n"
      ],
      "text/plain": [
       "\u001b[1;35m...\u001b[0m\u001b[1;35m|>>> Starting Agent EvaluationExpert \u001b[0m\u001b[1;35m(\u001b[0m\u001b[1;35m1\u001b[0m\u001b[1;35m)\u001b[0m\u001b[1;35m gpt-4o \u001b[0m\n"
      ]
     },
     "metadata": {},
     "output_type": "display_data"
    },
    {
     "data": {
      "text/html": [
       "<pre style=\"white-space:pre;overflow-x:auto;line-height:normal;font-family:Menlo,'DejaVu Sans Mono',consolas,'Courier New',monospace\"> <span style=\"font-weight: bold\">(</span>EvaluationExpert<span style=\"font-weight: bold\">)</span> <span style=\"color: #800000; text-decoration-color: #800000\"> User </span> <span style=\"color: #000080; text-decoration-color: #000080; font-weight: bold\">Entity.USER</span><span style=\"font-weight: bold\">(</span>Entity.USER<span style=\"font-weight: bold\">)</span> <span style=\"font-weight: bold\">(</span>=&gt;EvaluationExpert<span style=\"font-weight: bold\">)</span> <span style=\"font-weight: bold\">(</span>X           <span style=\"font-weight: bold\">)</span>       <span style=\"font-weight: bold\">(</span>          <span style=\"font-weight: bold\">)</span> <span style=\"color: #000080; text-decoration-color: #000080; font-weight: bold\">[</span><span style=\"color: #000080; text-decoration-color: #000080\">CANNOT RESPOND</span><span style=\"color: #000080; text-decoration-color: #000080; font-weight: bold\">]</span>\n",
       "</pre>\n"
      ],
      "text/plain": [
       " \u001b[1m(\u001b[0mEvaluationExpert\u001b[1m)\u001b[0m \u001b[31m User \u001b[0m \u001b[1;34mEntity.USER\u001b[0m\u001b[1m(\u001b[0mEntity.USER\u001b[1m)\u001b[0m \u001b[1m(\u001b[0m=>EvaluationExpert\u001b[1m)\u001b[0m \u001b[1m(\u001b[0mX           \u001b[1m)\u001b[0m       \u001b[1m(\u001b[0m          \u001b[1m)\u001b[0m \u001b[1;34m[\u001b[0m\u001b[34mCANNOT RESPOND\u001b[0m\u001b[1;34m]\u001b[0m\n"
      ]
     },
     "metadata": {},
     "output_type": "display_data"
    },
    {
     "data": {
      "text/html": [
       "<pre style=\"white-space:pre;overflow-x:auto;line-height:normal;font-family:Menlo,'DejaVu Sans Mono',consolas,'Courier New',monospace\"> <span style=\"font-weight: bold\">(</span>EvaluationExpert<span style=\"font-weight: bold\">)</span> <span style=\"color: #800000; text-decoration-color: #800000\"> Agent </span>\n",
       "</pre>\n"
      ],
      "text/plain": [
       " \u001b[1m(\u001b[0mEvaluationExpert\u001b[1m)\u001b[0m \u001b[31m Agent \u001b[0m\n"
      ]
     },
     "metadata": {},
     "output_type": "display_data"
    },
    {
     "data": {
      "text/html": [
       "<pre style=\"white-space:pre;overflow-x:auto;line-height:normal;font-family:Menlo,'DejaVu Sans Mono',consolas,'Courier New',monospace\"><span style=\"color: #008000; text-decoration-color: #008000\">...|</span></pre>\n"
      ],
      "text/plain": [
       "\u001b[32m...\u001b[0m\u001b[32m|\u001b[0m"
      ]
     },
     "metadata": {},
     "output_type": "display_data"
    },
    {
     "name": "stdout",
     "output_type": "stream",
     "text": [
      "\u001b[32m\u001b[32mCommon\u001b[32m metrics\u001b[32m include\u001b[32m perplex\u001b[32mity\u001b[32m,\u001b[32m BLE\u001b[32mU\u001b[32m (\u001b[32mB\u001b[32milingual\u001b[32m Evaluation\u001b[32m Under\u001b[32mstudy\u001b[32m),\u001b[32m RO\u001b[32mUGE\u001b[32m (\u001b[32mRecall\u001b[32m-Or\u001b[32miented\u001b[32m Under\u001b[32mstudy\u001b[32m for\u001b[32m G\u001b[32misting\u001b[32m Evaluation\u001b[32m),\u001b[32m and\u001b[32m accuracy\u001b[32m,\u001b[32m depending\u001b[32m on\u001b[32m the\u001b[32m specific\u001b[32m task\u001b[32m like\u001b[32m translation\u001b[32m,\u001b[32m summar\u001b[32mization\u001b[32m,\u001b[32m or\u001b[32m classification\u001b[32m."
     ]
    },
    {
     "data": {
      "text/html": [
       "<pre style=\"white-space:pre;overflow-x:auto;line-height:normal;font-family:Menlo,'DejaVu Sans Mono',consolas,'Courier New',monospace\">\n",
       "</pre>\n"
      ],
      "text/plain": [
       "\n"
      ]
     },
     "metadata": {},
     "output_type": "display_data"
    },
    {
     "data": {
      "text/html": [
       "<pre style=\"white-space:pre;overflow-x:auto;line-height:normal;font-family:Menlo,'DejaVu Sans Mono',consolas,'Courier New',monospace\"><span style=\"color: #808000; text-decoration-color: #808000\">...</span>|<span style=\"font-weight: bold\">Stats:</span> <span style=\"color: #800080; text-decoration-color: #800080\">N_MSG</span><span style=\"color: #800080; text-decoration-color: #800080\">=</span><span style=\"color: #800080; text-decoration-color: #800080; font-weight: bold\">2</span><span style=\"color: #800080; text-decoration-color: #800080\">, TOKENS: </span><span style=\"color: #800080; text-decoration-color: #800080\">in</span><span style=\"color: #800080; text-decoration-color: #800080\">=</span><span style=\"color: #800080; text-decoration-color: #800080; font-weight: bold\">69</span><span style=\"color: #800080; text-decoration-color: #800080\">, </span><span style=\"color: #800080; text-decoration-color: #800080\">out</span><span style=\"color: #800080; text-decoration-color: #800080\">=</span><span style=\"color: #800080; text-decoration-color: #800080; font-weight: bold\">47</span><span style=\"color: #800080; text-decoration-color: #800080\">, </span><span style=\"color: #800080; text-decoration-color: #800080\">max</span><span style=\"color: #800080; text-decoration-color: #800080\">=</span><span style=\"color: #800080; text-decoration-color: #800080; font-weight: bold\">1024</span><span style=\"color: #800080; text-decoration-color: #800080\">, </span><span style=\"color: #800080; text-decoration-color: #800080\">ctx</span><span style=\"color: #800080; text-decoration-color: #800080\">=</span><span style=\"color: #800080; text-decoration-color: #800080; font-weight: bold\">128000</span><span style=\"color: #800080; text-decoration-color: #800080\">, COST: </span><span style=\"color: #800080; text-decoration-color: #800080\">now</span><span style=\"color: #800080; text-decoration-color: #800080\">=$</span><span style=\"color: #800080; text-decoration-color: #800080; font-weight: bold\">0.0011</span><span style=\"color: #800080; text-decoration-color: #800080\">, </span><span style=\"color: #800080; text-decoration-color: #800080\">cumul</span><span style=\"color: #800080; text-decoration-color: #800080\">=$</span><span style=\"color: #800080; text-decoration-color: #800080; font-weight: bold\">0.0011</span><span style=\"color: #800080; text-decoration-color: #800080\">, </span><span style=\"color: #800080; text-decoration-color: #800080\">tot</span><span style=\"color: #800080; text-decoration-color: #800080\">=$</span><span style=\"color: #800080; text-decoration-color: #800080; font-weight: bold\">0.0154</span><span style=\"color: #800080; text-decoration-color: #800080\"> </span>\n",
       "<span style=\"color: #800080; text-decoration-color: #800080; font-weight: bold\">(gpt-4o)</span>\n",
       "</pre>\n"
      ],
      "text/plain": [
       "\u001b[33m...\u001b[0m|\u001b[1mStats:\u001b[0m \u001b[35mN_MSG\u001b[0m\u001b[35m=\u001b[0m\u001b[1;35m2\u001b[0m\u001b[35m, TOKENS: \u001b[0m\u001b[35min\u001b[0m\u001b[35m=\u001b[0m\u001b[1;35m69\u001b[0m\u001b[35m, \u001b[0m\u001b[35mout\u001b[0m\u001b[35m=\u001b[0m\u001b[1;35m47\u001b[0m\u001b[35m, \u001b[0m\u001b[35mmax\u001b[0m\u001b[35m=\u001b[0m\u001b[1;35m1024\u001b[0m\u001b[35m, \u001b[0m\u001b[35mctx\u001b[0m\u001b[35m=\u001b[0m\u001b[1;35m128000\u001b[0m\u001b[35m, COST: \u001b[0m\u001b[35mnow\u001b[0m\u001b[35m=$\u001b[0m\u001b[1;35m0.0011\u001b[0m\u001b[35m, \u001b[0m\u001b[35mcumul\u001b[0m\u001b[35m=$\u001b[0m\u001b[1;35m0.0011\u001b[0m\u001b[35m, \u001b[0m\u001b[35mtot\u001b[0m\u001b[35m=$\u001b[0m\u001b[1;35m0.0154\u001b[0m\u001b[35m \u001b[0m\n",
       "\u001b[1;35m(\u001b[0m\u001b[1;35mgpt-4o\u001b[0m\u001b[1;35m)\u001b[0m\n"
      ]
     },
     "metadata": {},
     "output_type": "display_data"
    },
    {
     "data": {
      "text/html": [
       "<pre style=\"white-space:pre;overflow-x:auto;line-height:normal;font-family:Menlo,'DejaVu Sans Mono',consolas,'Courier New',monospace\">*<span style=\"font-weight: bold\">(</span>EvaluationExpert<span style=\"font-weight: bold\">)</span> <span style=\"color: #c0c0c0; text-decoration-color: #c0c0c0\"> LLM </span> <span style=\"color: #008000; text-decoration-color: #008000; font-weight: bold\">Entity.LLM</span><span style=\"font-weight: bold\">(</span>          <span style=\"font-weight: bold\">)</span> <span style=\"font-weight: bold\">(</span>=&gt;          <span style=\"font-weight: bold\">)</span> <span style=\"font-weight: bold\">(</span>X           <span style=\"font-weight: bold\">)</span>       <span style=\"font-weight: bold\">(</span>          <span style=\"font-weight: bold\">)</span> <span style=\"color: #008000; text-decoration-color: #008000\">Common metrics include perplexity, BLEU </span><span style=\"color: #008000; text-decoration-color: #008000; font-weight: bold\">(</span><span style=\"color: #008000; text-decoration-color: #008000\">Bilingual Evaluation Understudy</span><span style=\"color: #008000; text-decoration-color: #008000; font-weight: bold\">)</span><span style=\"color: #008000; text-decoration-color: #008000\">, ROUGE </span><span style=\"color: #008000; text-decoration-color: #008000; font-weight: bold\">(</span><span style=\"color: #008000; text-decoration-color: #008000\">Recall-Oriented </span>\n",
       "<span style=\"color: #008000; text-decoration-color: #008000\">Understudy for Gisting Evaluation</span><span style=\"color: #008000; text-decoration-color: #008000; font-weight: bold\">)</span><span style=\"color: #008000; text-decoration-color: #008000\">, and accuracy, depending on the specific task like translation, summarization, or classification.</span>\n",
       "</pre>\n"
      ],
      "text/plain": [
       "*\u001b[1m(\u001b[0mEvaluationExpert\u001b[1m)\u001b[0m \u001b[37m LLM \u001b[0m \u001b[1;32mEntity.LLM\u001b[0m\u001b[1m(\u001b[0m          \u001b[1m)\u001b[0m \u001b[1m(\u001b[0m=>          \u001b[1m)\u001b[0m \u001b[1m(\u001b[0mX           \u001b[1m)\u001b[0m       \u001b[1m(\u001b[0m          \u001b[1m)\u001b[0m \u001b[32mCommon metrics include perplexity, BLEU \u001b[0m\u001b[1;32m(\u001b[0m\u001b[32mBilingual Evaluation Understudy\u001b[0m\u001b[1;32m)\u001b[0m\u001b[32m, ROUGE \u001b[0m\u001b[1;32m(\u001b[0m\u001b[32mRecall-Oriented \u001b[0m\n",
       "\u001b[32mUnderstudy for Gisting Evaluation\u001b[0m\u001b[1;32m)\u001b[0m\u001b[32m, and accuracy, depending on the specific task like translation, summarization, or classification.\u001b[0m\n"
      ]
     },
     "metadata": {},
     "output_type": "display_data"
    },
    {
     "data": {
      "text/html": [
       "<pre style=\"white-space:pre;overflow-x:auto;line-height:normal;font-family:Menlo,'DejaVu Sans Mono',consolas,'Courier New',monospace\"><span style=\"color: #800080; text-decoration-color: #800080; font-weight: bold\">...|&lt;&lt;&lt; Finished Agent EvaluationExpert (</span><span style=\"color: #800080; text-decoration-color: #800080; font-weight: bold\">3</span><span style=\"color: #800080; text-decoration-color: #800080; font-weight: bold\">) </span>\n",
       "</pre>\n"
      ],
      "text/plain": [
       "\u001b[1;35m...\u001b[0m\u001b[1;35m|<<< Finished Agent EvaluationExpert \u001b[0m\u001b[1;35m(\u001b[0m\u001b[1;35m3\u001b[0m\u001b[1;35m)\u001b[0m\u001b[1;35m \u001b[0m\n"
      ]
     },
     "metadata": {},
     "output_type": "display_data"
    },
    {
     "data": {
      "text/html": [
       "<pre style=\"white-space:pre;overflow-x:auto;line-height:normal;font-family:Menlo,'DejaVu Sans Mono',consolas,'Courier New',monospace\">*<span style=\"font-weight: bold\">(</span>Student<span style=\"font-weight: bold\">)</span> <span style=\"color: #c0c0c0; text-decoration-color: #c0c0c0\"> EvaluationExpert </span> <span style=\"color: #000080; text-decoration-color: #000080; font-weight: bold\">Entity.USER</span><span style=\"font-weight: bold\">(</span>EvaluationExpert<span style=\"font-weight: bold\">)</span> <span style=\"font-weight: bold\">(</span>=&gt;          <span style=\"font-weight: bold\">)</span> <span style=\"font-weight: bold\">(</span>X           <span style=\"font-weight: bold\">)</span>       <span style=\"font-weight: bold\">(</span>          <span style=\"font-weight: bold\">)</span> <span style=\"color: #000080; text-decoration-color: #000080\">Common metrics include perplexity, BLEU </span><span style=\"color: #000080; text-decoration-color: #000080; font-weight: bold\">(</span><span style=\"color: #000080; text-decoration-color: #000080\">Bilingual Evaluation Understudy</span><span style=\"color: #000080; text-decoration-color: #000080; font-weight: bold\">)</span><span style=\"color: #000080; text-decoration-color: #000080\">, ROUGE </span>\n",
       "<span style=\"color: #000080; text-decoration-color: #000080; font-weight: bold\">(</span><span style=\"color: #000080; text-decoration-color: #000080\">Recall-Oriented Understudy for Gisting Evaluation</span><span style=\"color: #000080; text-decoration-color: #000080; font-weight: bold\">)</span><span style=\"color: #000080; text-decoration-color: #000080\">, and accuracy, depending on the specific task like translation, summarization, or classification.</span>\n",
       "</pre>\n"
      ],
      "text/plain": [
       "*\u001b[1m(\u001b[0mStudent\u001b[1m)\u001b[0m \u001b[37m EvaluationExpert \u001b[0m \u001b[1;34mEntity.USER\u001b[0m\u001b[1m(\u001b[0mEvaluationExpert\u001b[1m)\u001b[0m \u001b[1m(\u001b[0m=>          \u001b[1m)\u001b[0m \u001b[1m(\u001b[0mX           \u001b[1m)\u001b[0m       \u001b[1m(\u001b[0m          \u001b[1m)\u001b[0m \u001b[34mCommon metrics include perplexity, BLEU \u001b[0m\u001b[1;34m(\u001b[0m\u001b[34mBilingual Evaluation Understudy\u001b[0m\u001b[1;34m)\u001b[0m\u001b[34m, ROUGE \u001b[0m\n",
       "\u001b[1;34m(\u001b[0m\u001b[34mRecall-Oriented Understudy for Gisting Evaluation\u001b[0m\u001b[1;34m)\u001b[0m\u001b[34m, and accuracy, depending on the specific task like translation, summarization, or classification.\u001b[0m\n"
      ]
     },
     "metadata": {},
     "output_type": "display_data"
    },
    {
     "data": {
      "text/html": [
       "<pre style=\"white-space:pre;overflow-x:auto;line-height:normal;font-family:Menlo,'DejaVu Sans Mono',consolas,'Courier New',monospace\"><span style=\"color: #000080; text-decoration-color: #000080\">Human (respond or q, x to exit current level, or hit enter to continue)</span>\n",
       ": </pre>\n"
      ],
      "text/plain": [
       "\u001b[34mHuman (respond or q, x to exit current level, or hit enter to continue)\u001b[0m\n",
       ": "
      ]
     },
     "metadata": {},
     "output_type": "display_data"
    },
    {
     "name": "stdin",
     "output_type": "stream",
     "text": [
      " \n"
     ]
    },
    {
     "data": {
      "text/html": [
       "<pre style=\"white-space:pre;overflow-x:auto;line-height:normal;font-family:Menlo,'DejaVu Sans Mono',consolas,'Courier New',monospace\"> <span style=\"font-weight: bold\">(</span>Student<span style=\"font-weight: bold\">)</span> <span style=\"color: #800000; text-decoration-color: #800000\"> User </span>\n",
       "</pre>\n"
      ],
      "text/plain": [
       " \u001b[1m(\u001b[0mStudent\u001b[1m)\u001b[0m \u001b[31m User \u001b[0m\n"
      ]
     },
     "metadata": {},
     "output_type": "display_data"
    },
    {
     "data": {
      "text/html": [
       "<pre style=\"white-space:pre;overflow-x:auto;line-height:normal;font-family:Menlo,'DejaVu Sans Mono',consolas,'Courier New',monospace\"> <span style=\"font-weight: bold\">(</span>Student<span style=\"font-weight: bold\">)</span> <span style=\"color: #800000; text-decoration-color: #800000\"> Agent </span>\n",
       "</pre>\n"
      ],
      "text/plain": [
       " \u001b[1m(\u001b[0mStudent\u001b[1m)\u001b[0m \u001b[31m Agent \u001b[0m\n"
      ]
     },
     "metadata": {},
     "output_type": "display_data"
    },
    {
     "data": {
      "text/html": [
       "<pre style=\"white-space:pre;overflow-x:auto;line-height:normal;font-family:Menlo,'DejaVu Sans Mono',consolas,'Courier New',monospace\"></pre>\n"
      ],
      "text/plain": []
     },
     "metadata": {},
     "output_type": "display_data"
    },
    {
     "name": "stdout",
     "output_type": "stream",
     "text": [
      "\u001b[32m\u001b[32mFUNC: recipient_message: \u001b[32m{\"\u001b[32mint\u001b[32mended\u001b[32m_rec\u001b[32mipient\u001b[32m\":\"\u001b[32mEvaluation\u001b[32mExpert\u001b[32m\",\"\u001b[32mcontent\u001b[32m\":\"\u001b[32mHow\u001b[32m do\u001b[32m you\u001b[32m determine\u001b[32m if\u001b[32m a\u001b[32m language\u001b[32m model\u001b[32m is\u001b[32m performing\u001b[32m well\u001b[32m?\u001b[32m\",\"\u001b[32mrequest\u001b[32m\":\"\u001b[32mrecipient\u001b[32m_message\u001b[32m\"}"
     ]
    },
    {
     "data": {
      "text/html": [
       "<pre style=\"white-space:pre;overflow-x:auto;line-height:normal;font-family:Menlo,'DejaVu Sans Mono',consolas,'Courier New',monospace\">\n",
       "</pre>\n"
      ],
      "text/plain": [
       "\n"
      ]
     },
     "metadata": {},
     "output_type": "display_data"
    },
    {
     "data": {
      "text/html": [
       "<pre style=\"white-space:pre;overflow-x:auto;line-height:normal;font-family:Menlo,'DejaVu Sans Mono',consolas,'Courier New',monospace\"><span style=\"font-weight: bold\">Stats:</span> <span style=\"color: #800080; text-decoration-color: #800080\">N_MSG</span><span style=\"color: #800080; text-decoration-color: #800080\">=</span><span style=\"color: #800080; text-decoration-color: #800080; font-weight: bold\">7</span><span style=\"color: #800080; text-decoration-color: #800080\">, TOKENS: </span><span style=\"color: #800080; text-decoration-color: #800080\">in</span><span style=\"color: #800080; text-decoration-color: #800080\">=</span><span style=\"color: #800080; text-decoration-color: #800080; font-weight: bold\">540</span><span style=\"color: #800080; text-decoration-color: #800080\">, </span><span style=\"color: #800080; text-decoration-color: #800080\">out</span><span style=\"color: #800080; text-decoration-color: #800080\">=</span><span style=\"color: #800080; text-decoration-color: #800080; font-weight: bold\">55</span><span style=\"color: #800080; text-decoration-color: #800080\">, </span><span style=\"color: #800080; text-decoration-color: #800080\">max</span><span style=\"color: #800080; text-decoration-color: #800080\">=</span><span style=\"color: #800080; text-decoration-color: #800080; font-weight: bold\">1024</span><span style=\"color: #800080; text-decoration-color: #800080\">, </span><span style=\"color: #800080; text-decoration-color: #800080\">ctx</span><span style=\"color: #800080; text-decoration-color: #800080\">=</span><span style=\"color: #800080; text-decoration-color: #800080; font-weight: bold\">128000</span><span style=\"color: #800080; text-decoration-color: #800080\">, COST: </span><span style=\"color: #800080; text-decoration-color: #800080\">now</span><span style=\"color: #800080; text-decoration-color: #800080\">=$</span><span style=\"color: #800080; text-decoration-color: #800080; font-weight: bold\">0.0035</span><span style=\"color: #800080; text-decoration-color: #800080\">, </span><span style=\"color: #800080; text-decoration-color: #800080\">cumul</span><span style=\"color: #800080; text-decoration-color: #800080\">=$</span><span style=\"color: #800080; text-decoration-color: #800080; font-weight: bold\">0.0113</span><span style=\"color: #800080; text-decoration-color: #800080\">, </span><span style=\"color: #800080; text-decoration-color: #800080\">tot</span><span style=\"color: #800080; text-decoration-color: #800080\">=$</span><span style=\"color: #800080; text-decoration-color: #800080; font-weight: bold\">0.0189</span><span style=\"color: #800080; text-decoration-color: #800080\"> </span>\n",
       "<span style=\"color: #800080; text-decoration-color: #800080; font-weight: bold\">(gpt-4o)</span>\n",
       "</pre>\n"
      ],
      "text/plain": [
       "\u001b[1mStats:\u001b[0m \u001b[35mN_MSG\u001b[0m\u001b[35m=\u001b[0m\u001b[1;35m7\u001b[0m\u001b[35m, TOKENS: \u001b[0m\u001b[35min\u001b[0m\u001b[35m=\u001b[0m\u001b[1;35m540\u001b[0m\u001b[35m, \u001b[0m\u001b[35mout\u001b[0m\u001b[35m=\u001b[0m\u001b[1;35m55\u001b[0m\u001b[35m, \u001b[0m\u001b[35mmax\u001b[0m\u001b[35m=\u001b[0m\u001b[1;35m1024\u001b[0m\u001b[35m, \u001b[0m\u001b[35mctx\u001b[0m\u001b[35m=\u001b[0m\u001b[1;35m128000\u001b[0m\u001b[35m, COST: \u001b[0m\u001b[35mnow\u001b[0m\u001b[35m=$\u001b[0m\u001b[1;35m0.0035\u001b[0m\u001b[35m, \u001b[0m\u001b[35mcumul\u001b[0m\u001b[35m=$\u001b[0m\u001b[1;35m0.0113\u001b[0m\u001b[35m, \u001b[0m\u001b[35mtot\u001b[0m\u001b[35m=$\u001b[0m\u001b[1;35m0.0189\u001b[0m\u001b[35m \u001b[0m\n",
       "\u001b[1;35m(\u001b[0m\u001b[1;35mgpt-4o\u001b[0m\u001b[1;35m)\u001b[0m\n"
      ]
     },
     "metadata": {},
     "output_type": "display_data"
    },
    {
     "data": {
      "text/html": [
       "<pre style=\"white-space:pre;overflow-x:auto;line-height:normal;font-family:Menlo,'DejaVu Sans Mono',consolas,'Courier New',monospace\">*<span style=\"font-weight: bold\">(</span>Student<span style=\"font-weight: bold\">)</span> <span style=\"color: #c0c0c0; text-decoration-color: #c0c0c0\"> LLM </span> <span style=\"color: #008000; text-decoration-color: #008000; font-weight: bold\">Entity.LLM</span><span style=\"font-weight: bold\">(</span>          <span style=\"font-weight: bold\">)</span> <span style=\"font-weight: bold\">(</span>=&gt;          <span style=\"font-weight: bold\">)</span> <span style=\"font-weight: bold\">(</span>X           <span style=\"font-weight: bold\">)</span>   <span style=\"color: #800080; text-decoration-color: #800080; font-weight: bold\">FUNC</span><span style=\"font-weight: bold\">(</span>recipient_message<span style=\"font-weight: bold\">)</span> <span style=\"color: #008000; text-decoration-color: #008000\">FUNC: </span><span style=\"color: #008000; text-decoration-color: #008000; font-weight: bold\">{</span>\n",
       "<span style=\"color: #008000; text-decoration-color: #008000\">  </span><span style=\"color: #008000; text-decoration-color: #008000\">\"name\"</span><span style=\"color: #008000; text-decoration-color: #008000\">: </span><span style=\"color: #008000; text-decoration-color: #008000\">\"recipient_message\"</span><span style=\"color: #008000; text-decoration-color: #008000\">,</span>\n",
       "<span style=\"color: #008000; text-decoration-color: #008000\">  </span><span style=\"color: #008000; text-decoration-color: #008000\">\"arguments\"</span><span style=\"color: #008000; text-decoration-color: #008000\">: </span><span style=\"color: #008000; text-decoration-color: #008000; font-weight: bold\">{</span>\n",
       "<span style=\"color: #008000; text-decoration-color: #008000\">    </span><span style=\"color: #008000; text-decoration-color: #008000\">\"intended_recipient\"</span><span style=\"color: #008000; text-decoration-color: #008000\">: </span><span style=\"color: #008000; text-decoration-color: #008000\">\"EvaluationExpert\"</span><span style=\"color: #008000; text-decoration-color: #008000\">,</span>\n",
       "<span style=\"color: #008000; text-decoration-color: #008000\">    </span><span style=\"color: #008000; text-decoration-color: #008000\">\"content\"</span><span style=\"color: #008000; text-decoration-color: #008000\">: </span><span style=\"color: #008000; text-decoration-color: #008000\">\"How do you determine if a language model is performing well?\"</span>\n",
       "<span style=\"color: #008000; text-decoration-color: #008000\">  </span><span style=\"color: #008000; text-decoration-color: #008000; font-weight: bold\">}</span>\n",
       "<span style=\"color: #008000; text-decoration-color: #008000; font-weight: bold\">}</span>\n",
       "</pre>\n"
      ],
      "text/plain": [
       "*\u001b[1m(\u001b[0mStudent\u001b[1m)\u001b[0m \u001b[37m LLM \u001b[0m \u001b[1;32mEntity.LLM\u001b[0m\u001b[1m(\u001b[0m          \u001b[1m)\u001b[0m \u001b[1m(\u001b[0m=>          \u001b[1m)\u001b[0m \u001b[1m(\u001b[0mX           \u001b[1m)\u001b[0m   \u001b[1;35mFUNC\u001b[0m\u001b[1m(\u001b[0mrecipient_message\u001b[1m)\u001b[0m \u001b[32mFUNC: \u001b[0m\u001b[1;32m{\u001b[0m\n",
       "\u001b[32m  \u001b[0m\u001b[32m\"name\"\u001b[0m\u001b[32m: \u001b[0m\u001b[32m\"recipient_message\"\u001b[0m\u001b[32m,\u001b[0m\n",
       "\u001b[32m  \u001b[0m\u001b[32m\"arguments\"\u001b[0m\u001b[32m: \u001b[0m\u001b[1;32m{\u001b[0m\n",
       "\u001b[32m    \u001b[0m\u001b[32m\"intended_recipient\"\u001b[0m\u001b[32m: \u001b[0m\u001b[32m\"EvaluationExpert\"\u001b[0m\u001b[32m,\u001b[0m\n",
       "\u001b[32m    \u001b[0m\u001b[32m\"content\"\u001b[0m\u001b[32m: \u001b[0m\u001b[32m\"How do you determine if a language model is performing well?\"\u001b[0m\n",
       "\u001b[32m  \u001b[0m\u001b[1;32m}\u001b[0m\n",
       "\u001b[1;32m}\u001b[0m\n"
      ]
     },
     "metadata": {},
     "output_type": "display_data"
    },
    {
     "data": {
      "text/html": [
       "<pre style=\"white-space:pre;overflow-x:auto;line-height:normal;font-family:Menlo,'DejaVu Sans Mono',consolas,'Courier New',monospace\"><span style=\"color: #800000; text-decoration-color: #800000\">RecipientTool: Validated properly addressed message</span>\n",
       "</pre>\n"
      ],
      "text/plain": [
       "\u001b[31mRecipientTool: Validated properly addressed message\u001b[0m\n"
      ]
     },
     "metadata": {},
     "output_type": "display_data"
    },
    {
     "data": {
      "text/html": [
       "<pre style=\"white-space:pre;overflow-x:auto;line-height:normal;font-family:Menlo,'DejaVu Sans Mono',consolas,'Courier New',monospace\">*<span style=\"font-weight: bold\">(</span>Student<span style=\"font-weight: bold\">)</span> <span style=\"color: #c0c0c0; text-decoration-color: #c0c0c0\"> Agent </span> <span style=\"color: #008000; text-decoration-color: #008000; font-weight: bold\">Entity.LLM</span><span style=\"font-weight: bold\">(</span>          <span style=\"font-weight: bold\">)</span> <span style=\"font-weight: bold\">(</span>=&gt;EvaluationExpert<span style=\"font-weight: bold\">)</span> <span style=\"font-weight: bold\">(</span>X           <span style=\"font-weight: bold\">)</span>       <span style=\"font-weight: bold\">(</span>          <span style=\"font-weight: bold\">)</span> <span style=\"color: #008000; text-decoration-color: #008000\">How do you determine if a language model is performing well?</span>\n",
       "</pre>\n"
      ],
      "text/plain": [
       "*\u001b[1m(\u001b[0mStudent\u001b[1m)\u001b[0m \u001b[37m Agent \u001b[0m \u001b[1;32mEntity.LLM\u001b[0m\u001b[1m(\u001b[0m          \u001b[1m)\u001b[0m \u001b[1m(\u001b[0m=>EvaluationExpert\u001b[1m)\u001b[0m \u001b[1m(\u001b[0mX           \u001b[1m)\u001b[0m       \u001b[1m(\u001b[0m          \u001b[1m)\u001b[0m \u001b[32mHow do you determine if a language model is performing well?\u001b[0m\n"
      ]
     },
     "metadata": {},
     "output_type": "display_data"
    },
    {
     "data": {
      "text/html": [
       "<pre style=\"white-space:pre;overflow-x:auto;line-height:normal;font-family:Menlo,'DejaVu Sans Mono',consolas,'Courier New',monospace\"> <span style=\"font-weight: bold\">(</span>Student<span style=\"font-weight: bold\">)</span> <span style=\"color: #800000; text-decoration-color: #800000\"> User </span> <span style=\"color: #000080; text-decoration-color: #000080; font-weight: bold\">Entity.USER</span><span style=\"font-weight: bold\">(</span>Entity.USER<span style=\"font-weight: bold\">)</span> <span style=\"font-weight: bold\">(</span>=&gt;EvaluationExpert<span style=\"font-weight: bold\">)</span> <span style=\"font-weight: bold\">(</span>X           <span style=\"font-weight: bold\">)</span>       <span style=\"font-weight: bold\">(</span>          <span style=\"font-weight: bold\">)</span> <span style=\"color: #000080; text-decoration-color: #000080; font-weight: bold\">[</span><span style=\"color: #000080; text-decoration-color: #000080\">CANNOT RESPOND</span><span style=\"color: #000080; text-decoration-color: #000080; font-weight: bold\">]</span>\n",
       "</pre>\n"
      ],
      "text/plain": [
       " \u001b[1m(\u001b[0mStudent\u001b[1m)\u001b[0m \u001b[31m User \u001b[0m \u001b[1;34mEntity.USER\u001b[0m\u001b[1m(\u001b[0mEntity.USER\u001b[1m)\u001b[0m \u001b[1m(\u001b[0m=>EvaluationExpert\u001b[1m)\u001b[0m \u001b[1m(\u001b[0mX           \u001b[1m)\u001b[0m       \u001b[1m(\u001b[0m          \u001b[1m)\u001b[0m \u001b[1;34m[\u001b[0m\u001b[34mCANNOT RESPOND\u001b[0m\u001b[1;34m]\u001b[0m\n"
      ]
     },
     "metadata": {},
     "output_type": "display_data"
    },
    {
     "data": {
      "text/html": [
       "<pre style=\"white-space:pre;overflow-x:auto;line-height:normal;font-family:Menlo,'DejaVu Sans Mono',consolas,'Courier New',monospace\"> <span style=\"font-weight: bold\">(</span>Student<span style=\"font-weight: bold\">)</span> <span style=\"color: #800000; text-decoration-color: #800000\"> Agent </span> <span style=\"color: #800000; text-decoration-color: #800000; font-weight: bold\">Entity.AGENT</span><span style=\"font-weight: bold\">(</span>Entity.AGENT<span style=\"font-weight: bold\">)</span> <span style=\"font-weight: bold\">(</span>=&gt;EvaluationExpert<span style=\"font-weight: bold\">)</span> <span style=\"font-weight: bold\">(</span>X           <span style=\"font-weight: bold\">)</span>       <span style=\"font-weight: bold\">(</span>          <span style=\"font-weight: bold\">)</span> <span style=\"color: #800000; text-decoration-color: #800000; font-weight: bold\">[</span><span style=\"color: #800000; text-decoration-color: #800000\">CANNOT RESPOND</span><span style=\"color: #800000; text-decoration-color: #800000; font-weight: bold\">]</span>\n",
       "</pre>\n"
      ],
      "text/plain": [
       " \u001b[1m(\u001b[0mStudent\u001b[1m)\u001b[0m \u001b[31m Agent \u001b[0m \u001b[1;31mEntity.AGENT\u001b[0m\u001b[1m(\u001b[0mEntity.AGENT\u001b[1m)\u001b[0m \u001b[1m(\u001b[0m=>EvaluationExpert\u001b[1m)\u001b[0m \u001b[1m(\u001b[0mX           \u001b[1m)\u001b[0m       \u001b[1m(\u001b[0m          \u001b[1m)\u001b[0m \u001b[1;31m[\u001b[0m\u001b[31mCANNOT RESPOND\u001b[0m\u001b[1;31m]\u001b[0m\n"
      ]
     },
     "metadata": {},
     "output_type": "display_data"
    },
    {
     "data": {
      "text/html": [
       "<pre style=\"white-space:pre;overflow-x:auto;line-height:normal;font-family:Menlo,'DejaVu Sans Mono',consolas,'Courier New',monospace\"> <span style=\"font-weight: bold\">(</span>Student<span style=\"font-weight: bold\">)</span> <span style=\"color: #800000; text-decoration-color: #800000\"> LLM </span> <span style=\"color: #008000; text-decoration-color: #008000; font-weight: bold\">Entity.LLM</span><span style=\"font-weight: bold\">(</span>Entity.LLM<span style=\"font-weight: bold\">)</span> <span style=\"font-weight: bold\">(</span>=&gt;EvaluationExpert<span style=\"font-weight: bold\">)</span> <span style=\"font-weight: bold\">(</span>X           <span style=\"font-weight: bold\">)</span>       <span style=\"font-weight: bold\">(</span>          <span style=\"font-weight: bold\">)</span> <span style=\"color: #008000; text-decoration-color: #008000; font-weight: bold\">[</span><span style=\"color: #008000; text-decoration-color: #008000\">CANNOT RESPOND</span><span style=\"color: #008000; text-decoration-color: #008000; font-weight: bold\">]</span>\n",
       "</pre>\n"
      ],
      "text/plain": [
       " \u001b[1m(\u001b[0mStudent\u001b[1m)\u001b[0m \u001b[31m LLM \u001b[0m \u001b[1;32mEntity.LLM\u001b[0m\u001b[1m(\u001b[0mEntity.LLM\u001b[1m)\u001b[0m \u001b[1m(\u001b[0m=>EvaluationExpert\u001b[1m)\u001b[0m \u001b[1m(\u001b[0mX           \u001b[1m)\u001b[0m       \u001b[1m(\u001b[0m          \u001b[1m)\u001b[0m \u001b[1;32m[\u001b[0m\u001b[32mCANNOT RESPOND\u001b[0m\u001b[1;32m]\u001b[0m\n"
      ]
     },
     "metadata": {},
     "output_type": "display_data"
    },
    {
     "data": {
      "text/html": [
       "<pre style=\"white-space:pre;overflow-x:auto;line-height:normal;font-family:Menlo,'DejaVu Sans Mono',consolas,'Courier New',monospace\"> <span style=\"font-weight: bold\">(</span>Student<span style=\"font-weight: bold\">)</span> <span style=\"color: #800000; text-decoration-color: #800000\"> TrainingExpert </span> <span style=\"color: #000080; text-decoration-color: #000080; font-weight: bold\">Entity.USER</span><span style=\"font-weight: bold\">(</span>TrainingExpert<span style=\"font-weight: bold\">)</span> <span style=\"font-weight: bold\">(</span>=&gt;EvaluationExpert<span style=\"font-weight: bold\">)</span> <span style=\"font-weight: bold\">(</span>X           <span style=\"font-weight: bold\">)</span>       <span style=\"font-weight: bold\">(</span>          <span style=\"font-weight: bold\">)</span> <span style=\"color: #000080; text-decoration-color: #000080; font-weight: bold\">[</span><span style=\"color: #000080; text-decoration-color: #000080\">CANNOT RESPOND</span><span style=\"color: #000080; text-decoration-color: #000080; font-weight: bold\">]</span>\n",
       "</pre>\n"
      ],
      "text/plain": [
       " \u001b[1m(\u001b[0mStudent\u001b[1m)\u001b[0m \u001b[31m TrainingExpert \u001b[0m \u001b[1;34mEntity.USER\u001b[0m\u001b[1m(\u001b[0mTrainingExpert\u001b[1m)\u001b[0m \u001b[1m(\u001b[0m=>EvaluationExpert\u001b[1m)\u001b[0m \u001b[1m(\u001b[0mX           \u001b[1m)\u001b[0m       \u001b[1m(\u001b[0m          \u001b[1m)\u001b[0m \u001b[1;34m[\u001b[0m\u001b[34mCANNOT RESPOND\u001b[0m\u001b[1;34m]\u001b[0m\n"
      ]
     },
     "metadata": {},
     "output_type": "display_data"
    },
    {
     "data": {
      "text/html": [
       "<pre style=\"white-space:pre;overflow-x:auto;line-height:normal;font-family:Menlo,'DejaVu Sans Mono',consolas,'Courier New',monospace\"> <span style=\"font-weight: bold\">(</span>EvaluationExpert<span style=\"font-weight: bold\">)</span> <span style=\"color: #800000; text-decoration-color: #800000\"> User </span> <span style=\"color: #000080; text-decoration-color: #000080; font-weight: bold\">Entity.USER</span><span style=\"font-weight: bold\">(</span>          <span style=\"font-weight: bold\">)</span> <span style=\"font-weight: bold\">(</span>=&gt;EvaluationExpert<span style=\"font-weight: bold\">)</span> <span style=\"font-weight: bold\">(</span>X           <span style=\"font-weight: bold\">)</span>       <span style=\"font-weight: bold\">(</span>          <span style=\"font-weight: bold\">)</span> <span style=\"color: #000080; text-decoration-color: #000080\">How do you determine if a language model is performing well?</span>\n",
       "</pre>\n"
      ],
      "text/plain": [
       " \u001b[1m(\u001b[0mEvaluationExpert\u001b[1m)\u001b[0m \u001b[31m User \u001b[0m \u001b[1;34mEntity.USER\u001b[0m\u001b[1m(\u001b[0m          \u001b[1m)\u001b[0m \u001b[1m(\u001b[0m=>EvaluationExpert\u001b[1m)\u001b[0m \u001b[1m(\u001b[0mX           \u001b[1m)\u001b[0m       \u001b[1m(\u001b[0m          \u001b[1m)\u001b[0m \u001b[34mHow do you determine if a language model is performing well?\u001b[0m\n"
      ]
     },
     "metadata": {},
     "output_type": "display_data"
    },
    {
     "data": {
      "text/html": [
       "<pre style=\"white-space:pre;overflow-x:auto;line-height:normal;font-family:Menlo,'DejaVu Sans Mono',consolas,'Courier New',monospace\"><span style=\"color: #800080; text-decoration-color: #800080; font-weight: bold\">...|&gt;&gt;&gt; Starting Agent EvaluationExpert (</span><span style=\"color: #800080; text-decoration-color: #800080; font-weight: bold\">3</span><span style=\"color: #800080; text-decoration-color: #800080; font-weight: bold\">) gpt-4o </span>\n",
       "</pre>\n"
      ],
      "text/plain": [
       "\u001b[1;35m...\u001b[0m\u001b[1;35m|>>> Starting Agent EvaluationExpert \u001b[0m\u001b[1;35m(\u001b[0m\u001b[1;35m3\u001b[0m\u001b[1;35m)\u001b[0m\u001b[1;35m gpt-4o \u001b[0m\n"
      ]
     },
     "metadata": {},
     "output_type": "display_data"
    },
    {
     "data": {
      "text/html": [
       "<pre style=\"white-space:pre;overflow-x:auto;line-height:normal;font-family:Menlo,'DejaVu Sans Mono',consolas,'Courier New',monospace\"> <span style=\"font-weight: bold\">(</span>EvaluationExpert<span style=\"font-weight: bold\">)</span> <span style=\"color: #800000; text-decoration-color: #800000\"> User </span> <span style=\"color: #000080; text-decoration-color: #000080; font-weight: bold\">Entity.USER</span><span style=\"font-weight: bold\">(</span>Entity.USER<span style=\"font-weight: bold\">)</span> <span style=\"font-weight: bold\">(</span>=&gt;EvaluationExpert<span style=\"font-weight: bold\">)</span> <span style=\"font-weight: bold\">(</span>X           <span style=\"font-weight: bold\">)</span>       <span style=\"font-weight: bold\">(</span>          <span style=\"font-weight: bold\">)</span> <span style=\"color: #000080; text-decoration-color: #000080; font-weight: bold\">[</span><span style=\"color: #000080; text-decoration-color: #000080\">CANNOT RESPOND</span><span style=\"color: #000080; text-decoration-color: #000080; font-weight: bold\">]</span>\n",
       "</pre>\n"
      ],
      "text/plain": [
       " \u001b[1m(\u001b[0mEvaluationExpert\u001b[1m)\u001b[0m \u001b[31m User \u001b[0m \u001b[1;34mEntity.USER\u001b[0m\u001b[1m(\u001b[0mEntity.USER\u001b[1m)\u001b[0m \u001b[1m(\u001b[0m=>EvaluationExpert\u001b[1m)\u001b[0m \u001b[1m(\u001b[0mX           \u001b[1m)\u001b[0m       \u001b[1m(\u001b[0m          \u001b[1m)\u001b[0m \u001b[1;34m[\u001b[0m\u001b[34mCANNOT RESPOND\u001b[0m\u001b[1;34m]\u001b[0m\n"
      ]
     },
     "metadata": {},
     "output_type": "display_data"
    },
    {
     "data": {
      "text/html": [
       "<pre style=\"white-space:pre;overflow-x:auto;line-height:normal;font-family:Menlo,'DejaVu Sans Mono',consolas,'Courier New',monospace\"> <span style=\"font-weight: bold\">(</span>EvaluationExpert<span style=\"font-weight: bold\">)</span> <span style=\"color: #800000; text-decoration-color: #800000\"> Agent </span>\n",
       "</pre>\n"
      ],
      "text/plain": [
       " \u001b[1m(\u001b[0mEvaluationExpert\u001b[1m)\u001b[0m \u001b[31m Agent \u001b[0m\n"
      ]
     },
     "metadata": {},
     "output_type": "display_data"
    },
    {
     "data": {
      "text/html": [
       "<pre style=\"white-space:pre;overflow-x:auto;line-height:normal;font-family:Menlo,'DejaVu Sans Mono',consolas,'Courier New',monospace\"><span style=\"color: #008000; text-decoration-color: #008000\">...|</span></pre>\n"
      ],
      "text/plain": [
       "\u001b[32m...\u001b[0m\u001b[32m|\u001b[0m"
      ]
     },
     "metadata": {},
     "output_type": "display_data"
    },
    {
     "name": "stdout",
     "output_type": "stream",
     "text": [
      "\u001b[32m\u001b[32mYou\u001b[32m determine\u001b[32m if\u001b[32m a\u001b[32m language\u001b[32m model\u001b[32m is\u001b[32m performing\u001b[32m well\u001b[32m by\u001b[32m comparing\u001b[32m its\u001b[32m evaluation\u001b[32m metrics\u001b[32m (\u001b[32mlike\u001b[32m perplex\u001b[32mity\u001b[32m,\u001b[32m BLE\u001b[32mU\u001b[32m,\u001b[32m RO\u001b[32mUGE\u001b[32m,\u001b[32m or\u001b[32m accuracy\u001b[32m)\u001b[32m against\u001b[32m baseline\u001b[32m models\u001b[32m or\u001b[32m human\u001b[32m performance\u001b[32m benchmarks\u001b[32m for\u001b[32m the\u001b[32m specific\u001b[32m task\u001b[32m."
     ]
    },
    {
     "data": {
      "text/html": [
       "<pre style=\"white-space:pre;overflow-x:auto;line-height:normal;font-family:Menlo,'DejaVu Sans Mono',consolas,'Courier New',monospace\">\n",
       "</pre>\n"
      ],
      "text/plain": [
       "\n"
      ]
     },
     "metadata": {},
     "output_type": "display_data"
    },
    {
     "data": {
      "text/html": [
       "<pre style=\"white-space:pre;overflow-x:auto;line-height:normal;font-family:Menlo,'DejaVu Sans Mono',consolas,'Courier New',monospace\"><span style=\"color: #808000; text-decoration-color: #808000\">...</span>|<span style=\"font-weight: bold\">Stats:</span> <span style=\"color: #800080; text-decoration-color: #800080\">N_MSG</span><span style=\"color: #800080; text-decoration-color: #800080\">=</span><span style=\"color: #800080; text-decoration-color: #800080; font-weight: bold\">4</span><span style=\"color: #800080; text-decoration-color: #800080\">, TOKENS: </span><span style=\"color: #800080; text-decoration-color: #800080\">in</span><span style=\"color: #800080; text-decoration-color: #800080\">=</span><span style=\"color: #800080; text-decoration-color: #800080; font-weight: bold\">128</span><span style=\"color: #800080; text-decoration-color: #800080\">, </span><span style=\"color: #800080; text-decoration-color: #800080\">out</span><span style=\"color: #800080; text-decoration-color: #800080\">=</span><span style=\"color: #800080; text-decoration-color: #800080; font-weight: bold\">40</span><span style=\"color: #800080; text-decoration-color: #800080\">, </span><span style=\"color: #800080; text-decoration-color: #800080\">max</span><span style=\"color: #800080; text-decoration-color: #800080\">=</span><span style=\"color: #800080; text-decoration-color: #800080; font-weight: bold\">1024</span><span style=\"color: #800080; text-decoration-color: #800080\">, </span><span style=\"color: #800080; text-decoration-color: #800080\">ctx</span><span style=\"color: #800080; text-decoration-color: #800080\">=</span><span style=\"color: #800080; text-decoration-color: #800080; font-weight: bold\">128000</span><span style=\"color: #800080; text-decoration-color: #800080\">, COST: </span><span style=\"color: #800080; text-decoration-color: #800080\">now</span><span style=\"color: #800080; text-decoration-color: #800080\">=$</span><span style=\"color: #800080; text-decoration-color: #800080; font-weight: bold\">0.0012</span><span style=\"color: #800080; text-decoration-color: #800080\">, </span><span style=\"color: #800080; text-decoration-color: #800080\">cumul</span><span style=\"color: #800080; text-decoration-color: #800080\">=$</span><span style=\"color: #800080; text-decoration-color: #800080; font-weight: bold\">0.0023</span><span style=\"color: #800080; text-decoration-color: #800080\">, </span><span style=\"color: #800080; text-decoration-color: #800080\">tot</span><span style=\"color: #800080; text-decoration-color: #800080\">=$</span><span style=\"color: #800080; text-decoration-color: #800080; font-weight: bold\">0.0202</span><span style=\"color: #800080; text-decoration-color: #800080\"> </span>\n",
       "<span style=\"color: #800080; text-decoration-color: #800080; font-weight: bold\">(gpt-4o)</span>\n",
       "</pre>\n"
      ],
      "text/plain": [
       "\u001b[33m...\u001b[0m|\u001b[1mStats:\u001b[0m \u001b[35mN_MSG\u001b[0m\u001b[35m=\u001b[0m\u001b[1;35m4\u001b[0m\u001b[35m, TOKENS: \u001b[0m\u001b[35min\u001b[0m\u001b[35m=\u001b[0m\u001b[1;35m128\u001b[0m\u001b[35m, \u001b[0m\u001b[35mout\u001b[0m\u001b[35m=\u001b[0m\u001b[1;35m40\u001b[0m\u001b[35m, \u001b[0m\u001b[35mmax\u001b[0m\u001b[35m=\u001b[0m\u001b[1;35m1024\u001b[0m\u001b[35m, \u001b[0m\u001b[35mctx\u001b[0m\u001b[35m=\u001b[0m\u001b[1;35m128000\u001b[0m\u001b[35m, COST: \u001b[0m\u001b[35mnow\u001b[0m\u001b[35m=$\u001b[0m\u001b[1;35m0.0012\u001b[0m\u001b[35m, \u001b[0m\u001b[35mcumul\u001b[0m\u001b[35m=$\u001b[0m\u001b[1;35m0.0023\u001b[0m\u001b[35m, \u001b[0m\u001b[35mtot\u001b[0m\u001b[35m=$\u001b[0m\u001b[1;35m0.0202\u001b[0m\u001b[35m \u001b[0m\n",
       "\u001b[1;35m(\u001b[0m\u001b[1;35mgpt-4o\u001b[0m\u001b[1;35m)\u001b[0m\n"
      ]
     },
     "metadata": {},
     "output_type": "display_data"
    },
    {
     "data": {
      "text/html": [
       "<pre style=\"white-space:pre;overflow-x:auto;line-height:normal;font-family:Menlo,'DejaVu Sans Mono',consolas,'Courier New',monospace\">*<span style=\"font-weight: bold\">(</span>EvaluationExpert<span style=\"font-weight: bold\">)</span> <span style=\"color: #c0c0c0; text-decoration-color: #c0c0c0\"> LLM </span> <span style=\"color: #008000; text-decoration-color: #008000; font-weight: bold\">Entity.LLM</span><span style=\"font-weight: bold\">(</span>          <span style=\"font-weight: bold\">)</span> <span style=\"font-weight: bold\">(</span>=&gt;          <span style=\"font-weight: bold\">)</span> <span style=\"font-weight: bold\">(</span>X           <span style=\"font-weight: bold\">)</span>       <span style=\"font-weight: bold\">(</span>          <span style=\"font-weight: bold\">)</span> <span style=\"color: #008000; text-decoration-color: #008000\">You determine if a language model is performing well by comparing its evaluation metrics </span><span style=\"color: #008000; text-decoration-color: #008000; font-weight: bold\">(</span><span style=\"color: #008000; text-decoration-color: #008000\">like </span>\n",
       "<span style=\"color: #008000; text-decoration-color: #008000\">perplexity, BLEU, ROUGE, or accuracy</span><span style=\"color: #008000; text-decoration-color: #008000; font-weight: bold\">)</span><span style=\"color: #008000; text-decoration-color: #008000\"> against baseline models or human performance benchmarks for the specific task.</span>\n",
       "</pre>\n"
      ],
      "text/plain": [
       "*\u001b[1m(\u001b[0mEvaluationExpert\u001b[1m)\u001b[0m \u001b[37m LLM \u001b[0m \u001b[1;32mEntity.LLM\u001b[0m\u001b[1m(\u001b[0m          \u001b[1m)\u001b[0m \u001b[1m(\u001b[0m=>          \u001b[1m)\u001b[0m \u001b[1m(\u001b[0mX           \u001b[1m)\u001b[0m       \u001b[1m(\u001b[0m          \u001b[1m)\u001b[0m \u001b[32mYou determine if a language model is performing well by comparing its evaluation metrics \u001b[0m\u001b[1;32m(\u001b[0m\u001b[32mlike \u001b[0m\n",
       "\u001b[32mperplexity, BLEU, ROUGE, or accuracy\u001b[0m\u001b[1;32m)\u001b[0m\u001b[32m against baseline models or human performance benchmarks for the specific task.\u001b[0m\n"
      ]
     },
     "metadata": {},
     "output_type": "display_data"
    },
    {
     "data": {
      "text/html": [
       "<pre style=\"white-space:pre;overflow-x:auto;line-height:normal;font-family:Menlo,'DejaVu Sans Mono',consolas,'Courier New',monospace\"><span style=\"color: #800080; text-decoration-color: #800080; font-weight: bold\">...|&lt;&lt;&lt; Finished Agent EvaluationExpert (</span><span style=\"color: #800080; text-decoration-color: #800080; font-weight: bold\">5</span><span style=\"color: #800080; text-decoration-color: #800080; font-weight: bold\">) </span>\n",
       "</pre>\n"
      ],
      "text/plain": [
       "\u001b[1;35m...\u001b[0m\u001b[1;35m|<<< Finished Agent EvaluationExpert \u001b[0m\u001b[1;35m(\u001b[0m\u001b[1;35m5\u001b[0m\u001b[1;35m)\u001b[0m\u001b[1;35m \u001b[0m\n"
      ]
     },
     "metadata": {},
     "output_type": "display_data"
    },
    {
     "data": {
      "text/html": [
       "<pre style=\"white-space:pre;overflow-x:auto;line-height:normal;font-family:Menlo,'DejaVu Sans Mono',consolas,'Courier New',monospace\">*<span style=\"font-weight: bold\">(</span>Student<span style=\"font-weight: bold\">)</span> <span style=\"color: #c0c0c0; text-decoration-color: #c0c0c0\"> EvaluationExpert </span> <span style=\"color: #000080; text-decoration-color: #000080; font-weight: bold\">Entity.USER</span><span style=\"font-weight: bold\">(</span>EvaluationExpert<span style=\"font-weight: bold\">)</span> <span style=\"font-weight: bold\">(</span>=&gt;          <span style=\"font-weight: bold\">)</span> <span style=\"font-weight: bold\">(</span>X           <span style=\"font-weight: bold\">)</span>       <span style=\"font-weight: bold\">(</span>          <span style=\"font-weight: bold\">)</span> <span style=\"color: #000080; text-decoration-color: #000080\">You determine if a language model is performing well by comparing its evaluation metrics </span>\n",
       "<span style=\"color: #000080; text-decoration-color: #000080; font-weight: bold\">(</span><span style=\"color: #000080; text-decoration-color: #000080\">like perplexity, BLEU, ROUGE, or accuracy</span><span style=\"color: #000080; text-decoration-color: #000080; font-weight: bold\">)</span><span style=\"color: #000080; text-decoration-color: #000080\"> against baseline models or human performance benchmarks for the specific task.</span>\n",
       "</pre>\n"
      ],
      "text/plain": [
       "*\u001b[1m(\u001b[0mStudent\u001b[1m)\u001b[0m \u001b[37m EvaluationExpert \u001b[0m \u001b[1;34mEntity.USER\u001b[0m\u001b[1m(\u001b[0mEvaluationExpert\u001b[1m)\u001b[0m \u001b[1m(\u001b[0m=>          \u001b[1m)\u001b[0m \u001b[1m(\u001b[0mX           \u001b[1m)\u001b[0m       \u001b[1m(\u001b[0m          \u001b[1m)\u001b[0m \u001b[34mYou determine if a language model is performing well by comparing its evaluation metrics \u001b[0m\n",
       "\u001b[1;34m(\u001b[0m\u001b[34mlike perplexity, BLEU, ROUGE, or accuracy\u001b[0m\u001b[1;34m)\u001b[0m\u001b[34m against baseline models or human performance benchmarks for the specific task.\u001b[0m\n"
      ]
     },
     "metadata": {},
     "output_type": "display_data"
    },
    {
     "data": {
      "text/html": [
       "<pre style=\"white-space:pre;overflow-x:auto;line-height:normal;font-family:Menlo,'DejaVu Sans Mono',consolas,'Courier New',monospace\"><span style=\"color: #000080; text-decoration-color: #000080\">Human (respond or q, x to exit current level, or hit enter to continue)</span>\n",
       ": </pre>\n"
      ],
      "text/plain": [
       "\u001b[34mHuman (respond or q, x to exit current level, or hit enter to continue)\u001b[0m\n",
       ": "
      ]
     },
     "metadata": {},
     "output_type": "display_data"
    },
    {
     "name": "stdin",
     "output_type": "stream",
     "text": [
      " \n"
     ]
    },
    {
     "data": {
      "text/html": [
       "<pre style=\"white-space:pre;overflow-x:auto;line-height:normal;font-family:Menlo,'DejaVu Sans Mono',consolas,'Courier New',monospace\"> <span style=\"font-weight: bold\">(</span>Student<span style=\"font-weight: bold\">)</span> <span style=\"color: #800000; text-decoration-color: #800000\"> User </span>\n",
       "</pre>\n"
      ],
      "text/plain": [
       " \u001b[1m(\u001b[0mStudent\u001b[1m)\u001b[0m \u001b[31m User \u001b[0m\n"
      ]
     },
     "metadata": {},
     "output_type": "display_data"
    },
    {
     "data": {
      "text/html": [
       "<pre style=\"white-space:pre;overflow-x:auto;line-height:normal;font-family:Menlo,'DejaVu Sans Mono',consolas,'Courier New',monospace\"> <span style=\"font-weight: bold\">(</span>Student<span style=\"font-weight: bold\">)</span> <span style=\"color: #800000; text-decoration-color: #800000\"> Agent </span>\n",
       "</pre>\n"
      ],
      "text/plain": [
       " \u001b[1m(\u001b[0mStudent\u001b[1m)\u001b[0m \u001b[31m Agent \u001b[0m\n"
      ]
     },
     "metadata": {},
     "output_type": "display_data"
    },
    {
     "data": {
      "text/html": [
       "<pre style=\"white-space:pre;overflow-x:auto;line-height:normal;font-family:Menlo,'DejaVu Sans Mono',consolas,'Courier New',monospace\"></pre>\n"
      ],
      "text/plain": []
     },
     "metadata": {},
     "output_type": "display_data"
    },
    {
     "name": "stdout",
     "output_type": "stream",
     "text": [
      "\u001b[32m\u001b[32mDONE\u001b[32m\n",
      "\n",
      "\u001b[32mHere\u001b[32m are\u001b[32m the\u001b[32m \u001b[32m4\u001b[32m bullet\u001b[32m points\u001b[32m about\u001b[32m Language\u001b[32m Models\u001b[32m in\u001b[32m the\u001b[32m context\u001b[32m of\u001b[32m Machine\u001b[32m Learning\u001b[32m:\n",
      "\n",
      "\u001b[32m-\u001b[32m Training\u001b[32m a\u001b[32m language\u001b[32m model\u001b[32m involves\u001b[32m key\u001b[32m steps\u001b[32m such\u001b[32m as\u001b[32m data\u001b[32m collection\u001b[32m and\u001b[32m preprocessing\u001b[32m,\u001b[32m model\u001b[32m selection\u001b[32m,\u001b[32m training\u001b[32m the\u001b[32m model\u001b[32m on\u001b[32m the\u001b[32m data\u001b[32m,\u001b[32m evaluating\u001b[32m its\u001b[32m performance\u001b[32m,\u001b[32m and\u001b[32m fine\u001b[32m-t\u001b[32muning\u001b[32m based\u001b[32m on\u001b[32m the\u001b[32m evaluation\u001b[32m results\u001b[32m.\n",
      "\u001b[32m-\u001b[32m Data\u001b[32m preprocessing\u001b[32m is\u001b[32m crucial\u001b[32m because\u001b[32m it\u001b[32m cleans\u001b[32m and\u001b[32m formats\u001b[32m the\u001b[32m raw\u001b[32m text\u001b[32m data\u001b[32m,\u001b[32m removing\u001b[32m noise\u001b[32m and\u001b[32m inconsist\u001b[32mencies\u001b[32m,\u001b[32m which\u001b[32m helps\u001b[32m the\u001b[32m model\u001b[32m learn\u001b[32m more\u001b[32m effectively\u001b[32m and\u001b[32m improves\u001b[32m its\u001b[32m overall\u001b[32m performance\u001b[32m.\n",
      "\u001b[32m-\u001b[32m Common\u001b[32m metrics\u001b[32m used\u001b[32m to\u001b[32m evaluate\u001b[32m the\u001b[32m performance\u001b[32m of\u001b[32m language\u001b[32m models\u001b[32m include\u001b[32m perplex\u001b[32mity\u001b[32m,\u001b[32m BLE\u001b[32mU\u001b[32m (\u001b[32mB\u001b[32milingual\u001b[32m Evaluation\u001b[32m Under\u001b[32mstudy\u001b[32m),\u001b[32m RO\u001b[32mUGE\u001b[32m (\u001b[32mRecall\u001b[32m-Or\u001b[32miented\u001b[32m Under\u001b[32mstudy\u001b[32m for\u001b[32m G\u001b[32misting\u001b[32m Evaluation\u001b[32m),\u001b[32m and\u001b[32m accuracy\u001b[32m,\u001b[32m depending\u001b[32m on\u001b[32m the\u001b[32m specific\u001b[32m task\u001b[32m like\u001b[32m translation\u001b[32m,\u001b[32m summar\u001b[32mization\u001b[32m,\u001b[32m or\u001b[32m classification\u001b[32m.\n",
      "\u001b[32m-\u001b[32m A\u001b[32m language\u001b[32m model\u001b[32m's\u001b[32m performance\u001b[32m is\u001b[32m determined\u001b[32m by\u001b[32m comparing\u001b[32m its\u001b[32m evaluation\u001b[32m metrics\u001b[32m against\u001b[32m baseline\u001b[32m models\u001b[32m or\u001b[32m human\u001b[32m performance\u001b[32m benchmarks\u001b[32m for\u001b[32m the\u001b[32m specific\u001b[32m task\u001b[32m."
     ]
    },
    {
     "data": {
      "text/html": [
       "<pre style=\"white-space:pre;overflow-x:auto;line-height:normal;font-family:Menlo,'DejaVu Sans Mono',consolas,'Courier New',monospace\">\n",
       "</pre>\n"
      ],
      "text/plain": [
       "\n"
      ]
     },
     "metadata": {},
     "output_type": "display_data"
    },
    {
     "data": {
      "text/html": [
       "<pre style=\"white-space:pre;overflow-x:auto;line-height:normal;font-family:Menlo,'DejaVu Sans Mono',consolas,'Courier New',monospace\"><span style=\"font-weight: bold\">Stats:</span> <span style=\"color: #800080; text-decoration-color: #800080\">N_MSG</span><span style=\"color: #800080; text-decoration-color: #800080\">=</span><span style=\"color: #800080; text-decoration-color: #800080; font-weight: bold\">9</span><span style=\"color: #800080; text-decoration-color: #800080\">, TOKENS: </span><span style=\"color: #800080; text-decoration-color: #800080\">in</span><span style=\"color: #800080; text-decoration-color: #800080\">=</span><span style=\"color: #800080; text-decoration-color: #800080; font-weight: bold\">635</span><span style=\"color: #800080; text-decoration-color: #800080\">, </span><span style=\"color: #800080; text-decoration-color: #800080\">out</span><span style=\"color: #800080; text-decoration-color: #800080\">=</span><span style=\"color: #800080; text-decoration-color: #800080; font-weight: bold\">172</span><span style=\"color: #800080; text-decoration-color: #800080\">, </span><span style=\"color: #800080; text-decoration-color: #800080\">max</span><span style=\"color: #800080; text-decoration-color: #800080\">=</span><span style=\"color: #800080; text-decoration-color: #800080; font-weight: bold\">1024</span><span style=\"color: #800080; text-decoration-color: #800080\">, </span><span style=\"color: #800080; text-decoration-color: #800080\">ctx</span><span style=\"color: #800080; text-decoration-color: #800080\">=</span><span style=\"color: #800080; text-decoration-color: #800080; font-weight: bold\">128000</span><span style=\"color: #800080; text-decoration-color: #800080\">, COST: </span><span style=\"color: #800080; text-decoration-color: #800080\">now</span><span style=\"color: #800080; text-decoration-color: #800080\">=$</span><span style=\"color: #800080; text-decoration-color: #800080; font-weight: bold\">0.0058</span><span style=\"color: #800080; text-decoration-color: #800080\">, </span><span style=\"color: #800080; text-decoration-color: #800080\">cumul</span><span style=\"color: #800080; text-decoration-color: #800080\">=$</span><span style=\"color: #800080; text-decoration-color: #800080; font-weight: bold\">0.0170</span><span style=\"color: #800080; text-decoration-color: #800080\">, </span><span style=\"color: #800080; text-decoration-color: #800080\">tot</span><span style=\"color: #800080; text-decoration-color: #800080\">=$</span><span style=\"color: #800080; text-decoration-color: #800080; font-weight: bold\">0.0259</span><span style=\"color: #800080; text-decoration-color: #800080\"> </span>\n",
       "<span style=\"color: #800080; text-decoration-color: #800080; font-weight: bold\">(gpt-4o)</span>\n",
       "</pre>\n"
      ],
      "text/plain": [
       "\u001b[1mStats:\u001b[0m \u001b[35mN_MSG\u001b[0m\u001b[35m=\u001b[0m\u001b[1;35m9\u001b[0m\u001b[35m, TOKENS: \u001b[0m\u001b[35min\u001b[0m\u001b[35m=\u001b[0m\u001b[1;35m635\u001b[0m\u001b[35m, \u001b[0m\u001b[35mout\u001b[0m\u001b[35m=\u001b[0m\u001b[1;35m172\u001b[0m\u001b[35m, \u001b[0m\u001b[35mmax\u001b[0m\u001b[35m=\u001b[0m\u001b[1;35m1024\u001b[0m\u001b[35m, \u001b[0m\u001b[35mctx\u001b[0m\u001b[35m=\u001b[0m\u001b[1;35m128000\u001b[0m\u001b[35m, COST: \u001b[0m\u001b[35mnow\u001b[0m\u001b[35m=$\u001b[0m\u001b[1;35m0.0058\u001b[0m\u001b[35m, \u001b[0m\u001b[35mcumul\u001b[0m\u001b[35m=$\u001b[0m\u001b[1;35m0.0170\u001b[0m\u001b[35m, \u001b[0m\u001b[35mtot\u001b[0m\u001b[35m=$\u001b[0m\u001b[1;35m0.0259\u001b[0m\u001b[35m \u001b[0m\n",
       "\u001b[1;35m(\u001b[0m\u001b[1;35mgpt-4o\u001b[0m\u001b[1;35m)\u001b[0m\n"
      ]
     },
     "metadata": {},
     "output_type": "display_data"
    },
    {
     "data": {
      "text/html": [
       "<pre style=\"white-space:pre;overflow-x:auto;line-height:normal;font-family:Menlo,'DejaVu Sans Mono',consolas,'Courier New',monospace\">*<span style=\"font-weight: bold\">(</span>Student<span style=\"font-weight: bold\">)</span> <span style=\"color: #c0c0c0; text-decoration-color: #c0c0c0\"> LLM </span> <span style=\"color: #008000; text-decoration-color: #008000; font-weight: bold\">Entity.LLM</span><span style=\"font-weight: bold\">(</span>          <span style=\"font-weight: bold\">)</span> <span style=\"font-weight: bold\">(</span>=&gt;          <span style=\"font-weight: bold\">)</span> <span style=\"font-weight: bold\">(</span>X           <span style=\"font-weight: bold\">)</span>       <span style=\"font-weight: bold\">(</span>          <span style=\"font-weight: bold\">)</span> <span style=\"color: #008000; text-decoration-color: #008000\">DONE</span>\n",
       "\n",
       "<span style=\"color: #008000; text-decoration-color: #008000\">Here are the </span><span style=\"color: #008000; text-decoration-color: #008000; font-weight: bold\">4</span><span style=\"color: #008000; text-decoration-color: #008000\"> bullet points about Language Models in the context of Machine Learning:</span>\n",
       "\n",
       "<span style=\"color: #008000; text-decoration-color: #008000\">- Training a language model involves key steps such as data collection and preprocessing, model selection, training the model on the data, evaluating its performance, and fine-tuning based on the </span>\n",
       "<span style=\"color: #008000; text-decoration-color: #008000\">evaluation results.</span>\n",
       "<span style=\"color: #008000; text-decoration-color: #008000\">- Data preprocessing is crucial because it cleans and formats the raw text data, removing noise and inconsistencies, which helps the model learn more effectively and improves its overall performance.</span>\n",
       "<span style=\"color: #008000; text-decoration-color: #008000\">- Common metrics used to evaluate the performance of language models include perplexity, BLEU </span><span style=\"color: #008000; text-decoration-color: #008000; font-weight: bold\">(</span><span style=\"color: #008000; text-decoration-color: #008000\">Bilingual Evaluation Understudy</span><span style=\"color: #008000; text-decoration-color: #008000; font-weight: bold\">)</span><span style=\"color: #008000; text-decoration-color: #008000\">, ROUGE </span><span style=\"color: #008000; text-decoration-color: #008000; font-weight: bold\">(</span><span style=\"color: #008000; text-decoration-color: #008000\">Recall-Oriented Understudy for Gisting Evaluation</span><span style=\"color: #008000; text-decoration-color: #008000; font-weight: bold\">)</span><span style=\"color: #008000; text-decoration-color: #008000\">, and </span>\n",
       "<span style=\"color: #008000; text-decoration-color: #008000\">accuracy, depending on the specific task like translation, summarization, or classification.</span>\n",
       "<span style=\"color: #008000; text-decoration-color: #008000\">- A language model's performance is determined by comparing its evaluation metrics against baseline models or human performance benchmarks for the specific task.</span>\n",
       "</pre>\n"
      ],
      "text/plain": [
       "*\u001b[1m(\u001b[0mStudent\u001b[1m)\u001b[0m \u001b[37m LLM \u001b[0m \u001b[1;32mEntity.LLM\u001b[0m\u001b[1m(\u001b[0m          \u001b[1m)\u001b[0m \u001b[1m(\u001b[0m=>          \u001b[1m)\u001b[0m \u001b[1m(\u001b[0mX           \u001b[1m)\u001b[0m       \u001b[1m(\u001b[0m          \u001b[1m)\u001b[0m \u001b[32mDONE\u001b[0m\n",
       "\n",
       "\u001b[32mHere are the \u001b[0m\u001b[1;32m4\u001b[0m\u001b[32m bullet points about Language Models in the context of Machine Learning:\u001b[0m\n",
       "\n",
       "\u001b[32m- Training a language model involves key steps such as data collection and preprocessing, model selection, training the model on the data, evaluating its performance, and fine-tuning based on the \u001b[0m\n",
       "\u001b[32mevaluation results.\u001b[0m\n",
       "\u001b[32m- Data preprocessing is crucial because it cleans and formats the raw text data, removing noise and inconsistencies, which helps the model learn more effectively and improves its overall performance.\u001b[0m\n",
       "\u001b[32m- Common metrics used to evaluate the performance of language models include perplexity, BLEU \u001b[0m\u001b[1;32m(\u001b[0m\u001b[32mBilingual Evaluation Understudy\u001b[0m\u001b[1;32m)\u001b[0m\u001b[32m, ROUGE \u001b[0m\u001b[1;32m(\u001b[0m\u001b[32mRecall-Oriented Understudy for Gisting Evaluation\u001b[0m\u001b[1;32m)\u001b[0m\u001b[32m, and \u001b[0m\n",
       "\u001b[32maccuracy, depending on the specific task like translation, summarization, or classification.\u001b[0m\n",
       "\u001b[32m- A language model's performance is determined by comparing its evaluation metrics against baseline models or human performance benchmarks for the specific task.\u001b[0m\n"
      ]
     },
     "metadata": {},
     "output_type": "display_data"
    },
    {
     "data": {
      "text/html": [
       "<pre style=\"white-space:pre;overflow-x:auto;line-height:normal;font-family:Menlo,'DejaVu Sans Mono',consolas,'Courier New',monospace\"><span style=\"color: #000080; text-decoration-color: #000080\">Human (respond or q, x to exit current level, or hit enter to continue)</span>\n",
       ": </pre>\n"
      ],
      "text/plain": [
       "\u001b[34mHuman (respond or q, x to exit current level, or hit enter to continue)\u001b[0m\n",
       ": "
      ]
     },
     "metadata": {},
     "output_type": "display_data"
    },
    {
     "name": "stdin",
     "output_type": "stream",
     "text": [
      " q\n"
     ]
    },
    {
     "data": {
      "text/html": [
       "<pre style=\"white-space:pre;overflow-x:auto;line-height:normal;font-family:Menlo,'DejaVu Sans Mono',consolas,'Courier New',monospace\">*<span style=\"font-weight: bold\">(</span>Student<span style=\"font-weight: bold\">)</span> <span style=\"color: #c0c0c0; text-decoration-color: #c0c0c0\"> User </span> <span style=\"color: #000080; text-decoration-color: #000080; font-weight: bold\">Entity.USER</span><span style=\"font-weight: bold\">(</span>          <span style=\"font-weight: bold\">)</span> <span style=\"font-weight: bold\">(</span>=&gt;          <span style=\"font-weight: bold\">)</span> <span style=\"font-weight: bold\">(</span>X           <span style=\"font-weight: bold\">)</span>       <span style=\"font-weight: bold\">(</span>          <span style=\"font-weight: bold\">)</span> <span style=\"color: #000080; text-decoration-color: #000080\">q</span>\n",
       "</pre>\n"
      ],
      "text/plain": [
       "*\u001b[1m(\u001b[0mStudent\u001b[1m)\u001b[0m \u001b[37m User \u001b[0m \u001b[1;34mEntity.USER\u001b[0m\u001b[1m(\u001b[0m          \u001b[1m)\u001b[0m \u001b[1m(\u001b[0m=>          \u001b[1m)\u001b[0m \u001b[1m(\u001b[0mX           \u001b[1m)\u001b[0m       \u001b[1m(\u001b[0m          \u001b[1m)\u001b[0m \u001b[34mq\u001b[0m\n"
      ]
     },
     "metadata": {},
     "output_type": "display_data"
    },
    {
     "data": {
      "text/html": [
       "<pre style=\"white-space:pre;overflow-x:auto;line-height:normal;font-family:Menlo,'DejaVu Sans Mono',consolas,'Courier New',monospace\"><span style=\"color: #800080; text-decoration-color: #800080\">Bye, hope this was useful!</span>\n",
       "</pre>\n"
      ],
      "text/plain": [
       "\u001b[35mBye, hope this was useful!\u001b[0m\n"
      ]
     },
     "metadata": {},
     "output_type": "display_data"
    },
    {
     "data": {
      "text/html": [
       "<pre style=\"white-space:pre;overflow-x:auto;line-height:normal;font-family:Menlo,'DejaVu Sans Mono',consolas,'Courier New',monospace\"><span style=\"color: #800080; text-decoration-color: #800080; font-weight: bold\">&lt;&lt;&lt; Finished Agent Student (</span><span style=\"color: #800080; text-decoration-color: #800080; font-weight: bold\">10</span><span style=\"color: #800080; text-decoration-color: #800080; font-weight: bold\">) </span>\n",
       "</pre>\n"
      ],
      "text/plain": [
       "\u001b[1;35m<<< Finished Agent Student \u001b[0m\u001b[1;35m(\u001b[0m\u001b[1;35m10\u001b[0m\u001b[1;35m)\u001b[0m\u001b[1;35m \u001b[0m\n"
      ]
     },
     "metadata": {},
     "output_type": "display_data"
    },
    {
     "data": {
      "text/plain": [
       "ChatDocument(content='q', metadata=ChatDocMetaData(source='User', is_chunk=False, id='', window_ids=[], parent=None, sender=<Entity.USER: 'User'>, tool_ids=[], parent_responder=None, block=None, sender_name='Student', recipient='', usage=None, cached=False, displayed=False, status=<StatusCode.USER_QUIT: 'USER_QUIT'>), function_call=None, tool_messages=[], attachment=None)"
      ]
     },
     "execution_count": 15,
     "metadata": {},
     "output_type": "execute_result"
    }
   ],
   "source": [
    "from langroid.agent.chat_agent import ChatAgent, ChatAgentConfig\n",
    "from langroid.agent.tools.recipient_tool import RecipientTool\n",
    "from langroid.agent.task import Task\n",
    "from langroid.language_models.openai_gpt import OpenAIChatModel, OpenAIGPTConfig\n",
    "from langroid.utils.configuration import set_global, Settings\n",
    "from langroid.utils.logging import setup_colored_logging\n",
    "\n",
    "student_agent = lr.ChatAgent(agent_cfg)\n",
    "student_agent.enable_message(RecipientTool)\n",
    "student_task = Task(\n",
    "    student_agent,\n",
    "    name = \"Student\",\n",
    "    llm_delegate=True,\n",
    "    single_round=False,\n",
    "    system_message=\"\"\"\n",
    "    Your task is to write 4 short bullet points about \n",
    "    Language Models in the context of Machine Learning (ML),\n",
    "    especially about training, and evaluating them. \n",
    "    However you are a novice to this field, and know nothing about this topic. \n",
    "    To collect your bullet points, you will consult 2 people:\n",
    "    TrainingExpert and EvaluationExpert.\n",
    "    You will ask ONE question at a time, to ONE of these experts. \n",
    "    To clarify who your question is for, you must use \n",
    "    the `recipient_message` tool/function-call, setting \n",
    "    the `content` field to the question you want to ask, and the\n",
    "    `recipient` field to either TrainingExpert or EvaluationExpert.\n",
    "\n",
    "    Once you have collected the points you need,\n",
    "    say DONE, and show me the 4 bullet points. \n",
    "    \"\"\",\n",
    ")\n",
    "training_expert_agent = lr.ChatAgent(agent_cfg)\n",
    "training_expert_task = Task(\n",
    "    training_expert_agent,\n",
    "    name = \"TrainingExpert\",\n",
    "    system_message=\"\"\"\n",
    "    You are an expert on Training Language Models in Machine Learning. \n",
    "    You will receive questions on this topic, and you must answer these\n",
    "    very concisely, in one or two sentences, in a way that is easy for a novice to \n",
    "    understand.\n",
    "    \"\"\",\n",
    "    single_round=True,  # task done after 1 step() with valid response\n",
    ")\n",
    "\n",
    "evaluation_expert_agent = lr.ChatAgent(agent_cfg)\n",
    "evaluation_expert_task = Task(\n",
    "    evaluation_expert_agent,\n",
    "    name = \"EvaluationExpert\",\n",
    "    system_message=\"\"\"\n",
    "    You are an expert on Evaluating Language Models in Machine Learning. \n",
    "    You will receive questions on this topic, and you must answer these\n",
    "    very concisely, in one or two sentences, in a way that is easy for a novice to \n",
    "    understand.\n",
    "    \"\"\",\n",
    "    single_round=True,  # task done after 1 step() with valid response\n",
    ")\n",
    "\n",
    "student_task.add_sub_task(\n",
    "    [training_expert_task, evaluation_expert_task]\n",
    ")\n",
    "student_task.run()"
   ]
  },
  {
   "cell_type": "code",
   "execution_count": null,
   "id": "3e7f58c8-a153-4c1f-b79f-14b844d4ab34",
   "metadata": {},
   "outputs": [],
   "source": []
  }
 ],
 "metadata": {
  "kernelspec": {
   "display_name": "Python 3 (ipykernel)",
   "language": "python",
   "name": "python3"
  },
  "language_info": {
   "codemirror_mode": {
    "name": "ipython",
    "version": 3
   },
   "file_extension": ".py",
   "mimetype": "text/x-python",
   "name": "python",
   "nbconvert_exporter": "python",
   "pygments_lexer": "ipython3",
   "version": "3.10.14"
  }
 },
 "nbformat": 4,
 "nbformat_minor": 5
}
