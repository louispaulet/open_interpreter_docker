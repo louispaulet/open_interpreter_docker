{
 "cells": [
  {
   "cell_type": "markdown",
   "id": "b31fcdc5-68ee-4bcd-8e86-3743eca67f9a",
   "metadata": {},
   "source": [
    "# Interpreter - simple python code tests\n",
    "\n",
    "We run a series of simple demands that can be solved by using python functions.  "
   ]
  },
  {
   "cell_type": "markdown",
   "id": "05c1feaa-33e2-471f-a4d5-e16739c5fb12",
   "metadata": {},
   "source": [
    "## Interpreter config"
   ]
  },
  {
   "cell_type": "code",
   "execution_count": 1,
   "id": "5911d2ba-0703-454f-b027-c81c66836c60",
   "metadata": {},
   "outputs": [],
   "source": [
    "from interpreter import interpreter\n",
    "import os\n",
    "\n",
    "# Paste your OpenAI API key below.\n",
    "interpreter.llm.api_key = os.getenv('OPENAI_API_KEY')"
   ]
  },
  {
   "cell_type": "code",
   "execution_count": 2,
   "id": "4c72fe80-aef2-4f0b-a028-a926f8f23735",
   "metadata": {},
   "outputs": [],
   "source": [
    "interpreter.auto_run = True\n",
    "interpreter.llm.model = \"gpt-4o\"\n",
    "interpreter.llm.context_window = 128000\n",
    "interpreter.llm.max_tokens = 4096"
   ]
  },
  {
   "cell_type": "markdown",
   "id": "7eac415e-72d7-418a-b7e9-f245fd754969",
   "metadata": {},
   "source": [
    "## Simple Python functions (interview style)"
   ]
  },
  {
   "cell_type": "markdown",
   "id": "acc3cbd6-bf9d-4d4e-a161-29ac38dbc598",
   "metadata": {},
   "source": [
    "### Finding biggest and lowest number in a series"
   ]
  },
  {
   "cell_type": "code",
   "execution_count": 3,
   "id": "0b1e2093-e985-4e0e-80e3-38bacf4e059a",
   "metadata": {},
   "outputs": [
    {
     "data": {
      "application/vnd.jupyter.widget-view+json": {
       "model_id": "abe83a0ad93b4dcbad1f3dfa61a1e26d",
       "version_major": 2,
       "version_minor": 0
      },
      "text/plain": [
       "Output()"
      ]
     },
     "metadata": {},
     "output_type": "display_data"
    },
    {
     "data": {
      "text/html": [
       "<pre style=\"white-space:pre;overflow-x:auto;line-height:normal;font-family:Menlo,'DejaVu Sans Mono',consolas,'Courier New',monospace\"></pre>\n"
      ],
      "text/plain": []
     },
     "metadata": {},
     "output_type": "display_data"
    },
    {
     "data": {
      "application/vnd.jupyter.widget-view+json": {
       "model_id": "01f70aad5e934a45956c6ec4d6a5110c",
       "version_major": 2,
       "version_minor": 0
      },
      "text/plain": [
       "Output()"
      ]
     },
     "metadata": {},
     "output_type": "display_data"
    },
    {
     "data": {
      "text/html": [
       "<pre style=\"white-space:pre;overflow-x:auto;line-height:normal;font-family:Menlo,'DejaVu Sans Mono',consolas,'Courier New',monospace\"></pre>\n"
      ],
      "text/plain": []
     },
     "metadata": {},
     "output_type": "display_data"
    },
    {
     "data": {
      "application/vnd.jupyter.widget-view+json": {
       "model_id": "1d616e5378b94d1989451749d87ddaf0",
       "version_major": 2,
       "version_minor": 0
      },
      "text/plain": [
       "Output()"
      ]
     },
     "metadata": {},
     "output_type": "display_data"
    },
    {
     "data": {
      "text/html": [
       "<pre style=\"white-space:pre;overflow-x:auto;line-height:normal;font-family:Menlo,'DejaVu Sans Mono',consolas,'Courier New',monospace\"></pre>\n"
      ],
      "text/plain": []
     },
     "metadata": {},
     "output_type": "display_data"
    },
    {
     "data": {
      "application/vnd.jupyter.widget-view+json": {
       "model_id": "e43d6f559c204596937ca3a0fef52850",
       "version_major": 2,
       "version_minor": 0
      },
      "text/plain": [
       "Output()"
      ]
     },
     "metadata": {},
     "output_type": "display_data"
    },
    {
     "data": {
      "text/html": [
       "<pre style=\"white-space:pre;overflow-x:auto;line-height:normal;font-family:Menlo,'DejaVu Sans Mono',consolas,'Courier New',monospace\"></pre>\n"
      ],
      "text/plain": []
     },
     "metadata": {},
     "output_type": "display_data"
    },
    {
     "data": {
      "application/vnd.jupyter.widget-view+json": {
       "model_id": "06cd3d96c0f049c0a395658e42d6ddeb",
       "version_major": 2,
       "version_minor": 0
      },
      "text/plain": [
       "Output()"
      ]
     },
     "metadata": {},
     "output_type": "display_data"
    },
    {
     "data": {
      "text/html": [
       "<pre style=\"white-space:pre;overflow-x:auto;line-height:normal;font-family:Menlo,'DejaVu Sans Mono',consolas,'Courier New',monospace\"></pre>\n"
      ],
      "text/plain": []
     },
     "metadata": {},
     "output_type": "display_data"
    },
    {
     "data": {
      "text/plain": [
       "[{'role': 'assistant',\n",
       "  'type': 'message',\n",
       "  'content': \"Let's start by creating a simple Python function that finds the biggest and lowest numbers in a series. After that, we'll test it on the series `[1, 2, 3, 4, 5, 4, 3, 2, 1]`.\\n\\n### Plan\\n1. Define the function `find_biggest_and_lowest` that takes a list as input.\\n2. Use the built-in `max()` and `min()` functions to find the biggest and lowest numbers in the list.\\n3. Return the result as a tuple `(biggest, lowest)`.\\n4. Test the function with the provided series `[1, 2, 3, 4, 5, 4, 3, 2, 1]`.\\n\\nLet's start by defining the function and testing it.\"},\n",
       " {'role': 'assistant',\n",
       "  'type': 'code',\n",
       "  'format': 'python',\n",
       "  'content': 'code = \"\"\"\\ndef find_biggest_and_lowest(numbers):\\n    biggest = max(numbers)\\n    lowest = min(numbers)\\n    return biggest, lowest\\n\\n# Test the function on the given series\\ntest_series = [1, 2, 3, 4, 5, 4, 3, 2, 1]\\nfind_biggest_and_lowest(test_series)\\n\"\"\"\\nresult = functions.execute({\\n    \"language\": \"python\",\\n    \"code\": code\\n})\\nprint(result)\\n'},\n",
       " {'role': 'computer',\n",
       "  'type': 'console',\n",
       "  'format': 'output',\n",
       "  'content': \"---------------------------------------------------------------------------\\nNameError                                 Traceback (most recent call last)\\nCell In[3], line 4\\n      2 code = '\\\\ndef find_biggest_and_lowest(numbers):\\\\n    biggest = max(numbers)\\\\n    lowest = min(numbers)\\\\n    return biggest, lowest\\\\n\\\\n# Test the function on the given series\\\\ntest_series = [1, 2, 3, 4, 5, 4, 3, 2, 1]\\\\nfind_biggest_and_lowest(test_series)\\\\n'\\n      3 print('##active_line11##')\\n----> 4 result = functions.execute({'language': 'python', 'code': code})\\n      5 print('##active_line15##')\\n      6 print(result)\\n\\nNameError: name 'functions' is not defined\"},\n",
       " {'role': 'assistant',\n",
       "  'type': 'message',\n",
       "  'content': \"It looks like there was an issue with how the execution command was structured.\\n\\nLet's take it step by step:\\n1. Define the function `find_biggest_and_lowest`.\\n2. Test it on the provided series and print the result.\\n\\nI'll re-implement the correct approach now.\"},\n",
       " {'role': 'assistant',\n",
       "  'type': 'code',\n",
       "  'format': 'python',\n",
       "  'content': 'def find_biggest_and_lowest(numbers):\\n    biggest = max(numbers)\\n    lowest = min(numbers)\\n    return biggest, lowest\\n\\n# Test the function on the given series\\ntest_series = [1, 2, 3, 4, 5, 4, 3, 2, 1]\\nresult = find_biggest_and_lowest(test_series)\\nresult'},\n",
       " {'role': 'computer',\n",
       "  'type': 'console',\n",
       "  'format': 'output',\n",
       "  'content': '(5, 1)'},\n",
       " {'role': 'assistant',\n",
       "  'type': 'message',\n",
       "  'content': \"The function `find_biggest_and_lowest` worked successfully on the test series `[1, 2, 3, 4, 5, 4, 3, 2, 1]`.\\n\\n### Result\\n- **Biggest** number: `5`\\n- **Lowest** number: `1`\\n\\nHere is the final code for the function:\\n\\n```python\\ndef find_biggest_and_lowest(numbers):\\n    biggest = max(numbers)\\n    lowest = min(numbers)\\n    return biggest, lowest\\n\\n# Test the function on the given series\\ntest_series = [1, 2, 3, 4, 5, 4, 3, 2, 1]\\nresult = find_biggest_and_lowest(test_series)\\nprint(result)  # Output: (5, 1)\\n```\\n\\nIs there anything else you'd like to do with this function?\"}]"
      ]
     },
     "execution_count": 3,
     "metadata": {},
     "output_type": "execute_result"
    }
   ],
   "source": [
    "interpreter.chat(\n",
    "\"\"\"\n",
    "Please code a simple python function that finds the biggest and lowest numbers in a series.  \n",
    "Then, test it on the following series:\n",
    "[1, 2, 3, 4, 5, 4, 3, 2, 1]\n",
    "\"\"\"\n",
    ")"
   ]
  },
  {
   "cell_type": "markdown",
   "id": "cf3e3efc-26bd-4c39-a575-284b685f7b49",
   "metadata": {},
   "source": [
    "### Recursive factorial"
   ]
  },
  {
   "cell_type": "code",
   "execution_count": 4,
   "id": "0f8664b4-add8-4b9d-b640-bfcf4444dda9",
   "metadata": {},
   "outputs": [
    {
     "data": {
      "application/vnd.jupyter.widget-view+json": {
       "model_id": "ead1041c5f7945f58da9accbe8d71034",
       "version_major": 2,
       "version_minor": 0
      },
      "text/plain": [
       "Output()"
      ]
     },
     "metadata": {},
     "output_type": "display_data"
    },
    {
     "data": {
      "text/html": [
       "<pre style=\"white-space:pre;overflow-x:auto;line-height:normal;font-family:Menlo,'DejaVu Sans Mono',consolas,'Courier New',monospace\"></pre>\n"
      ],
      "text/plain": []
     },
     "metadata": {},
     "output_type": "display_data"
    },
    {
     "data": {
      "application/vnd.jupyter.widget-view+json": {
       "model_id": "5d6166bf693346278233b1f764f6a7f9",
       "version_major": 2,
       "version_minor": 0
      },
      "text/plain": [
       "Output()"
      ]
     },
     "metadata": {},
     "output_type": "display_data"
    },
    {
     "data": {
      "text/html": [
       "<pre style=\"white-space:pre;overflow-x:auto;line-height:normal;font-family:Menlo,'DejaVu Sans Mono',consolas,'Courier New',monospace\"></pre>\n"
      ],
      "text/plain": []
     },
     "metadata": {},
     "output_type": "display_data"
    },
    {
     "data": {
      "application/vnd.jupyter.widget-view+json": {
       "model_id": "c8dc876210174a66a69b4b126fe6f85a",
       "version_major": 2,
       "version_minor": 0
      },
      "text/plain": [
       "Output()"
      ]
     },
     "metadata": {},
     "output_type": "display_data"
    },
    {
     "data": {
      "text/html": [
       "<pre style=\"white-space:pre;overflow-x:auto;line-height:normal;font-family:Menlo,'DejaVu Sans Mono',consolas,'Courier New',monospace\"></pre>\n"
      ],
      "text/plain": []
     },
     "metadata": {},
     "output_type": "display_data"
    },
    {
     "data": {
      "text/plain": [
       "[{'role': 'assistant',\n",
       "  'type': 'message',\n",
       "  'content': \"Let's plan to write a recursive function to calculate the factorial of a number and then verify if `40320` is the factorial of `8`.\\n\\n### Plan\\n1. Write a function `factorial` that calculates the factorial of a number recursively.\\n2. Calculate the factorial of `8` using this function.\\n3. Check if the result is equal to `40320`.\\n\\nLet's start by implementing the function and testing it.\"},\n",
       " {'role': 'assistant',\n",
       "  'type': 'code',\n",
       "  'format': 'python',\n",
       "  'content': 'def factorial(n):\\n    if n == 0:\\n        return 1\\n    else:\\n        return n * factorial(n - 1)\\n\\n# Test the function with 8\\ntest_number = 8\\nfactorial_result = factorial(test_number)\\nexpected_result = 40320\\nis_correct = factorial_result == expected_result\\n(factorial_result, is_correct)'},\n",
       " {'role': 'computer',\n",
       "  'type': 'console',\n",
       "  'format': 'output',\n",
       "  'content': '(40320, True)'},\n",
       " {'role': 'assistant',\n",
       "  'type': 'message',\n",
       "  'content': \"The recursive `factorial` function worked successfully, and the result for the factorial of `8` is indeed `40320`.\\n\\n### Result\\n- **Factorial of 8**: `40320`\\n- **Verification**: `True`\\n\\nHere is the final code for the function:\\n\\n```python\\ndef factorial(n):\\n    if n == 0:\\n        return 1\\n    else:\\n        return n * factorial(n - 1)\\n\\n# Test the function with 8\\ntest_number = 8\\nfactorial_result = factorial(test_number)\\nexpected_result = 40320\\nis_correct = factorial_result == expected_result\\n(factorial_result, is_correct)  # Output: (40320, True)\\n```\\n\\nIs there anything else you'd like to do?\"}]"
      ]
     },
     "execution_count": 4,
     "metadata": {},
     "output_type": "execute_result"
    }
   ],
   "source": [
    "interpreter.chat(\n",
    "\"\"\"\n",
    "Write a function to calculate the factorial of a number recursively.  \n",
    "Then check that 40320 is the result of factorial 8.  \n",
    "\"\"\"\n",
    ")"
   ]
  },
  {
   "cell_type": "code",
   "execution_count": 25,
   "id": "aa1508fd-a71b-423a-8c34-8dc46926fe96",
   "metadata": {},
   "outputs": [
    {
     "data": {
      "text/plain": [
       "(40320, True)"
      ]
     },
     "execution_count": 25,
     "metadata": {},
     "output_type": "execute_result"
    }
   ],
   "source": [
    "def factorial(n):                                                                                               \n",
    "   if n == 0:                                                                                                  \n",
    "       return 1                                                                                                \n",
    "   else:                                                                                                       \n",
    "       return n * factorial(n - 1)                                                                             \n",
    "                                                                                                               \n",
    "# Test the function with 8                                                                                      \n",
    "test_number = 8                                                                                                 \n",
    "factorial_result = factorial(test_number)                                                                       \n",
    "expected_result = 40320                                                                                         \n",
    "is_correct = factorial_result == expected_result                                                                \n",
    "(factorial_result, is_correct)  # Output: (40320, True)     "
   ]
  },
  {
   "cell_type": "markdown",
   "id": "4ffde272-5b81-480c-a29a-eca7736c1f33",
   "metadata": {},
   "source": [
    "### Password checking"
   ]
  },
  {
   "cell_type": "code",
   "execution_count": 5,
   "id": "8f9ebe33-b984-4700-838c-8ac35732e36a",
   "metadata": {},
   "outputs": [
    {
     "data": {
      "application/vnd.jupyter.widget-view+json": {
       "model_id": "0fae034ad92e4316b67ab82e6cf7d9cd",
       "version_major": 2,
       "version_minor": 0
      },
      "text/plain": [
       "Output()"
      ]
     },
     "metadata": {},
     "output_type": "display_data"
    },
    {
     "data": {
      "text/html": [
       "<pre style=\"white-space:pre;overflow-x:auto;line-height:normal;font-family:Menlo,'DejaVu Sans Mono',consolas,'Courier New',monospace\"></pre>\n"
      ],
      "text/plain": []
     },
     "metadata": {},
     "output_type": "display_data"
    },
    {
     "data": {
      "application/vnd.jupyter.widget-view+json": {
       "model_id": "f6f2ec2b34a840c486009e49f13b3a3d",
       "version_major": 2,
       "version_minor": 0
      },
      "text/plain": [
       "Output()"
      ]
     },
     "metadata": {},
     "output_type": "display_data"
    },
    {
     "data": {
      "text/html": [
       "<pre style=\"white-space:pre;overflow-x:auto;line-height:normal;font-family:Menlo,'DejaVu Sans Mono',consolas,'Courier New',monospace\"></pre>\n"
      ],
      "text/plain": []
     },
     "metadata": {},
     "output_type": "display_data"
    },
    {
     "data": {
      "application/vnd.jupyter.widget-view+json": {
       "model_id": "551851efa71f485e8535cbc22d5348b9",
       "version_major": 2,
       "version_minor": 0
      },
      "text/plain": [
       "Output()"
      ]
     },
     "metadata": {},
     "output_type": "display_data"
    },
    {
     "data": {
      "text/html": [
       "<pre style=\"white-space:pre;overflow-x:auto;line-height:normal;font-family:Menlo,'DejaVu Sans Mono',consolas,'Courier New',monospace\"></pre>\n"
      ],
      "text/plain": []
     },
     "metadata": {},
     "output_type": "display_data"
    },
    {
     "data": {
      "text/plain": [
       "[{'role': 'assistant',\n",
       "  'type': 'message',\n",
       "  'content': \"Let's create a program which checks the validity of passwords based on the given criteria.\\n\\n### Plan\\n1. Define a function `check_password_validity` that checks a password against the provided criteria.\\n2. Define another function `filter_valid_passwords` that accepts a sequence of comma-separated passwords and returns those that meet the criteria.\\n3. Accept input from the user.\\n4. Check each password and print the valid ones.\\n\\nI'll begin by writing the functions to check and filter the passwords.\"},\n",
       " {'role': 'assistant',\n",
       "  'type': 'code',\n",
       "  'format': 'python',\n",
       "  'content': 'import re\\n\\ndef check_password_validity(password):\\n    # Check length\\n    if not (6 <= len(password) <= 12):\\n        return False\\n    # Check at least one letter between [a-z]\\n    if not re.search(r\"[a-z]\", password):\\n        return False\\n    # Check at least one number between [0-9]\\n    if not re.search(r\"[0-9]\", password):\\n        return False\\n    # Check at least one letter between [A-Z]\\n    if not re.search(r\"[A-Z]\", password):\\n        return False\\n    # Check at least one character from [$#@]\\n    if not re.search(r\"[$#@]\", password):\\n        return False\\n    return True\\n\\ndef filter_valid_passwords(passwords):\\n    valid_passwords = [pwd for pwd in passwords if check_password_validity(pwd)]\\n    return \",\".join(valid_passwords)\\n\\n# Test with the example input\\ntest_input = \"ABd1234@1,a F1#,2w3E*,2We3345\"\\npassword_list = test_input.split(\",\")\\nvalid_passwords = filter_valid_passwords(password_list)\\nvalid_passwords'},\n",
       " {'role': 'computer',\n",
       "  'type': 'console',\n",
       "  'format': 'output',\n",
       "  'content': \"'ABd1234@1'\"},\n",
       " {'role': 'assistant',\n",
       "  'type': 'message',\n",
       "  'content': 'The program successfully filtered the valid password based on the given criteria. \\n\\n### Result\\n- **Valid Passwords**: `ABd1234@1`\\n\\nHere is the final code for the program:\\n\\n```python\\nimport re\\n\\ndef check_password_validity(password):\\n    # Check length\\n    if not (6 <= len(password) <= 12):\\n        return False\\n    # Check at least one letter between [a-z]\\n    if not re.search(r\"[a-z]\", password):\\n        return False\\n    # Check at least one number between [0-9]\\n    if not re.search(r\"[0-9]\", password):\\n        return False\\n    # Check at least one letter between [A-Z]\\n    if not re.search(r\"[A-Z]\", password):\\n        return False\\n    # Check at least one character from [$#@]\\n    if not re.search(r\"[$#@]\", password):\\n        return False\\n    return True\\n\\ndef filter_valid_passwords(passwords):\\n    valid_passwords = [pwd for pwd in passwords if check_password_validity(pwd)]\\n    return \",\".join(valid_passwords)\\n\\n# Test with the example input\\ntest_input = \"ABd1234@1,a F1#,2w3E*,2We3345\"\\npassword_list = test_input.split(\",\")\\nvalid_passwords = filter_valid_passwords(password_list)\\nprint(valid_passwords)  # Output: ABd1234@1\\n```\\n\\nYou can now use this code to check the validity of passwords input by users. If you have any more questions or need further assistance, feel free to ask!'}]"
      ]
     },
     "execution_count": 5,
     "metadata": {},
     "output_type": "execute_result"
    }
   ],
   "source": [
    "interpreter.chat(\n",
    "\"\"\"\n",
    "Question:\n",
    "A website requires the users to input username and password to register. Write a program to check the validity of password input by users.\n",
    "Following are the criteria for checking the password:\n",
    "1. At least 1 letter between [a-z]\n",
    "2. At least 1 number between [0-9]\n",
    "1. At least 1 letter between [A-Z]\n",
    "3. At least 1 character from [$#@]\n",
    "4. Minimum length of transaction password: 6\n",
    "5. Maximum length of transaction password: 12\n",
    "Your program should accept a sequence of comma separated passwords and will check them according to the above criteria. Passwords that match the criteria are to be printed, each separated by a comma.\n",
    "Example\n",
    "If the following passwords are given as input to the program:\n",
    "ABd1234@1,a F1#,2w3E*,2We3345\n",
    "Then, the output of the program should be:\n",
    "ABd1234@1\n",
    "\n",
    "Hints:\n",
    "In case of input data being supplied to the question, it should be assumed to be a console input.\n",
    "\"\"\"\n",
    ")"
   ]
  },
  {
   "cell_type": "code",
   "execution_count": 24,
   "id": "3cc597c1-21ab-4e69-989e-1fa82bf2b5bd",
   "metadata": {},
   "outputs": [
    {
     "name": "stdout",
     "output_type": "stream",
     "text": [
      "ABd1234@1\n"
     ]
    }
   ],
   "source": [
    "import re                                                                                                       \n",
    "                                                                                                               \n",
    "def check_password_validity(password):                                                                          \n",
    "   # Check length                                                                                              \n",
    "   if not (6 <= len(password) <= 12):                                                                          \n",
    "       return False                                                                                            \n",
    "   # Check at least one letter between [a-z]                                                                   \n",
    "   if not re.search(r\"[a-z]\", password):                                                                       \n",
    "       return False                                                                                            \n",
    "   # Check at least one number between [0-9]                                                                   \n",
    "   if not re.search(r\"[0-9]\", password):                                                                       \n",
    "       return False                                                                                            \n",
    "   # Check at least one letter between [A-Z]                                                                   \n",
    "   if not re.search(r\"[A-Z]\", password):                                                                       \n",
    "       return False                                                                                            \n",
    "   # Check at least one character from [$#@]                                                                   \n",
    "   if not re.search(r\"[$#@]\", password):                                                                       \n",
    "       return False                                                                                            \n",
    "   return True                                                                                                 \n",
    "                                                                                                               \n",
    "def filter_valid_passwords(passwords):                                                                          \n",
    "   valid_passwords = [pwd for pwd in passwords if check_password_validity(pwd)]                                \n",
    "   return \",\".join(valid_passwords)                                                                            \n",
    "                                                                                                               \n",
    "# Test with the example input                                                                                   \n",
    "test_input = \"ABd1234@1,a F1#,2w3E*,2We3345\"                                                                    \n",
    "password_list = test_input.split(\",\")                                                                           \n",
    "valid_passwords = filter_valid_passwords(password_list)                                                         \n",
    "print(valid_passwords)  # Output: ABd1234@1  "
   ]
  },
  {
   "cell_type": "markdown",
   "id": "8e72ae6e-75a3-4634-bc7b-677f8f441916",
   "metadata": {},
   "source": [
    "## ASCII Maze algos"
   ]
  },
  {
   "cell_type": "markdown",
   "id": "08234de5-d702-4ae0-9947-d8565ccb470a",
   "metadata": {},
   "source": [
    "We wipe chat history to save on context size prices"
   ]
  },
  {
   "cell_type": "code",
   "execution_count": 26,
   "id": "c404c598-c90d-4a93-93b1-b37c476bbb8e",
   "metadata": {},
   "outputs": [],
   "source": [
    "interpreter.messages = []"
   ]
  },
  {
   "cell_type": "markdown",
   "id": "0afb405e-511f-42cd-97d1-9544c31f1c3f",
   "metadata": {},
   "source": [
    "Example prompt for one algo, the code for each maze is below.  "
   ]
  },
  {
   "cell_type": "code",
   "execution_count": 27,
   "id": "396d3249-a25f-45c4-9e05-f5a62f8c2b7c",
   "metadata": {},
   "outputs": [
    {
     "data": {
      "application/vnd.jupyter.widget-view+json": {
       "model_id": "4ada6647aec048d3ab91089e9a015ab2",
       "version_major": 2,
       "version_minor": 0
      },
      "text/plain": [
       "Output()"
      ]
     },
     "metadata": {},
     "output_type": "display_data"
    },
    {
     "data": {
      "text/html": [
       "<pre style=\"white-space:pre;overflow-x:auto;line-height:normal;font-family:Menlo,'DejaVu Sans Mono',consolas,'Courier New',monospace\"></pre>\n"
      ],
      "text/plain": []
     },
     "metadata": {},
     "output_type": "display_data"
    },
    {
     "data": {
      "application/vnd.jupyter.widget-view+json": {
       "model_id": "c2360bb68a844258b7b2843d003b3d3f",
       "version_major": 2,
       "version_minor": 0
      },
      "text/plain": [
       "Output()"
      ]
     },
     "metadata": {},
     "output_type": "display_data"
    },
    {
     "data": {
      "text/html": [
       "<pre style=\"white-space:pre;overflow-x:auto;line-height:normal;font-family:Menlo,'DejaVu Sans Mono',consolas,'Courier New',monospace\"></pre>\n"
      ],
      "text/plain": []
     },
     "metadata": {},
     "output_type": "display_data"
    },
    {
     "data": {
      "application/vnd.jupyter.widget-view+json": {
       "model_id": "a557099697424f3f85eb40c8080a5376",
       "version_major": 2,
       "version_minor": 0
      },
      "text/plain": [
       "Output()"
      ]
     },
     "metadata": {},
     "output_type": "display_data"
    },
    {
     "data": {
      "text/html": [
       "<pre style=\"white-space:pre;overflow-x:auto;line-height:normal;font-family:Menlo,'DejaVu Sans Mono',consolas,'Courier New',monospace\"></pre>\n"
      ],
      "text/plain": []
     },
     "metadata": {},
     "output_type": "display_data"
    },
    {
     "data": {
      "application/vnd.jupyter.widget-view+json": {
       "model_id": "3fa608da517d42de87abfcd69336eb2d",
       "version_major": 2,
       "version_minor": 0
      },
      "text/plain": [
       "Output()"
      ]
     },
     "metadata": {},
     "output_type": "display_data"
    },
    {
     "data": {
      "text/html": [
       "<pre style=\"white-space:pre;overflow-x:auto;line-height:normal;font-family:Menlo,'DejaVu Sans Mono',consolas,'Courier New',monospace\"></pre>\n"
      ],
      "text/plain": []
     },
     "metadata": {},
     "output_type": "display_data"
    },
    {
     "data": {
      "application/vnd.jupyter.widget-view+json": {
       "model_id": "296770d1f739422485f61e819d07a65d",
       "version_major": 2,
       "version_minor": 0
      },
      "text/plain": [
       "Output()"
      ]
     },
     "metadata": {},
     "output_type": "display_data"
    },
    {
     "data": {
      "text/html": [
       "<pre style=\"white-space:pre;overflow-x:auto;line-height:normal;font-family:Menlo,'DejaVu Sans Mono',consolas,'Courier New',monospace\"></pre>\n"
      ],
      "text/plain": []
     },
     "metadata": {},
     "output_type": "display_data"
    },
    {
     "data": {
      "text/plain": [
       "[{'role': 'assistant',\n",
       "  'type': 'message',\n",
       "  'content': \"To create a function that generates an ASCII maze using Prim's Algorithm, we'll need to follow these steps:\\n\\n1. Initialize the maze structure.\\n2. Pick a starting point and mark it as part of the maze.\\n3. Add to a list all walls of the cell (starting point).\\n4. While there are walls in the list:\\n   - Pick a random wall from the list.\\n   - If the cell on the opposite side of the wall isn't in the maze yet:\\n     - Make the wall a passage and mark the adjacent cell as part of the maze.\\n     - Add the neighboring walls of the cell to the list.\\n   - Remove the wall from the list.\\n\\nLet's begin by defining the `generate_maze` function and implementing these steps. We'll start by initializing the structure of the maze and defining the basic functions.\\n\\nFirst, we'll initialize the maze and create the structure. Then we'll implement the rest step by step.\\n\\n```python\\nimport random\\n\\ndef generate_maze(length, width, wall, space):\\n    maze = [[wall for _ in range(width)] for _ in range(length)]\\n    start_x = random.randint(1, length-2)\\n    start_y = random.randint(1, width-2)\\n    maze[start_x][start_y] = space\\n\\n    walls = [(start_x, start_y, start_x-1, start_y),\\n             (start_x, start_y, start_x+1, start_y),\\n             (start_x, start_y, start_x, start_y-1),\\n             (start_x, start_y, start_x, start_y+1)]\\n\\n    while walls:\\n        wx, wy, nx, ny = random.choice(walls)\\n        walls.remove((wx, wy, nx, ny))\\n        if 1 <= nx < length-1 and 1 <= ny < width-1 and maze[nx][ny] == wall:\\n            if sum([maze[nx-1][ny] == space, maze[nx+1][ny] == space, maze[nx][ny-1] == space, maze[nx][ny+1] == space]) < 2:\\n                maze[wx][wy] = space\\n                maze[nx][ny] = space\\n                walls.append((nx, ny, nx-1, ny))\\n                walls.append((nx, ny, nx+1, ny))\\n                walls.append((nx, ny, nx, ny-1))\\n                walls.append((nx, ny, nx, ny+1))\\n\\n    for row in maze:\\n        print(''.join(row))\\n\\n# Let's run the function with the example parameters\\ngenerate_maze(length=8, width=10, wall='8', space='.')\\n```\\n\\nLet's execute this code to verify if it generates the maze correctly.\"},\n",
       " {'role': 'assistant',\n",
       "  'type': 'code',\n",
       "  'format': 'python',\n",
       "  'content': 'execute({\\n  language: \"python\",\\n  code: `\\nimport random\\n\\ndef generate_maze(length, width, wall, space):\\n    maze = [[wall for _ in range(width)] for _ in range(length)]\\n    start_x = random.randint(1, length-2)\\n    start_y = random.randint(1, width-2)\\n    maze[start_x][start_y] = space\\n\\n    walls = [(start_x, start_y, start_x-1, start_y),\\n             (start_x, start_y, start_x+1, start_y),\\n             (start_x, start_y, start_x, start_y-1),\\n             (start_x, start_y, start_x, start_y+1)]\\n\\n    while walls:\\n        wx, wy, nx, ny = random.choice(walls)\\n        walls.remove((wx, wy, nx, ny))\\n        if 1 <= nx < length-1 and 1 <= ny < width-1 and maze[nx][ny] == wall:\\n            if sum([maze[nx-1][ny] == space, maze[nx+1][ny] == space, maze[nx][ny-1] == space, maze[nx][ny+1] == space]) < 2:\\n                maze[wx][wy] = space\\n                maze[nx][ny] = space\\n                walls.append((nx, ny, nx-1, ny))\\n                walls.append((nx, ny, nx+1, ny))\\n                walls.append((nx, ny, nx, ny-1))\\n                walls.append((nx, ny, nx, ny+1))\\n\\n    for row in maze:\\n        print(\\'\\'.join(row))\\n\\n# Let\\'s run the function with the example parameters\\ngenerate_maze(length=8, width=10, wall=\\'8\\', space=\\'.\\')\\n`\\n})\\n'},\n",
       " {'role': 'computer', 'type': 'console', 'format': 'output', 'content': ''},\n",
       " {'role': 'computer',\n",
       "  'type': 'console',\n",
       "  'format': 'output',\n",
       "  'content': '  Cell In[37], line 3\\n    code: `\\n          ^\\nSyntaxError: invalid syntax\\n'},\n",
       " {'role': 'assistant',\n",
       "  'type': 'message',\n",
       "  'content': \"It looks like I mistakenly included some syntax that didn't belong in the Python code block. Let's try again, this time directly executing the function definition and running it with the example parameters.\\n\\n```python\\nimport random\\n\\ndef generate_maze(length, width, wall, space):\\n    maze = [[wall for _ in range(width)] for _ in range(length)]\\n    start_x = random.randint(1, length-2)\\n    start_y = random.randint(1, width-2)\\n    maze[start_x][start_y] = space\\n\\n    walls = [(start_x, start_y, start_x-1, start_y),\\n             (start_x, start_y, start_x+1, start_y),\\n             (start_x, start_y, start_x, start_y-1),\\n             (start_x, start_y, start_x, start_y+1)]\\n\\n    while walls:\\n        wx, wy, nx, ny = random.choice(walls)\\n        walls.remove((wx, wy, nx, ny))\\n        if 1 <= nx < length-1 and 1 <= ny < width-1 and maze[nx][ny] == wall:\\n            if sum([maze[nx-1][ny] == space, maze[nx+1][ny] == space, maze[nx][ny-1] == space, maze[nx][ny+1] == space]) < 2:\\n                maze[wx][wy] = space\\n                maze[nx][ny] = space\\n                walls.append((nx, ny, nx-1, ny))\\n                walls.append((nx, ny, nx+1, ny))\\n                walls.append((nx, ny, nx, ny-1))\\n                walls.append((nx, ny, nx, ny+1))\\n\\n    for row in maze:\\n        print(''.join(row))\\n\\n# Let's run the function with the example parameters\\ngenerate_maze(length=8, width=10, wall='8', space='.')\\n```\\n\\nWe'll execute this code to see if it generates the maze correctly.\"},\n",
       " {'role': 'assistant',\n",
       "  'type': 'code',\n",
       "  'format': 'python',\n",
       "  'content': \"import random\\n\\ndef generate_maze(length, width, wall, space):\\n    maze = [[wall for _ in range(width)] for _ in range(length)]\\n    start_x = random.randint(1, length-2)\\n    start_y = random.randint(1, width-2)\\n    maze[start_x][start_y] = space\\n\\n    walls = [(start_x, start_y, start_x-1, start_y),\\n             (start_x, start_y, start_x+1, start_y),\\n             (start_x, start_y, start_x, start_y-1),\\n             (start_x, start_y, start_x, start_y+1)]\\n\\n    while walls:\\n        wx, wy, nx, ny = random.choice(walls)\\n        walls.remove((wx, wy, nx, ny))\\n        if 1 <= nx < length-1 and 1 <= ny < width-1 and maze[nx][ny] == wall:\\n            if sum([maze[nx-1][ny] == space, maze[nx+1][ny] == space, maze[nx][ny-1] == space, maze[nx][ny+1] == space]) < 2:\\n                maze[wx][wy] = space\\n                maze[nx][ny] = space\\n                walls.append((nx, ny, nx-1, ny))\\n                walls.append((nx, ny, nx+1, ny))\\n                walls.append((nx, ny, nx, ny-1))\\n                walls.append((nx, ny, nx, ny+1))\\n\\n    for row in maze:\\n        print(''.join(row))\\n\\n# Let's run the function with the example parameters\\ngenerate_maze(length=8, width=10, wall='8', space='.')\"},\n",
       " {'role': 'computer',\n",
       "  'type': 'console',\n",
       "  'format': 'output',\n",
       "  'content': '8888888888\\n8.8...88.8\\n8...88...8\\n888.8..8.8\\n8.8..8..88\\n8...8.8..8\\n8.8.....88\\n8888888888\\n'},\n",
       " {'role': 'assistant',\n",
       "  'type': 'message',\n",
       "  'content': \"Here is the generated 8x10 maze with walls made of '8' and spaces made of '.':\\n\\n```\\n8888888888\\n8.8...88.8\\n8...88...8\\n888.8..8.8\\n8.8..8..88\\n8...8.8..8\\n8.8.....88\\n8888888888\\n```\\n\\nThis maze was generated using Prim's Algorithm. If you need any modifications or further assistance, please let me know!\"}]"
      ]
     },
     "execution_count": 27,
     "metadata": {},
     "output_type": "execute_result"
    }
   ],
   "source": [
    "interpreter.chat(\n",
    "\"\"\"\n",
    "Write a python function to generate an ASCII maze.  \n",
    "This function shall use Prim's Algorithm to generate the maze.  \n",
    "This function shall take two integer inputs: \"length\" and \"width\".  \n",
    "This function should take two char inputs: \"wall\" and \"space\".  \n",
    "\n",
    "Example call:  \n",
    "generate_maze(length=8, width=10, wall='8', space='.')  \n",
    "\n",
    "Should generate a 8x10 maze with walls made of char '8' and spaces made of char '.'  \n",
    "\n",
    "When the function is ready, run it once to show a result\n",
    "\"\"\"\n",
    ")"
   ]
  },
  {
   "cell_type": "markdown",
   "id": "48ebfea4-3ab5-424b-a487-216c062c19a9",
   "metadata": {},
   "source": [
    "### Helper function\n",
    "\n",
    "We use a helper function `prettify_maze` to make the maze more visually appealing.  "
   ]
  },
  {
   "cell_type": "code",
   "execution_count": 38,
   "id": "afebc328-2978-41c3-913b-b5ef45328078",
   "metadata": {},
   "outputs": [],
   "source": [
    "# https://codegolf.stackexchange.com/questions/162403/render-an-ascii-maze\n",
    "def prettify_maze(s):\n",
    " h,j,s=' +|-+','',s.splitlines()\n",
    " s+=['']\n",
    " for n in range(len(s)):\n",
    "  s[n]+=' '\n",
    "  for i in range(len(s[n])-1):\n",
    "   l,r,k=s[n][i-1],s[n][i+1],0\n",
    "   try:u=s[n-1][i]\n",
    "   except:u=' '\n",
    "   try:d=s[n+1][i]\n",
    "   except:d=' '\n",
    "   if not s[n][i]==' ':\n",
    "    k+=1\n",
    "    if not u==d==' ':k+=1\n",
    "    if not l==r==' ':k+=2\n",
    "   j+=h[k]\n",
    "  j+='\\n'\n",
    " print(j)"
   ]
  },
  {
   "cell_type": "markdown",
   "id": "9b8bb20f-c794-4ce4-87ec-a37812ebd214",
   "metadata": {},
   "source": [
    "### Recursive backtracking"
   ]
  },
  {
   "cell_type": "code",
   "execution_count": 40,
   "id": "a7dcd444-9e7d-4255-929c-d799fd8ff58a",
   "metadata": {},
   "outputs": [
    {
     "name": "stdout",
     "output_type": "stream",
     "text": [
      "+-+-------------+---+---+---------+-------+-------+---+-----+\n",
      "| |             |   |   |         |       |       |   |     |\n",
      "| +---+ +------ | --+ | | ------+ | | ----+ +---+ | | | +-- |\n",
      "|     | |       |     | |       |   |       |   |   |   |   |\n",
      "+---+ +-+ ----+ | +-+ | +-+ --+-+-+-+-- | +-+ | +---+---+ +-+\n",
      "|   |   |     | | | | |   |   |   |     | |   |         | | |\n",
      "| | +-+ +---- | | | | +---+-- | | | ----+-+ +-+-+---+-- | | |\n",
      "| |   |       | |   |           | |     |   |   |   |   |   |\n",
      "| | | +-+---+-+ | --+---------+-+-+-- | | --+ | | | | --+---+\n",
      "| | |   |   |   |             |       | |   | |   | |       |\n",
      "| | +-- | | | +-+---+-------+ | ----+ +-+-- | +-+-+ +-----+ |\n",
      "| | |     | | |     |       | |     | |     |   |   |     | |\n",
      "+-+ | --+-+-+ | +-+ | +---+ +-+-+ | +-+ ----+-- | --+---- | |\n",
      "|   |   |   |   | |   |   | |   | |             |         | |\n",
      "| +-+---+ | +-+-+ +---+ | | | | +-+-------+ +---+-----+-- | |\n",
      "| |       |   |   |     |   | |           | |   |     |   | |\n",
      "| | +-----+-+ | --+ ----+---+ +-----+---- | | | | +-- | --+ |\n",
      "| | |     | |     |           |     |     | | |   |   |   | |\n",
      "| | | --+ | | +---+-+-+-------+ +---+ +---+-+ +---+-+ +---+ |\n",
      "|   |   | |   |     | |       | |     |   |   |     |     | |\n",
      "| +-+ | +-+ --+ | | | | | --+ | | --+-+ | | +-+ +-+ +---- | |\n",
      "| |   |   |     | |     |   |   |   |   |   | | | | |     | |\n",
      "| | --+-- +-----+-+-----+-+ +---+-- | +-+ +-+ | | | | +---+ |\n",
      "| |   |   |               | |       | |   |   |   | | |     |\n",
      "| +---+ | +---+---+-----+ | | ------+-+ +-+ | +-+ | | +-+ --+\n",
      "|       | |   |   |     | | |         | |   |   | | |   |   |\n",
      "+-+---+-+ | | | | | | | | | +-------- | +---+ +-+ | +-+ +-- |\n",
      "| |   |   | |   |   | | | |           |     | |   |   | |   |\n",
      "| | | | --+-+---+---+ | | +-----------+-- | | | --+-+ | | | |\n",
      "|   |                 |                   | |       |     | |\n",
      "+---+-----------------+-------------------+-+-------+-----+-+\n",
      "\n",
      "\n"
     ]
    }
   ],
   "source": [
    "import random                                                                                                   \n",
    "                                                                                                               \n",
    "# Directions for movement: (dx, dy)                                                                             \n",
    "DIRECTIONS = [(0, 1), (1, 0), (0, -1), (-1, 0)]                                                                 \n",
    "                                                                                                               \n",
    "# Function to check if a move is valid                                                                          \n",
    "def is_valid_move(grid, x, y, wall):                                                                            \n",
    "   if x <= 0 or y <= 0 or x >= len(grid) - 1 or y >= len(grid[0]) - 1:                                         \n",
    "       return False                                                                                            \n",
    "   if grid[x][y] != wall:                                                                                      \n",
    "       return False                                                                                            \n",
    "   return True                                                                                                 \n",
    "                                                                                                               \n",
    "# Function to generate the maze                                                                                 \n",
    "def carve_paths(grid, x, y, wall, space):                                                                       \n",
    "   grid[x][y] = space                                                                                          \n",
    "   random.shuffle(DIRECTIONS)                                                                                  \n",
    "   for dx, dy in DIRECTIONS:                                                                                   \n",
    "       nx, ny = x + dx * 2, y + dy * 2                                                                         \n",
    "       if is_valid_move(grid, nx, ny, wall):                                                                   \n",
    "           grid[x + dx][y + dy] = space                                                                        \n",
    "           carve_paths(grid, nx, ny, wall, space)                                                              \n",
    "                                                                                                               \n",
    "# Function to initialize the grid                                                                               \n",
    "def create_maze_grid(length, width, wall, space):                                                               \n",
    "   grid = [[wall for _ in range(width)] for _ in range(length)]                                                \n",
    "   return grid                                                                                                 \n",
    "                                                                                                               \n",
    "# Function to render the maze as an ASCII string                                                                \n",
    "def render_maze(grid):                                                                                          \n",
    "   return \"\\n\".join(\"\".join(row) for row in grid)                                                              \n",
    "                                                                                                               \n",
    "# Main function to generate and print the ASCII maze                                                            \n",
    "def generate_maze(length, width, wall, space):                                                                  \n",
    "   if length <= 0 or width <= 0:                                                                               \n",
    "       return \"\"                                                                                               \n",
    "   grid = create_maze_grid(length * 2 + 1, width * 2 + 1, wall, space)                                         \n",
    "   carve_paths(grid, 1, 1, wall, space)                                                                        \n",
    "   return render_maze(grid)                                                                                    \n",
    "                                                                                                               \n",
    "# Example usage                                                                                                 \n",
    "maze_output = generate_maze(15, 30, '8', ' ')                                                                    \n",
    "prettify_maze(maze_output)      "
   ]
  },
  {
   "cell_type": "markdown",
   "id": "b120956c-37e1-4f0b-b9c1-dff76b59125c",
   "metadata": {},
   "source": [
    "### Kruskal's Algorithm"
   ]
  },
  {
   "cell_type": "code",
   "execution_count": 41,
   "id": "4748d07c-c5f0-402f-be64-88a0236f2df7",
   "metadata": {},
   "outputs": [
    {
     "name": "stdout",
     "output_type": "stream",
     "text": [
      "+---+-+-----+-----+---+-+-+-+-----+-+-+-+-----+---+---+-----+\n",
      "|   | |     |     |   | | | |     | | | |     |   |   |     |\n",
      "| +-+ +-+-- +-- +-+ --+ | | | --+ | | | | +-+ | +-+ | | | +-+\n",
      "| |   | |       |     |   |     | | |     | | | | | | | | | |\n",
      "| | | | +---- +-+ ----+ | +---- +-+ +-+ | | +-+ | | +-+ +-+ |\n",
      "|   | | |     | |       | |       |   | |     |       |   | |\n",
      "+-- | | +-- +-+ | +---- | | +-----+ --+ +-+-+-+-- ----+-+ | |\n",
      "|   | |     | | | |     |   |     |       | |         | |   |\n",
      "| | +-+ ----+ | +-+ +-+-+ --+ ----+-+---- | +-- --+-+-+ | | |\n",
      "| |                 | |     |       |             | | |   | |\n",
      "+-+-- +---- ------+-+ | +-+-+ ----+-+-----+-+-- | | | | +-+ |\n",
      "|     |           | |   | |       |       | |   | | |   |   |\n",
      "| | --+---+-- +-- | +-+-+ | | | --+ ----+ | | --+-+ | +-+---+\n",
      "| |   |   |   |   | | |     | |         | |           | |   |\n",
      "| | | | | +-+ +---+ | +---+-+ +-+-- ----+-+---+---- --+ +-- |\n",
      "| | | | |   |     |       | | | |             |             |\n",
      "| +-+-+ +-+ +-----+------ | +-+ | | | | --+-+ +---- +-+ | --+\n",
      "| |   | | |       |       |       | | |   | | |     | | |   |\n",
      "| +-- | | | | --+ +-+-+ --+-- +-- | +-+ | | | | +-+-+ | +---+\n",
      "|     | |   |   |   | |       |   |   | |   |   | | |       |\n",
      "+---- | +-+-+ +-+-- | | +-+ --+-- +---+ +---+ --+ | +-- +-+ |\n",
      "|     |   | | |         | |   |       | |   |   |       | | |\n",
      "+-- | | --+ | | +-- | --+ +-+-+ | --+-+ +-- +-+-+-+ ----+ +-+\n",
      "|   |     |   | |   |       |   |   | | |     |   |         |\n",
      "| | +-+-- | +-+-+-+-+ | +---+-+ +-- | +-+-+-- +-- +-- ----+ |\n",
      "| | | |   | | |   |   | |     | |   |     |   |           | |\n",
      "+-+ | | | +-+ +-- | +-+ +-- --+-+ --+ +-+-+-+ +-- +---- | +-+\n",
      "|   | | | |   |     | |         |     | |   |     |     | | |\n",
      "+-- | | +-+ | | --+ | +-- ------+ +-- | +-- +---+ +-- | | | |\n",
      "|     |     | |   | |           | |             | |   | |   |\n",
      "+-----+-----+-+---+-+-----------+-+-------------+-+---+-+---+\n",
      "\n",
      "\n"
     ]
    }
   ],
   "source": [
    "import random                                                                                                   \n",
    "                                                                                                               \n",
    "def find(parent, i):                                                                                            \n",
    "   if parent[i] == i:                                                                                          \n",
    "       return i                                                                                                \n",
    "   return find(parent, parent[i])                                                                              \n",
    "                                                                                                               \n",
    "def union(parent, rank, x, y):                                                                                  \n",
    "   rootX = find(parent, x)                                                                                     \n",
    "   rootY = find(parent, y)                                                                                     \n",
    "                                                                                                               \n",
    "   if rootX != rootY:                                                                                          \n",
    "       if rank[rootX] > rank[rootY]:                                                                           \n",
    "           parent[rootY] = rootX                                                                               \n",
    "       elif rank[rootX] < rank[rootY]:                                                                         \n",
    "           parent[rootX] = rootY                                                                               \n",
    "       else:                                                                                                   \n",
    "           parent[rootY] = rootX                                                                               \n",
    "           rank[rootX] += 1                                                                                    \n",
    "                                                                                                               \n",
    "def generate_maze(length, width, wall, space):                                                                  \n",
    "   maze = [[wall] * (width * 2 + 1) for _ in range(length * 2 + 1)]                                            \n",
    "                                                                                                               \n",
    "   sets = {(r, c): (r * width + c) for r in range(length) for c in range(width)}                               \n",
    "   edges = []                                                                                                  \n",
    "                                                                                                               \n",
    "   for r in range(length):                                                                                     \n",
    "       for c in range(width):                                                                                  \n",
    "           if r < length - 1:                                                                                  \n",
    "               edges.append(((r, c), (r + 1, c)))                                                              \n",
    "           if c < width - 1:                                                                                   \n",
    "               edges.append(((r, c), (r, c + 1)))                                                              \n",
    "                                                                                                               \n",
    "   random.shuffle(edges)                                                                                       \n",
    "                                                                                                               \n",
    "   parent = [i for i in range(length * width)]                                                                 \n",
    "   rank = [0] * (length * width)                                                                               \n",
    "                                                                                                               \n",
    "   for (cell1, cell2) in edges:                                                                                \n",
    "       if find(parent, sets[cell1]) != find(parent, sets[cell2]):                                              \n",
    "           union(parent, rank, sets[cell1], sets[cell2])                                                       \n",
    "                                                                                                               \n",
    "           r1, c1 = cell1                                                                                      \n",
    "           r2, c2 = cell2                                                                                      \n",
    "                                                                                                               \n",
    "           maze[r1 * 2 + 1][c1 * 2 + 1] = space                                                                \n",
    "           maze[r2 * 2 + 1][c2 * 2 + 1] = space                                                                \n",
    "           maze[(r1 + r2) + 1][(c1 + c2) + 1] = space                                                          \n",
    "                                                                                                               \n",
    "   return '\\n'.join(''.join(row) for row in maze)                                                              \n",
    "                                                                                                               \n",
    "# Using the function with the provided example                                                                  \n",
    "prettify_maze(generate_maze(length=15, width=30, wall='8', space=' '))"
   ]
  },
  {
   "cell_type": "markdown",
   "id": "95910f04-6f66-45a2-afb7-aaf526b2ef47",
   "metadata": {},
   "source": [
    "### Prim's Algorithm"
   ]
  },
  {
   "cell_type": "code",
   "execution_count": 45,
   "id": "ec6fcf21-e38e-4d04-b5c9-736a44d98b5f",
   "metadata": {},
   "outputs": [
    {
     "name": "stdout",
     "output_type": "stream",
     "text": [
      "+-+-+-+-----------+--+------++\n",
      "| | | |           |  |      ++\n",
      "|       + + | + +   +  | + + |\n",
      "+- | --- |  |  |  --  -+- +  |\n",
      "|  |     | +  ++-    + |   | |\n",
      "+- ++ + + + + ++  +-     + | |\n",
      "|   |  |        | | -- -- +  |\n",
      "| +-+- | | + -- |     +     -+\n",
      "| | |   -+-    |  + +   + -- |\n",
      "+-    +- | + + | | +  --     |\n",
      "|  + ++       +  |  +   | + ++\n",
      "| +  |  -- + | +  +   + +- -++\n",
      "|  |  +   +  |  |  | +      ++\n",
      "++ | |  |  |   +++ |  | | |  |\n",
      "++-+-+--+--+---+++-+--+-+-+--+\n",
      "\n",
      "\n"
     ]
    }
   ],
   "source": [
    "import random                                                                                                    \n",
    "                                                                                                               \n",
    "def generate_maze(length, width, wall, space):                                                                   \n",
    "  maze = [[wall for _ in range(width)] for _ in range(length)]                                                 \n",
    "  start_x = random.randint(1, length-2)                                                                        \n",
    "  start_y = random.randint(1, width-2)                                                                         \n",
    "  maze[start_x][start_y] = space                                                                               \n",
    "                                                                                                               \n",
    "  walls = [(start_x, start_y, start_x-1, start_y),                                                             \n",
    "           (start_x, start_y, start_x+1, start_y),                                                             \n",
    "           (start_x, start_y, start_x, start_y-1),                                                             \n",
    "           (start_x, start_y, start_x, start_y+1)]                                                             \n",
    "                                                                                                               \n",
    "  while walls:                                                                                                 \n",
    "      wx, wy, nx, ny = random.choice(walls)                                                                    \n",
    "      walls.remove((wx, wy, nx, ny))                                                                           \n",
    "      if 1 <= nx < length-1 and 1 <= ny < width-1 and maze[nx][ny] == wall:                                    \n",
    "          if sum([maze[nx-1][ny] == space, maze[nx+1][ny] == space, maze[nx][ny-1] == space, maze[nx][ny+1] == space]) < 2:                                                                                                  \n",
    "              maze[wx][wy] = space                                                                             \n",
    "              maze[nx][ny] = space                                                                             \n",
    "              walls.append((nx, ny, nx-1, ny))                                                                 \n",
    "              walls.append((nx, ny, nx+1, ny))                                                                 \n",
    "              walls.append((nx, ny, nx, ny-1))                                                                 \n",
    "              walls.append((nx, ny, nx, ny+1))                                                                 \n",
    "                                                                                                                    \n",
    "  return '\\n'.join(''.join(row) for row in maze)\n",
    "                                                                                                               \n",
    "# Let's run the function with the example parameters                                                             \n",
    "prettify_maze(generate_maze(length=15, width=30, wall='8', space=' '))"
   ]
  }
 ],
 "metadata": {
  "kernelspec": {
   "display_name": "Python 3 (ipykernel)",
   "language": "python",
   "name": "python3"
  },
  "language_info": {
   "codemirror_mode": {
    "name": "ipython",
    "version": 3
   },
   "file_extension": ".py",
   "mimetype": "text/x-python",
   "name": "python",
   "nbconvert_exporter": "python",
   "pygments_lexer": "ipython3",
   "version": "3.10.14"
  }
 },
 "nbformat": 4,
 "nbformat_minor": 5
}
