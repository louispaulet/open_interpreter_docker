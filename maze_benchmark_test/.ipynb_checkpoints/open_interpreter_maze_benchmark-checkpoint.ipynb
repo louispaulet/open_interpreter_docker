{
 "cells": [
  {
   "cell_type": "code",
   "execution_count": 1,
   "id": "407896bc-6373-4967-8f65-696e303e1e42",
   "metadata": {},
   "outputs": [],
   "source": [
    "from interpreter import interpreter\n",
    "import os\n",
    "\n",
    "# Paste your OpenAI API key below.\n",
    "interpreter.llm.api_key = os.getenv('OPENAI_API_KEY')"
   ]
  },
  {
   "cell_type": "code",
   "execution_count": 2,
   "id": "40da9329-200d-4863-94ba-65b3df2d38c4",
   "metadata": {},
   "outputs": [],
   "source": [
    "interpreter.auto_run = True"
   ]
  },
  {
   "cell_type": "code",
   "execution_count": 3,
   "id": "f0d5cf3c-51f9-4cc4-8ed2-8807a791a42e",
   "metadata": {},
   "outputs": [],
   "source": [
    "interpreter.llm.model = \"gpt-4o\""
   ]
  },
  {
   "cell_type": "code",
   "execution_count": 6,
   "id": "fea02da6-36d4-42b4-b376-abc6f2ede5f7",
   "metadata": {},
   "outputs": [],
   "source": [
    "interpreter.llm.context_window = 128000"
   ]
  },
  {
   "cell_type": "code",
   "execution_count": 7,
   "id": "163a43f6-cf4e-4bd9-9355-b4ecb49c95ad",
   "metadata": {},
   "outputs": [],
   "source": [
    "interpreter.llm.max_tokens = 4096"
   ]
  },
  {
   "cell_type": "code",
   "execution_count": 8,
   "id": "915104d1-2a9f-4f7c-9a56-121d992d09d1",
   "metadata": {},
   "outputs": [
    {
     "data": {
      "application/vnd.jupyter.widget-view+json": {
       "model_id": "51b1b6f10254481abd9c2864174bc732",
       "version_major": 2,
       "version_minor": 0
      },
      "text/plain": [
       "Output()"
      ]
     },
     "metadata": {},
     "output_type": "display_data"
    },
    {
     "data": {
      "text/html": [
       "<pre style=\"white-space:pre;overflow-x:auto;line-height:normal;font-family:Menlo,'DejaVu Sans Mono',consolas,'Courier New',monospace\"></pre>\n"
      ],
      "text/plain": []
     },
     "metadata": {},
     "output_type": "display_data"
    },
    {
     "data": {
      "text/plain": [
       "[{'role': 'assistant',\n",
       "  'type': 'message',\n",
       "  'content': 'Alright! Let\\'s start by creating the `gpt4o_version.html` file. We will ensure to incorporate the Three.js library and use the recursive backtracking algorithm to generate a 30x30 maze. We\\'ll also add controls to allow scene rotation via mouse clicks. \\n\\nHere is the initial content for `gpt4o_version.html`:\\n\\n```html\\n<!DOCTYPE html>\\n<html lang=\"en\">\\n<head>\\n    <meta charset=\"UTF-8\">\\n    <meta name=\"viewport\" content=\"width=device-width, initial-scale=1.0\">\\n    <title>Maze Generator</title>\\n    <style>\\n        body { margin: 0; }\\n        canvas { display: block; }\\n    </style>\\n</head>\\n<body>\\n    <script type=\"module\">\\n        import * as THREE from \\'https://cdn.jsdelivr.net/npm/three@0.121.1/build/three.module.js\\';\\n        import { OrbitControls } from \\'https://cdn.jsdelivr.net/npm/three@0.121.1/examples/jsm/controls/OrbitControls.js\\';\\n\\n        const scene = new THREE.Scene();\\n        const camera = new THREE.PerspectiveCamera(75, window.innerWidth / window.innerHeight, 0.1, 1000);\\n        const renderer = new THREE.WebGLRenderer();\\n        renderer.setSize(window.innerWidth, window.innerHeight);\\n        document.body.appendChild(renderer.domElement);\\n\\n        const controls = new OrbitControls(camera, renderer.domElement);\\n        controls.enableDamping = true;\\n        controls.dampingFactor = 0.25;\\n        controls.screenSpacePanning = false;\\n        controls.maxPolarAngle = Math.PI / 2;\\n\\n        const mazeSize = 30;\\n        const maze = generateMaze(mazeSize, mazeSize);\\n        drawMaze(maze);\\n\\n        camera.position.set(mazeSize / 2, mazeSize * 1.5, mazeSize / 2);\\n        camera.lookAt(mazeSize / 2, 0, mazeSize / 2);\\n\\n        function render() {\\n            requestAnimationFrame(render);\\n            controls.update();\\n            renderer.render(scene, camera);\\n        }\\n        render();\\n\\n        function generateMaze(width, height) {\\n            const maze = [];\\n            for (let x = 0; x < width; x++) {\\n                maze[x] = [];\\n                for (let y = 0; y < height; y++) {\\n                    maze[x][y] = { visited: false, walls: [true, true, true, true] }; // Top, Right, Bottom, Left\\n                }\\n            }\\n\\n            function visitCell(x, y) {\\n                const directions = [\\'top\\', \\'right\\', \\'bottom\\', \\'left\\'];\\n                shuffle(directions);\\n\\n                maze[x][y].visited = true;\\n\\n                for (const direction of directions) {\\n                    const [nx, ny] = move(x, y, direction);\\n                    \\n                    if (nx >= 0 && ny >= 0 && nx < width && ny < height && !maze[nx][ny].visited) {\\n                        // Remove walls\\n                        removeWalls(x, y, direction);\\n                        visitCell(nx, ny);\\n                    }\\n                }\\n            }\\n\\n            function move(x, y, direction) {\\n                switch (direction) {\\n                    case \\'top\\': return [x, y - 1];\\n                    case \\'right\\': return [x + 1, y];\\n                    case \\'bottom\\': return [x, y + 1];\\n                    case \\'left\\': return [x - 1, y];\\n                }\\n            }\\n\\n            function removeWalls(x, y, direction) {\\n                switch (direction) {\\n                    case \\'top\\':\\n                        maze[x][y].walls[0] = false;\\n                        maze[x][y - 1].walls[2] = false;\\n                        break;\\n                    case \\'right\\':\\n                        maze[x][y].walls[1] = false;\\n                        maze[x + 1][y].walls[3] = false;\\n                        break;\\n                    case \\'bottom\\':\\n                        maze[x][y].walls[2] = false;\\n                        maze[x][y + 1].walls[0] = false;\\n                        break;\\n                    case \\'left\\':\\n                        maze[x][y].walls[3] = false;\\n                        maze[x - 1][y].walls[1] = false;\\n                        break;\\n                }\\n            }\\n\\n            function shuffle(array) {\\n                for (let i = array.length - 1; i > 0; i--) {\\n                    const j = Math.floor(Math.random() * (i + 1));\\n                    [array[i], array[j]] = [array[j], array[i]];\\n                }\\n            }\\n\\n            visitCell(0, 0);\\n\\n            return maze;\\n        }\\n\\n        function drawMaze(maze) {\\n            const wallThickness = 0.1;\\n            const wallHeight = 1;\\n\\n            const material = new THREE.MeshBasicMaterial({ color: 0xdddddd });\\n\\n            maze.forEach((row, x) => {\\n                row.forEach((cell, y) => {\\n                    const [cx, cy] = [x + 0.5, y + 0.5];\\n\\n                    if (cell.walls[0]) { // Top\\n                        const geometry = new THREE.BoxGeometry(1, wallHeight, wallThickness);\\n                        const wall = new THREE.Mesh(geometry, material);\\n                        wall.position.set(cx, wallHeight / 2, y);\\n                        scene.add(wall);\\n                    }\\n                    if (cell.walls[1]) { // Right\\n                        const geometry = new THREE.BoxGeometry(wallThickness, wallHeight, 1);\\n                        const wall = new THREE.Mesh(geometry, material);\\n                        wall.position.set(x + 1, wallHeight / 2, cy);\\n                        scene.add(wall);\\n                    }\\n                    if (cell.walls[2]) { // Bottom\\n                        const geometry = new THREE.BoxGeometry(1, wallHeight, wallThickness);\\n                        const wall = new THREE.Mesh(geometry, material);\\n                        wall.position.set(cx, wallHeight / 2, y + 1);\\n                        scene.add(wall);\\n                    }\\n                    if (cell.walls[3]) { // Left\\n                        const geometry = new THREE.BoxGeometry(wallThickness, wallHeight, 1);\\n                        const wall = new THREE.Mesh(geometry, material);\\n                        wall.position.set(x, wallHeight / 2, cy);\\n                        scene.add(wall);\\n                    }\\n                })\\n            });\\n        }\\n    </script>\\n</body>\\n</html>\\n```\\n\\nNow, I\\'ll save this content to the `gpt4o_version.html` file.'}]"
      ]
     },
     "execution_count": 8,
     "metadata": {},
     "output_type": "execute_result"
    }
   ],
   "source": [
    "interpreter.chat(\n",
    "\"\"\"\n",
    "Please make a simple HTML page that contains a JS code to generate a maze (30x30 blocks).\n",
    "Use recursive backtracking algorithm.\n",
    "The user can use his mouse click to rotate the scene.\n",
    "The camera should be placed above the center of the maze and show the entire maze in a top down manner.\n",
    "Use three.js lib, here are the CDNs to use:\n",
    "\n",
    "import * as THREE from 'https://cdn.jsdelivr.net/npm/three@0.121.1/build/three.module.js';\n",
    "import { OrbitControls } from 'https://cdn.jsdelivr.net/npm/three@0.121.1/examples/jsm/controls/OrbitControls.js';\n",
    "\n",
    "Do not attempt to run the code, simply write it and save the file.  \n",
    "Please save the file as 'gpt4o_version.html'.  \n",
    "\"\"\"\n",
    ")"
   ]
  },
  {
   "cell_type": "code",
   "execution_count": 10,
   "id": "7e277f1c-480a-4cff-9a33-4e691eef6cb4",
   "metadata": {},
   "outputs": [
    {
     "data": {
      "application/vnd.jupyter.widget-view+json": {
       "model_id": "ee8b9f8c373a401ba95b27482882a34d",
       "version_major": 2,
       "version_minor": 0
      },
      "text/plain": [
       "Output()"
      ]
     },
     "metadata": {},
     "output_type": "display_data"
    },
    {
     "data": {
      "text/html": [
       "<pre style=\"white-space:pre;overflow-x:auto;line-height:normal;font-family:Menlo,'DejaVu Sans Mono',consolas,'Courier New',monospace\"></pre>\n"
      ],
      "text/plain": []
     },
     "metadata": {},
     "output_type": "display_data"
    },
    {
     "data": {
      "application/vnd.jupyter.widget-view+json": {
       "model_id": "2672568a782b4061a3f8f037b9d76b2b",
       "version_major": 2,
       "version_minor": 0
      },
      "text/plain": [
       "Output()"
      ]
     },
     "metadata": {},
     "output_type": "display_data"
    },
    {
     "data": {
      "text/html": [
       "<pre style=\"white-space:pre;overflow-x:auto;line-height:normal;font-family:Menlo,'DejaVu Sans Mono',consolas,'Courier New',monospace\"></pre>\n"
      ],
      "text/plain": []
     },
     "metadata": {},
     "output_type": "display_data"
    },
    {
     "data": {
      "application/vnd.jupyter.widget-view+json": {
       "model_id": "a82fa7df5937405dbf8dffb603da6b59",
       "version_major": 2,
       "version_minor": 0
      },
      "text/plain": [
       "Output()"
      ]
     },
     "metadata": {},
     "output_type": "display_data"
    },
    {
     "data": {
      "text/html": [
       "<pre style=\"white-space:pre;overflow-x:auto;line-height:normal;font-family:Menlo,'DejaVu Sans Mono',consolas,'Courier New',monospace\"></pre>\n"
      ],
      "text/plain": []
     },
     "metadata": {},
     "output_type": "display_data"
    },
    {
     "data": {
      "application/vnd.jupyter.widget-view+json": {
       "model_id": "037d315387234a238d708fa2f8a89bca",
       "version_major": 2,
       "version_minor": 0
      },
      "text/plain": [
       "Output()"
      ]
     },
     "metadata": {},
     "output_type": "display_data"
    },
    {
     "data": {
      "text/html": [
       "<pre style=\"white-space:pre;overflow-x:auto;line-height:normal;font-family:Menlo,'DejaVu Sans Mono',consolas,'Courier New',monospace\"></pre>\n"
      ],
      "text/plain": []
     },
     "metadata": {},
     "output_type": "display_data"
    },
    {
     "data": {
      "application/vnd.jupyter.widget-view+json": {
       "model_id": "b9c9c9655b0d48f7a6070346363e5d99",
       "version_major": 2,
       "version_minor": 0
      },
      "text/plain": [
       "Output()"
      ]
     },
     "metadata": {},
     "output_type": "display_data"
    },
    {
     "data": {
      "text/html": [
       "<pre style=\"white-space:pre;overflow-x:auto;line-height:normal;font-family:Menlo,'DejaVu Sans Mono',consolas,'Courier New',monospace\"></pre>\n"
      ],
      "text/plain": []
     },
     "metadata": {},
     "output_type": "display_data"
    },
    {
     "data": {
      "application/vnd.jupyter.widget-view+json": {
       "model_id": "619b63a071004c63b33235c89a89b94b",
       "version_major": 2,
       "version_minor": 0
      },
      "text/plain": [
       "Output()"
      ]
     },
     "metadata": {},
     "output_type": "display_data"
    },
    {
     "data": {
      "text/html": [
       "<pre style=\"white-space:pre;overflow-x:auto;line-height:normal;font-family:Menlo,'DejaVu Sans Mono',consolas,'Courier New',monospace\"></pre>\n"
      ],
      "text/plain": []
     },
     "metadata": {},
     "output_type": "display_data"
    },
    {
     "data": {
      "application/vnd.jupyter.widget-view+json": {
       "model_id": "eeebb83678894f40afdfc00ae8fb1048",
       "version_major": 2,
       "version_minor": 0
      },
      "text/plain": [
       "Output()"
      ]
     },
     "metadata": {},
     "output_type": "display_data"
    },
    {
     "data": {
      "text/html": [
       "<pre style=\"white-space:pre;overflow-x:auto;line-height:normal;font-family:Menlo,'DejaVu Sans Mono',consolas,'Courier New',monospace\"></pre>\n"
      ],
      "text/plain": []
     },
     "metadata": {},
     "output_type": "display_data"
    },
    {
     "data": {
      "text/plain": [
       "[{'role': 'assistant',\n",
       "  'type': 'code',\n",
       "  'format': 'shell',\n",
       "  'content': 'echo \\'<!DOCTYPE html>\\n<html lang=\"en\">\\n<head>\\n    <meta charset=\"UTF-8\">\\n    <meta name=\"viewport\" content=\"width=device-width, initial-scale=1.0\">\\n    <title>Maze Generator</title>\\n    <style>\\n        body { margin: 0; }\\n        canvas { display: block; }\\n    </style>\\n</head>\\n<body>\\n    <script type=\"module\">\\n        import * as THREE from'},\n",
       " {'role': 'computer',\n",
       "  'type': 'console',\n",
       "  'format': 'output',\n",
       "  'content': '\\nTraceback (most recent call last):\\n  File \"/opt/conda/lib/python3.10/site-packages/interpreter/core/respond.py\", line 220, in respond\\n    for line in interpreter.computer.run(language, code, stream=True):\\n  File \"/opt/conda/lib/python3.10/site-packages/interpreter/core/computer/terminal/terminal.py\", line 88, in _streaming_run\\n    for chunk in self._active_languages[language].run(code):\\n  File \"/opt/conda/lib/python3.10/site-packages/interpreter/core/computer/terminal/languages/subprocess_language.py\", line 128, in run\\n    output = self.output_queue.get(timeout=0.3)  # Waits for 0.3 seconds\\n  File \"/opt/conda/lib/python3.10/queue.py\", line 180, in get\\n    self.not_empty.wait(remaining)\\n  File \"/opt/conda/lib/python3.10/threading.py\", line 324, in wait\\n    gotit = waiter.acquire(True, timeout)\\nKeyboardInterrupt\\n'},\n",
       " {'role': 'assistant',\n",
       "  'type': 'message',\n",
       "  'content': \"It looks like the code execution was interrupted. I'll split the file-saving task into smaller chunks for successful execution.\\n\\nFirst, I'll create the beginning of the HTML file content.\"},\n",
       " {'role': 'assistant',\n",
       "  'type': 'code',\n",
       "  'format': 'shell',\n",
       "  'content': 'echo \\'<!DOCTYPE html>\\n<html lang=\"en\">\\n<head>\\n    <meta charset=\"UTF-8\">\\n    <meta name=\"viewport\" content=\"width=device-width, initial-scale=1.0\">\\n    <title>Maze Generator</title>\\n    <style>\\n        body { margin: 0; }\\n        canvas { display: block; }\\n    </style>\\n</head>\\n<body>\\n    <script type=\"module\">\\n        import * as THREE from\\' > gpt4o_version.html'},\n",
       " {'role': 'computer', 'type': 'console', 'format': 'output', 'content': '\\n'},\n",
       " {'role': 'assistant',\n",
       "  'type': 'message',\n",
       "  'content': \"The beginning part of the HTML content has been saved. Next, I'll add the import statements for the Three.js library and other necessary elements.\"},\n",
       " {'role': 'assistant',\n",
       "  'type': 'code',\n",
       "  'format': 'shell',\n",
       "  'content': 'echo \" \\'https://cdn.jsdelivr.net/npm/three@0.121.1/build/three.module.js\\';\\\\n        import { OrbitControls } from \\'https://cdn.jsdelivr.net/npm/three@0.121.1/examples/jsm/controls/OrbitControls.js\\';\\\\n\\\\n        const scene = new THREE.Scene();\\\\n        const camera = new THREE.PerspectiveCamera(75, window.innerWidth / window.innerHeight, 0.1, 1000);\\\\n        const renderer = new THREE.WebGLRenderer();\\\\n        renderer.setSize(window.innerWidth, window.innerHeight);\\\\n        document.body.appendChild(renderer.domElement);\" >> gpt4o_version.html'},\n",
       " {'role': 'computer', 'type': 'console', 'format': 'output', 'content': '\\n'},\n",
       " {'role': 'assistant',\n",
       "  'type': 'message',\n",
       "  'content': \"Next, I'll add the controls, set the camera position, and provide the maze generation and rendering functionality.\"},\n",
       " {'role': 'assistant',\n",
       "  'type': 'code',\n",
       "  'format': 'shell',\n",
       "  'content': 'echo \"\\\\n\\\\n        const controls = new OrbitControls(camera, renderer.domElement);\\\\n        controls.enableDamping = true;\\\\n        controls.dampingFactor = 0.25;\\\\n        controls.screenSpacePanning = false;\\\\n        controls.maxPolarAngle = Math.PI / 2;\\\\n\\\\n        const mazeSize = 30;\\\\n        const maze = generateMaze(mazeSize, mazeSize);\\\\n        drawMaze(maze);\\\\n\\\\n        camera.position.set(mazeSize / 2, mazeSize * 1.5, mazeSize / 2);\\\\n        camera.lookAt(mazeSize / 2, 0, mazeSize / 2);\\\\n\\\\n        function render() {\\\\n            requestAnimationFrame(render);\\\\n            controls.update();\\\\n            renderer.render(scene, camera);\\\\n        }\\\\n        render();\\\\n\\\\n\" >> gpt4o_version.html'},\n",
       " {'role': 'computer', 'type': 'console', 'format': 'output', 'content': '\\n'}]"
      ]
     },
     "execution_count": 10,
     "metadata": {},
     "output_type": "execute_result"
    }
   ],
   "source": [
    "interpreter.chat(\"please save the file as 'gpt4o_version.html' \")"
   ]
  },
  {
   "cell_type": "code",
   "execution_count": 11,
   "id": "02c70b1f-cf26-4d51-ba5f-ff22759fb655",
   "metadata": {},
   "outputs": [
    {
     "name": "stdout",
     "output_type": "stream",
     "text": [
      "Please run 'pip install \"unstructured[all-docs]\"' to improve document-reading performance.\n"
     ]
    },
    {
     "ename": "NameError",
     "evalue": "name 'test' is not defined",
     "output_type": "error",
     "traceback": [
      "\u001b[0;31m---------------------------------------------------------------------------\u001b[0m",
      "\u001b[0;31mNameError\u001b[0m                                 Traceback (most recent call last)",
      "Cell \u001b[0;32mIn[11], line 1\u001b[0m\n\u001b[0;32m----> 1\u001b[0m \u001b[43mtest\u001b[49m\n",
      "\u001b[0;31mNameError\u001b[0m: name 'test' is not defined"
     ]
    }
   ],
   "source": [
    "test"
   ]
  }
 ],
 "metadata": {
  "kernelspec": {
   "display_name": "Python 3 (ipykernel)",
   "language": "python",
   "name": "python3"
  },
  "language_info": {
   "codemirror_mode": {
    "name": "ipython",
    "version": 3
   },
   "file_extension": ".py",
   "mimetype": "text/x-python",
   "name": "python",
   "nbconvert_exporter": "python",
   "pygments_lexer": "ipython3",
   "version": "3.10.14"
  }
 },
 "nbformat": 4,
 "nbformat_minor": 5
}
